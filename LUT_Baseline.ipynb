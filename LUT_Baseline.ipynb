{
  "nbformat": 4,
  "nbformat_minor": 0,
  "metadata": {
    "colab": {
      "provenance": [],
      "authorship_tag": "ABX9TyOgXlmJeH4tTjhidla/+y84",
      "include_colab_link": true
    },
    "kernelspec": {
      "name": "python3",
      "display_name": "Python 3"
    },
    "language_info": {
      "name": "python"
    }
  },
  "cells": [
    {
      "cell_type": "markdown",
      "metadata": {
        "id": "view-in-github",
        "colab_type": "text"
      },
      "source": [
        "<a href=\"https://colab.research.google.com/github/HunterBushnell/LUT_Baseline/blob/main/LUT_Baseline.ipynb\" target=\"_parent\"><img src=\"https://colab.research.google.com/assets/colab-badge.svg\" alt=\"Open In Colab\"/></a>"
      ]
    },
    {
      "cell_type": "code",
      "source": [
        "# Install\n",
        "!pip install neuron==8.2.2\n",
        "!pip install bmtk==1.0.7"
      ],
      "metadata": {
        "colab": {
          "base_uri": "https://localhost:8080/"
        },
        "id": "EN3eGs0MVhJr",
        "outputId": "c05c1135-459c-406e-8690-81aaca081a19"
      },
      "execution_count": 1,
      "outputs": [
        {
          "output_type": "stream",
          "name": "stdout",
          "text": [
            "Requirement already satisfied: neuron==8.2.2 in /usr/local/lib/python3.10/dist-packages (8.2.2)\n",
            "Requirement already satisfied: numpy>=1.9.3 in /usr/local/lib/python3.10/dist-packages (from neuron==8.2.2) (1.25.2)\n",
            "Requirement already satisfied: bmtk==1.0.7 in /usr/local/lib/python3.10/dist-packages (1.0.7)\n",
            "Requirement already satisfied: jsonschema in /usr/local/lib/python3.10/dist-packages (from bmtk==1.0.7) (4.19.2)\n",
            "Requirement already satisfied: pandas in /usr/local/lib/python3.10/dist-packages (from bmtk==1.0.7) (1.5.3)\n",
            "Requirement already satisfied: numpy in /usr/local/lib/python3.10/dist-packages (from bmtk==1.0.7) (1.25.2)\n",
            "Requirement already satisfied: six in /usr/local/lib/python3.10/dist-packages (from bmtk==1.0.7) (1.16.0)\n",
            "Requirement already satisfied: h5py in /usr/local/lib/python3.10/dist-packages (from bmtk==1.0.7) (3.9.0)\n",
            "Requirement already satisfied: matplotlib in /usr/local/lib/python3.10/dist-packages (from bmtk==1.0.7) (3.7.1)\n",
            "Requirement already satisfied: scipy in /usr/local/lib/python3.10/dist-packages (from bmtk==1.0.7) (1.11.4)\n",
            "Requirement already satisfied: scikit-image in /usr/local/lib/python3.10/dist-packages (from bmtk==1.0.7) (0.19.3)\n",
            "Requirement already satisfied: sympy in /usr/local/lib/python3.10/dist-packages (from bmtk==1.0.7) (1.12)\n",
            "Requirement already satisfied: attrs>=22.2.0 in /usr/local/lib/python3.10/dist-packages (from jsonschema->bmtk==1.0.7) (23.2.0)\n",
            "Requirement already satisfied: jsonschema-specifications>=2023.03.6 in /usr/local/lib/python3.10/dist-packages (from jsonschema->bmtk==1.0.7) (2023.12.1)\n",
            "Requirement already satisfied: referencing>=0.28.4 in /usr/local/lib/python3.10/dist-packages (from jsonschema->bmtk==1.0.7) (0.34.0)\n",
            "Requirement already satisfied: rpds-py>=0.7.1 in /usr/local/lib/python3.10/dist-packages (from jsonschema->bmtk==1.0.7) (0.18.0)\n",
            "Requirement already satisfied: contourpy>=1.0.1 in /usr/local/lib/python3.10/dist-packages (from matplotlib->bmtk==1.0.7) (1.2.0)\n",
            "Requirement already satisfied: cycler>=0.10 in /usr/local/lib/python3.10/dist-packages (from matplotlib->bmtk==1.0.7) (0.12.1)\n",
            "Requirement already satisfied: fonttools>=4.22.0 in /usr/local/lib/python3.10/dist-packages (from matplotlib->bmtk==1.0.7) (4.50.0)\n",
            "Requirement already satisfied: kiwisolver>=1.0.1 in /usr/local/lib/python3.10/dist-packages (from matplotlib->bmtk==1.0.7) (1.4.5)\n",
            "Requirement already satisfied: packaging>=20.0 in /usr/local/lib/python3.10/dist-packages (from matplotlib->bmtk==1.0.7) (24.0)\n",
            "Requirement already satisfied: pillow>=6.2.0 in /usr/local/lib/python3.10/dist-packages (from matplotlib->bmtk==1.0.7) (9.4.0)\n",
            "Requirement already satisfied: pyparsing>=2.3.1 in /usr/local/lib/python3.10/dist-packages (from matplotlib->bmtk==1.0.7) (3.1.2)\n",
            "Requirement already satisfied: python-dateutil>=2.7 in /usr/local/lib/python3.10/dist-packages (from matplotlib->bmtk==1.0.7) (2.8.2)\n",
            "Requirement already satisfied: pytz>=2020.1 in /usr/local/lib/python3.10/dist-packages (from pandas->bmtk==1.0.7) (2023.4)\n",
            "Requirement already satisfied: networkx>=2.2 in /usr/local/lib/python3.10/dist-packages (from scikit-image->bmtk==1.0.7) (3.2.1)\n",
            "Requirement already satisfied: imageio>=2.4.1 in /usr/local/lib/python3.10/dist-packages (from scikit-image->bmtk==1.0.7) (2.31.6)\n",
            "Requirement already satisfied: tifffile>=2019.7.26 in /usr/local/lib/python3.10/dist-packages (from scikit-image->bmtk==1.0.7) (2024.2.12)\n",
            "Requirement already satisfied: PyWavelets>=1.1.1 in /usr/local/lib/python3.10/dist-packages (from scikit-image->bmtk==1.0.7) (1.5.0)\n",
            "Requirement already satisfied: mpmath>=0.19 in /usr/local/lib/python3.10/dist-packages (from sympy->bmtk==1.0.7) (1.3.0)\n"
          ]
        }
      ]
    },
    {
      "cell_type": "code",
      "source": [
        "# Download Files\n",
        "\n",
        "import os\n",
        "\n",
        "if os.path.basename(os.getcwd())!='LUT_Baseline':\n",
        "  !git clone https://github.com/HunterBushnell/LUT_Baseline\n",
        "  %cd LUT_Baseline/\n",
        "else:\n",
        "  print('Mod files have already been downloaded.')\n",
        "%ls"
      ],
      "metadata": {
        "colab": {
          "base_uri": "https://localhost:8080/"
        },
        "id": "-gSQxFa_L5V7",
        "outputId": "4a772725-0bd1-4ab4-f553-5f476812b1cc"
      },
      "execution_count": 2,
      "outputs": [
        {
          "output_type": "stream",
          "name": "stdout",
          "text": [
            "fatal: destination path 'LUT_Baseline' already exists and is not an empty directory.\n",
            "/content/LUT_Baseline\n",
            "\u001b[0m\u001b[01;34mbiophys_components\u001b[0m/  generate_input.py   \u001b[01;34mnotes\u001b[0m/           \u001b[01;34m__pycache__\u001b[0m/      spikes_pag.csv\n",
            "Blad_spikes.csv      \u001b[01;34mgraphs\u001b[0m/             \u001b[01;34moutput\u001b[0m/          README.md         synapses.py\n",
            "build_network.py     \u001b[01;34mimages\u001b[0m/             PAG_spikes.csv   requirements.txt\n",
            "\u001b[01;34merror_logs\u001b[0m/          \u001b[01;34mjsons\u001b[0m/              plot_results.py  run_bionet.py\n",
            "EUS_spikes.csv       LUT_Baseline.ipynb  plotting.pkl     run.sh\n",
            "feedback_loop.py     \u001b[01;34mnetwork\u001b[0m/            plotting.py      spikes.csv\n"
          ]
        }
      ]
    },
    {
      "cell_type": "code",
      "source": [
        "# Compile Files\n",
        "\n",
        "import os\n",
        "# move to the mechanisms folder\n",
        "%cd biophys_components/mechanisms/\n",
        "os.system(\"rm -rf x86_64\") # deletes x86_64 if its there\n",
        "%ls # just to make sure its gone\n",
        "print(os.system('nrnivmodl modfiles')) # compile modfiles. Return 0 for success, 1 for failure.\n",
        "%ls # check to make sure the folder is there now\n",
        "%cd ../..\n",
        "%ls"
      ],
      "metadata": {
        "colab": {
          "base_uri": "https://localhost:8080/"
        },
        "id": "gYmb2C9NC_R0",
        "outputId": "ce9aaade-0157-44c4-b4f0-a37fc0902aad"
      },
      "execution_count": 3,
      "outputs": [
        {
          "output_type": "stream",
          "name": "stdout",
          "text": [
            "/content/LUT_Baseline/biophys_components/mechanisms\n",
            "filess  \u001b[0m\u001b[01;34mmodfiles\u001b[0m/\n",
            "0\n",
            "filess  \u001b[0m\u001b[01;34mmodfiles\u001b[0m/  \u001b[01;34mx86_64\u001b[0m/\n",
            "/content/LUT_Baseline\n",
            "\u001b[0m\u001b[01;34mbiophys_components\u001b[0m/  generate_input.py   \u001b[01;34mnotes\u001b[0m/           \u001b[01;34m__pycache__\u001b[0m/      spikes_pag.csv\n",
            "Blad_spikes.csv      \u001b[01;34mgraphs\u001b[0m/             \u001b[01;34moutput\u001b[0m/          README.md         synapses.py\n",
            "build_network.py     \u001b[01;34mimages\u001b[0m/             PAG_spikes.csv   requirements.txt\n",
            "\u001b[01;34merror_logs\u001b[0m/          \u001b[01;34mjsons\u001b[0m/              plot_results.py  run_bionet.py\n",
            "EUS_spikes.csv       LUT_Baseline.ipynb  plotting.pkl     run.sh\n",
            "feedback_loop.py     \u001b[01;34mnetwork\u001b[0m/            plotting.py      spikes.csv\n"
          ]
        }
      ]
    },
    {
      "cell_type": "code",
      "source": [
        "# Build Network\n",
        "\n",
        "import numpy as np\n",
        "from bmtk.builder.networks import NetworkBuilder\n",
        "import math\n",
        "import random\n",
        "\n",
        "random.seed(42)\n",
        "output_dir='network'\n",
        "\n",
        "#######################################################################\n",
        "##################### Create the cells ################################\n",
        "#######################################################################\n",
        "print(\"\\nCreating Cells\")\n",
        "\n",
        "# Build the main network\n",
        "net = NetworkBuilder('LUT')\n",
        "\n",
        "# Specify number of cells in each population #\n",
        "\n",
        "numBladaff  = 10\n",
        "numPAGaff   = 10\n",
        "numEUSaff   = 10\n",
        "numIND      = 10\n",
        "numHypo     = 10\n",
        "numINmplus  = 10\n",
        "numINmminus = 10\n",
        "numPGN      = 10\n",
        "numFB       = 10\n",
        "numIMG      = 10\n",
        "numMPG      = 10\n",
        "numEUSmn    = 10\n",
        "numBladmn   = 10\n",
        "# Create the nodes ----------------------------------------\n",
        "net.add_nodes(N=numBladaff, level='high',pop_name='Bladaff',model_type='biophysical',model_template='hoc:PUD',morphology='blank.swc')\n",
        "net.add_nodes(N=numPAGaff, pop_name='PAGaff',model_type='biophysical',model_template='hoc:PUD',morphology='blank.swc')\n",
        "net.add_nodes(N=numEUSaff, level='high',pop_name='EUSaff',model_type='biophysical',model_template='hoc:PUD',morphology='blank.swc')\n",
        "net.add_nodes(N=numIND, pop_name='IND',model_type='biophysical',model_template='hoc:IND',morphology='blank.swc')\n",
        "net.add_nodes(N=numHypo, pop_name='Hypo',model_type='biophysical',model_template='hoc:HYPO',morphology='blank.swc')\n",
        "net.add_nodes(N=numINmplus, pop_name='INmplus',model_type='biophysical',model_template='hoc:INM',morphology='blank.swc')\n",
        "net.add_nodes(N=numINmminus, pop_name='INmminus',model_type='biophysical',model_template='hoc:INM',morphology='blank.swc')\n",
        "net.add_nodes(N=numPGN, level='low', pop_name='PGN',model_type='biophysical',model_template='hoc:PGN',morphology='blank.swc')\n",
        "net.add_nodes(N=numFB, pop_name='FB',model_type='biophysical',model_template='hoc:PUD',morphology='blank.swc')\n",
        "net.add_nodes(N=numIMG, pop_name='IMG',model_type='biophysical',model_template='hoc:IMG',morphology='blank.swc')\n",
        "net.add_nodes(N=numMPG, pop_name='MPG',model_type='biophysical',model_template='hoc:MPG',morphology='blank.swc')\n",
        "net.add_nodes(N=numEUSmn, pop_name='EUSmn',model_type='biophysical',model_template='hoc:PUD',morphology='blank.swc')\n",
        "net.add_nodes(N=numBladmn, pop_name='Bladmn',model_type='biophysical',model_template='hoc:PUD',morphology='blank.swc')\n",
        "\n",
        "##################################################################################\n",
        "####################### Connect the cells ########################################\n",
        "##################################################################################\n",
        "print(\"\\nConnecting Cells\")\n",
        "\n",
        "# Connectivity function\n",
        "# To use this function, the number of cells in the source population must be the same\n",
        "# as the number of cells in the target population.\n",
        "def one_to_one(source, target):\n",
        "    sid = source.node_id\n",
        "    tid = target.node_id\n",
        "    source_name = source['pop_name']\n",
        "    target_name = target['pop_name']\n",
        "    if source_name=='EUSaff':\n",
        "        sid = sid-(numBladaff)\n",
        "    if source_name=='PAGaff':\n",
        "        sid = sid-(numBladaff+numEUSaff)\n",
        "    if source_name=='IND':\n",
        "        sid = sid-(numBladaff+numEUSaff+numPAGaff)\n",
        "    if source_name=='Hypo':\n",
        "        sid = sid-(numBladaff+numEUSaff+numPAGaff+numIND)\n",
        "    if source_name=='INmplus':\n",
        "        sid = sid-(numBladaff+numEUSaff+numPAGaff+numIND+numHypo)\n",
        "    if source_name=='INmminus':\n",
        "        sid = sid-(numBladaff+numEUSaff+numPAGaff+numIND+numHypo+numINmplus)\n",
        "    if source_name=='PGN':\n",
        "        sid = sid-(numBladaff+numEUSaff+numPAGaff+numIND+numHypo+numINmplus+numINmminus)\n",
        "    if source_name=='FB':\n",
        "        sid = sid-(numBladaff+numEUSaff+numPAGaff+numIND+numHypo+numINmplus+numINmminus+numPGN)\n",
        "    if source_name=='IMG':\n",
        "        sid = sid-(numBladaff+numEUSaff+numPAGaff+numIND+numHypo+numINmplus+numINmminus+numPGN+numFB)\n",
        "    if source_name=='MPG':\n",
        "        sid = sid-(numBladaff+numEUSaff+numPAGaff+numIND+numHypo+numINmplus+numINmminus+numPGN+numFB+numIMG)\n",
        "    if source_name=='EUSmn':\n",
        "        sid = sid-(numBladaff+numEUSaff+numPAGaff+numIND+numHypo+numINmplus+numINmminus+numPGN+numFB+numIMG+numMPG)\n",
        "    if source_name=='Bladmn':\n",
        "        sid = sid-(numBladaff+numEUSaff+numPAGaff+numIND+numHypo+numINmplus+numINmminus+numPGN+numFB+numIMG+numMPG+numEUSmn)\n",
        "\n",
        "    if target_name=='EUSaff':\n",
        "        tid = tid-(numBladaff)\n",
        "    if target_name=='PAGaff':\n",
        "        tid = tid-(numBladaff+numEUSaff)\n",
        "    if target_name=='IND':\n",
        "        tid = tid-(numBladaff+numEUSaff+numPAGaff)\n",
        "    if target_name=='Hypo':\n",
        "        tid = tid-(numBladaff+numEUSaff+numPAGaff+numIND)\n",
        "    if target_name=='INmplus':\n",
        "        tid = tid-(numBladaff+numEUSaff+numPAGaff+numIND+numHypo)\n",
        "    if target_name=='INmminus':\n",
        "        tid = tid-(numBladaff+numEUSaff+numPAGaff+numIND+numHypo+numINmplus)\n",
        "    if target_name=='PGN':\n",
        "        tid = tid-(numBladaff+numEUSaff+numPAGaff+numIND+numHypo+numINmplus+numINmminus)\n",
        "    if target_name=='FB':\n",
        "        tid = tid-(numBladaff+numEUSaff+numPAGaff+numIND+numHypo+numINmplus+numINmminus+numPGN)\n",
        "    if target_name=='IMG':\n",
        "        tid = tid-(numBladaff+numEUSaff+numPAGaff+numIND+numHypo+numINmplus+numINmminus+numPGN+numFB)\n",
        "    if target_name=='MPG':\n",
        "        tid = tid-(numBladaff+numEUSaff+numPAGaff+numIND+numHypo+numINmplus+numINmminus+numPGN+numFB+numIMG)\n",
        "    if target_name=='EUSmn':\n",
        "        tid = tid-(numBladaff+numEUSaff+numPAGaff+numIND+numHypo+numINmplus+numINmminus+numPGN+numFB+numIMG+numMPG)\n",
        "    if target_name=='Bladmn':\n",
        "        tid = tid-(numBladaff+numEUSaff+numPAGaff+numIND+numHypo+numINmplus+numINmminus+numPGN+numFB+numIMG+numMPG+numEUSmn)\n",
        "\n",
        "    if sid == tid:\n",
        "        print(\"connecting {} cell {} to {} cell {}\".format(source_name,sid,target_name,tid))\n",
        "        tmp_nsyn = 1\n",
        "    else:\n",
        "        return None\n",
        "\n",
        "    return tmp_nsyn\n",
        "\n",
        "\n",
        "def percent_connector(source,target,percent):\n",
        "    \"\"\"\n",
        "    For connections where types don't have the same number of cells\n",
        "    And positions are undefined for one type\n",
        "    \"\"\"\n",
        "    sid = source.node_id\n",
        "    tid = target.node_id\n",
        "    source_name = source['pop_name']\n",
        "    target_name = target['pop_name']\n",
        "\n",
        "    if source_name=='EUSaff':\n",
        "        sid = sid-(numBladaff)\n",
        "    if source_name=='PAGaff':\n",
        "        sid = sid-(numBladaff+numEUSaff)\n",
        "    if source_name=='IND':\n",
        "        sid = sid-(numBladaff+numEUSaff+numPAGaff)\n",
        "    if source_name=='Hypo':\n",
        "        sid = sid-(numBladaff+numEUSaff+numPAGaff+numIND)\n",
        "    if source_name=='INmplus':\n",
        "        sid = sid-(numBladaff+numEUSaff+numPAGaff+numIND+numHypo)\n",
        "    if source_name=='INmminus':\n",
        "        sid = sid-(numBladaff+numEUSaff+numPAGaff+numIND+numHypo+numINmplus)\n",
        "    if source_name=='PGN':\n",
        "        sid = sid-(numBladaff+numEUSaff+numPAGaff+numIND+numHypo+numINmplus+numINmminus)\n",
        "    if source_name=='FB':\n",
        "        sid = sid-(numBladaff+numEUSaff+numPAGaff+numIND+numHypo+numINmplus+numINmminus+numPGN)\n",
        "    if source_name=='IMG':\n",
        "        sid = sid-(numBladaff+numEUSaff+numPAGaff+numIND+numHypo+numINmplus+numINmminus+numPGN+numFB)\n",
        "    if source_name=='MPG':\n",
        "        sid = sid-(numBladaff+numEUSaff+numPAGaff+numIND+numHypo+numINmplus+numINmminus+numPGN+numFB+numIMG)\n",
        "    if source_name=='EUSmn':\n",
        "        sid = sid-(numBladaff+numEUSaff+numPAGaff+numIND+numHypo+numINmplus+numINmminus+numPGN+numFB+numIMG+numMPG)\n",
        "    if source_name=='Bladmn':\n",
        "        sid = sid-(numBladaff+numEUSaff+numPAGaff+numIND+numHypo+numINmplus+numINmminus+numPGN+numFB+numIMG+numMPG+numEUSmn)\n",
        "\n",
        "    if target_name=='EUSaff':\n",
        "        tid = tid-(numBladaff)\n",
        "    if target_name=='PAGaff':\n",
        "        tid = tid-(numBladaff+numEUSaff)\n",
        "    if target_name=='IND':\n",
        "        tid = tid-(numBladaff+numEUSaff+numPAGaff)\n",
        "    if target_name=='Hypo':\n",
        "        tid = tid-(numBladaff+numEUSaff+numPAGaff+numIND)\n",
        "    if target_name=='INmplus':\n",
        "        tid = tid-(numBladaff+numEUSaff+numPAGaff+numIND+numHypo)\n",
        "    if target_name=='INmminus':\n",
        "        tid = tid-(numBladaff+numEUSaff+numPAGaff+numIND+numHypo+numINmplus)\n",
        "    if target_name=='PGN':\n",
        "        tid = tid-(numBladaff+numEUSaff+numPAGaff+numIND+numHypo+numINmplus+numINmminus)\n",
        "    if target_name=='FB':\n",
        "        tid = tid-(numBladaff+numEUSaff+numPAGaff+numIND+numHypo+numINmplus+numINmminus+numPGN)\n",
        "    if target_name=='IMG':\n",
        "        tid = tid-(numBladaff+numEUSaff+numPAGaff+numIND+numHypo+numINmplus+numINmminus+numPGN+numFB)\n",
        "    if target_name=='MPG':\n",
        "        tid = tid-(numBladaff+numEUSaff+numPAGaff+numIND+numHypo+numINmplus+numINmminus+numPGN+numFB+numIMG)\n",
        "    if target_name=='EUSmn':\n",
        "        tid = tid-(numBladaff+numEUSaff+numPAGaff+numIND+numHypo+numINmplus+numINmminus+numPGN+numFB+numIMG+numMPG)\n",
        "    if target_name=='Bladmn':\n",
        "        tid = tid-(numBladaff+numEUSaff+numPAGaff+numIND+numHypo+numINmplus+numINmminus+numPGN+numFB+numIMG+numMPG+numEUSmn)\n",
        "\n",
        "    if random.random() < (float(percent)/100):\n",
        "        print(\"connecting {} cell {} to {} cell {}\".format(source_name,sid,target_name,tid))\n",
        "        return 1\n",
        "    else:\n",
        "        return 0\n",
        "\n",
        "def conn_props(source,target,mu,sigma):\n",
        "    \"\"\"\n",
        "    Simply add connection properties as normal\n",
        "    https://github.com/AllenInstitute/bmtk/blob/develop/docs/tutorial/NetworkBuilder_Intro.ipynb\n",
        "    Can also adjust weights before running the network.\n",
        "    See https://github.com/AllenInstitute/bmtk/blob/develop/docs/tutorial/02_single_cell_syn.ipynb\n",
        "    Section 5\n",
        "    If done this way the function will need to be imported in the run script, consider refactoring?\n",
        "    \"\"\"\n",
        "\n",
        "    #syn_weight = np.random.lognormal(mean=mu,sigma=sigma)\n",
        "    syn_weight = mu\n",
        "\n",
        "    return syn_weight,0,0.5\n",
        "\n",
        "\n",
        "# Add connections -----------------------------------------\n",
        "\n",
        "# Blad afferent --> INd (Grill et al. 2016)\n",
        "conn = net.add_edges(source=net.nodes(pop_name='Bladaff'), target=net.nodes(pop_name='IND'),\n",
        "                   connection_rule=percent_connector,\n",
        "                   connection_params={'percent':100.0},\n",
        "\t\t\t\t   target_sections=['somatic'],\n",
        "                   delay=2.0,\n",
        "                   distance_range=[0.0, 300.0],\n",
        "                   dynamics_params='AMPA_ExcToExc.json',\n",
        "                   model_template='Exp2Syn')\n",
        "\n",
        "conn.add_properties(names=['syn_weight', 'sec_id', 'sec_x'],\n",
        "                    rule=conn_props,\n",
        "                    rule_params={'mu':10.0e-3,'sigma':1},\n",
        "                    dtypes=[float, np.int32, float])\n",
        "\n",
        " # Blad afferent --> Hypogastric (Hou et al. 2014)\n",
        "conn = net.add_edges(source=net.nodes(pop_name='Bladaff'), target=net.nodes(pop_name='Hypo'),\n",
        "                    connection_rule=percent_connector,\n",
        "                    connection_params={'percent':10.0},\n",
        "                    target_sections=['somatic'],\n",
        "                    delay=2.0,\n",
        "                    distance_range=[0.0, 300.0],\n",
        "                    dynamics_params='AMPA_ExcToExc.json',\n",
        "                    model_template='Exp2Syn')\n",
        "\n",
        "conn.add_properties(names=['syn_weight', 'sec_id', 'sec_x'],\n",
        "                     rule=conn_props,\n",
        "                     rule_params={'mu':12.0e-3,'sigma':1},\n",
        "                     dtypes=[float, np.int32, float])\n",
        "\n",
        "# EUS afferent --> INd (Grill et al. 2016)\n",
        "conn = net.add_edges(source=net.nodes(pop_name='EUSaff'), target=net.nodes(pop_name='IND'),\n",
        "                   connection_rule=percent_connector,\n",
        "                   connection_params={'percent':100.0},\n",
        "                   target_sections=['somatic'],\n",
        "                   delay=2.0,\n",
        "                   distance_range=[0.0, 300.0],\n",
        "                   dynamics_params='AMPA_ExcToExc.json',\n",
        "                   model_template='Exp2Syn')\n",
        "\n",
        "conn.add_properties(names=['syn_weight', 'sec_id', 'sec_x'],\n",
        "                    rule=conn_props,\n",
        "                    rule_params={'mu':1.0e-3,'sigma':1},\n",
        "                    dtypes=[float, np.int32, float])\n",
        "\n",
        "# PAG afferent --> INd (Grill et al. 2016)\n",
        "conn = net.add_edges(source=net.nodes(pop_name='PAGaff'), target=net.nodes(pop_name='IND'),\n",
        "                   connection_rule=percent_connector,\n",
        "                   connection_params={'percent':100.0},\n",
        "                   target_sections=['somatic'],\n",
        "                   delay=2.0,\n",
        "                   distance_range=[0.0, 300.0],\n",
        "                   dynamics_params='AMPA_ExcToExc.json',\n",
        "                   model_template='Exp2Syn')\n",
        "\n",
        "conn.add_properties(names=['syn_weight', 'sec_id', 'sec_x'],\n",
        "                    rule=conn_props,\n",
        "                    rule_params={'mu':20.0e-3,'sigma':1},  # was 20.0e-3\n",
        "                    dtypes=[float, np.int32, float])\n",
        "\n",
        "# INd --> PGN (Grill et al. 2016)\n",
        "conn = net.add_edges(source=net.nodes(pop_name='IND'), target=net.nodes(pop_name='PGN'),\n",
        "                   connection_rule=percent_connector,\n",
        "                   connection_params={'percent':100.0},\n",
        "                   target_sections=['somatic'],\n",
        "                   delay=2.0,\n",
        "                   distance_range=[0.0, 300.0],\n",
        "                   dynamics_params='AMPA_ExcToExc.json',\n",
        "                   model_template='Exp2Syn')\n",
        "\n",
        "conn.add_properties(names=['syn_weight', 'sec_id', 'sec_x'],\n",
        "                    rule=conn_props,\n",
        "                    rule_params={'mu':16.0e-3,'sigma':1},\n",
        "                    dtypes=[float, np.int32, float])\n",
        "\n",
        " # Hypogastric --> IMG (Beckel et al. 2015)\n",
        "conn = net.add_edges(source=net.nodes(pop_name='Hypo'), target=net.nodes(pop_name='IMG'),\n",
        "                    connection_rule=percent_connector,\n",
        "                    connection_params={'percent':10.0},\n",
        "                    target_sections=['somatic'],\n",
        "                    delay=2.0,\n",
        "                    distance_range=[0.0, 300.0],\n",
        "                    dynamics_params='AMPA_ExcToExc.json',\n",
        "                    model_template='Exp2Syn')\n",
        "\n",
        "conn.add_properties(names=['syn_weight', 'sec_id', 'sec_x'],\n",
        "                     rule=conn_props,\n",
        "                     rule_params={'mu':12.0e-3,'sigma':1},\n",
        "                     dtypes=[float, np.int32, float])\n",
        "\n",
        "## STSP synapse ##\n",
        "# # EUS afferent --> INm+ (Grill et al. 2016) **Low pass filter**\n",
        "# conn = net.add_edges(source=net.nodes(pop_name='EUSaff'), target=net.nodes(pop_name='INmplus'),\n",
        "                   # connection_rule=percent_connector,\n",
        "                   # connection_params={'percent':100.0},\n",
        "                   # target_sections=['somatic'],\n",
        "                   # delay=2.0,\n",
        "                   # distance_range=[0.0, 300.0],\n",
        "                   # dynamics_params='stsp.json',\n",
        "                   # model_template='Exp2Syn1_STSP')\n",
        "\n",
        "# conn.add_properties(names=['syn_weight', 'sec_id', 'sec_x'],\n",
        "                    # rule=conn_props,\n",
        "                    # rule_params={'mu':0.5,'sigma':1},\n",
        "                    # dtypes=[float, np.int32, float])\n",
        "\n",
        "# EUS afferent --> INm+(Grill et al. 2016)\n",
        "conn = net.add_edges(source=net.nodes(pop_name='EUSaff'), target=net.nodes(pop_name='INmplus'),\n",
        "                   connection_rule=percent_connector,\n",
        "                   connection_params={'percent':100.0},\n",
        "                   target_sections=['somatic'],\n",
        "                   delay=2.0,\n",
        "                   distance_range=[0.0, 300.0],\n",
        "                   dynamics_params='AMPA_ExcToExc.json',\n",
        "                   model_template='Exp2Syn')\n",
        "\n",
        "conn.add_properties(names=['syn_weight', 'sec_id', 'sec_x'],\n",
        "                    rule=conn_props,\n",
        "                    rule_params={'mu':16.5e-3,'sigma':1},\n",
        "                    dtypes=[float, np.int32, float])\n",
        "# PAG afferent --> INm+ (Source?)\n",
        "# Using this connection instead of synaptic depression for low pass filtering\n",
        "# conn = net.add_edges(source=net.nodes(pop_name='PAGaff'), target=net.nodes(pop_name='PGN'),\n",
        "                   # connection_rule=percent_connector,\n",
        "                   # connection_params={'percent':100.0},\n",
        "                   # target_sections=['somatic'],\n",
        "                   # delay=2.0,\n",
        "                   # distance_range=[0.0, 300.0],\n",
        "                   # dynamics_params='AMPA_ExcToExc.json',\n",
        "                   # model_template='Exp2Syn')\n",
        "\n",
        "# conn.add_properties(names=['syn_weight', 'sec_id', 'sec_x'],\n",
        "                    # rule=conn_props,\n",
        "                    # rule_params={'mu':11.0e-3,'sigma':1},\n",
        "                    # dtypes=[float, np.int32, float])\n",
        "\n",
        "# EUS afferent --> INm-(Grill et al. 2016)\n",
        "conn = net.add_edges(source=net.nodes(pop_name='EUSaff'), target=net.nodes(pop_name='INmminus'),\n",
        "                   connection_rule=percent_connector,\n",
        "                   connection_params={'percent':100.0},\n",
        "                   target_sections=['somatic'],\n",
        "                   delay=2.0,\n",
        "                   distance_range=[0.0, 300.0],\n",
        "                   dynamics_params='AMPA_ExcToExc.json',\n",
        "                   model_template='Exp2Syn')\n",
        "\n",
        "conn.add_properties(names=['syn_weight', 'sec_id', 'sec_x'],\n",
        "                    rule=conn_props,\n",
        "                    rule_params={'mu':16.0e-3,'sigma':1},\n",
        "                    dtypes=[float, np.int32, float])\n",
        "\n",
        "# INm+ --> PGN (Grill et al. 2016)\n",
        "conn = net.add_edges(source=net.nodes(pop_name='INmplus'), target=net.nodes(pop_name='PGN'),\n",
        "                   cconnection_rule=percent_connector,\n",
        "                   connection_params={'percent':10.0},\n",
        "                   target_sections=['somatic'],\n",
        "                   delay=2.0,\n",
        "                   distance_range=[0.0, 300.0],\n",
        "                   dynamics_params='AMPA_ExcToExc.json',\n",
        "                   model_template='Exp2Syn')\n",
        "\n",
        "conn.add_properties(names=['syn_weight', 'sec_id', 'sec_x'],\n",
        "                    rule=conn_props,\n",
        "                    rule_params={'mu':1.0e-3,'sigma':1},\n",
        "                    dtypes=[float, np.int32, float])\n",
        "\n",
        "# INm- --> PGN (Grill et al. 2016)\n",
        "conn = net.add_edges(source=net.nodes(pop_name='INmminus'), target=net.nodes(pop_name='PGN'),\n",
        "                   connection_rule=percent_connector,\n",
        "                   connection_params={'percent':10.0},\n",
        "                   target_sections=['somatic'],\n",
        "                   delay=2.0,\n",
        "                   distance_range=[0.0, 300.0],\n",
        "                   dynamics_params='GABA_InhToExc.json',\n",
        "                   model_template='Exp2Syn')\n",
        "\n",
        "conn.add_properties(names=['syn_weight', 'sec_id', 'sec_x'],\n",
        "                    rule=conn_props,\n",
        "                    rule_params={'mu':20.0e-3,'sigma':1},\n",
        "                    dtypes=[float, np.int32, float])\n",
        "\n",
        "# PGN --> MPG (Beckel et al. 2015)\n",
        "conn = net.add_edges(source=net.nodes(pop_name='PGN'), target=net.nodes(pop_name='MPG'),\n",
        "                   connection_rule=percent_connector,\n",
        "                   connection_params={'percent':100.0},\n",
        "                   target_sections=['somatic'],\n",
        "                   delay=2.0,\n",
        "                   distance_range=[0.0, 300.0],\n",
        "                   dynamics_params='AMPA_ExcToExc.json',\n",
        "                   model_template='Exp2Syn')\n",
        "\n",
        "conn.add_properties(names=['syn_weight', 'sec_id', 'sec_x'],\n",
        "                    rule=conn_props,\n",
        "                    rule_params={'mu':12.0e-3,'sigma':1},\n",
        "                    dtypes=[float, np.int32, float])\n",
        "\n",
        "# PGN --> FB (Grill et al. 2016)\n",
        "conn = net.add_edges(source=net.nodes(pop_name='PGN'), target=net.nodes(pop_name='FB'),\n",
        "                   connection_rule=percent_connector,\n",
        "                   connection_params={'percent':100.0},\n",
        "                   target_sections=['somatic'],\n",
        "                   delay=2.0,\n",
        "                   distance_range=[0.0, 300.0],\n",
        "                   dynamics_params='AMPA_ExcToExc.json',\n",
        "                   model_template='Exp2Syn')\n",
        "\n",
        "conn.add_properties(names=['syn_weight', 'sec_id', 'sec_x'],\n",
        "                    rule=conn_props,\n",
        "                    rule_params={'mu':12.0e-3,'sigma':1}, #was 12.0e-3\n",
        "                    dtypes=[float, np.int32, float])\n",
        "\n",
        "# FB --> INd (Grill et al. 2016)\n",
        "conn = net.add_edges(source=net.nodes(pop_name='FB'), target=net.nodes(pop_name='IND'),\n",
        "                   connection_rule=percent_connector,\n",
        "                   connection_params={'percent':100.0},\n",
        "                   target_sections=['somatic'],\n",
        "                   delay=2.0,\n",
        "                   distance_range=[0.0, 300.0],\n",
        "                   dynamics_params='GABA_InhToInh.json',\n",
        "                   model_template='Exp2Syn')\n",
        "\n",
        "conn.add_properties(names=['syn_weight', 'sec_id', 'sec_x'],\n",
        "                    rule=conn_props,\n",
        "                    rule_params={'mu':15.0e-3,'sigma':1},       # was 12.0e-3\n",
        "                    dtypes=[float, np.int32, float])\n",
        "\n",
        "# # MPG --> Bladder MN (Beckel et al. 2015)\n",
        "# conn = net.add_edges(source=net.nodes(pop_name='MPG'), target=net.nodes(pop_name='Bladmn'),\n",
        "                   # connection_rule=percent_connector,\n",
        "                   # connection_params={'percent':10.0},\n",
        "                   # target_sections=['somatic'],\n",
        "                   # delay=2.0,\n",
        "                   # distance_range=[0.0, 300.0],\n",
        "                   # dynamics_params='AMPA_ExcToExc.json',\n",
        "                   # model_template='Exp2Syn')\n",
        "\n",
        "# conn.add_properties(names=['syn_weight', 'sec_id', 'sec_x'],\n",
        "                    # rule=conn_props,\n",
        "                    # rule_params={'mu':16.0e-3,'sigma':1},\n",
        "                    # dtypes=[float, np.int32, float])\n",
        "\n",
        "# # IMG --> Bladder MN (Beckel et al. 2015)\n",
        "# conn = net.add_edges(source=net.nodes(pop_name='IMG'), target=net.nodes(pop_name='Bladmn'),\n",
        "                   # connection_rule=percent_connector,\n",
        "                   # connection_params={'percent':10.0},\n",
        "                   # target_sections=['somatic'],\n",
        "                   # delay=2.0,\n",
        "                   # distance_range=[0.0, 300.0],\n",
        "                   # dynamics_params='GABA_InhToInh.json',\n",
        "                   # model_template='Exp2Syn')\n",
        "\n",
        "# conn.add_properties(names=['syn_weight', 'sec_id', 'sec_x'],\n",
        "                    # rule=conn_props,\n",
        "                    # rule_params={'mu':10.0e-3,'sigma':1},\n",
        "                    # dtypes=[float, np.int32, float])\n",
        "\n",
        "# PAG aff --> Hypogastric (de Groat, et al. 2015)\n",
        "conn = net.add_edges(source=net.nodes(pop_name='PAGaff'), target=net.nodes(pop_name='Hypo'),\n",
        "                    connection_rule=percent_connector,\n",
        "                    connection_params={'percent':100.0},\n",
        "                    target_sections=['somatic'],\n",
        "                    delay=2.0,\n",
        "                    distance_range=[0.0, 300.0],\n",
        "                    dynamics_params='GABA_InhToInh.json',\n",
        "                    model_template='Exp2Syn')\n",
        "\n",
        "conn.add_properties(names=['syn_weight', 'sec_id', 'sec_x'],\n",
        "                     rule=conn_props,\n",
        "                     rule_params={'mu':12.0e-3,'sigma':1},\n",
        "                     dtypes=[float, np.int32, float])\n",
        "\n",
        "# PAG aff --> EUS MN (Shefchyk et al. 2001)\n",
        "# conn = net.add_edges(source=net.nodes(pop_name='PAGaff'), target=net.nodes(pop_name='EUSmn'),\n",
        "                   # connection_rule=percent_connector,\n",
        "                   # connection_params={'percent':100.0},\n",
        "                   # target_sections=['somatic'],\n",
        "                   # delay=2.0,\n",
        "                   # distance_range=[0.0, 300.0],\n",
        "                   # dynamics_params='GABA_InhToInh.json',\n",
        "                   # model_template='Exp2Syn')\n",
        "\n",
        "# conn.add_properties(names=['syn_weight', 'sec_id', 'sec_x'],\n",
        "                    # rule=conn_props,\n",
        "                    # rule_params={'mu':12.0e-3,'sigma':1},\n",
        "                    # dtypes=[float, np.int32, float])\n",
        "\n",
        "# EUS afferent --> EUS MN (Beckel et al. 2015)\n",
        "# conn = net.add_edges(source=net.nodes(pop_name='EUSaff'), target=net.nodes(pop_name='EUSmn'),\n",
        "                   # connection_rule=percent_connector,\n",
        "                   # connection_params={'percent':100.0},\n",
        "                   # target_sections=['somatic'],\n",
        "                   # delay=2.0,\n",
        "                   # distance_range=[0.0, 300.0],\n",
        "                   # dynamics_params='AMPA_ExcToExc.json',\n",
        "                   # model_template='Exp2Syn')\n",
        "\n",
        "# conn.add_properties(names=['syn_weight', 'sec_id', 'sec_x'],\n",
        "                    # rule=conn_props,\n",
        "                    # rule_params={'mu':12.0e-3,'sigma':1},\n",
        "                    # dtypes=[float, np.int32, float])\n",
        "\n",
        "# Connect virtual cells to EUS, Bladder, and PAG/PMC\n",
        "Blad_aff_virt = NetworkBuilder('Blad_aff_virt') # Virtual cells delivering input to Bladder\n",
        "EUS_aff_virt = NetworkBuilder('EUS_aff_virt')   # Virtual cells delivering input to EUS\n",
        "PAG_aff_virt = NetworkBuilder('PAG_aff_virt')   # Virtual cells delivering input to PAG/PMC\n",
        "\n",
        "Blad_aff_virt.add_nodes(N=numBladaff, pop_name = 'Blad_aff_virt', model_type='virtual', potential='exc')\n",
        "EUS_aff_virt.add_nodes(N=numEUSaff, pop_name = 'EUS_aff_virt', model_type='virtual', potential='exc')\n",
        "PAG_aff_virt.add_nodes(N=numPAGaff, pop_name = 'PAG_aff_virt', model_type='virtual', potential='exc')\n",
        "\n",
        "Blad_aff_virt.add_edges(source=Blad_aff_virt.nodes(), target=net.nodes(pop_name='Bladaff'),\n",
        "                   connection_rule=percent_connector,\n",
        "                   connection_params={'percent':100.0},\n",
        "                   syn_weight=12.0e-03,\n",
        "                   target_sections=['somatic'],\n",
        "\t\t\t\t   delay=2.0,\n",
        "                   distance_range=[0.0, 300.0],\n",
        "                   dynamics_params='AMPA_ExcToExc.json',\n",
        "                   model_template='Exp2Syn')\n",
        "\n",
        "\n",
        "EUS_aff_virt.add_edges(source=EUS_aff_virt.nodes(), target=net.nodes(pop_name='EUSaff'),\n",
        "                   connection_rule=percent_connector,\n",
        "                   connection_params={'percent':100.0},\n",
        "                   syn_weight=12.0e-03,\n",
        "                   target_sections=['somatic'],\n",
        "                   delay=2.0,\n",
        "                   distance_range=[0.0, 300.0],\n",
        "                   dynamics_params='AMPA_ExcToExc.json',\n",
        "                   model_template='Exp2Syn')\n",
        "\n",
        "PAG_aff_virt.add_edges(source=PAG_aff_virt.nodes(), target=net.nodes(pop_name='PAGaff'),\n",
        "                   connection_rule=percent_connector,\n",
        "                   connection_params={'percent':100.0},\n",
        "                   syn_weight=20.0e-03,\n",
        "                   target_sections=['somatic'],\n",
        "                   delay=2.0,\n",
        "                   distance_range=[0.0, 300.0],\n",
        "                   dynamics_params='AMPA_ExcToExc.json',\n",
        "                   model_template='Exp2Syn')\n",
        "\n",
        "####################################################################################\n",
        "########################## Build and save network ##################################\n",
        "####################################################################################\n",
        "\n",
        "print(\"\\nBuilding network and saving to directory \\\"\" + output_dir + \"\\\"\")\n",
        "net.build()\n",
        "Blad_aff_virt.build()\n",
        "EUS_aff_virt.build()\n",
        "PAG_aff_virt.build()\n",
        "\n",
        "net.save_nodes(output_dir=output_dir)\n",
        "net.save_edges(output_dir=output_dir)\n",
        "\n",
        "Blad_aff_virt.save_nodes(output_dir=output_dir)\n",
        "Blad_aff_virt.save_edges(output_dir=output_dir)\n",
        "\n",
        "EUS_aff_virt.save_nodes(output_dir=output_dir)\n",
        "EUS_aff_virt.save_edges(output_dir=output_dir)\n",
        "\n",
        "PAG_aff_virt.save_nodes(output_dir=output_dir)\n",
        "PAG_aff_virt.save_edges(output_dir=output_dir)\n",
        "\n",
        "print(\"Done\")"
      ],
      "metadata": {
        "colab": {
          "base_uri": "https://localhost:8080/"
        },
        "id": "OwFAcOVDTxGn",
        "outputId": "7b57bd84-cc62-4470-86de-f1872e6402ae"
      },
      "execution_count": 4,
      "outputs": [
        {
          "output_type": "stream",
          "name": "stdout",
          "text": [
            "\n",
            "Creating Cells\n",
            "\n",
            "Connecting Cells\n",
            "\n",
            "Building network and saving to directory \"network\"\n",
            "connecting Bladaff cell 0 to IND cell 0\n",
            "connecting Bladaff cell 0 to IND cell 1\n",
            "connecting Bladaff cell 0 to IND cell 2\n",
            "connecting Bladaff cell 0 to IND cell 3\n",
            "connecting Bladaff cell 0 to IND cell 4\n",
            "connecting Bladaff cell 0 to IND cell 5\n",
            "connecting Bladaff cell 0 to IND cell 6\n",
            "connecting Bladaff cell 0 to IND cell 7\n",
            "connecting Bladaff cell 0 to IND cell 8\n",
            "connecting Bladaff cell 0 to IND cell 9\n",
            "connecting Bladaff cell 1 to IND cell 0\n",
            "connecting Bladaff cell 1 to IND cell 1\n",
            "connecting Bladaff cell 1 to IND cell 2\n",
            "connecting Bladaff cell 1 to IND cell 3\n",
            "connecting Bladaff cell 1 to IND cell 4\n",
            "connecting Bladaff cell 1 to IND cell 5\n",
            "connecting Bladaff cell 1 to IND cell 6\n",
            "connecting Bladaff cell 1 to IND cell 7\n",
            "connecting Bladaff cell 1 to IND cell 8\n",
            "connecting Bladaff cell 1 to IND cell 9\n",
            "connecting Bladaff cell 2 to IND cell 0\n",
            "connecting Bladaff cell 2 to IND cell 1\n",
            "connecting Bladaff cell 2 to IND cell 2\n",
            "connecting Bladaff cell 2 to IND cell 3\n",
            "connecting Bladaff cell 2 to IND cell 4\n",
            "connecting Bladaff cell 2 to IND cell 5\n",
            "connecting Bladaff cell 2 to IND cell 6\n",
            "connecting Bladaff cell 2 to IND cell 7\n",
            "connecting Bladaff cell 2 to IND cell 8\n",
            "connecting Bladaff cell 2 to IND cell 9\n",
            "connecting Bladaff cell 3 to IND cell 0\n",
            "connecting Bladaff cell 3 to IND cell 1\n",
            "connecting Bladaff cell 3 to IND cell 2\n",
            "connecting Bladaff cell 3 to IND cell 3\n",
            "connecting Bladaff cell 3 to IND cell 4\n",
            "connecting Bladaff cell 3 to IND cell 5\n",
            "connecting Bladaff cell 3 to IND cell 6\n",
            "connecting Bladaff cell 3 to IND cell 7\n",
            "connecting Bladaff cell 3 to IND cell 8\n",
            "connecting Bladaff cell 3 to IND cell 9\n",
            "connecting Bladaff cell 4 to IND cell 0\n",
            "connecting Bladaff cell 4 to IND cell 1\n",
            "connecting Bladaff cell 4 to IND cell 2\n",
            "connecting Bladaff cell 4 to IND cell 3\n",
            "connecting Bladaff cell 4 to IND cell 4\n",
            "connecting Bladaff cell 4 to IND cell 5\n",
            "connecting Bladaff cell 4 to IND cell 6\n",
            "connecting Bladaff cell 4 to IND cell 7\n",
            "connecting Bladaff cell 4 to IND cell 8\n",
            "connecting Bladaff cell 4 to IND cell 9\n",
            "connecting Bladaff cell 5 to IND cell 0\n",
            "connecting Bladaff cell 5 to IND cell 1\n",
            "connecting Bladaff cell 5 to IND cell 2\n",
            "connecting Bladaff cell 5 to IND cell 3\n",
            "connecting Bladaff cell 5 to IND cell 4\n",
            "connecting Bladaff cell 5 to IND cell 5\n",
            "connecting Bladaff cell 5 to IND cell 6\n",
            "connecting Bladaff cell 5 to IND cell 7\n",
            "connecting Bladaff cell 5 to IND cell 8\n",
            "connecting Bladaff cell 5 to IND cell 9\n",
            "connecting Bladaff cell 6 to IND cell 0\n",
            "connecting Bladaff cell 6 to IND cell 1\n",
            "connecting Bladaff cell 6 to IND cell 2\n",
            "connecting Bladaff cell 6 to IND cell 3\n",
            "connecting Bladaff cell 6 to IND cell 4\n",
            "connecting Bladaff cell 6 to IND cell 5\n",
            "connecting Bladaff cell 6 to IND cell 6\n",
            "connecting Bladaff cell 6 to IND cell 7\n",
            "connecting Bladaff cell 6 to IND cell 8\n",
            "connecting Bladaff cell 6 to IND cell 9\n",
            "connecting Bladaff cell 7 to IND cell 0\n",
            "connecting Bladaff cell 7 to IND cell 1\n",
            "connecting Bladaff cell 7 to IND cell 2\n",
            "connecting Bladaff cell 7 to IND cell 3\n",
            "connecting Bladaff cell 7 to IND cell 4\n",
            "connecting Bladaff cell 7 to IND cell 5\n",
            "connecting Bladaff cell 7 to IND cell 6\n",
            "connecting Bladaff cell 7 to IND cell 7\n",
            "connecting Bladaff cell 7 to IND cell 8\n",
            "connecting Bladaff cell 7 to IND cell 9\n",
            "connecting Bladaff cell 8 to IND cell 0\n",
            "connecting Bladaff cell 8 to IND cell 1\n",
            "connecting Bladaff cell 8 to IND cell 2\n",
            "connecting Bladaff cell 8 to IND cell 3\n",
            "connecting Bladaff cell 8 to IND cell 4\n",
            "connecting Bladaff cell 8 to IND cell 5\n",
            "connecting Bladaff cell 8 to IND cell 6\n",
            "connecting Bladaff cell 8 to IND cell 7\n",
            "connecting Bladaff cell 8 to IND cell 8\n",
            "connecting Bladaff cell 8 to IND cell 9\n",
            "connecting Bladaff cell 9 to IND cell 0\n",
            "connecting Bladaff cell 9 to IND cell 1\n",
            "connecting Bladaff cell 9 to IND cell 2\n",
            "connecting Bladaff cell 9 to IND cell 3\n",
            "connecting Bladaff cell 9 to IND cell 4\n",
            "connecting Bladaff cell 9 to IND cell 5\n",
            "connecting Bladaff cell 9 to IND cell 6\n",
            "connecting Bladaff cell 9 to IND cell 7\n",
            "connecting Bladaff cell 9 to IND cell 8\n",
            "connecting Bladaff cell 9 to IND cell 9\n",
            "connecting Bladaff cell 0 to Hypo cell 0\n",
            "connecting Bladaff cell 2 to Hypo cell 4\n",
            "connecting Bladaff cell 2 to Hypo cell 6\n",
            "connecting Bladaff cell 3 to Hypo cell 1\n",
            "connecting Bladaff cell 3 to Hypo cell 4\n",
            "connecting Bladaff cell 3 to Hypo cell 6\n",
            "connecting Bladaff cell 6 to Hypo cell 0\n",
            "connecting Bladaff cell 6 to Hypo cell 5\n",
            "connecting Bladaff cell 7 to Hypo cell 6\n",
            "connecting Bladaff cell 8 to Hypo cell 3\n",
            "connecting Bladaff cell 9 to Hypo cell 7\n",
            "connecting EUSaff cell 10 to IND cell 0\n",
            "connecting EUSaff cell 10 to IND cell 1\n",
            "connecting EUSaff cell 10 to IND cell 2\n",
            "connecting EUSaff cell 10 to IND cell 3\n",
            "connecting EUSaff cell 10 to IND cell 4\n",
            "connecting EUSaff cell 10 to IND cell 5\n",
            "connecting EUSaff cell 10 to IND cell 6\n",
            "connecting EUSaff cell 10 to IND cell 7\n",
            "connecting EUSaff cell 10 to IND cell 8\n",
            "connecting EUSaff cell 10 to IND cell 9\n",
            "connecting EUSaff cell 11 to IND cell 0\n",
            "connecting EUSaff cell 11 to IND cell 1\n",
            "connecting EUSaff cell 11 to IND cell 2\n",
            "connecting EUSaff cell 11 to IND cell 3\n",
            "connecting EUSaff cell 11 to IND cell 4\n",
            "connecting EUSaff cell 11 to IND cell 5\n",
            "connecting EUSaff cell 11 to IND cell 6\n",
            "connecting EUSaff cell 11 to IND cell 7\n",
            "connecting EUSaff cell 11 to IND cell 8\n",
            "connecting EUSaff cell 11 to IND cell 9\n",
            "connecting EUSaff cell 12 to IND cell 0\n",
            "connecting EUSaff cell 12 to IND cell 1\n",
            "connecting EUSaff cell 12 to IND cell 2\n",
            "connecting EUSaff cell 12 to IND cell 3\n",
            "connecting EUSaff cell 12 to IND cell 4\n",
            "connecting EUSaff cell 12 to IND cell 5\n",
            "connecting EUSaff cell 12 to IND cell 6\n",
            "connecting EUSaff cell 12 to IND cell 7\n",
            "connecting EUSaff cell 12 to IND cell 8\n",
            "connecting EUSaff cell 12 to IND cell 9\n",
            "connecting EUSaff cell 13 to IND cell 0\n",
            "connecting EUSaff cell 13 to IND cell 1\n",
            "connecting EUSaff cell 13 to IND cell 2\n",
            "connecting EUSaff cell 13 to IND cell 3\n",
            "connecting EUSaff cell 13 to IND cell 4\n",
            "connecting EUSaff cell 13 to IND cell 5\n",
            "connecting EUSaff cell 13 to IND cell 6\n",
            "connecting EUSaff cell 13 to IND cell 7\n",
            "connecting EUSaff cell 13 to IND cell 8\n",
            "connecting EUSaff cell 13 to IND cell 9\n",
            "connecting EUSaff cell 14 to IND cell 0\n",
            "connecting EUSaff cell 14 to IND cell 1\n",
            "connecting EUSaff cell 14 to IND cell 2\n",
            "connecting EUSaff cell 14 to IND cell 3\n",
            "connecting EUSaff cell 14 to IND cell 4\n",
            "connecting EUSaff cell 14 to IND cell 5\n",
            "connecting EUSaff cell 14 to IND cell 6\n",
            "connecting EUSaff cell 14 to IND cell 7\n",
            "connecting EUSaff cell 14 to IND cell 8\n",
            "connecting EUSaff cell 14 to IND cell 9\n",
            "connecting EUSaff cell 15 to IND cell 0\n",
            "connecting EUSaff cell 15 to IND cell 1\n",
            "connecting EUSaff cell 15 to IND cell 2\n",
            "connecting EUSaff cell 15 to IND cell 3\n",
            "connecting EUSaff cell 15 to IND cell 4\n",
            "connecting EUSaff cell 15 to IND cell 5\n",
            "connecting EUSaff cell 15 to IND cell 6\n",
            "connecting EUSaff cell 15 to IND cell 7\n",
            "connecting EUSaff cell 15 to IND cell 8\n",
            "connecting EUSaff cell 15 to IND cell 9\n",
            "connecting EUSaff cell 16 to IND cell 0\n",
            "connecting EUSaff cell 16 to IND cell 1\n",
            "connecting EUSaff cell 16 to IND cell 2\n",
            "connecting EUSaff cell 16 to IND cell 3\n",
            "connecting EUSaff cell 16 to IND cell 4\n",
            "connecting EUSaff cell 16 to IND cell 5\n",
            "connecting EUSaff cell 16 to IND cell 6\n",
            "connecting EUSaff cell 16 to IND cell 7\n",
            "connecting EUSaff cell 16 to IND cell 8\n",
            "connecting EUSaff cell 16 to IND cell 9\n",
            "connecting EUSaff cell 17 to IND cell 0\n",
            "connecting EUSaff cell 17 to IND cell 1\n",
            "connecting EUSaff cell 17 to IND cell 2\n",
            "connecting EUSaff cell 17 to IND cell 3\n",
            "connecting EUSaff cell 17 to IND cell 4\n",
            "connecting EUSaff cell 17 to IND cell 5\n",
            "connecting EUSaff cell 17 to IND cell 6\n",
            "connecting EUSaff cell 17 to IND cell 7\n",
            "connecting EUSaff cell 17 to IND cell 8\n",
            "connecting EUSaff cell 17 to IND cell 9\n",
            "connecting EUSaff cell 18 to IND cell 0\n",
            "connecting EUSaff cell 18 to IND cell 1\n",
            "connecting EUSaff cell 18 to IND cell 2\n",
            "connecting EUSaff cell 18 to IND cell 3\n",
            "connecting EUSaff cell 18 to IND cell 4\n",
            "connecting EUSaff cell 18 to IND cell 5\n",
            "connecting EUSaff cell 18 to IND cell 6\n",
            "connecting EUSaff cell 18 to IND cell 7\n",
            "connecting EUSaff cell 18 to IND cell 8\n",
            "connecting EUSaff cell 18 to IND cell 9\n",
            "connecting EUSaff cell 19 to IND cell 0\n",
            "connecting EUSaff cell 19 to IND cell 1\n",
            "connecting EUSaff cell 19 to IND cell 2\n",
            "connecting EUSaff cell 19 to IND cell 3\n",
            "connecting EUSaff cell 19 to IND cell 4\n",
            "connecting EUSaff cell 19 to IND cell 5\n",
            "connecting EUSaff cell 19 to IND cell 6\n",
            "connecting EUSaff cell 19 to IND cell 7\n",
            "connecting EUSaff cell 19 to IND cell 8\n",
            "connecting EUSaff cell 19 to IND cell 9\n",
            "connecting PAGaff cell -10 to IND cell 0\n",
            "connecting PAGaff cell -10 to IND cell 1\n",
            "connecting PAGaff cell -10 to IND cell 2\n",
            "connecting PAGaff cell -10 to IND cell 3\n",
            "connecting PAGaff cell -10 to IND cell 4\n",
            "connecting PAGaff cell -10 to IND cell 5\n",
            "connecting PAGaff cell -10 to IND cell 6\n",
            "connecting PAGaff cell -10 to IND cell 7\n",
            "connecting PAGaff cell -10 to IND cell 8\n",
            "connecting PAGaff cell -10 to IND cell 9\n",
            "connecting PAGaff cell -9 to IND cell 0\n",
            "connecting PAGaff cell -9 to IND cell 1\n",
            "connecting PAGaff cell -9 to IND cell 2\n",
            "connecting PAGaff cell -9 to IND cell 3\n",
            "connecting PAGaff cell -9 to IND cell 4\n",
            "connecting PAGaff cell -9 to IND cell 5\n",
            "connecting PAGaff cell -9 to IND cell 6\n",
            "connecting PAGaff cell -9 to IND cell 7\n",
            "connecting PAGaff cell -9 to IND cell 8\n",
            "connecting PAGaff cell -9 to IND cell 9\n",
            "connecting PAGaff cell -8 to IND cell 0\n",
            "connecting PAGaff cell -8 to IND cell 1\n",
            "connecting PAGaff cell -8 to IND cell 2\n",
            "connecting PAGaff cell -8 to IND cell 3\n",
            "connecting PAGaff cell -8 to IND cell 4\n",
            "connecting PAGaff cell -8 to IND cell 5\n",
            "connecting PAGaff cell -8 to IND cell 6\n",
            "connecting PAGaff cell -8 to IND cell 7\n",
            "connecting PAGaff cell -8 to IND cell 8\n",
            "connecting PAGaff cell -8 to IND cell 9\n",
            "connecting PAGaff cell -7 to IND cell 0\n",
            "connecting PAGaff cell -7 to IND cell 1\n",
            "connecting PAGaff cell -7 to IND cell 2\n",
            "connecting PAGaff cell -7 to IND cell 3\n",
            "connecting PAGaff cell -7 to IND cell 4\n",
            "connecting PAGaff cell -7 to IND cell 5\n",
            "connecting PAGaff cell -7 to IND cell 6\n",
            "connecting PAGaff cell -7 to IND cell 7\n",
            "connecting PAGaff cell -7 to IND cell 8\n",
            "connecting PAGaff cell -7 to IND cell 9\n",
            "connecting PAGaff cell -6 to IND cell 0\n",
            "connecting PAGaff cell -6 to IND cell 1\n",
            "connecting PAGaff cell -6 to IND cell 2\n",
            "connecting PAGaff cell -6 to IND cell 3\n",
            "connecting PAGaff cell -6 to IND cell 4\n",
            "connecting PAGaff cell -6 to IND cell 5\n",
            "connecting PAGaff cell -6 to IND cell 6\n",
            "connecting PAGaff cell -6 to IND cell 7\n",
            "connecting PAGaff cell -6 to IND cell 8\n",
            "connecting PAGaff cell -6 to IND cell 9\n",
            "connecting PAGaff cell -5 to IND cell 0\n",
            "connecting PAGaff cell -5 to IND cell 1\n",
            "connecting PAGaff cell -5 to IND cell 2\n",
            "connecting PAGaff cell -5 to IND cell 3\n",
            "connecting PAGaff cell -5 to IND cell 4\n",
            "connecting PAGaff cell -5 to IND cell 5\n",
            "connecting PAGaff cell -5 to IND cell 6\n",
            "connecting PAGaff cell -5 to IND cell 7\n",
            "connecting PAGaff cell -5 to IND cell 8\n",
            "connecting PAGaff cell -5 to IND cell 9\n",
            "connecting PAGaff cell -4 to IND cell 0\n",
            "connecting PAGaff cell -4 to IND cell 1\n",
            "connecting PAGaff cell -4 to IND cell 2\n",
            "connecting PAGaff cell -4 to IND cell 3\n",
            "connecting PAGaff cell -4 to IND cell 4\n",
            "connecting PAGaff cell -4 to IND cell 5\n",
            "connecting PAGaff cell -4 to IND cell 6\n",
            "connecting PAGaff cell -4 to IND cell 7\n",
            "connecting PAGaff cell -4 to IND cell 8\n",
            "connecting PAGaff cell -4 to IND cell 9\n",
            "connecting PAGaff cell -3 to IND cell 0\n",
            "connecting PAGaff cell -3 to IND cell 1\n",
            "connecting PAGaff cell -3 to IND cell 2\n",
            "connecting PAGaff cell -3 to IND cell 3\n",
            "connecting PAGaff cell -3 to IND cell 4\n",
            "connecting PAGaff cell -3 to IND cell 5\n",
            "connecting PAGaff cell -3 to IND cell 6\n",
            "connecting PAGaff cell -3 to IND cell 7\n",
            "connecting PAGaff cell -3 to IND cell 8\n",
            "connecting PAGaff cell -3 to IND cell 9\n",
            "connecting PAGaff cell -2 to IND cell 0\n",
            "connecting PAGaff cell -2 to IND cell 1\n",
            "connecting PAGaff cell -2 to IND cell 2\n",
            "connecting PAGaff cell -2 to IND cell 3\n",
            "connecting PAGaff cell -2 to IND cell 4\n",
            "connecting PAGaff cell -2 to IND cell 5\n",
            "connecting PAGaff cell -2 to IND cell 6\n",
            "connecting PAGaff cell -2 to IND cell 7\n",
            "connecting PAGaff cell -2 to IND cell 8\n",
            "connecting PAGaff cell -2 to IND cell 9\n",
            "connecting PAGaff cell -1 to IND cell 0\n",
            "connecting PAGaff cell -1 to IND cell 1\n",
            "connecting PAGaff cell -1 to IND cell 2\n",
            "connecting PAGaff cell -1 to IND cell 3\n",
            "connecting PAGaff cell -1 to IND cell 4\n",
            "connecting PAGaff cell -1 to IND cell 5\n",
            "connecting PAGaff cell -1 to IND cell 6\n",
            "connecting PAGaff cell -1 to IND cell 7\n",
            "connecting PAGaff cell -1 to IND cell 8\n",
            "connecting PAGaff cell -1 to IND cell 9\n",
            "connecting IND cell 0 to PGN cell 0\n",
            "connecting IND cell 0 to PGN cell 1\n",
            "connecting IND cell 0 to PGN cell 2\n",
            "connecting IND cell 0 to PGN cell 3\n",
            "connecting IND cell 0 to PGN cell 4\n",
            "connecting IND cell 0 to PGN cell 5\n",
            "connecting IND cell 0 to PGN cell 6\n",
            "connecting IND cell 0 to PGN cell 7\n",
            "connecting IND cell 0 to PGN cell 8\n",
            "connecting IND cell 0 to PGN cell 9\n",
            "connecting IND cell 1 to PGN cell 0\n",
            "connecting IND cell 1 to PGN cell 1\n",
            "connecting IND cell 1 to PGN cell 2\n",
            "connecting IND cell 1 to PGN cell 3\n",
            "connecting IND cell 1 to PGN cell 4\n",
            "connecting IND cell 1 to PGN cell 5\n",
            "connecting IND cell 1 to PGN cell 6\n",
            "connecting IND cell 1 to PGN cell 7\n",
            "connecting IND cell 1 to PGN cell 8\n",
            "connecting IND cell 1 to PGN cell 9\n",
            "connecting IND cell 2 to PGN cell 0\n",
            "connecting IND cell 2 to PGN cell 1\n",
            "connecting IND cell 2 to PGN cell 2\n",
            "connecting IND cell 2 to PGN cell 3\n",
            "connecting IND cell 2 to PGN cell 4\n",
            "connecting IND cell 2 to PGN cell 5\n",
            "connecting IND cell 2 to PGN cell 6\n",
            "connecting IND cell 2 to PGN cell 7\n",
            "connecting IND cell 2 to PGN cell 8\n",
            "connecting IND cell 2 to PGN cell 9\n",
            "connecting IND cell 3 to PGN cell 0\n",
            "connecting IND cell 3 to PGN cell 1\n",
            "connecting IND cell 3 to PGN cell 2\n",
            "connecting IND cell 3 to PGN cell 3\n",
            "connecting IND cell 3 to PGN cell 4\n",
            "connecting IND cell 3 to PGN cell 5\n",
            "connecting IND cell 3 to PGN cell 6\n",
            "connecting IND cell 3 to PGN cell 7\n",
            "connecting IND cell 3 to PGN cell 8\n",
            "connecting IND cell 3 to PGN cell 9\n",
            "connecting IND cell 4 to PGN cell 0\n",
            "connecting IND cell 4 to PGN cell 1\n",
            "connecting IND cell 4 to PGN cell 2\n",
            "connecting IND cell 4 to PGN cell 3\n",
            "connecting IND cell 4 to PGN cell 4\n",
            "connecting IND cell 4 to PGN cell 5\n",
            "connecting IND cell 4 to PGN cell 6\n",
            "connecting IND cell 4 to PGN cell 7\n",
            "connecting IND cell 4 to PGN cell 8\n",
            "connecting IND cell 4 to PGN cell 9\n",
            "connecting IND cell 5 to PGN cell 0\n",
            "connecting IND cell 5 to PGN cell 1\n",
            "connecting IND cell 5 to PGN cell 2\n",
            "connecting IND cell 5 to PGN cell 3\n",
            "connecting IND cell 5 to PGN cell 4\n",
            "connecting IND cell 5 to PGN cell 5\n",
            "connecting IND cell 5 to PGN cell 6\n",
            "connecting IND cell 5 to PGN cell 7\n",
            "connecting IND cell 5 to PGN cell 8\n",
            "connecting IND cell 5 to PGN cell 9\n",
            "connecting IND cell 6 to PGN cell 0\n",
            "connecting IND cell 6 to PGN cell 1\n",
            "connecting IND cell 6 to PGN cell 2\n",
            "connecting IND cell 6 to PGN cell 3\n",
            "connecting IND cell 6 to PGN cell 4\n",
            "connecting IND cell 6 to PGN cell 5\n",
            "connecting IND cell 6 to PGN cell 6\n",
            "connecting IND cell 6 to PGN cell 7\n",
            "connecting IND cell 6 to PGN cell 8\n",
            "connecting IND cell 6 to PGN cell 9\n",
            "connecting IND cell 7 to PGN cell 0\n",
            "connecting IND cell 7 to PGN cell 1\n",
            "connecting IND cell 7 to PGN cell 2\n",
            "connecting IND cell 7 to PGN cell 3\n",
            "connecting IND cell 7 to PGN cell 4\n",
            "connecting IND cell 7 to PGN cell 5\n",
            "connecting IND cell 7 to PGN cell 6\n",
            "connecting IND cell 7 to PGN cell 7\n",
            "connecting IND cell 7 to PGN cell 8\n",
            "connecting IND cell 7 to PGN cell 9\n",
            "connecting IND cell 8 to PGN cell 0\n",
            "connecting IND cell 8 to PGN cell 1\n",
            "connecting IND cell 8 to PGN cell 2\n",
            "connecting IND cell 8 to PGN cell 3\n",
            "connecting IND cell 8 to PGN cell 4\n",
            "connecting IND cell 8 to PGN cell 5\n",
            "connecting IND cell 8 to PGN cell 6\n",
            "connecting IND cell 8 to PGN cell 7\n",
            "connecting IND cell 8 to PGN cell 8\n",
            "connecting IND cell 8 to PGN cell 9\n",
            "connecting IND cell 9 to PGN cell 0\n",
            "connecting IND cell 9 to PGN cell 1\n",
            "connecting IND cell 9 to PGN cell 2\n",
            "connecting IND cell 9 to PGN cell 3\n",
            "connecting IND cell 9 to PGN cell 4\n",
            "connecting IND cell 9 to PGN cell 5\n",
            "connecting IND cell 9 to PGN cell 6\n",
            "connecting IND cell 9 to PGN cell 7\n",
            "connecting IND cell 9 to PGN cell 8\n",
            "connecting IND cell 9 to PGN cell 9\n",
            "connecting Hypo cell 0 to IMG cell 1\n",
            "connecting Hypo cell 0 to IMG cell 4\n",
            "connecting Hypo cell 0 to IMG cell 8\n",
            "connecting Hypo cell 1 to IMG cell 7\n",
            "connecting Hypo cell 1 to IMG cell 8\n",
            "connecting Hypo cell 2 to IMG cell 8\n",
            "connecting Hypo cell 4 to IMG cell 3\n",
            "connecting Hypo cell 4 to IMG cell 9\n",
            "connecting Hypo cell 8 to IMG cell 3\n",
            "connecting Hypo cell 8 to IMG cell 9\n",
            "connecting Hypo cell 9 to IMG cell 8\n",
            "connecting EUSaff cell 10 to INmplus cell 0\n",
            "connecting EUSaff cell 10 to INmplus cell 1\n",
            "connecting EUSaff cell 10 to INmplus cell 2\n",
            "connecting EUSaff cell 10 to INmplus cell 3\n",
            "connecting EUSaff cell 10 to INmplus cell 4\n",
            "connecting EUSaff cell 10 to INmplus cell 5\n",
            "connecting EUSaff cell 10 to INmplus cell 6\n",
            "connecting EUSaff cell 10 to INmplus cell 7\n",
            "connecting EUSaff cell 10 to INmplus cell 8\n",
            "connecting EUSaff cell 10 to INmplus cell 9\n",
            "connecting EUSaff cell 11 to INmplus cell 0\n",
            "connecting EUSaff cell 11 to INmplus cell 1\n",
            "connecting EUSaff cell 11 to INmplus cell 2\n",
            "connecting EUSaff cell 11 to INmplus cell 3\n",
            "connecting EUSaff cell 11 to INmplus cell 4\n",
            "connecting EUSaff cell 11 to INmplus cell 5\n",
            "connecting EUSaff cell 11 to INmplus cell 6\n",
            "connecting EUSaff cell 11 to INmplus cell 7\n",
            "connecting EUSaff cell 11 to INmplus cell 8\n",
            "connecting EUSaff cell 11 to INmplus cell 9\n",
            "connecting EUSaff cell 12 to INmplus cell 0\n",
            "connecting EUSaff cell 12 to INmplus cell 1\n",
            "connecting EUSaff cell 12 to INmplus cell 2\n",
            "connecting EUSaff cell 12 to INmplus cell 3\n",
            "connecting EUSaff cell 12 to INmplus cell 4\n",
            "connecting EUSaff cell 12 to INmplus cell 5\n",
            "connecting EUSaff cell 12 to INmplus cell 6\n",
            "connecting EUSaff cell 12 to INmplus cell 7\n",
            "connecting EUSaff cell 12 to INmplus cell 8\n",
            "connecting EUSaff cell 12 to INmplus cell 9\n",
            "connecting EUSaff cell 13 to INmplus cell 0\n",
            "connecting EUSaff cell 13 to INmplus cell 1\n",
            "connecting EUSaff cell 13 to INmplus cell 2\n",
            "connecting EUSaff cell 13 to INmplus cell 3\n",
            "connecting EUSaff cell 13 to INmplus cell 4\n",
            "connecting EUSaff cell 13 to INmplus cell 5\n",
            "connecting EUSaff cell 13 to INmplus cell 6\n",
            "connecting EUSaff cell 13 to INmplus cell 7\n",
            "connecting EUSaff cell 13 to INmplus cell 8\n",
            "connecting EUSaff cell 13 to INmplus cell 9\n",
            "connecting EUSaff cell 14 to INmplus cell 0\n",
            "connecting EUSaff cell 14 to INmplus cell 1\n",
            "connecting EUSaff cell 14 to INmplus cell 2\n",
            "connecting EUSaff cell 14 to INmplus cell 3\n",
            "connecting EUSaff cell 14 to INmplus cell 4\n",
            "connecting EUSaff cell 14 to INmplus cell 5\n",
            "connecting EUSaff cell 14 to INmplus cell 6\n",
            "connecting EUSaff cell 14 to INmplus cell 7\n",
            "connecting EUSaff cell 14 to INmplus cell 8\n",
            "connecting EUSaff cell 14 to INmplus cell 9\n",
            "connecting EUSaff cell 15 to INmplus cell 0\n",
            "connecting EUSaff cell 15 to INmplus cell 1\n",
            "connecting EUSaff cell 15 to INmplus cell 2\n",
            "connecting EUSaff cell 15 to INmplus cell 3\n",
            "connecting EUSaff cell 15 to INmplus cell 4\n",
            "connecting EUSaff cell 15 to INmplus cell 5\n",
            "connecting EUSaff cell 15 to INmplus cell 6\n",
            "connecting EUSaff cell 15 to INmplus cell 7\n",
            "connecting EUSaff cell 15 to INmplus cell 8\n",
            "connecting EUSaff cell 15 to INmplus cell 9\n",
            "connecting EUSaff cell 16 to INmplus cell 0\n",
            "connecting EUSaff cell 16 to INmplus cell 1\n",
            "connecting EUSaff cell 16 to INmplus cell 2\n",
            "connecting EUSaff cell 16 to INmplus cell 3\n",
            "connecting EUSaff cell 16 to INmplus cell 4\n",
            "connecting EUSaff cell 16 to INmplus cell 5\n",
            "connecting EUSaff cell 16 to INmplus cell 6\n",
            "connecting EUSaff cell 16 to INmplus cell 7\n",
            "connecting EUSaff cell 16 to INmplus cell 8\n",
            "connecting EUSaff cell 16 to INmplus cell 9\n",
            "connecting EUSaff cell 17 to INmplus cell 0\n",
            "connecting EUSaff cell 17 to INmplus cell 1\n",
            "connecting EUSaff cell 17 to INmplus cell 2\n",
            "connecting EUSaff cell 17 to INmplus cell 3\n",
            "connecting EUSaff cell 17 to INmplus cell 4\n",
            "connecting EUSaff cell 17 to INmplus cell 5\n",
            "connecting EUSaff cell 17 to INmplus cell 6\n",
            "connecting EUSaff cell 17 to INmplus cell 7\n",
            "connecting EUSaff cell 17 to INmplus cell 8\n",
            "connecting EUSaff cell 17 to INmplus cell 9\n",
            "connecting EUSaff cell 18 to INmplus cell 0\n",
            "connecting EUSaff cell 18 to INmplus cell 1\n",
            "connecting EUSaff cell 18 to INmplus cell 2\n",
            "connecting EUSaff cell 18 to INmplus cell 3\n",
            "connecting EUSaff cell 18 to INmplus cell 4\n",
            "connecting EUSaff cell 18 to INmplus cell 5\n",
            "connecting EUSaff cell 18 to INmplus cell 6\n",
            "connecting EUSaff cell 18 to INmplus cell 7\n",
            "connecting EUSaff cell 18 to INmplus cell 8\n",
            "connecting EUSaff cell 18 to INmplus cell 9\n",
            "connecting EUSaff cell 19 to INmplus cell 0\n",
            "connecting EUSaff cell 19 to INmplus cell 1\n",
            "connecting EUSaff cell 19 to INmplus cell 2\n",
            "connecting EUSaff cell 19 to INmplus cell 3\n",
            "connecting EUSaff cell 19 to INmplus cell 4\n",
            "connecting EUSaff cell 19 to INmplus cell 5\n",
            "connecting EUSaff cell 19 to INmplus cell 6\n",
            "connecting EUSaff cell 19 to INmplus cell 7\n",
            "connecting EUSaff cell 19 to INmplus cell 8\n",
            "connecting EUSaff cell 19 to INmplus cell 9\n",
            "connecting EUSaff cell 10 to INmminus cell 0\n",
            "connecting EUSaff cell 10 to INmminus cell 1\n",
            "connecting EUSaff cell 10 to INmminus cell 2\n",
            "connecting EUSaff cell 10 to INmminus cell 3\n",
            "connecting EUSaff cell 10 to INmminus cell 4\n",
            "connecting EUSaff cell 10 to INmminus cell 5\n",
            "connecting EUSaff cell 10 to INmminus cell 6\n",
            "connecting EUSaff cell 10 to INmminus cell 7\n",
            "connecting EUSaff cell 10 to INmminus cell 8\n",
            "connecting EUSaff cell 10 to INmminus cell 9\n",
            "connecting EUSaff cell 11 to INmminus cell 0\n",
            "connecting EUSaff cell 11 to INmminus cell 1\n",
            "connecting EUSaff cell 11 to INmminus cell 2\n",
            "connecting EUSaff cell 11 to INmminus cell 3\n",
            "connecting EUSaff cell 11 to INmminus cell 4\n",
            "connecting EUSaff cell 11 to INmminus cell 5\n",
            "connecting EUSaff cell 11 to INmminus cell 6\n",
            "connecting EUSaff cell 11 to INmminus cell 7\n",
            "connecting EUSaff cell 11 to INmminus cell 8\n",
            "connecting EUSaff cell 11 to INmminus cell 9\n",
            "connecting EUSaff cell 12 to INmminus cell 0\n",
            "connecting EUSaff cell 12 to INmminus cell 1\n",
            "connecting EUSaff cell 12 to INmminus cell 2\n",
            "connecting EUSaff cell 12 to INmminus cell 3\n",
            "connecting EUSaff cell 12 to INmminus cell 4\n",
            "connecting EUSaff cell 12 to INmminus cell 5\n",
            "connecting EUSaff cell 12 to INmminus cell 6\n",
            "connecting EUSaff cell 12 to INmminus cell 7\n",
            "connecting EUSaff cell 12 to INmminus cell 8\n",
            "connecting EUSaff cell 12 to INmminus cell 9\n",
            "connecting EUSaff cell 13 to INmminus cell 0\n",
            "connecting EUSaff cell 13 to INmminus cell 1\n",
            "connecting EUSaff cell 13 to INmminus cell 2\n",
            "connecting EUSaff cell 13 to INmminus cell 3\n",
            "connecting EUSaff cell 13 to INmminus cell 4\n",
            "connecting EUSaff cell 13 to INmminus cell 5\n",
            "connecting EUSaff cell 13 to INmminus cell 6\n",
            "connecting EUSaff cell 13 to INmminus cell 7\n",
            "connecting EUSaff cell 13 to INmminus cell 8\n",
            "connecting EUSaff cell 13 to INmminus cell 9\n",
            "connecting EUSaff cell 14 to INmminus cell 0\n",
            "connecting EUSaff cell 14 to INmminus cell 1\n",
            "connecting EUSaff cell 14 to INmminus cell 2\n",
            "connecting EUSaff cell 14 to INmminus cell 3\n",
            "connecting EUSaff cell 14 to INmminus cell 4\n",
            "connecting EUSaff cell 14 to INmminus cell 5\n",
            "connecting EUSaff cell 14 to INmminus cell 6\n",
            "connecting EUSaff cell 14 to INmminus cell 7\n",
            "connecting EUSaff cell 14 to INmminus cell 8\n",
            "connecting EUSaff cell 14 to INmminus cell 9\n",
            "connecting EUSaff cell 15 to INmminus cell 0\n",
            "connecting EUSaff cell 15 to INmminus cell 1\n",
            "connecting EUSaff cell 15 to INmminus cell 2\n",
            "connecting EUSaff cell 15 to INmminus cell 3\n",
            "connecting EUSaff cell 15 to INmminus cell 4\n",
            "connecting EUSaff cell 15 to INmminus cell 5\n",
            "connecting EUSaff cell 15 to INmminus cell 6\n",
            "connecting EUSaff cell 15 to INmminus cell 7\n",
            "connecting EUSaff cell 15 to INmminus cell 8\n",
            "connecting EUSaff cell 15 to INmminus cell 9\n",
            "connecting EUSaff cell 16 to INmminus cell 0\n",
            "connecting EUSaff cell 16 to INmminus cell 1\n",
            "connecting EUSaff cell 16 to INmminus cell 2\n",
            "connecting EUSaff cell 16 to INmminus cell 3\n",
            "connecting EUSaff cell 16 to INmminus cell 4\n",
            "connecting EUSaff cell 16 to INmminus cell 5\n",
            "connecting EUSaff cell 16 to INmminus cell 6\n",
            "connecting EUSaff cell 16 to INmminus cell 7\n",
            "connecting EUSaff cell 16 to INmminus cell 8\n",
            "connecting EUSaff cell 16 to INmminus cell 9\n",
            "connecting EUSaff cell 17 to INmminus cell 0\n",
            "connecting EUSaff cell 17 to INmminus cell 1\n",
            "connecting EUSaff cell 17 to INmminus cell 2\n",
            "connecting EUSaff cell 17 to INmminus cell 3\n",
            "connecting EUSaff cell 17 to INmminus cell 4\n",
            "connecting EUSaff cell 17 to INmminus cell 5\n",
            "connecting EUSaff cell 17 to INmminus cell 6\n",
            "connecting EUSaff cell 17 to INmminus cell 7\n",
            "connecting EUSaff cell 17 to INmminus cell 8\n",
            "connecting EUSaff cell 17 to INmminus cell 9\n",
            "connecting EUSaff cell 18 to INmminus cell 0\n",
            "connecting EUSaff cell 18 to INmminus cell 1\n",
            "connecting EUSaff cell 18 to INmminus cell 2\n",
            "connecting EUSaff cell 18 to INmminus cell 3\n",
            "connecting EUSaff cell 18 to INmminus cell 4\n",
            "connecting EUSaff cell 18 to INmminus cell 5\n",
            "connecting EUSaff cell 18 to INmminus cell 6\n",
            "connecting EUSaff cell 18 to INmminus cell 7\n",
            "connecting EUSaff cell 18 to INmminus cell 8\n",
            "connecting EUSaff cell 18 to INmminus cell 9\n",
            "connecting EUSaff cell 19 to INmminus cell 0\n",
            "connecting EUSaff cell 19 to INmminus cell 1\n",
            "connecting EUSaff cell 19 to INmminus cell 2\n",
            "connecting EUSaff cell 19 to INmminus cell 3\n",
            "connecting EUSaff cell 19 to INmminus cell 4\n",
            "connecting EUSaff cell 19 to INmminus cell 5\n",
            "connecting EUSaff cell 19 to INmminus cell 6\n",
            "connecting EUSaff cell 19 to INmminus cell 7\n",
            "connecting EUSaff cell 19 to INmminus cell 8\n",
            "connecting EUSaff cell 19 to INmminus cell 9\n",
            "connecting INmminus cell 1 to PGN cell 7\n",
            "connecting INmminus cell 2 to PGN cell 6\n",
            "connecting INmminus cell 5 to PGN cell 1\n",
            "connecting INmminus cell 5 to PGN cell 2\n",
            "connecting INmminus cell 5 to PGN cell 8\n",
            "connecting INmminus cell 6 to PGN cell 4\n",
            "connecting INmminus cell 7 to PGN cell 3\n",
            "connecting INmminus cell 8 to PGN cell 2\n",
            "connecting PGN cell 0 to MPG cell 0\n",
            "connecting PGN cell 0 to MPG cell 1\n",
            "connecting PGN cell 0 to MPG cell 2\n",
            "connecting PGN cell 0 to MPG cell 3\n",
            "connecting PGN cell 0 to MPG cell 4\n",
            "connecting PGN cell 0 to MPG cell 5\n",
            "connecting PGN cell 0 to MPG cell 6\n",
            "connecting PGN cell 0 to MPG cell 7\n",
            "connecting PGN cell 0 to MPG cell 8\n",
            "connecting PGN cell 0 to MPG cell 9\n",
            "connecting PGN cell 1 to MPG cell 0\n",
            "connecting PGN cell 1 to MPG cell 1\n",
            "connecting PGN cell 1 to MPG cell 2\n",
            "connecting PGN cell 1 to MPG cell 3\n",
            "connecting PGN cell 1 to MPG cell 4\n",
            "connecting PGN cell 1 to MPG cell 5\n",
            "connecting PGN cell 1 to MPG cell 6\n",
            "connecting PGN cell 1 to MPG cell 7\n",
            "connecting PGN cell 1 to MPG cell 8\n",
            "connecting PGN cell 1 to MPG cell 9\n",
            "connecting PGN cell 2 to MPG cell 0\n",
            "connecting PGN cell 2 to MPG cell 1\n",
            "connecting PGN cell 2 to MPG cell 2\n",
            "connecting PGN cell 2 to MPG cell 3\n",
            "connecting PGN cell 2 to MPG cell 4\n",
            "connecting PGN cell 2 to MPG cell 5\n",
            "connecting PGN cell 2 to MPG cell 6\n",
            "connecting PGN cell 2 to MPG cell 7\n",
            "connecting PGN cell 2 to MPG cell 8\n",
            "connecting PGN cell 2 to MPG cell 9\n",
            "connecting PGN cell 3 to MPG cell 0\n",
            "connecting PGN cell 3 to MPG cell 1\n",
            "connecting PGN cell 3 to MPG cell 2\n",
            "connecting PGN cell 3 to MPG cell 3\n",
            "connecting PGN cell 3 to MPG cell 4\n",
            "connecting PGN cell 3 to MPG cell 5\n",
            "connecting PGN cell 3 to MPG cell 6\n",
            "connecting PGN cell 3 to MPG cell 7\n",
            "connecting PGN cell 3 to MPG cell 8\n",
            "connecting PGN cell 3 to MPG cell 9\n",
            "connecting PGN cell 4 to MPG cell 0\n",
            "connecting PGN cell 4 to MPG cell 1\n",
            "connecting PGN cell 4 to MPG cell 2\n",
            "connecting PGN cell 4 to MPG cell 3\n",
            "connecting PGN cell 4 to MPG cell 4\n",
            "connecting PGN cell 4 to MPG cell 5\n",
            "connecting PGN cell 4 to MPG cell 6\n",
            "connecting PGN cell 4 to MPG cell 7\n",
            "connecting PGN cell 4 to MPG cell 8\n",
            "connecting PGN cell 4 to MPG cell 9\n",
            "connecting PGN cell 5 to MPG cell 0\n",
            "connecting PGN cell 5 to MPG cell 1\n",
            "connecting PGN cell 5 to MPG cell 2\n",
            "connecting PGN cell 5 to MPG cell 3\n",
            "connecting PGN cell 5 to MPG cell 4\n",
            "connecting PGN cell 5 to MPG cell 5\n",
            "connecting PGN cell 5 to MPG cell 6\n",
            "connecting PGN cell 5 to MPG cell 7\n",
            "connecting PGN cell 5 to MPG cell 8\n",
            "connecting PGN cell 5 to MPG cell 9\n",
            "connecting PGN cell 6 to MPG cell 0\n",
            "connecting PGN cell 6 to MPG cell 1\n",
            "connecting PGN cell 6 to MPG cell 2\n",
            "connecting PGN cell 6 to MPG cell 3\n",
            "connecting PGN cell 6 to MPG cell 4\n",
            "connecting PGN cell 6 to MPG cell 5\n",
            "connecting PGN cell 6 to MPG cell 6\n",
            "connecting PGN cell 6 to MPG cell 7\n",
            "connecting PGN cell 6 to MPG cell 8\n",
            "connecting PGN cell 6 to MPG cell 9\n",
            "connecting PGN cell 7 to MPG cell 0\n",
            "connecting PGN cell 7 to MPG cell 1\n",
            "connecting PGN cell 7 to MPG cell 2\n",
            "connecting PGN cell 7 to MPG cell 3\n",
            "connecting PGN cell 7 to MPG cell 4\n",
            "connecting PGN cell 7 to MPG cell 5\n",
            "connecting PGN cell 7 to MPG cell 6\n",
            "connecting PGN cell 7 to MPG cell 7\n",
            "connecting PGN cell 7 to MPG cell 8\n",
            "connecting PGN cell 7 to MPG cell 9\n",
            "connecting PGN cell 8 to MPG cell 0\n",
            "connecting PGN cell 8 to MPG cell 1\n",
            "connecting PGN cell 8 to MPG cell 2\n",
            "connecting PGN cell 8 to MPG cell 3\n",
            "connecting PGN cell 8 to MPG cell 4\n",
            "connecting PGN cell 8 to MPG cell 5\n",
            "connecting PGN cell 8 to MPG cell 6\n",
            "connecting PGN cell 8 to MPG cell 7\n",
            "connecting PGN cell 8 to MPG cell 8\n",
            "connecting PGN cell 8 to MPG cell 9\n",
            "connecting PGN cell 9 to MPG cell 0\n",
            "connecting PGN cell 9 to MPG cell 1\n",
            "connecting PGN cell 9 to MPG cell 2\n",
            "connecting PGN cell 9 to MPG cell 3\n",
            "connecting PGN cell 9 to MPG cell 4\n",
            "connecting PGN cell 9 to MPG cell 5\n",
            "connecting PGN cell 9 to MPG cell 6\n",
            "connecting PGN cell 9 to MPG cell 7\n",
            "connecting PGN cell 9 to MPG cell 8\n",
            "connecting PGN cell 9 to MPG cell 9\n",
            "connecting PGN cell 0 to FB cell 0\n",
            "connecting PGN cell 0 to FB cell 1\n",
            "connecting PGN cell 0 to FB cell 2\n",
            "connecting PGN cell 0 to FB cell 3\n",
            "connecting PGN cell 0 to FB cell 4\n",
            "connecting PGN cell 0 to FB cell 5\n",
            "connecting PGN cell 0 to FB cell 6\n",
            "connecting PGN cell 0 to FB cell 7\n",
            "connecting PGN cell 0 to FB cell 8\n",
            "connecting PGN cell 0 to FB cell 9\n",
            "connecting PGN cell 1 to FB cell 0\n",
            "connecting PGN cell 1 to FB cell 1\n",
            "connecting PGN cell 1 to FB cell 2\n",
            "connecting PGN cell 1 to FB cell 3\n",
            "connecting PGN cell 1 to FB cell 4\n",
            "connecting PGN cell 1 to FB cell 5\n",
            "connecting PGN cell 1 to FB cell 6\n",
            "connecting PGN cell 1 to FB cell 7\n",
            "connecting PGN cell 1 to FB cell 8\n",
            "connecting PGN cell 1 to FB cell 9\n",
            "connecting PGN cell 2 to FB cell 0\n",
            "connecting PGN cell 2 to FB cell 1\n",
            "connecting PGN cell 2 to FB cell 2\n",
            "connecting PGN cell 2 to FB cell 3\n",
            "connecting PGN cell 2 to FB cell 4\n",
            "connecting PGN cell 2 to FB cell 5\n",
            "connecting PGN cell 2 to FB cell 6\n",
            "connecting PGN cell 2 to FB cell 7\n",
            "connecting PGN cell 2 to FB cell 8\n",
            "connecting PGN cell 2 to FB cell 9\n",
            "connecting PGN cell 3 to FB cell 0\n",
            "connecting PGN cell 3 to FB cell 1\n",
            "connecting PGN cell 3 to FB cell 2\n",
            "connecting PGN cell 3 to FB cell 3\n",
            "connecting PGN cell 3 to FB cell 4\n",
            "connecting PGN cell 3 to FB cell 5\n",
            "connecting PGN cell 3 to FB cell 6\n",
            "connecting PGN cell 3 to FB cell 7\n",
            "connecting PGN cell 3 to FB cell 8\n",
            "connecting PGN cell 3 to FB cell 9\n",
            "connecting PGN cell 4 to FB cell 0\n",
            "connecting PGN cell 4 to FB cell 1\n",
            "connecting PGN cell 4 to FB cell 2\n",
            "connecting PGN cell 4 to FB cell 3\n",
            "connecting PGN cell 4 to FB cell 4\n",
            "connecting PGN cell 4 to FB cell 5\n",
            "connecting PGN cell 4 to FB cell 6\n",
            "connecting PGN cell 4 to FB cell 7\n",
            "connecting PGN cell 4 to FB cell 8\n",
            "connecting PGN cell 4 to FB cell 9\n",
            "connecting PGN cell 5 to FB cell 0\n",
            "connecting PGN cell 5 to FB cell 1\n",
            "connecting PGN cell 5 to FB cell 2\n",
            "connecting PGN cell 5 to FB cell 3\n",
            "connecting PGN cell 5 to FB cell 4\n",
            "connecting PGN cell 5 to FB cell 5\n",
            "connecting PGN cell 5 to FB cell 6\n",
            "connecting PGN cell 5 to FB cell 7\n",
            "connecting PGN cell 5 to FB cell 8\n",
            "connecting PGN cell 5 to FB cell 9\n",
            "connecting PGN cell 6 to FB cell 0\n",
            "connecting PGN cell 6 to FB cell 1\n",
            "connecting PGN cell 6 to FB cell 2\n",
            "connecting PGN cell 6 to FB cell 3\n",
            "connecting PGN cell 6 to FB cell 4\n",
            "connecting PGN cell 6 to FB cell 5\n",
            "connecting PGN cell 6 to FB cell 6\n",
            "connecting PGN cell 6 to FB cell 7\n",
            "connecting PGN cell 6 to FB cell 8\n",
            "connecting PGN cell 6 to FB cell 9\n",
            "connecting PGN cell 7 to FB cell 0\n",
            "connecting PGN cell 7 to FB cell 1\n",
            "connecting PGN cell 7 to FB cell 2\n",
            "connecting PGN cell 7 to FB cell 3\n",
            "connecting PGN cell 7 to FB cell 4\n",
            "connecting PGN cell 7 to FB cell 5\n",
            "connecting PGN cell 7 to FB cell 6\n",
            "connecting PGN cell 7 to FB cell 7\n",
            "connecting PGN cell 7 to FB cell 8\n",
            "connecting PGN cell 7 to FB cell 9\n",
            "connecting PGN cell 8 to FB cell 0\n",
            "connecting PGN cell 8 to FB cell 1\n",
            "connecting PGN cell 8 to FB cell 2\n",
            "connecting PGN cell 8 to FB cell 3\n",
            "connecting PGN cell 8 to FB cell 4\n",
            "connecting PGN cell 8 to FB cell 5\n",
            "connecting PGN cell 8 to FB cell 6\n",
            "connecting PGN cell 8 to FB cell 7\n",
            "connecting PGN cell 8 to FB cell 8\n",
            "connecting PGN cell 8 to FB cell 9\n",
            "connecting PGN cell 9 to FB cell 0\n",
            "connecting PGN cell 9 to FB cell 1\n",
            "connecting PGN cell 9 to FB cell 2\n",
            "connecting PGN cell 9 to FB cell 3\n",
            "connecting PGN cell 9 to FB cell 4\n",
            "connecting PGN cell 9 to FB cell 5\n",
            "connecting PGN cell 9 to FB cell 6\n",
            "connecting PGN cell 9 to FB cell 7\n",
            "connecting PGN cell 9 to FB cell 8\n",
            "connecting PGN cell 9 to FB cell 9\n",
            "connecting FB cell 0 to IND cell 0\n",
            "connecting FB cell 0 to IND cell 1\n",
            "connecting FB cell 0 to IND cell 2\n",
            "connecting FB cell 0 to IND cell 3\n",
            "connecting FB cell 0 to IND cell 4\n",
            "connecting FB cell 0 to IND cell 5\n",
            "connecting FB cell 0 to IND cell 6\n",
            "connecting FB cell 0 to IND cell 7\n",
            "connecting FB cell 0 to IND cell 8\n",
            "connecting FB cell 0 to IND cell 9\n",
            "connecting FB cell 1 to IND cell 0\n",
            "connecting FB cell 1 to IND cell 1\n",
            "connecting FB cell 1 to IND cell 2\n",
            "connecting FB cell 1 to IND cell 3\n",
            "connecting FB cell 1 to IND cell 4\n",
            "connecting FB cell 1 to IND cell 5\n",
            "connecting FB cell 1 to IND cell 6\n",
            "connecting FB cell 1 to IND cell 7\n",
            "connecting FB cell 1 to IND cell 8\n",
            "connecting FB cell 1 to IND cell 9\n",
            "connecting FB cell 2 to IND cell 0\n",
            "connecting FB cell 2 to IND cell 1\n",
            "connecting FB cell 2 to IND cell 2\n",
            "connecting FB cell 2 to IND cell 3\n",
            "connecting FB cell 2 to IND cell 4\n",
            "connecting FB cell 2 to IND cell 5\n",
            "connecting FB cell 2 to IND cell 6\n",
            "connecting FB cell 2 to IND cell 7\n",
            "connecting FB cell 2 to IND cell 8\n",
            "connecting FB cell 2 to IND cell 9\n",
            "connecting FB cell 3 to IND cell 0\n",
            "connecting FB cell 3 to IND cell 1\n",
            "connecting FB cell 3 to IND cell 2\n",
            "connecting FB cell 3 to IND cell 3\n",
            "connecting FB cell 3 to IND cell 4\n",
            "connecting FB cell 3 to IND cell 5\n",
            "connecting FB cell 3 to IND cell 6\n",
            "connecting FB cell 3 to IND cell 7\n",
            "connecting FB cell 3 to IND cell 8\n",
            "connecting FB cell 3 to IND cell 9\n",
            "connecting FB cell 4 to IND cell 0\n",
            "connecting FB cell 4 to IND cell 1\n",
            "connecting FB cell 4 to IND cell 2\n",
            "connecting FB cell 4 to IND cell 3\n",
            "connecting FB cell 4 to IND cell 4\n",
            "connecting FB cell 4 to IND cell 5\n",
            "connecting FB cell 4 to IND cell 6\n",
            "connecting FB cell 4 to IND cell 7\n",
            "connecting FB cell 4 to IND cell 8\n",
            "connecting FB cell 4 to IND cell 9\n",
            "connecting FB cell 5 to IND cell 0\n",
            "connecting FB cell 5 to IND cell 1\n",
            "connecting FB cell 5 to IND cell 2\n",
            "connecting FB cell 5 to IND cell 3\n",
            "connecting FB cell 5 to IND cell 4\n",
            "connecting FB cell 5 to IND cell 5\n",
            "connecting FB cell 5 to IND cell 6\n",
            "connecting FB cell 5 to IND cell 7\n",
            "connecting FB cell 5 to IND cell 8\n",
            "connecting FB cell 5 to IND cell 9\n",
            "connecting FB cell 6 to IND cell 0\n",
            "connecting FB cell 6 to IND cell 1\n",
            "connecting FB cell 6 to IND cell 2\n",
            "connecting FB cell 6 to IND cell 3\n",
            "connecting FB cell 6 to IND cell 4\n",
            "connecting FB cell 6 to IND cell 5\n",
            "connecting FB cell 6 to IND cell 6\n",
            "connecting FB cell 6 to IND cell 7\n",
            "connecting FB cell 6 to IND cell 8\n",
            "connecting FB cell 6 to IND cell 9\n",
            "connecting FB cell 7 to IND cell 0\n",
            "connecting FB cell 7 to IND cell 1\n",
            "connecting FB cell 7 to IND cell 2\n",
            "connecting FB cell 7 to IND cell 3\n",
            "connecting FB cell 7 to IND cell 4\n",
            "connecting FB cell 7 to IND cell 5\n",
            "connecting FB cell 7 to IND cell 6\n",
            "connecting FB cell 7 to IND cell 7\n",
            "connecting FB cell 7 to IND cell 8\n",
            "connecting FB cell 7 to IND cell 9\n",
            "connecting FB cell 8 to IND cell 0\n",
            "connecting FB cell 8 to IND cell 1\n",
            "connecting FB cell 8 to IND cell 2\n",
            "connecting FB cell 8 to IND cell 3\n",
            "connecting FB cell 8 to IND cell 4\n",
            "connecting FB cell 8 to IND cell 5\n",
            "connecting FB cell 8 to IND cell 6\n",
            "connecting FB cell 8 to IND cell 7\n",
            "connecting FB cell 8 to IND cell 8\n",
            "connecting FB cell 8 to IND cell 9\n",
            "connecting FB cell 9 to IND cell 0\n",
            "connecting FB cell 9 to IND cell 1\n",
            "connecting FB cell 9 to IND cell 2\n",
            "connecting FB cell 9 to IND cell 3\n",
            "connecting FB cell 9 to IND cell 4\n",
            "connecting FB cell 9 to IND cell 5\n",
            "connecting FB cell 9 to IND cell 6\n",
            "connecting FB cell 9 to IND cell 7\n",
            "connecting FB cell 9 to IND cell 8\n",
            "connecting FB cell 9 to IND cell 9\n",
            "connecting PAGaff cell -10 to Hypo cell 0\n",
            "connecting PAGaff cell -10 to Hypo cell 1\n",
            "connecting PAGaff cell -10 to Hypo cell 2\n",
            "connecting PAGaff cell -10 to Hypo cell 3\n",
            "connecting PAGaff cell -10 to Hypo cell 4\n",
            "connecting PAGaff cell -10 to Hypo cell 5\n",
            "connecting PAGaff cell -10 to Hypo cell 6\n",
            "connecting PAGaff cell -10 to Hypo cell 7\n",
            "connecting PAGaff cell -10 to Hypo cell 8\n",
            "connecting PAGaff cell -10 to Hypo cell 9\n",
            "connecting PAGaff cell -9 to Hypo cell 0\n",
            "connecting PAGaff cell -9 to Hypo cell 1\n",
            "connecting PAGaff cell -9 to Hypo cell 2\n",
            "connecting PAGaff cell -9 to Hypo cell 3\n",
            "connecting PAGaff cell -9 to Hypo cell 4\n",
            "connecting PAGaff cell -9 to Hypo cell 5\n",
            "connecting PAGaff cell -9 to Hypo cell 6\n",
            "connecting PAGaff cell -9 to Hypo cell 7\n",
            "connecting PAGaff cell -9 to Hypo cell 8\n",
            "connecting PAGaff cell -9 to Hypo cell 9\n",
            "connecting PAGaff cell -8 to Hypo cell 0\n",
            "connecting PAGaff cell -8 to Hypo cell 1\n",
            "connecting PAGaff cell -8 to Hypo cell 2\n",
            "connecting PAGaff cell -8 to Hypo cell 3\n",
            "connecting PAGaff cell -8 to Hypo cell 4\n",
            "connecting PAGaff cell -8 to Hypo cell 5\n",
            "connecting PAGaff cell -8 to Hypo cell 6\n",
            "connecting PAGaff cell -8 to Hypo cell 7\n",
            "connecting PAGaff cell -8 to Hypo cell 8\n",
            "connecting PAGaff cell -8 to Hypo cell 9\n",
            "connecting PAGaff cell -7 to Hypo cell 0\n",
            "connecting PAGaff cell -7 to Hypo cell 1\n",
            "connecting PAGaff cell -7 to Hypo cell 2\n",
            "connecting PAGaff cell -7 to Hypo cell 3\n",
            "connecting PAGaff cell -7 to Hypo cell 4\n",
            "connecting PAGaff cell -7 to Hypo cell 5\n",
            "connecting PAGaff cell -7 to Hypo cell 6\n",
            "connecting PAGaff cell -7 to Hypo cell 7\n",
            "connecting PAGaff cell -7 to Hypo cell 8\n",
            "connecting PAGaff cell -7 to Hypo cell 9\n",
            "connecting PAGaff cell -6 to Hypo cell 0\n",
            "connecting PAGaff cell -6 to Hypo cell 1\n",
            "connecting PAGaff cell -6 to Hypo cell 2\n",
            "connecting PAGaff cell -6 to Hypo cell 3\n",
            "connecting PAGaff cell -6 to Hypo cell 4\n",
            "connecting PAGaff cell -6 to Hypo cell 5\n",
            "connecting PAGaff cell -6 to Hypo cell 6\n",
            "connecting PAGaff cell -6 to Hypo cell 7\n",
            "connecting PAGaff cell -6 to Hypo cell 8\n",
            "connecting PAGaff cell -6 to Hypo cell 9\n",
            "connecting PAGaff cell -5 to Hypo cell 0\n",
            "connecting PAGaff cell -5 to Hypo cell 1\n",
            "connecting PAGaff cell -5 to Hypo cell 2\n",
            "connecting PAGaff cell -5 to Hypo cell 3\n",
            "connecting PAGaff cell -5 to Hypo cell 4\n",
            "connecting PAGaff cell -5 to Hypo cell 5\n",
            "connecting PAGaff cell -5 to Hypo cell 6\n",
            "connecting PAGaff cell -5 to Hypo cell 7\n",
            "connecting PAGaff cell -5 to Hypo cell 8\n",
            "connecting PAGaff cell -5 to Hypo cell 9\n",
            "connecting PAGaff cell -4 to Hypo cell 0\n",
            "connecting PAGaff cell -4 to Hypo cell 1\n",
            "connecting PAGaff cell -4 to Hypo cell 2\n",
            "connecting PAGaff cell -4 to Hypo cell 3\n",
            "connecting PAGaff cell -4 to Hypo cell 4\n",
            "connecting PAGaff cell -4 to Hypo cell 5\n",
            "connecting PAGaff cell -4 to Hypo cell 6\n",
            "connecting PAGaff cell -4 to Hypo cell 7\n",
            "connecting PAGaff cell -4 to Hypo cell 8\n",
            "connecting PAGaff cell -4 to Hypo cell 9\n",
            "connecting PAGaff cell -3 to Hypo cell 0\n",
            "connecting PAGaff cell -3 to Hypo cell 1\n",
            "connecting PAGaff cell -3 to Hypo cell 2\n",
            "connecting PAGaff cell -3 to Hypo cell 3\n",
            "connecting PAGaff cell -3 to Hypo cell 4\n",
            "connecting PAGaff cell -3 to Hypo cell 5\n",
            "connecting PAGaff cell -3 to Hypo cell 6\n",
            "connecting PAGaff cell -3 to Hypo cell 7\n",
            "connecting PAGaff cell -3 to Hypo cell 8\n",
            "connecting PAGaff cell -3 to Hypo cell 9\n",
            "connecting PAGaff cell -2 to Hypo cell 0\n",
            "connecting PAGaff cell -2 to Hypo cell 1\n",
            "connecting PAGaff cell -2 to Hypo cell 2\n",
            "connecting PAGaff cell -2 to Hypo cell 3\n",
            "connecting PAGaff cell -2 to Hypo cell 4\n",
            "connecting PAGaff cell -2 to Hypo cell 5\n",
            "connecting PAGaff cell -2 to Hypo cell 6\n",
            "connecting PAGaff cell -2 to Hypo cell 7\n",
            "connecting PAGaff cell -2 to Hypo cell 8\n",
            "connecting PAGaff cell -2 to Hypo cell 9\n",
            "connecting PAGaff cell -1 to Hypo cell 0\n",
            "connecting PAGaff cell -1 to Hypo cell 1\n",
            "connecting PAGaff cell -1 to Hypo cell 2\n",
            "connecting PAGaff cell -1 to Hypo cell 3\n",
            "connecting PAGaff cell -1 to Hypo cell 4\n",
            "connecting PAGaff cell -1 to Hypo cell 5\n",
            "connecting PAGaff cell -1 to Hypo cell 6\n",
            "connecting PAGaff cell -1 to Hypo cell 7\n",
            "connecting PAGaff cell -1 to Hypo cell 8\n",
            "connecting PAGaff cell -1 to Hypo cell 9\n",
            "connecting Blad_aff_virt cell 0 to Bladaff cell 0\n",
            "connecting Blad_aff_virt cell 0 to Bladaff cell 1\n",
            "connecting Blad_aff_virt cell 0 to Bladaff cell 2\n",
            "connecting Blad_aff_virt cell 0 to Bladaff cell 3\n",
            "connecting Blad_aff_virt cell 0 to Bladaff cell 4\n",
            "connecting Blad_aff_virt cell 0 to Bladaff cell 5\n",
            "connecting Blad_aff_virt cell 0 to Bladaff cell 6\n",
            "connecting Blad_aff_virt cell 0 to Bladaff cell 7\n",
            "connecting Blad_aff_virt cell 0 to Bladaff cell 8\n",
            "connecting Blad_aff_virt cell 0 to Bladaff cell 9\n",
            "connecting Blad_aff_virt cell 1 to Bladaff cell 0\n",
            "connecting Blad_aff_virt cell 1 to Bladaff cell 1\n",
            "connecting Blad_aff_virt cell 1 to Bladaff cell 2\n",
            "connecting Blad_aff_virt cell 1 to Bladaff cell 3\n",
            "connecting Blad_aff_virt cell 1 to Bladaff cell 4\n",
            "connecting Blad_aff_virt cell 1 to Bladaff cell 5\n",
            "connecting Blad_aff_virt cell 1 to Bladaff cell 6\n",
            "connecting Blad_aff_virt cell 1 to Bladaff cell 7\n",
            "connecting Blad_aff_virt cell 1 to Bladaff cell 8\n",
            "connecting Blad_aff_virt cell 1 to Bladaff cell 9\n",
            "connecting Blad_aff_virt cell 2 to Bladaff cell 0\n",
            "connecting Blad_aff_virt cell 2 to Bladaff cell 1\n",
            "connecting Blad_aff_virt cell 2 to Bladaff cell 2\n",
            "connecting Blad_aff_virt cell 2 to Bladaff cell 3\n",
            "connecting Blad_aff_virt cell 2 to Bladaff cell 4\n",
            "connecting Blad_aff_virt cell 2 to Bladaff cell 5\n",
            "connecting Blad_aff_virt cell 2 to Bladaff cell 6\n",
            "connecting Blad_aff_virt cell 2 to Bladaff cell 7\n",
            "connecting Blad_aff_virt cell 2 to Bladaff cell 8\n",
            "connecting Blad_aff_virt cell 2 to Bladaff cell 9\n",
            "connecting Blad_aff_virt cell 3 to Bladaff cell 0\n",
            "connecting Blad_aff_virt cell 3 to Bladaff cell 1\n",
            "connecting Blad_aff_virt cell 3 to Bladaff cell 2\n",
            "connecting Blad_aff_virt cell 3 to Bladaff cell 3\n",
            "connecting Blad_aff_virt cell 3 to Bladaff cell 4\n",
            "connecting Blad_aff_virt cell 3 to Bladaff cell 5\n",
            "connecting Blad_aff_virt cell 3 to Bladaff cell 6\n",
            "connecting Blad_aff_virt cell 3 to Bladaff cell 7\n",
            "connecting Blad_aff_virt cell 3 to Bladaff cell 8\n",
            "connecting Blad_aff_virt cell 3 to Bladaff cell 9\n",
            "connecting Blad_aff_virt cell 4 to Bladaff cell 0\n",
            "connecting Blad_aff_virt cell 4 to Bladaff cell 1\n",
            "connecting Blad_aff_virt cell 4 to Bladaff cell 2\n",
            "connecting Blad_aff_virt cell 4 to Bladaff cell 3\n",
            "connecting Blad_aff_virt cell 4 to Bladaff cell 4\n",
            "connecting Blad_aff_virt cell 4 to Bladaff cell 5\n",
            "connecting Blad_aff_virt cell 4 to Bladaff cell 6\n",
            "connecting Blad_aff_virt cell 4 to Bladaff cell 7\n",
            "connecting Blad_aff_virt cell 4 to Bladaff cell 8\n",
            "connecting Blad_aff_virt cell 4 to Bladaff cell 9\n",
            "connecting Blad_aff_virt cell 5 to Bladaff cell 0\n",
            "connecting Blad_aff_virt cell 5 to Bladaff cell 1\n",
            "connecting Blad_aff_virt cell 5 to Bladaff cell 2\n",
            "connecting Blad_aff_virt cell 5 to Bladaff cell 3\n",
            "connecting Blad_aff_virt cell 5 to Bladaff cell 4\n",
            "connecting Blad_aff_virt cell 5 to Bladaff cell 5\n",
            "connecting Blad_aff_virt cell 5 to Bladaff cell 6\n",
            "connecting Blad_aff_virt cell 5 to Bladaff cell 7\n",
            "connecting Blad_aff_virt cell 5 to Bladaff cell 8\n",
            "connecting Blad_aff_virt cell 5 to Bladaff cell 9\n",
            "connecting Blad_aff_virt cell 6 to Bladaff cell 0\n",
            "connecting Blad_aff_virt cell 6 to Bladaff cell 1\n",
            "connecting Blad_aff_virt cell 6 to Bladaff cell 2\n",
            "connecting Blad_aff_virt cell 6 to Bladaff cell 3\n",
            "connecting Blad_aff_virt cell 6 to Bladaff cell 4\n",
            "connecting Blad_aff_virt cell 6 to Bladaff cell 5\n",
            "connecting Blad_aff_virt cell 6 to Bladaff cell 6\n",
            "connecting Blad_aff_virt cell 6 to Bladaff cell 7\n",
            "connecting Blad_aff_virt cell 6 to Bladaff cell 8\n",
            "connecting Blad_aff_virt cell 6 to Bladaff cell 9\n",
            "connecting Blad_aff_virt cell 7 to Bladaff cell 0\n",
            "connecting Blad_aff_virt cell 7 to Bladaff cell 1\n",
            "connecting Blad_aff_virt cell 7 to Bladaff cell 2\n",
            "connecting Blad_aff_virt cell 7 to Bladaff cell 3\n",
            "connecting Blad_aff_virt cell 7 to Bladaff cell 4\n",
            "connecting Blad_aff_virt cell 7 to Bladaff cell 5\n",
            "connecting Blad_aff_virt cell 7 to Bladaff cell 6\n",
            "connecting Blad_aff_virt cell 7 to Bladaff cell 7\n",
            "connecting Blad_aff_virt cell 7 to Bladaff cell 8\n",
            "connecting Blad_aff_virt cell 7 to Bladaff cell 9\n",
            "connecting Blad_aff_virt cell 8 to Bladaff cell 0\n",
            "connecting Blad_aff_virt cell 8 to Bladaff cell 1\n",
            "connecting Blad_aff_virt cell 8 to Bladaff cell 2\n",
            "connecting Blad_aff_virt cell 8 to Bladaff cell 3\n",
            "connecting Blad_aff_virt cell 8 to Bladaff cell 4\n",
            "connecting Blad_aff_virt cell 8 to Bladaff cell 5\n",
            "connecting Blad_aff_virt cell 8 to Bladaff cell 6\n",
            "connecting Blad_aff_virt cell 8 to Bladaff cell 7\n",
            "connecting Blad_aff_virt cell 8 to Bladaff cell 8\n",
            "connecting Blad_aff_virt cell 8 to Bladaff cell 9\n",
            "connecting Blad_aff_virt cell 9 to Bladaff cell 0\n",
            "connecting Blad_aff_virt cell 9 to Bladaff cell 1\n",
            "connecting Blad_aff_virt cell 9 to Bladaff cell 2\n",
            "connecting Blad_aff_virt cell 9 to Bladaff cell 3\n",
            "connecting Blad_aff_virt cell 9 to Bladaff cell 4\n",
            "connecting Blad_aff_virt cell 9 to Bladaff cell 5\n",
            "connecting Blad_aff_virt cell 9 to Bladaff cell 6\n",
            "connecting Blad_aff_virt cell 9 to Bladaff cell 7\n",
            "connecting Blad_aff_virt cell 9 to Bladaff cell 8\n",
            "connecting Blad_aff_virt cell 9 to Bladaff cell 9\n",
            "connecting EUS_aff_virt cell 0 to EUSaff cell 10\n",
            "connecting EUS_aff_virt cell 0 to EUSaff cell 11\n",
            "connecting EUS_aff_virt cell 0 to EUSaff cell 12\n",
            "connecting EUS_aff_virt cell 0 to EUSaff cell 13\n",
            "connecting EUS_aff_virt cell 0 to EUSaff cell 14\n",
            "connecting EUS_aff_virt cell 0 to EUSaff cell 15\n",
            "connecting EUS_aff_virt cell 0 to EUSaff cell 16\n",
            "connecting EUS_aff_virt cell 0 to EUSaff cell 17\n",
            "connecting EUS_aff_virt cell 0 to EUSaff cell 18\n",
            "connecting EUS_aff_virt cell 0 to EUSaff cell 19\n",
            "connecting EUS_aff_virt cell 1 to EUSaff cell 10\n",
            "connecting EUS_aff_virt cell 1 to EUSaff cell 11\n",
            "connecting EUS_aff_virt cell 1 to EUSaff cell 12\n",
            "connecting EUS_aff_virt cell 1 to EUSaff cell 13\n",
            "connecting EUS_aff_virt cell 1 to EUSaff cell 14\n",
            "connecting EUS_aff_virt cell 1 to EUSaff cell 15\n",
            "connecting EUS_aff_virt cell 1 to EUSaff cell 16\n",
            "connecting EUS_aff_virt cell 1 to EUSaff cell 17\n",
            "connecting EUS_aff_virt cell 1 to EUSaff cell 18\n",
            "connecting EUS_aff_virt cell 1 to EUSaff cell 19\n",
            "connecting EUS_aff_virt cell 2 to EUSaff cell 10\n",
            "connecting EUS_aff_virt cell 2 to EUSaff cell 11\n",
            "connecting EUS_aff_virt cell 2 to EUSaff cell 12\n",
            "connecting EUS_aff_virt cell 2 to EUSaff cell 13\n",
            "connecting EUS_aff_virt cell 2 to EUSaff cell 14\n",
            "connecting EUS_aff_virt cell 2 to EUSaff cell 15\n",
            "connecting EUS_aff_virt cell 2 to EUSaff cell 16\n",
            "connecting EUS_aff_virt cell 2 to EUSaff cell 17\n",
            "connecting EUS_aff_virt cell 2 to EUSaff cell 18\n",
            "connecting EUS_aff_virt cell 2 to EUSaff cell 19\n",
            "connecting EUS_aff_virt cell 3 to EUSaff cell 10\n",
            "connecting EUS_aff_virt cell 3 to EUSaff cell 11\n",
            "connecting EUS_aff_virt cell 3 to EUSaff cell 12\n",
            "connecting EUS_aff_virt cell 3 to EUSaff cell 13\n",
            "connecting EUS_aff_virt cell 3 to EUSaff cell 14\n",
            "connecting EUS_aff_virt cell 3 to EUSaff cell 15\n",
            "connecting EUS_aff_virt cell 3 to EUSaff cell 16\n",
            "connecting EUS_aff_virt cell 3 to EUSaff cell 17\n",
            "connecting EUS_aff_virt cell 3 to EUSaff cell 18\n",
            "connecting EUS_aff_virt cell 3 to EUSaff cell 19\n",
            "connecting EUS_aff_virt cell 4 to EUSaff cell 10\n",
            "connecting EUS_aff_virt cell 4 to EUSaff cell 11\n",
            "connecting EUS_aff_virt cell 4 to EUSaff cell 12\n",
            "connecting EUS_aff_virt cell 4 to EUSaff cell 13\n",
            "connecting EUS_aff_virt cell 4 to EUSaff cell 14\n",
            "connecting EUS_aff_virt cell 4 to EUSaff cell 15\n",
            "connecting EUS_aff_virt cell 4 to EUSaff cell 16\n",
            "connecting EUS_aff_virt cell 4 to EUSaff cell 17\n",
            "connecting EUS_aff_virt cell 4 to EUSaff cell 18\n",
            "connecting EUS_aff_virt cell 4 to EUSaff cell 19\n",
            "connecting EUS_aff_virt cell 5 to EUSaff cell 10\n",
            "connecting EUS_aff_virt cell 5 to EUSaff cell 11\n",
            "connecting EUS_aff_virt cell 5 to EUSaff cell 12\n",
            "connecting EUS_aff_virt cell 5 to EUSaff cell 13\n",
            "connecting EUS_aff_virt cell 5 to EUSaff cell 14\n",
            "connecting EUS_aff_virt cell 5 to EUSaff cell 15\n",
            "connecting EUS_aff_virt cell 5 to EUSaff cell 16\n",
            "connecting EUS_aff_virt cell 5 to EUSaff cell 17\n",
            "connecting EUS_aff_virt cell 5 to EUSaff cell 18\n",
            "connecting EUS_aff_virt cell 5 to EUSaff cell 19\n",
            "connecting EUS_aff_virt cell 6 to EUSaff cell 10\n",
            "connecting EUS_aff_virt cell 6 to EUSaff cell 11\n",
            "connecting EUS_aff_virt cell 6 to EUSaff cell 12\n",
            "connecting EUS_aff_virt cell 6 to EUSaff cell 13\n",
            "connecting EUS_aff_virt cell 6 to EUSaff cell 14\n",
            "connecting EUS_aff_virt cell 6 to EUSaff cell 15\n",
            "connecting EUS_aff_virt cell 6 to EUSaff cell 16\n",
            "connecting EUS_aff_virt cell 6 to EUSaff cell 17\n",
            "connecting EUS_aff_virt cell 6 to EUSaff cell 18\n",
            "connecting EUS_aff_virt cell 6 to EUSaff cell 19\n",
            "connecting EUS_aff_virt cell 7 to EUSaff cell 10\n",
            "connecting EUS_aff_virt cell 7 to EUSaff cell 11\n",
            "connecting EUS_aff_virt cell 7 to EUSaff cell 12\n",
            "connecting EUS_aff_virt cell 7 to EUSaff cell 13\n",
            "connecting EUS_aff_virt cell 7 to EUSaff cell 14\n",
            "connecting EUS_aff_virt cell 7 to EUSaff cell 15\n",
            "connecting EUS_aff_virt cell 7 to EUSaff cell 16\n",
            "connecting EUS_aff_virt cell 7 to EUSaff cell 17\n",
            "connecting EUS_aff_virt cell 7 to EUSaff cell 18\n",
            "connecting EUS_aff_virt cell 7 to EUSaff cell 19\n",
            "connecting EUS_aff_virt cell 8 to EUSaff cell 10\n",
            "connecting EUS_aff_virt cell 8 to EUSaff cell 11\n",
            "connecting EUS_aff_virt cell 8 to EUSaff cell 12\n",
            "connecting EUS_aff_virt cell 8 to EUSaff cell 13\n",
            "connecting EUS_aff_virt cell 8 to EUSaff cell 14\n",
            "connecting EUS_aff_virt cell 8 to EUSaff cell 15\n",
            "connecting EUS_aff_virt cell 8 to EUSaff cell 16\n",
            "connecting EUS_aff_virt cell 8 to EUSaff cell 17\n",
            "connecting EUS_aff_virt cell 8 to EUSaff cell 18\n",
            "connecting EUS_aff_virt cell 8 to EUSaff cell 19\n",
            "connecting EUS_aff_virt cell 9 to EUSaff cell 10\n",
            "connecting EUS_aff_virt cell 9 to EUSaff cell 11\n",
            "connecting EUS_aff_virt cell 9 to EUSaff cell 12\n",
            "connecting EUS_aff_virt cell 9 to EUSaff cell 13\n",
            "connecting EUS_aff_virt cell 9 to EUSaff cell 14\n",
            "connecting EUS_aff_virt cell 9 to EUSaff cell 15\n",
            "connecting EUS_aff_virt cell 9 to EUSaff cell 16\n",
            "connecting EUS_aff_virt cell 9 to EUSaff cell 17\n",
            "connecting EUS_aff_virt cell 9 to EUSaff cell 18\n",
            "connecting EUS_aff_virt cell 9 to EUSaff cell 19\n",
            "connecting PAG_aff_virt cell 0 to PAGaff cell -10\n",
            "connecting PAG_aff_virt cell 0 to PAGaff cell -9\n",
            "connecting PAG_aff_virt cell 0 to PAGaff cell -8\n",
            "connecting PAG_aff_virt cell 0 to PAGaff cell -7\n",
            "connecting PAG_aff_virt cell 0 to PAGaff cell -6\n",
            "connecting PAG_aff_virt cell 0 to PAGaff cell -5\n",
            "connecting PAG_aff_virt cell 0 to PAGaff cell -4\n",
            "connecting PAG_aff_virt cell 0 to PAGaff cell -3\n",
            "connecting PAG_aff_virt cell 0 to PAGaff cell -2\n",
            "connecting PAG_aff_virt cell 0 to PAGaff cell -1\n",
            "connecting PAG_aff_virt cell 1 to PAGaff cell -10\n",
            "connecting PAG_aff_virt cell 1 to PAGaff cell -9\n",
            "connecting PAG_aff_virt cell 1 to PAGaff cell -8\n",
            "connecting PAG_aff_virt cell 1 to PAGaff cell -7\n",
            "connecting PAG_aff_virt cell 1 to PAGaff cell -6\n",
            "connecting PAG_aff_virt cell 1 to PAGaff cell -5\n",
            "connecting PAG_aff_virt cell 1 to PAGaff cell -4\n",
            "connecting PAG_aff_virt cell 1 to PAGaff cell -3\n",
            "connecting PAG_aff_virt cell 1 to PAGaff cell -2\n",
            "connecting PAG_aff_virt cell 1 to PAGaff cell -1\n",
            "connecting PAG_aff_virt cell 2 to PAGaff cell -10\n",
            "connecting PAG_aff_virt cell 2 to PAGaff cell -9\n",
            "connecting PAG_aff_virt cell 2 to PAGaff cell -8\n",
            "connecting PAG_aff_virt cell 2 to PAGaff cell -7\n",
            "connecting PAG_aff_virt cell 2 to PAGaff cell -6\n",
            "connecting PAG_aff_virt cell 2 to PAGaff cell -5\n",
            "connecting PAG_aff_virt cell 2 to PAGaff cell -4\n",
            "connecting PAG_aff_virt cell 2 to PAGaff cell -3\n",
            "connecting PAG_aff_virt cell 2 to PAGaff cell -2\n",
            "connecting PAG_aff_virt cell 2 to PAGaff cell -1\n",
            "connecting PAG_aff_virt cell 3 to PAGaff cell -10\n",
            "connecting PAG_aff_virt cell 3 to PAGaff cell -9\n",
            "connecting PAG_aff_virt cell 3 to PAGaff cell -8\n",
            "connecting PAG_aff_virt cell 3 to PAGaff cell -7\n",
            "connecting PAG_aff_virt cell 3 to PAGaff cell -6\n",
            "connecting PAG_aff_virt cell 3 to PAGaff cell -5\n",
            "connecting PAG_aff_virt cell 3 to PAGaff cell -4\n",
            "connecting PAG_aff_virt cell 3 to PAGaff cell -3\n",
            "connecting PAG_aff_virt cell 3 to PAGaff cell -2\n",
            "connecting PAG_aff_virt cell 3 to PAGaff cell -1\n",
            "connecting PAG_aff_virt cell 4 to PAGaff cell -10\n",
            "connecting PAG_aff_virt cell 4 to PAGaff cell -9\n",
            "connecting PAG_aff_virt cell 4 to PAGaff cell -8\n",
            "connecting PAG_aff_virt cell 4 to PAGaff cell -7\n",
            "connecting PAG_aff_virt cell 4 to PAGaff cell -6\n",
            "connecting PAG_aff_virt cell 4 to PAGaff cell -5\n",
            "connecting PAG_aff_virt cell 4 to PAGaff cell -4\n",
            "connecting PAG_aff_virt cell 4 to PAGaff cell -3\n",
            "connecting PAG_aff_virt cell 4 to PAGaff cell -2\n",
            "connecting PAG_aff_virt cell 4 to PAGaff cell -1\n",
            "connecting PAG_aff_virt cell 5 to PAGaff cell -10\n",
            "connecting PAG_aff_virt cell 5 to PAGaff cell -9\n",
            "connecting PAG_aff_virt cell 5 to PAGaff cell -8\n",
            "connecting PAG_aff_virt cell 5 to PAGaff cell -7\n",
            "connecting PAG_aff_virt cell 5 to PAGaff cell -6\n",
            "connecting PAG_aff_virt cell 5 to PAGaff cell -5\n",
            "connecting PAG_aff_virt cell 5 to PAGaff cell -4\n",
            "connecting PAG_aff_virt cell 5 to PAGaff cell -3\n",
            "connecting PAG_aff_virt cell 5 to PAGaff cell -2\n",
            "connecting PAG_aff_virt cell 5 to PAGaff cell -1\n",
            "connecting PAG_aff_virt cell 6 to PAGaff cell -10\n",
            "connecting PAG_aff_virt cell 6 to PAGaff cell -9\n",
            "connecting PAG_aff_virt cell 6 to PAGaff cell -8\n",
            "connecting PAG_aff_virt cell 6 to PAGaff cell -7\n",
            "connecting PAG_aff_virt cell 6 to PAGaff cell -6\n",
            "connecting PAG_aff_virt cell 6 to PAGaff cell -5\n",
            "connecting PAG_aff_virt cell 6 to PAGaff cell -4\n",
            "connecting PAG_aff_virt cell 6 to PAGaff cell -3\n",
            "connecting PAG_aff_virt cell 6 to PAGaff cell -2\n",
            "connecting PAG_aff_virt cell 6 to PAGaff cell -1\n",
            "connecting PAG_aff_virt cell 7 to PAGaff cell -10\n",
            "connecting PAG_aff_virt cell 7 to PAGaff cell -9\n",
            "connecting PAG_aff_virt cell 7 to PAGaff cell -8\n",
            "connecting PAG_aff_virt cell 7 to PAGaff cell -7\n",
            "connecting PAG_aff_virt cell 7 to PAGaff cell -6\n",
            "connecting PAG_aff_virt cell 7 to PAGaff cell -5\n",
            "connecting PAG_aff_virt cell 7 to PAGaff cell -4\n",
            "connecting PAG_aff_virt cell 7 to PAGaff cell -3\n",
            "connecting PAG_aff_virt cell 7 to PAGaff cell -2\n",
            "connecting PAG_aff_virt cell 7 to PAGaff cell -1\n",
            "connecting PAG_aff_virt cell 8 to PAGaff cell -10\n",
            "connecting PAG_aff_virt cell 8 to PAGaff cell -9\n",
            "connecting PAG_aff_virt cell 8 to PAGaff cell -8\n",
            "connecting PAG_aff_virt cell 8 to PAGaff cell -7\n",
            "connecting PAG_aff_virt cell 8 to PAGaff cell -6\n",
            "connecting PAG_aff_virt cell 8 to PAGaff cell -5\n",
            "connecting PAG_aff_virt cell 8 to PAGaff cell -4\n",
            "connecting PAG_aff_virt cell 8 to PAGaff cell -3\n",
            "connecting PAG_aff_virt cell 8 to PAGaff cell -2\n",
            "connecting PAG_aff_virt cell 8 to PAGaff cell -1\n",
            "connecting PAG_aff_virt cell 9 to PAGaff cell -10\n",
            "connecting PAG_aff_virt cell 9 to PAGaff cell -9\n",
            "connecting PAG_aff_virt cell 9 to PAGaff cell -8\n",
            "connecting PAG_aff_virt cell 9 to PAGaff cell -7\n",
            "connecting PAG_aff_virt cell 9 to PAGaff cell -6\n",
            "connecting PAG_aff_virt cell 9 to PAGaff cell -5\n",
            "connecting PAG_aff_virt cell 9 to PAGaff cell -4\n",
            "connecting PAG_aff_virt cell 9 to PAGaff cell -3\n",
            "connecting PAG_aff_virt cell 9 to PAGaff cell -2\n",
            "connecting PAG_aff_virt cell 9 to PAGaff cell -1\n",
            "Done\n"
          ]
        }
      ]
    },
    {
      "cell_type": "code",
      "source": [
        "import os, sys, logging, faulthandler\n",
        "from bmtk.simulator import bionet\n",
        "from bmtk.simulator.bionet.default_setters.cell_models import loadHOC\n",
        "from bmtk.simulator.bionet.modules.sim_module import SimulatorMod\n",
        "from bmtk.utils.reports.spike_trains import SpikeTrains\n",
        "from bmtk.utils.reports.spike_trains import PoissonSpikeGenerator\n",
        "from bmtk.simulator.bionet.io_tools import io\n",
        "import numpy as np\n",
        "from neuron import h\n",
        "import pandas as pd\n",
        "# from bmtk.analyzer.cell_vars import plot_report\n",
        "from feedback_loop import FeedbackLoop\n",
        "from plotting import plot_figure, plotting_calculator\n",
        "# Import the synaptic depression/facilitation model\n",
        "import synapses\n",
        "\n",
        "import plot_results\n",
        "\n",
        "\n",
        "\"\"\"\n",
        "Basic Logging features, disable faulthandler if you don't want stacktraces printed\n",
        "logging determines the level and file to save logs to (might be worth moving location)\n",
        "\"\"\"\n",
        "faulthandler.enable()\n",
        "logging.basicConfig(filename='error_logs/debug_run.log', level=logging.DEBUG)\n",
        "\n",
        "synapses.load()\n",
        "logging.info('Synapses Loaded')\n",
        "\n",
        "press_thres = 17 # cm H20 #40\n",
        "                 # Lingala, et al. 2016\n",
        "change_thres = 10 # cm H20 #10\n",
        "                 # Need biological value for this\n",
        "\n",
        "bionet.pyfunction_cache.add_cell_model(loadHOC, directive='hoc', model_type='biophysical')\n",
        "logging.info('Cell model added')\n",
        "\n",
        "def run(config_file):\n",
        "\n",
        "    conf = bionet.Config.from_json(config_file, validate=True)\n",
        "    conf.build_env()\n",
        "\n",
        "    fbmod = FeedbackLoop()\n",
        "\n",
        "    graph = bionet.BioNetwork.from_config(conf)\n",
        "    sim = bionet.BioSimulator.from_config(conf, network=graph)\n",
        "    sim.add_mod(fbmod)  # Attach the above module to the simulator.\n",
        "    sim.run()\n",
        "\n",
        "    #fbmod.save_aff(conf.output_dir)\n",
        "    plot_results.run(sim=sim,conf=conf)\n",
        "\n",
        "# if __name__ == '__main__':\n",
        "#     if __file__ != sys.argv[-1]:\n",
        "#         run(sys.argv[-1])\n",
        "#     else:\n",
        "#         run('config.json')\n",
        "\n",
        "run(config_file='jsons/simulation_config.json')"
      ],
      "metadata": {
        "colab": {
          "base_uri": "https://localhost:8080/",
          "height": 1000
        },
        "id": "e_3NrK_WWFRx",
        "outputId": "3064d336-a3fb-4d81-abe4-0a5ab8be7fc5"
      },
      "execution_count": 5,
      "outputs": [
        {
          "output_type": "stream",
          "name": "stdout",
          "text": [
            "2024-03-23 00:21:00,956 [INFO] Created log file\n"
          ]
        },
        {
          "output_type": "stream",
          "name": "stderr",
          "text": [
            "INFO:NEURONIOUtils:Created log file\n"
          ]
        },
        {
          "output_type": "stream",
          "name": "stdout",
          "text": [
            "2024-03-23 00:21:01,103 [INFO] Building cells.\n"
          ]
        },
        {
          "output_type": "stream",
          "name": "stderr",
          "text": [
            "INFO:NEURONIOUtils:Building cells.\n"
          ]
        },
        {
          "output_type": "stream",
          "name": "stdout",
          "text": [
            "2024-03-23 00:21:01,190 [INFO] Building recurrent connections\n"
          ]
        },
        {
          "output_type": "stream",
          "name": "stderr",
          "text": [
            "INFO:NEURONIOUtils:Building recurrent connections\n"
          ]
        },
        {
          "output_type": "stream",
          "name": "stdout",
          "text": [
            "2024-03-23 00:21:01,414 [INFO] Building virtual cell stimulations for Blad_spikes\n"
          ]
        },
        {
          "output_type": "stream",
          "name": "stderr",
          "text": [
            "INFO:NEURONIOUtils:Building virtual cell stimulations for Blad_spikes\n"
          ]
        },
        {
          "output_type": "stream",
          "name": "stdout",
          "text": [
            "2024-03-23 00:21:01,459 [INFO] Building virtual cell stimulations for EUS_spikes\n"
          ]
        },
        {
          "output_type": "stream",
          "name": "stderr",
          "text": [
            "INFO:NEURONIOUtils:Building virtual cell stimulations for EUS_spikes\n"
          ]
        },
        {
          "output_type": "stream",
          "name": "stdout",
          "text": [
            "2024-03-23 00:21:01,518 [INFO] Building virtual cell stimulations for PAG_spikes\n"
          ]
        },
        {
          "output_type": "stream",
          "name": "stderr",
          "text": [
            "INFO:NEURONIOUtils:Building virtual cell stimulations for PAG_spikes\n"
          ]
        },
        {
          "output_type": "stream",
          "name": "stdout",
          "text": [
            "2024-03-23 00:21:01,624 [INFO] Running simulation for 60500.000 ms with the time step 0.200 ms\n"
          ]
        },
        {
          "output_type": "stream",
          "name": "stderr",
          "text": [
            "INFO:NEURONIOUtils:Running simulation for 60500.000 ms with the time step 0.200 ms\n"
          ]
        },
        {
          "output_type": "stream",
          "name": "stdout",
          "text": [
            "2024-03-23 00:21:01,637 [INFO] Starting timestep: 0 at t_sim: 0.000 ms\n"
          ]
        },
        {
          "output_type": "stream",
          "name": "stderr",
          "text": [
            "INFO:NEURONIOUtils:Starting timestep: 0 at t_sim: 0.000 ms\n"
          ]
        },
        {
          "output_type": "stream",
          "name": "stdout",
          "text": [
            "2024-03-23 00:21:01,654 [INFO] Block save every 5000 steps\n"
          ]
        },
        {
          "output_type": "stream",
          "name": "stderr",
          "text": [
            "INFO:NEURONIOUtils:Block save every 5000 steps\n"
          ]
        },
        {
          "output_type": "stream",
          "name": "stdout",
          "text": [
            "2024-03-23 00:21:05,118 [INFO]     step:5000 t_sim:1000.00 ms\n"
          ]
        },
        {
          "output_type": "stream",
          "name": "stderr",
          "text": [
            "INFO:NEURONIOUtils:    step:5000 t_sim:1000.00 ms\n"
          ]
        },
        {
          "output_type": "stream",
          "name": "stdout",
          "text": [
            "2024-03-23 00:21:05,131 [INFO] Timestep 0.0 to 1000.0 ms\n"
          ]
        },
        {
          "output_type": "stream",
          "name": "stderr",
          "text": [
            "INFO:NEURONIOUtils:Timestep 0.0 to 1000.0 ms\n"
          ]
        },
        {
          "output_type": "stream",
          "name": "stdout",
          "text": [
            "2024-03-23 00:21:05,137 [INFO] PGN node_id\t  Hz\n"
          ]
        },
        {
          "output_type": "stream",
          "name": "stderr",
          "text": [
            "INFO:NEURONIOUtils:PGN node_id\t  Hz\n"
          ]
        },
        {
          "output_type": "stream",
          "name": "stdout",
          "text": [
            "2024-03-23 00:21:05,143 [INFO] 70\t\t3.0\n"
          ]
        },
        {
          "output_type": "stream",
          "name": "stderr",
          "text": [
            "INFO:NEURONIOUtils:70\t\t3.0\n"
          ]
        },
        {
          "output_type": "stream",
          "name": "stdout",
          "text": [
            "2024-03-23 00:21:05,146 [INFO] 71\t\t3.0\n"
          ]
        },
        {
          "output_type": "stream",
          "name": "stderr",
          "text": [
            "INFO:NEURONIOUtils:71\t\t3.0\n"
          ]
        },
        {
          "output_type": "stream",
          "name": "stdout",
          "text": [
            "2024-03-23 00:21:05,148 [INFO] 72\t\t3.0\n"
          ]
        },
        {
          "output_type": "stream",
          "name": "stderr",
          "text": [
            "INFO:NEURONIOUtils:72\t\t3.0\n"
          ]
        },
        {
          "output_type": "stream",
          "name": "stdout",
          "text": [
            "2024-03-23 00:21:05,151 [INFO] 73\t\t3.0\n"
          ]
        },
        {
          "output_type": "stream",
          "name": "stderr",
          "text": [
            "INFO:NEURONIOUtils:73\t\t3.0\n"
          ]
        },
        {
          "output_type": "stream",
          "name": "stdout",
          "text": [
            "2024-03-23 00:21:05,154 [INFO] 74\t\t3.0\n"
          ]
        },
        {
          "output_type": "stream",
          "name": "stderr",
          "text": [
            "INFO:NEURONIOUtils:74\t\t3.0\n"
          ]
        },
        {
          "output_type": "stream",
          "name": "stdout",
          "text": [
            "2024-03-23 00:21:05,157 [INFO] 75\t\t3.0\n"
          ]
        },
        {
          "output_type": "stream",
          "name": "stderr",
          "text": [
            "INFO:NEURONIOUtils:75\t\t3.0\n"
          ]
        },
        {
          "output_type": "stream",
          "name": "stdout",
          "text": [
            "2024-03-23 00:21:05,159 [INFO] 76\t\t3.0\n"
          ]
        },
        {
          "output_type": "stream",
          "name": "stderr",
          "text": [
            "INFO:NEURONIOUtils:76\t\t3.0\n"
          ]
        },
        {
          "output_type": "stream",
          "name": "stdout",
          "text": [
            "2024-03-23 00:21:05,161 [INFO] 77\t\t3.0\n"
          ]
        },
        {
          "output_type": "stream",
          "name": "stderr",
          "text": [
            "INFO:NEURONIOUtils:77\t\t3.0\n"
          ]
        },
        {
          "output_type": "stream",
          "name": "stdout",
          "text": [
            "2024-03-23 00:21:05,164 [INFO] 78\t\t3.0\n"
          ]
        },
        {
          "output_type": "stream",
          "name": "stderr",
          "text": [
            "INFO:NEURONIOUtils:78\t\t3.0\n"
          ]
        },
        {
          "output_type": "stream",
          "name": "stdout",
          "text": [
            "2024-03-23 00:21:05,166 [INFO] 79\t\t3.0\n"
          ]
        },
        {
          "output_type": "stream",
          "name": "stderr",
          "text": [
            "INFO:NEURONIOUtils:79\t\t3.0\n"
          ]
        },
        {
          "output_type": "stream",
          "name": "stdout",
          "text": [
            "2024-03-23 00:21:05,168 [INFO] PGN firing rate avg: 3.0 Hz\n"
          ]
        },
        {
          "output_type": "stream",
          "name": "stderr",
          "text": [
            "INFO:NEURONIOUtils:PGN firing rate avg: 3.0 Hz\n"
          ]
        },
        {
          "output_type": "stream",
          "name": "stdout",
          "text": [
            "2024-03-23 00:21:05,171 [INFO] Grill PGN fr = 4.657 Hz\n"
          ]
        },
        {
          "output_type": "stream",
          "name": "stderr",
          "text": [
            "INFO:NEURONIOUtils:Grill PGN fr = 4.657 Hz\n"
          ]
        },
        {
          "output_type": "stream",
          "name": "stdout",
          "text": [
            "2024-03-23 00:21:05,174 [INFO] IMG node_gid\t  Hz\n"
          ]
        },
        {
          "output_type": "stream",
          "name": "stderr",
          "text": [
            "INFO:NEURONIOUtils:IMG node_gid\t  Hz\n"
          ]
        },
        {
          "output_type": "stream",
          "name": "stdout",
          "text": [
            "2024-03-23 00:21:05,176 [INFO] 90\t\t0.0\n"
          ]
        },
        {
          "output_type": "stream",
          "name": "stderr",
          "text": [
            "INFO:NEURONIOUtils:90\t\t0.0\n"
          ]
        },
        {
          "output_type": "stream",
          "name": "stdout",
          "text": [
            "2024-03-23 00:21:05,178 [INFO] 91\t\t0.0\n"
          ]
        },
        {
          "output_type": "stream",
          "name": "stderr",
          "text": [
            "INFO:NEURONIOUtils:91\t\t0.0\n"
          ]
        },
        {
          "output_type": "stream",
          "name": "stdout",
          "text": [
            "2024-03-23 00:21:05,181 [INFO] 92\t\t0.0\n"
          ]
        },
        {
          "output_type": "stream",
          "name": "stderr",
          "text": [
            "INFO:NEURONIOUtils:92\t\t0.0\n"
          ]
        },
        {
          "output_type": "stream",
          "name": "stdout",
          "text": [
            "2024-03-23 00:21:05,183 [INFO] 93\t\t0.0\n"
          ]
        },
        {
          "output_type": "stream",
          "name": "stderr",
          "text": [
            "INFO:NEURONIOUtils:93\t\t0.0\n"
          ]
        },
        {
          "output_type": "stream",
          "name": "stdout",
          "text": [
            "2024-03-23 00:21:05,185 [INFO] 94\t\t0.0\n"
          ]
        },
        {
          "output_type": "stream",
          "name": "stderr",
          "text": [
            "INFO:NEURONIOUtils:94\t\t0.0\n"
          ]
        },
        {
          "output_type": "stream",
          "name": "stdout",
          "text": [
            "2024-03-23 00:21:05,187 [INFO] 95\t\t0.0\n"
          ]
        },
        {
          "output_type": "stream",
          "name": "stderr",
          "text": [
            "INFO:NEURONIOUtils:95\t\t0.0\n"
          ]
        },
        {
          "output_type": "stream",
          "name": "stdout",
          "text": [
            "2024-03-23 00:21:05,189 [INFO] 96\t\t0.0\n"
          ]
        },
        {
          "output_type": "stream",
          "name": "stderr",
          "text": [
            "INFO:NEURONIOUtils:96\t\t0.0\n"
          ]
        },
        {
          "output_type": "stream",
          "name": "stdout",
          "text": [
            "2024-03-23 00:21:05,191 [INFO] 97\t\t0.0\n"
          ]
        },
        {
          "output_type": "stream",
          "name": "stderr",
          "text": [
            "INFO:NEURONIOUtils:97\t\t0.0\n"
          ]
        },
        {
          "output_type": "stream",
          "name": "stdout",
          "text": [
            "2024-03-23 00:21:05,193 [INFO] 98\t\t0.0\n"
          ]
        },
        {
          "output_type": "stream",
          "name": "stderr",
          "text": [
            "INFO:NEURONIOUtils:98\t\t0.0\n"
          ]
        },
        {
          "output_type": "stream",
          "name": "stdout",
          "text": [
            "2024-03-23 00:21:05,195 [INFO] 99\t\t0.0\n"
          ]
        },
        {
          "output_type": "stream",
          "name": "stderr",
          "text": [
            "INFO:NEURONIOUtils:99\t\t0.0\n"
          ]
        },
        {
          "output_type": "stream",
          "name": "stdout",
          "text": [
            "2024-03-23 00:21:05,198 [INFO] IMG firing rate avg: 3.0 Hz\n"
          ]
        },
        {
          "output_type": "stream",
          "name": "stderr",
          "text": [
            "INFO:NEURONIOUtils:IMG firing rate avg: 3.0 Hz\n"
          ]
        },
        {
          "output_type": "stream",
          "name": "stdout",
          "text": [
            "2024-03-23 00:21:05,209 [INFO] Volume = 0.0000 ml\n"
          ]
        },
        {
          "output_type": "stream",
          "name": "stderr",
          "text": [
            "/usr/local/lib/python3.10/dist-packages/bmtk/utils/reports/spike_trains/spike_trains.py:183: RuntimeWarning: divide by zero encountered in scalar divide\n",
            "  interval = -np.log(1.0 - np.random.uniform()) / fr\n",
            "INFO:NEURONIOUtils:Volume = 0.0000 ml\n"
          ]
        },
        {
          "output_type": "stream",
          "name": "stdout",
          "text": [
            "2024-03-23 00:21:05,217 [INFO] Pressure = 0.00 mmHg\n"
          ]
        },
        {
          "output_type": "stream",
          "name": "stderr",
          "text": [
            "INFO:NEURONIOUtils:Pressure = 0.00 mmHg\n"
          ]
        },
        {
          "output_type": "stream",
          "name": "stdout",
          "text": [
            "2024-03-23 00:21:05,222 [INFO] Calculated bladder afferent firing rate for the next time step = 0.00 Hz \n",
            " \n",
            "\n"
          ]
        },
        {
          "output_type": "stream",
          "name": "stderr",
          "text": [
            "INFO:NEURONIOUtils:Calculated bladder afferent firing rate for the next time step = 0.00 Hz \n",
            " \n",
            "\n"
          ]
        },
        {
          "output_type": "stream",
          "name": "stdout",
          "text": [
            "2024-03-23 00:21:10,602 [INFO]     step:10000 t_sim:2000.00 ms\n"
          ]
        },
        {
          "output_type": "stream",
          "name": "stderr",
          "text": [
            "INFO:NEURONIOUtils:    step:10000 t_sim:2000.00 ms\n"
          ]
        },
        {
          "output_type": "stream",
          "name": "stdout",
          "text": [
            "2024-03-23 00:21:10,625 [INFO] Timestep 1000.0 to 2000.0 ms\n"
          ]
        },
        {
          "output_type": "stream",
          "name": "stderr",
          "text": [
            "INFO:NEURONIOUtils:Timestep 1000.0 to 2000.0 ms\n"
          ]
        },
        {
          "output_type": "stream",
          "name": "stdout",
          "text": [
            "2024-03-23 00:21:10,630 [INFO] PGN node_id\t  Hz\n"
          ]
        },
        {
          "output_type": "stream",
          "name": "stderr",
          "text": [
            "INFO:NEURONIOUtils:PGN node_id\t  Hz\n"
          ]
        },
        {
          "output_type": "stream",
          "name": "stdout",
          "text": [
            "2024-03-23 00:21:10,637 [INFO] 70\t\t2.0\n"
          ]
        },
        {
          "output_type": "stream",
          "name": "stderr",
          "text": [
            "INFO:NEURONIOUtils:70\t\t2.0\n"
          ]
        },
        {
          "output_type": "stream",
          "name": "stdout",
          "text": [
            "2024-03-23 00:21:10,640 [INFO] 71\t\t2.0\n"
          ]
        },
        {
          "output_type": "stream",
          "name": "stderr",
          "text": [
            "INFO:NEURONIOUtils:71\t\t2.0\n"
          ]
        },
        {
          "output_type": "stream",
          "name": "stdout",
          "text": [
            "2024-03-23 00:21:10,645 [INFO] 72\t\t2.0\n"
          ]
        },
        {
          "output_type": "stream",
          "name": "stderr",
          "text": [
            "INFO:NEURONIOUtils:72\t\t2.0\n"
          ]
        },
        {
          "output_type": "stream",
          "name": "stdout",
          "text": [
            "2024-03-23 00:21:10,649 [INFO] 73\t\t2.0\n"
          ]
        },
        {
          "output_type": "stream",
          "name": "stderr",
          "text": [
            "INFO:NEURONIOUtils:73\t\t2.0\n"
          ]
        },
        {
          "output_type": "stream",
          "name": "stdout",
          "text": [
            "2024-03-23 00:21:10,656 [INFO] 74\t\t2.0\n"
          ]
        },
        {
          "output_type": "stream",
          "name": "stderr",
          "text": [
            "INFO:NEURONIOUtils:74\t\t2.0\n"
          ]
        },
        {
          "output_type": "stream",
          "name": "stdout",
          "text": [
            "2024-03-23 00:21:10,659 [INFO] 75\t\t2.0\n"
          ]
        },
        {
          "output_type": "stream",
          "name": "stderr",
          "text": [
            "INFO:NEURONIOUtils:75\t\t2.0\n"
          ]
        },
        {
          "output_type": "stream",
          "name": "stdout",
          "text": [
            "2024-03-23 00:21:10,664 [INFO] 76\t\t2.0\n"
          ]
        },
        {
          "output_type": "stream",
          "name": "stderr",
          "text": [
            "INFO:NEURONIOUtils:76\t\t2.0\n"
          ]
        },
        {
          "output_type": "stream",
          "name": "stdout",
          "text": [
            "2024-03-23 00:21:10,680 [INFO] 77\t\t2.0\n"
          ]
        },
        {
          "output_type": "stream",
          "name": "stderr",
          "text": [
            "INFO:NEURONIOUtils:77\t\t2.0\n"
          ]
        },
        {
          "output_type": "stream",
          "name": "stdout",
          "text": [
            "2024-03-23 00:21:10,688 [INFO] 78\t\t2.0\n"
          ]
        },
        {
          "output_type": "stream",
          "name": "stderr",
          "text": [
            "INFO:NEURONIOUtils:78\t\t2.0\n"
          ]
        },
        {
          "output_type": "stream",
          "name": "stdout",
          "text": [
            "2024-03-23 00:21:10,698 [INFO] 79\t\t2.0\n"
          ]
        },
        {
          "output_type": "stream",
          "name": "stderr",
          "text": [
            "INFO:NEURONIOUtils:79\t\t2.0\n"
          ]
        },
        {
          "output_type": "stream",
          "name": "stdout",
          "text": [
            "2024-03-23 00:21:10,706 [INFO] PGN firing rate avg: 2.0 Hz\n"
          ]
        },
        {
          "output_type": "stream",
          "name": "stderr",
          "text": [
            "INFO:NEURONIOUtils:PGN firing rate avg: 2.0 Hz\n"
          ]
        },
        {
          "output_type": "stream",
          "name": "stdout",
          "text": [
            "2024-03-23 00:21:10,720 [INFO] Grill PGN fr = 2.984 Hz\n"
          ]
        },
        {
          "output_type": "stream",
          "name": "stderr",
          "text": [
            "INFO:NEURONIOUtils:Grill PGN fr = 2.984 Hz\n"
          ]
        },
        {
          "output_type": "stream",
          "name": "stdout",
          "text": [
            "2024-03-23 00:21:10,728 [INFO] IMG node_gid\t  Hz\n"
          ]
        },
        {
          "output_type": "stream",
          "name": "stderr",
          "text": [
            "INFO:NEURONIOUtils:IMG node_gid\t  Hz\n"
          ]
        },
        {
          "output_type": "stream",
          "name": "stdout",
          "text": [
            "2024-03-23 00:21:10,739 [INFO] 90\t\t0.0\n"
          ]
        },
        {
          "output_type": "stream",
          "name": "stderr",
          "text": [
            "INFO:NEURONIOUtils:90\t\t0.0\n"
          ]
        },
        {
          "output_type": "stream",
          "name": "stdout",
          "text": [
            "2024-03-23 00:21:10,748 [INFO] 91\t\t1.0\n"
          ]
        },
        {
          "output_type": "stream",
          "name": "stderr",
          "text": [
            "INFO:NEURONIOUtils:91\t\t1.0\n"
          ]
        },
        {
          "output_type": "stream",
          "name": "stdout",
          "text": [
            "2024-03-23 00:21:10,757 [INFO] 92\t\t0.0\n"
          ]
        },
        {
          "output_type": "stream",
          "name": "stderr",
          "text": [
            "INFO:NEURONIOUtils:92\t\t0.0\n"
          ]
        },
        {
          "output_type": "stream",
          "name": "stdout",
          "text": [
            "2024-03-23 00:21:10,762 [INFO] 93\t\t1.0\n"
          ]
        },
        {
          "output_type": "stream",
          "name": "stderr",
          "text": [
            "INFO:NEURONIOUtils:93\t\t1.0\n"
          ]
        },
        {
          "output_type": "stream",
          "name": "stdout",
          "text": [
            "2024-03-23 00:21:10,768 [INFO] 94\t\t1.0\n"
          ]
        },
        {
          "output_type": "stream",
          "name": "stderr",
          "text": [
            "INFO:NEURONIOUtils:94\t\t1.0\n"
          ]
        },
        {
          "output_type": "stream",
          "name": "stdout",
          "text": [
            "2024-03-23 00:21:10,773 [INFO] 95\t\t0.0\n"
          ]
        },
        {
          "output_type": "stream",
          "name": "stderr",
          "text": [
            "INFO:NEURONIOUtils:95\t\t0.0\n"
          ]
        },
        {
          "output_type": "stream",
          "name": "stdout",
          "text": [
            "2024-03-23 00:21:10,786 [INFO] 96\t\t0.0\n"
          ]
        },
        {
          "output_type": "stream",
          "name": "stderr",
          "text": [
            "INFO:NEURONIOUtils:96\t\t0.0\n"
          ]
        },
        {
          "output_type": "stream",
          "name": "stdout",
          "text": [
            "2024-03-23 00:21:10,795 [INFO] 97\t\t1.0\n"
          ]
        },
        {
          "output_type": "stream",
          "name": "stderr",
          "text": [
            "INFO:NEURONIOUtils:97\t\t1.0\n"
          ]
        },
        {
          "output_type": "stream",
          "name": "stdout",
          "text": [
            "2024-03-23 00:21:10,802 [INFO] 98\t\t1.0\n"
          ]
        },
        {
          "output_type": "stream",
          "name": "stderr",
          "text": [
            "INFO:NEURONIOUtils:98\t\t1.0\n"
          ]
        },
        {
          "output_type": "stream",
          "name": "stdout",
          "text": [
            "2024-03-23 00:21:10,813 [INFO] 99\t\t1.0\n"
          ]
        },
        {
          "output_type": "stream",
          "name": "stderr",
          "text": [
            "INFO:NEURONIOUtils:99\t\t1.0\n"
          ]
        },
        {
          "output_type": "stream",
          "name": "stdout",
          "text": [
            "2024-03-23 00:21:10,842 [INFO] IMG firing rate avg: 2.0 Hz\n"
          ]
        },
        {
          "output_type": "stream",
          "name": "stderr",
          "text": [
            "INFO:NEURONIOUtils:IMG firing rate avg: 2.0 Hz\n"
          ]
        },
        {
          "output_type": "stream",
          "name": "stdout",
          "text": [
            "2024-03-23 00:21:10,864 [INFO] Volume = 0.0292 ml\n"
          ]
        },
        {
          "output_type": "stream",
          "name": "stderr",
          "text": [
            "/usr/local/lib/python3.10/dist-packages/bmtk/utils/reports/spike_trains/spike_trains.py:183: RuntimeWarning: divide by zero encountered in scalar divide\n",
            "  interval = -np.log(1.0 - np.random.uniform()) / fr\n",
            "INFO:NEURONIOUtils:Volume = 0.0292 ml\n"
          ]
        },
        {
          "output_type": "stream",
          "name": "stdout",
          "text": [
            "2024-03-23 00:21:10,891 [INFO] Pressure = 0.00 mmHg\n"
          ]
        },
        {
          "output_type": "stream",
          "name": "stderr",
          "text": [
            "INFO:NEURONIOUtils:Pressure = 0.00 mmHg\n"
          ]
        },
        {
          "output_type": "stream",
          "name": "stdout",
          "text": [
            "2024-03-23 00:21:10,906 [INFO] Calculated bladder afferent firing rate for the next time step = 0.00 Hz \n",
            " \n",
            "\n"
          ]
        },
        {
          "output_type": "stream",
          "name": "stderr",
          "text": [
            "INFO:NEURONIOUtils:Calculated bladder afferent firing rate for the next time step = 0.00 Hz \n",
            " \n",
            "\n"
          ]
        },
        {
          "output_type": "stream",
          "name": "stdout",
          "text": [
            "2024-03-23 00:21:15,788 [INFO]     step:15000 t_sim:3000.00 ms\n"
          ]
        },
        {
          "output_type": "stream",
          "name": "stderr",
          "text": [
            "INFO:NEURONIOUtils:    step:15000 t_sim:3000.00 ms\n"
          ]
        },
        {
          "output_type": "stream",
          "name": "stdout",
          "text": [
            "2024-03-23 00:21:15,807 [INFO] Timestep 2000.0 to 3000.0 ms\n"
          ]
        },
        {
          "output_type": "stream",
          "name": "stderr",
          "text": [
            "INFO:NEURONIOUtils:Timestep 2000.0 to 3000.0 ms\n"
          ]
        },
        {
          "output_type": "stream",
          "name": "stdout",
          "text": [
            "2024-03-23 00:21:15,812 [INFO] PGN node_id\t  Hz\n"
          ]
        },
        {
          "output_type": "stream",
          "name": "stderr",
          "text": [
            "INFO:NEURONIOUtils:PGN node_id\t  Hz\n"
          ]
        },
        {
          "output_type": "stream",
          "name": "stdout",
          "text": [
            "2024-03-23 00:21:15,817 [INFO] 70\t\t3.0\n"
          ]
        },
        {
          "output_type": "stream",
          "name": "stderr",
          "text": [
            "INFO:NEURONIOUtils:70\t\t3.0\n"
          ]
        },
        {
          "output_type": "stream",
          "name": "stdout",
          "text": [
            "2024-03-23 00:21:15,819 [INFO] 71\t\t3.0\n"
          ]
        },
        {
          "output_type": "stream",
          "name": "stderr",
          "text": [
            "INFO:NEURONIOUtils:71\t\t3.0\n"
          ]
        },
        {
          "output_type": "stream",
          "name": "stdout",
          "text": [
            "2024-03-23 00:21:15,821 [INFO] 72\t\t3.0\n"
          ]
        },
        {
          "output_type": "stream",
          "name": "stderr",
          "text": [
            "INFO:NEURONIOUtils:72\t\t3.0\n"
          ]
        },
        {
          "output_type": "stream",
          "name": "stdout",
          "text": [
            "2024-03-23 00:21:15,824 [INFO] 73\t\t3.0\n"
          ]
        },
        {
          "output_type": "stream",
          "name": "stderr",
          "text": [
            "INFO:NEURONIOUtils:73\t\t3.0\n"
          ]
        },
        {
          "output_type": "stream",
          "name": "stdout",
          "text": [
            "2024-03-23 00:21:15,828 [INFO] 74\t\t3.0\n"
          ]
        },
        {
          "output_type": "stream",
          "name": "stderr",
          "text": [
            "INFO:NEURONIOUtils:74\t\t3.0\n"
          ]
        },
        {
          "output_type": "stream",
          "name": "stdout",
          "text": [
            "2024-03-23 00:21:15,830 [INFO] 75\t\t3.0\n"
          ]
        },
        {
          "output_type": "stream",
          "name": "stderr",
          "text": [
            "INFO:NEURONIOUtils:75\t\t3.0\n"
          ]
        },
        {
          "output_type": "stream",
          "name": "stdout",
          "text": [
            "2024-03-23 00:21:15,833 [INFO] 76\t\t3.0\n"
          ]
        },
        {
          "output_type": "stream",
          "name": "stderr",
          "text": [
            "INFO:NEURONIOUtils:76\t\t3.0\n"
          ]
        },
        {
          "output_type": "stream",
          "name": "stdout",
          "text": [
            "2024-03-23 00:21:15,835 [INFO] 77\t\t3.0\n"
          ]
        },
        {
          "output_type": "stream",
          "name": "stderr",
          "text": [
            "INFO:NEURONIOUtils:77\t\t3.0\n"
          ]
        },
        {
          "output_type": "stream",
          "name": "stdout",
          "text": [
            "2024-03-23 00:21:15,838 [INFO] 78\t\t3.0\n"
          ]
        },
        {
          "output_type": "stream",
          "name": "stderr",
          "text": [
            "INFO:NEURONIOUtils:78\t\t3.0\n"
          ]
        },
        {
          "output_type": "stream",
          "name": "stdout",
          "text": [
            "2024-03-23 00:21:15,840 [INFO] 79\t\t3.0\n"
          ]
        },
        {
          "output_type": "stream",
          "name": "stderr",
          "text": [
            "INFO:NEURONIOUtils:79\t\t3.0\n"
          ]
        },
        {
          "output_type": "stream",
          "name": "stdout",
          "text": [
            "2024-03-23 00:21:15,842 [INFO] PGN firing rate avg: 3.0 Hz\n"
          ]
        },
        {
          "output_type": "stream",
          "name": "stderr",
          "text": [
            "INFO:NEURONIOUtils:PGN firing rate avg: 3.0 Hz\n"
          ]
        },
        {
          "output_type": "stream",
          "name": "stdout",
          "text": [
            "2024-03-23 00:21:15,845 [INFO] Grill PGN fr = 4.657 Hz\n"
          ]
        },
        {
          "output_type": "stream",
          "name": "stderr",
          "text": [
            "INFO:NEURONIOUtils:Grill PGN fr = 4.657 Hz\n"
          ]
        },
        {
          "output_type": "stream",
          "name": "stdout",
          "text": [
            "2024-03-23 00:21:15,847 [INFO] IMG node_gid\t  Hz\n"
          ]
        },
        {
          "output_type": "stream",
          "name": "stderr",
          "text": [
            "INFO:NEURONIOUtils:IMG node_gid\t  Hz\n"
          ]
        },
        {
          "output_type": "stream",
          "name": "stdout",
          "text": [
            "2024-03-23 00:21:15,850 [INFO] 90\t\t0.0\n"
          ]
        },
        {
          "output_type": "stream",
          "name": "stderr",
          "text": [
            "INFO:NEURONIOUtils:90\t\t0.0\n"
          ]
        },
        {
          "output_type": "stream",
          "name": "stdout",
          "text": [
            "2024-03-23 00:21:15,852 [INFO] 91\t\t1.0\n"
          ]
        },
        {
          "output_type": "stream",
          "name": "stderr",
          "text": [
            "INFO:NEURONIOUtils:91\t\t1.0\n"
          ]
        },
        {
          "output_type": "stream",
          "name": "stdout",
          "text": [
            "2024-03-23 00:21:15,854 [INFO] 92\t\t0.0\n"
          ]
        },
        {
          "output_type": "stream",
          "name": "stderr",
          "text": [
            "INFO:NEURONIOUtils:92\t\t0.0\n"
          ]
        },
        {
          "output_type": "stream",
          "name": "stdout",
          "text": [
            "2024-03-23 00:21:15,857 [INFO] 93\t\t1.0\n"
          ]
        },
        {
          "output_type": "stream",
          "name": "stderr",
          "text": [
            "INFO:NEURONIOUtils:93\t\t1.0\n"
          ]
        },
        {
          "output_type": "stream",
          "name": "stdout",
          "text": [
            "2024-03-23 00:21:15,860 [INFO] 94\t\t1.0\n"
          ]
        },
        {
          "output_type": "stream",
          "name": "stderr",
          "text": [
            "INFO:NEURONIOUtils:94\t\t1.0\n"
          ]
        },
        {
          "output_type": "stream",
          "name": "stdout",
          "text": [
            "2024-03-23 00:21:15,862 [INFO] 95\t\t0.0\n"
          ]
        },
        {
          "output_type": "stream",
          "name": "stderr",
          "text": [
            "INFO:NEURONIOUtils:95\t\t0.0\n"
          ]
        },
        {
          "output_type": "stream",
          "name": "stdout",
          "text": [
            "2024-03-23 00:21:15,865 [INFO] 96\t\t0.0\n"
          ]
        },
        {
          "output_type": "stream",
          "name": "stderr",
          "text": [
            "INFO:NEURONIOUtils:96\t\t0.0\n"
          ]
        },
        {
          "output_type": "stream",
          "name": "stdout",
          "text": [
            "2024-03-23 00:21:15,867 [INFO] 97\t\t1.0\n"
          ]
        },
        {
          "output_type": "stream",
          "name": "stderr",
          "text": [
            "INFO:NEURONIOUtils:97\t\t1.0\n"
          ]
        },
        {
          "output_type": "stream",
          "name": "stdout",
          "text": [
            "2024-03-23 00:21:15,869 [INFO] 98\t\t1.0\n"
          ]
        },
        {
          "output_type": "stream",
          "name": "stderr",
          "text": [
            "INFO:NEURONIOUtils:98\t\t1.0\n"
          ]
        },
        {
          "output_type": "stream",
          "name": "stdout",
          "text": [
            "2024-03-23 00:21:15,872 [INFO] 99\t\t1.0\n"
          ]
        },
        {
          "output_type": "stream",
          "name": "stderr",
          "text": [
            "INFO:NEURONIOUtils:99\t\t1.0\n"
          ]
        },
        {
          "output_type": "stream",
          "name": "stdout",
          "text": [
            "2024-03-23 00:21:15,874 [INFO] IMG firing rate avg: 3.0 Hz\n"
          ]
        },
        {
          "output_type": "stream",
          "name": "stderr",
          "text": [
            "INFO:NEURONIOUtils:IMG firing rate avg: 3.0 Hz\n"
          ]
        },
        {
          "output_type": "stream",
          "name": "stdout",
          "text": [
            "2024-03-23 00:21:15,887 [INFO] Volume = 0.0583 ml\n"
          ]
        },
        {
          "output_type": "stream",
          "name": "stderr",
          "text": [
            "/usr/local/lib/python3.10/dist-packages/bmtk/utils/reports/spike_trains/spike_trains.py:183: RuntimeWarning: divide by zero encountered in scalar divide\n",
            "  interval = -np.log(1.0 - np.random.uniform()) / fr\n",
            "INFO:NEURONIOUtils:Volume = 0.0583 ml\n"
          ]
        },
        {
          "output_type": "stream",
          "name": "stdout",
          "text": [
            "2024-03-23 00:21:15,894 [INFO] Pressure = 0.00 mmHg\n"
          ]
        },
        {
          "output_type": "stream",
          "name": "stderr",
          "text": [
            "INFO:NEURONIOUtils:Pressure = 0.00 mmHg\n"
          ]
        },
        {
          "output_type": "stream",
          "name": "stdout",
          "text": [
            "2024-03-23 00:21:15,900 [INFO] Calculated bladder afferent firing rate for the next time step = 0.00 Hz \n",
            " \n",
            "\n"
          ]
        },
        {
          "output_type": "stream",
          "name": "stderr",
          "text": [
            "INFO:NEURONIOUtils:Calculated bladder afferent firing rate for the next time step = 0.00 Hz \n",
            " \n",
            "\n"
          ]
        },
        {
          "output_type": "stream",
          "name": "stdout",
          "text": [
            "2024-03-23 00:21:19,379 [INFO]     step:20000 t_sim:4000.00 ms\n"
          ]
        },
        {
          "output_type": "stream",
          "name": "stderr",
          "text": [
            "INFO:NEURONIOUtils:    step:20000 t_sim:4000.00 ms\n"
          ]
        },
        {
          "output_type": "stream",
          "name": "stdout",
          "text": [
            "2024-03-23 00:21:19,396 [INFO] Timestep 3000.0 to 4000.0 ms\n"
          ]
        },
        {
          "output_type": "stream",
          "name": "stderr",
          "text": [
            "INFO:NEURONIOUtils:Timestep 3000.0 to 4000.0 ms\n"
          ]
        },
        {
          "output_type": "stream",
          "name": "stdout",
          "text": [
            "2024-03-23 00:21:19,404 [INFO] PGN node_id\t  Hz\n"
          ]
        },
        {
          "output_type": "stream",
          "name": "stderr",
          "text": [
            "INFO:NEURONIOUtils:PGN node_id\t  Hz\n"
          ]
        },
        {
          "output_type": "stream",
          "name": "stdout",
          "text": [
            "2024-03-23 00:21:19,409 [INFO] 70\t\t4.0\n"
          ]
        },
        {
          "output_type": "stream",
          "name": "stderr",
          "text": [
            "INFO:NEURONIOUtils:70\t\t4.0\n"
          ]
        },
        {
          "output_type": "stream",
          "name": "stdout",
          "text": [
            "2024-03-23 00:21:19,414 [INFO] 71\t\t4.0\n"
          ]
        },
        {
          "output_type": "stream",
          "name": "stderr",
          "text": [
            "INFO:NEURONIOUtils:71\t\t4.0\n"
          ]
        },
        {
          "output_type": "stream",
          "name": "stdout",
          "text": [
            "2024-03-23 00:21:19,416 [INFO] 72\t\t4.0\n"
          ]
        },
        {
          "output_type": "stream",
          "name": "stderr",
          "text": [
            "INFO:NEURONIOUtils:72\t\t4.0\n"
          ]
        },
        {
          "output_type": "stream",
          "name": "stdout",
          "text": [
            "2024-03-23 00:21:19,420 [INFO] 73\t\t4.0\n"
          ]
        },
        {
          "output_type": "stream",
          "name": "stderr",
          "text": [
            "INFO:NEURONIOUtils:73\t\t4.0\n"
          ]
        },
        {
          "output_type": "stream",
          "name": "stdout",
          "text": [
            "2024-03-23 00:21:19,423 [INFO] 74\t\t4.0\n"
          ]
        },
        {
          "output_type": "stream",
          "name": "stderr",
          "text": [
            "INFO:NEURONIOUtils:74\t\t4.0\n"
          ]
        },
        {
          "output_type": "stream",
          "name": "stdout",
          "text": [
            "2024-03-23 00:21:19,428 [INFO] 75\t\t4.0\n"
          ]
        },
        {
          "output_type": "stream",
          "name": "stderr",
          "text": [
            "INFO:NEURONIOUtils:75\t\t4.0\n"
          ]
        },
        {
          "output_type": "stream",
          "name": "stdout",
          "text": [
            "2024-03-23 00:21:19,432 [INFO] 76\t\t4.0\n"
          ]
        },
        {
          "output_type": "stream",
          "name": "stderr",
          "text": [
            "INFO:NEURONIOUtils:76\t\t4.0\n"
          ]
        },
        {
          "output_type": "stream",
          "name": "stdout",
          "text": [
            "2024-03-23 00:21:19,435 [INFO] 77\t\t4.0\n"
          ]
        },
        {
          "output_type": "stream",
          "name": "stderr",
          "text": [
            "INFO:NEURONIOUtils:77\t\t4.0\n"
          ]
        },
        {
          "output_type": "stream",
          "name": "stdout",
          "text": [
            "2024-03-23 00:21:19,438 [INFO] 78\t\t4.0\n"
          ]
        },
        {
          "output_type": "stream",
          "name": "stderr",
          "text": [
            "INFO:NEURONIOUtils:78\t\t4.0\n"
          ]
        },
        {
          "output_type": "stream",
          "name": "stdout",
          "text": [
            "2024-03-23 00:21:19,443 [INFO] 79\t\t4.0\n"
          ]
        },
        {
          "output_type": "stream",
          "name": "stderr",
          "text": [
            "INFO:NEURONIOUtils:79\t\t4.0\n"
          ]
        },
        {
          "output_type": "stream",
          "name": "stdout",
          "text": [
            "2024-03-23 00:21:19,446 [INFO] PGN firing rate avg: 4.0 Hz\n"
          ]
        },
        {
          "output_type": "stream",
          "name": "stderr",
          "text": [
            "INFO:NEURONIOUtils:PGN firing rate avg: 4.0 Hz\n"
          ]
        },
        {
          "output_type": "stream",
          "name": "stdout",
          "text": [
            "2024-03-23 00:21:19,448 [INFO] Grill PGN fr = 6.3 Hz\n"
          ]
        },
        {
          "output_type": "stream",
          "name": "stderr",
          "text": [
            "INFO:NEURONIOUtils:Grill PGN fr = 6.3 Hz\n"
          ]
        },
        {
          "output_type": "stream",
          "name": "stdout",
          "text": [
            "2024-03-23 00:21:19,451 [INFO] IMG node_gid\t  Hz\n"
          ]
        },
        {
          "output_type": "stream",
          "name": "stderr",
          "text": [
            "INFO:NEURONIOUtils:IMG node_gid\t  Hz\n"
          ]
        },
        {
          "output_type": "stream",
          "name": "stdout",
          "text": [
            "2024-03-23 00:21:19,453 [INFO] 90\t\t0.0\n"
          ]
        },
        {
          "output_type": "stream",
          "name": "stderr",
          "text": [
            "INFO:NEURONIOUtils:90\t\t0.0\n"
          ]
        },
        {
          "output_type": "stream",
          "name": "stdout",
          "text": [
            "2024-03-23 00:21:19,455 [INFO] 91\t\t1.0\n"
          ]
        },
        {
          "output_type": "stream",
          "name": "stderr",
          "text": [
            "INFO:NEURONIOUtils:91\t\t1.0\n"
          ]
        },
        {
          "output_type": "stream",
          "name": "stdout",
          "text": [
            "2024-03-23 00:21:19,458 [INFO] 92\t\t0.0\n"
          ]
        },
        {
          "output_type": "stream",
          "name": "stderr",
          "text": [
            "INFO:NEURONIOUtils:92\t\t0.0\n"
          ]
        },
        {
          "output_type": "stream",
          "name": "stdout",
          "text": [
            "2024-03-23 00:21:19,460 [INFO] 93\t\t1.0\n"
          ]
        },
        {
          "output_type": "stream",
          "name": "stderr",
          "text": [
            "INFO:NEURONIOUtils:93\t\t1.0\n"
          ]
        },
        {
          "output_type": "stream",
          "name": "stdout",
          "text": [
            "2024-03-23 00:21:19,462 [INFO] 94\t\t1.0\n"
          ]
        },
        {
          "output_type": "stream",
          "name": "stderr",
          "text": [
            "INFO:NEURONIOUtils:94\t\t1.0\n"
          ]
        },
        {
          "output_type": "stream",
          "name": "stdout",
          "text": [
            "2024-03-23 00:21:19,464 [INFO] 95\t\t0.0\n"
          ]
        },
        {
          "output_type": "stream",
          "name": "stderr",
          "text": [
            "INFO:NEURONIOUtils:95\t\t0.0\n"
          ]
        },
        {
          "output_type": "stream",
          "name": "stdout",
          "text": [
            "2024-03-23 00:21:19,470 [INFO] 96\t\t0.0\n"
          ]
        },
        {
          "output_type": "stream",
          "name": "stderr",
          "text": [
            "INFO:NEURONIOUtils:96\t\t0.0\n"
          ]
        },
        {
          "output_type": "stream",
          "name": "stdout",
          "text": [
            "2024-03-23 00:21:19,472 [INFO] 97\t\t1.0\n"
          ]
        },
        {
          "output_type": "stream",
          "name": "stderr",
          "text": [
            "INFO:NEURONIOUtils:97\t\t1.0\n"
          ]
        },
        {
          "output_type": "stream",
          "name": "stdout",
          "text": [
            "2024-03-23 00:21:19,474 [INFO] 98\t\t1.0\n"
          ]
        },
        {
          "output_type": "stream",
          "name": "stderr",
          "text": [
            "INFO:NEURONIOUtils:98\t\t1.0\n"
          ]
        },
        {
          "output_type": "stream",
          "name": "stdout",
          "text": [
            "2024-03-23 00:21:19,475 [INFO] 99\t\t1.0\n"
          ]
        },
        {
          "output_type": "stream",
          "name": "stderr",
          "text": [
            "INFO:NEURONIOUtils:99\t\t1.0\n"
          ]
        },
        {
          "output_type": "stream",
          "name": "stdout",
          "text": [
            "2024-03-23 00:21:19,483 [INFO] IMG firing rate avg: 4.0 Hz\n"
          ]
        },
        {
          "output_type": "stream",
          "name": "stderr",
          "text": [
            "INFO:NEURONIOUtils:IMG firing rate avg: 4.0 Hz\n"
          ]
        },
        {
          "output_type": "stream",
          "name": "stdout",
          "text": [
            "2024-03-23 00:21:19,496 [INFO] Volume = 0.0875 ml\n"
          ]
        },
        {
          "output_type": "stream",
          "name": "stderr",
          "text": [
            "/usr/local/lib/python3.10/dist-packages/bmtk/utils/reports/spike_trains/spike_trains.py:183: RuntimeWarning: divide by zero encountered in scalar divide\n",
            "  interval = -np.log(1.0 - np.random.uniform()) / fr\n",
            "INFO:NEURONIOUtils:Volume = 0.0875 ml\n"
          ]
        },
        {
          "output_type": "stream",
          "name": "stdout",
          "text": [
            "2024-03-23 00:21:19,504 [INFO] Pressure = 0.00 mmHg\n"
          ]
        },
        {
          "output_type": "stream",
          "name": "stderr",
          "text": [
            "INFO:NEURONIOUtils:Pressure = 0.00 mmHg\n"
          ]
        },
        {
          "output_type": "stream",
          "name": "stdout",
          "text": [
            "2024-03-23 00:21:19,506 [INFO] Calculated bladder afferent firing rate for the next time step = 0.00 Hz \n",
            " \n",
            "\n"
          ]
        },
        {
          "output_type": "stream",
          "name": "stderr",
          "text": [
            "INFO:NEURONIOUtils:Calculated bladder afferent firing rate for the next time step = 0.00 Hz \n",
            " \n",
            "\n"
          ]
        },
        {
          "output_type": "stream",
          "name": "stdout",
          "text": [
            "2024-03-23 00:21:22,016 [INFO]     step:25000 t_sim:5000.00 ms\n"
          ]
        },
        {
          "output_type": "stream",
          "name": "stderr",
          "text": [
            "INFO:NEURONIOUtils:    step:25000 t_sim:5000.00 ms\n"
          ]
        },
        {
          "output_type": "stream",
          "name": "stdout",
          "text": [
            "2024-03-23 00:21:22,036 [INFO] Timestep 4000.0 to 5000.0 ms\n"
          ]
        },
        {
          "output_type": "stream",
          "name": "stderr",
          "text": [
            "INFO:NEURONIOUtils:Timestep 4000.0 to 5000.0 ms\n"
          ]
        },
        {
          "output_type": "stream",
          "name": "stdout",
          "text": [
            "2024-03-23 00:21:22,040 [INFO] PGN node_id\t  Hz\n"
          ]
        },
        {
          "output_type": "stream",
          "name": "stderr",
          "text": [
            "INFO:NEURONIOUtils:PGN node_id\t  Hz\n"
          ]
        },
        {
          "output_type": "stream",
          "name": "stdout",
          "text": [
            "2024-03-23 00:21:22,046 [INFO] 70\t\t4.0\n"
          ]
        },
        {
          "output_type": "stream",
          "name": "stderr",
          "text": [
            "INFO:NEURONIOUtils:70\t\t4.0\n"
          ]
        },
        {
          "output_type": "stream",
          "name": "stdout",
          "text": [
            "2024-03-23 00:21:22,049 [INFO] 71\t\t4.0\n"
          ]
        },
        {
          "output_type": "stream",
          "name": "stderr",
          "text": [
            "INFO:NEURONIOUtils:71\t\t4.0\n"
          ]
        },
        {
          "output_type": "stream",
          "name": "stdout",
          "text": [
            "2024-03-23 00:21:22,052 [INFO] 72\t\t4.0\n"
          ]
        },
        {
          "output_type": "stream",
          "name": "stderr",
          "text": [
            "INFO:NEURONIOUtils:72\t\t4.0\n"
          ]
        },
        {
          "output_type": "stream",
          "name": "stdout",
          "text": [
            "2024-03-23 00:21:22,054 [INFO] 73\t\t4.0\n"
          ]
        },
        {
          "output_type": "stream",
          "name": "stderr",
          "text": [
            "INFO:NEURONIOUtils:73\t\t4.0\n"
          ]
        },
        {
          "output_type": "stream",
          "name": "stdout",
          "text": [
            "2024-03-23 00:21:22,059 [INFO] 74\t\t4.0\n"
          ]
        },
        {
          "output_type": "stream",
          "name": "stderr",
          "text": [
            "INFO:NEURONIOUtils:74\t\t4.0\n"
          ]
        },
        {
          "output_type": "stream",
          "name": "stdout",
          "text": [
            "2024-03-23 00:21:22,062 [INFO] 75\t\t4.0\n"
          ]
        },
        {
          "output_type": "stream",
          "name": "stderr",
          "text": [
            "INFO:NEURONIOUtils:75\t\t4.0\n"
          ]
        },
        {
          "output_type": "stream",
          "name": "stdout",
          "text": [
            "2024-03-23 00:21:22,064 [INFO] 76\t\t4.0\n"
          ]
        },
        {
          "output_type": "stream",
          "name": "stderr",
          "text": [
            "INFO:NEURONIOUtils:76\t\t4.0\n"
          ]
        },
        {
          "output_type": "stream",
          "name": "stdout",
          "text": [
            "2024-03-23 00:21:22,067 [INFO] 77\t\t4.0\n"
          ]
        },
        {
          "output_type": "stream",
          "name": "stderr",
          "text": [
            "INFO:NEURONIOUtils:77\t\t4.0\n"
          ]
        },
        {
          "output_type": "stream",
          "name": "stdout",
          "text": [
            "2024-03-23 00:21:22,069 [INFO] 78\t\t4.0\n"
          ]
        },
        {
          "output_type": "stream",
          "name": "stderr",
          "text": [
            "INFO:NEURONIOUtils:78\t\t4.0\n"
          ]
        },
        {
          "output_type": "stream",
          "name": "stdout",
          "text": [
            "2024-03-23 00:21:22,071 [INFO] 79\t\t4.0\n"
          ]
        },
        {
          "output_type": "stream",
          "name": "stderr",
          "text": [
            "INFO:NEURONIOUtils:79\t\t4.0\n"
          ]
        },
        {
          "output_type": "stream",
          "name": "stdout",
          "text": [
            "2024-03-23 00:21:22,073 [INFO] PGN firing rate avg: 4.0 Hz\n"
          ]
        },
        {
          "output_type": "stream",
          "name": "stderr",
          "text": [
            "INFO:NEURONIOUtils:PGN firing rate avg: 4.0 Hz\n"
          ]
        },
        {
          "output_type": "stream",
          "name": "stdout",
          "text": [
            "2024-03-23 00:21:22,076 [INFO] Grill PGN fr = 6.3 Hz\n"
          ]
        },
        {
          "output_type": "stream",
          "name": "stderr",
          "text": [
            "INFO:NEURONIOUtils:Grill PGN fr = 6.3 Hz\n"
          ]
        },
        {
          "output_type": "stream",
          "name": "stdout",
          "text": [
            "2024-03-23 00:21:22,078 [INFO] IMG node_gid\t  Hz\n"
          ]
        },
        {
          "output_type": "stream",
          "name": "stderr",
          "text": [
            "INFO:NEURONIOUtils:IMG node_gid\t  Hz\n"
          ]
        },
        {
          "output_type": "stream",
          "name": "stdout",
          "text": [
            "2024-03-23 00:21:22,080 [INFO] 90\t\t0.0\n"
          ]
        },
        {
          "output_type": "stream",
          "name": "stderr",
          "text": [
            "INFO:NEURONIOUtils:90\t\t0.0\n"
          ]
        },
        {
          "output_type": "stream",
          "name": "stdout",
          "text": [
            "2024-03-23 00:21:22,083 [INFO] 91\t\t1.0\n"
          ]
        },
        {
          "output_type": "stream",
          "name": "stderr",
          "text": [
            "INFO:NEURONIOUtils:91\t\t1.0\n"
          ]
        },
        {
          "output_type": "stream",
          "name": "stdout",
          "text": [
            "2024-03-23 00:21:22,085 [INFO] 92\t\t0.0\n"
          ]
        },
        {
          "output_type": "stream",
          "name": "stderr",
          "text": [
            "INFO:NEURONIOUtils:92\t\t0.0\n"
          ]
        },
        {
          "output_type": "stream",
          "name": "stdout",
          "text": [
            "2024-03-23 00:21:22,087 [INFO] 93\t\t1.0\n"
          ]
        },
        {
          "output_type": "stream",
          "name": "stderr",
          "text": [
            "INFO:NEURONIOUtils:93\t\t1.0\n"
          ]
        },
        {
          "output_type": "stream",
          "name": "stdout",
          "text": [
            "2024-03-23 00:21:22,090 [INFO] 94\t\t1.0\n"
          ]
        },
        {
          "output_type": "stream",
          "name": "stderr",
          "text": [
            "INFO:NEURONIOUtils:94\t\t1.0\n"
          ]
        },
        {
          "output_type": "stream",
          "name": "stdout",
          "text": [
            "2024-03-23 00:21:22,092 [INFO] 95\t\t0.0\n"
          ]
        },
        {
          "output_type": "stream",
          "name": "stderr",
          "text": [
            "INFO:NEURONIOUtils:95\t\t0.0\n"
          ]
        },
        {
          "output_type": "stream",
          "name": "stdout",
          "text": [
            "2024-03-23 00:21:22,097 [INFO] 96\t\t0.0\n"
          ]
        },
        {
          "output_type": "stream",
          "name": "stderr",
          "text": [
            "INFO:NEURONIOUtils:96\t\t0.0\n"
          ]
        },
        {
          "output_type": "stream",
          "name": "stdout",
          "text": [
            "2024-03-23 00:21:22,099 [INFO] 97\t\t1.0\n"
          ]
        },
        {
          "output_type": "stream",
          "name": "stderr",
          "text": [
            "INFO:NEURONIOUtils:97\t\t1.0\n"
          ]
        },
        {
          "output_type": "stream",
          "name": "stdout",
          "text": [
            "2024-03-23 00:21:22,101 [INFO] 98\t\t1.0\n"
          ]
        },
        {
          "output_type": "stream",
          "name": "stderr",
          "text": [
            "INFO:NEURONIOUtils:98\t\t1.0\n"
          ]
        },
        {
          "output_type": "stream",
          "name": "stdout",
          "text": [
            "2024-03-23 00:21:22,103 [INFO] 99\t\t1.0\n"
          ]
        },
        {
          "output_type": "stream",
          "name": "stderr",
          "text": [
            "INFO:NEURONIOUtils:99\t\t1.0\n"
          ]
        },
        {
          "output_type": "stream",
          "name": "stdout",
          "text": [
            "2024-03-23 00:21:22,106 [INFO] IMG firing rate avg: 4.0 Hz\n"
          ]
        },
        {
          "output_type": "stream",
          "name": "stderr",
          "text": [
            "INFO:NEURONIOUtils:IMG firing rate avg: 4.0 Hz\n"
          ]
        },
        {
          "output_type": "stream",
          "name": "stdout",
          "text": [
            "2024-03-23 00:21:22,115 [INFO] Volume = 0.1167 ml\n"
          ]
        },
        {
          "output_type": "stream",
          "name": "stderr",
          "text": [
            "/usr/local/lib/python3.10/dist-packages/bmtk/utils/reports/spike_trains/spike_trains.py:183: RuntimeWarning: divide by zero encountered in scalar divide\n",
            "  interval = -np.log(1.0 - np.random.uniform()) / fr\n",
            "INFO:NEURONIOUtils:Volume = 0.1167 ml\n"
          ]
        },
        {
          "output_type": "stream",
          "name": "stdout",
          "text": [
            "2024-03-23 00:21:22,118 [INFO] Pressure = 0.00 mmHg\n"
          ]
        },
        {
          "output_type": "stream",
          "name": "stderr",
          "text": [
            "INFO:NEURONIOUtils:Pressure = 0.00 mmHg\n"
          ]
        },
        {
          "output_type": "stream",
          "name": "stdout",
          "text": [
            "2024-03-23 00:21:22,124 [INFO] Calculated bladder afferent firing rate for the next time step = 0.00 Hz \n",
            " \n",
            "\n"
          ]
        },
        {
          "output_type": "stream",
          "name": "stderr",
          "text": [
            "INFO:NEURONIOUtils:Calculated bladder afferent firing rate for the next time step = 0.00 Hz \n",
            " \n",
            "\n"
          ]
        },
        {
          "output_type": "stream",
          "name": "stdout",
          "text": [
            "2024-03-23 00:21:24,693 [INFO]     step:30000 t_sim:6000.00 ms\n"
          ]
        },
        {
          "output_type": "stream",
          "name": "stderr",
          "text": [
            "INFO:NEURONIOUtils:    step:30000 t_sim:6000.00 ms\n"
          ]
        },
        {
          "output_type": "stream",
          "name": "stdout",
          "text": [
            "2024-03-23 00:21:24,706 [INFO] Timestep 5000.0 to 6000.0 ms\n"
          ]
        },
        {
          "output_type": "stream",
          "name": "stderr",
          "text": [
            "INFO:NEURONIOUtils:Timestep 5000.0 to 6000.0 ms\n"
          ]
        },
        {
          "output_type": "stream",
          "name": "stdout",
          "text": [
            "2024-03-23 00:21:24,709 [INFO] PGN node_id\t  Hz\n"
          ]
        },
        {
          "output_type": "stream",
          "name": "stderr",
          "text": [
            "INFO:NEURONIOUtils:PGN node_id\t  Hz\n"
          ]
        },
        {
          "output_type": "stream",
          "name": "stdout",
          "text": [
            "2024-03-23 00:21:24,713 [INFO] 70\t\t2.0\n"
          ]
        },
        {
          "output_type": "stream",
          "name": "stderr",
          "text": [
            "INFO:NEURONIOUtils:70\t\t2.0\n"
          ]
        },
        {
          "output_type": "stream",
          "name": "stdout",
          "text": [
            "2024-03-23 00:21:24,717 [INFO] 71\t\t2.0\n"
          ]
        },
        {
          "output_type": "stream",
          "name": "stderr",
          "text": [
            "INFO:NEURONIOUtils:71\t\t2.0\n"
          ]
        },
        {
          "output_type": "stream",
          "name": "stdout",
          "text": [
            "2024-03-23 00:21:24,720 [INFO] 72\t\t2.0\n"
          ]
        },
        {
          "output_type": "stream",
          "name": "stderr",
          "text": [
            "INFO:NEURONIOUtils:72\t\t2.0\n"
          ]
        },
        {
          "output_type": "stream",
          "name": "stdout",
          "text": [
            "2024-03-23 00:21:24,722 [INFO] 73\t\t2.0\n"
          ]
        },
        {
          "output_type": "stream",
          "name": "stderr",
          "text": [
            "INFO:NEURONIOUtils:73\t\t2.0\n"
          ]
        },
        {
          "output_type": "stream",
          "name": "stdout",
          "text": [
            "2024-03-23 00:21:24,729 [INFO] 74\t\t2.0\n"
          ]
        },
        {
          "output_type": "stream",
          "name": "stderr",
          "text": [
            "INFO:NEURONIOUtils:74\t\t2.0\n"
          ]
        },
        {
          "output_type": "stream",
          "name": "stdout",
          "text": [
            "2024-03-23 00:21:24,733 [INFO] 75\t\t2.0\n"
          ]
        },
        {
          "output_type": "stream",
          "name": "stderr",
          "text": [
            "INFO:NEURONIOUtils:75\t\t2.0\n"
          ]
        },
        {
          "output_type": "stream",
          "name": "stdout",
          "text": [
            "2024-03-23 00:21:24,735 [INFO] 76\t\t2.0\n"
          ]
        },
        {
          "output_type": "stream",
          "name": "stderr",
          "text": [
            "INFO:NEURONIOUtils:76\t\t2.0\n"
          ]
        },
        {
          "output_type": "stream",
          "name": "stdout",
          "text": [
            "2024-03-23 00:21:24,737 [INFO] 77\t\t2.0\n"
          ]
        },
        {
          "output_type": "stream",
          "name": "stderr",
          "text": [
            "INFO:NEURONIOUtils:77\t\t2.0\n"
          ]
        },
        {
          "output_type": "stream",
          "name": "stdout",
          "text": [
            "2024-03-23 00:21:24,739 [INFO] 78\t\t2.0\n"
          ]
        },
        {
          "output_type": "stream",
          "name": "stderr",
          "text": [
            "INFO:NEURONIOUtils:78\t\t2.0\n"
          ]
        },
        {
          "output_type": "stream",
          "name": "stdout",
          "text": [
            "2024-03-23 00:21:24,744 [INFO] 79\t\t2.0\n"
          ]
        },
        {
          "output_type": "stream",
          "name": "stderr",
          "text": [
            "INFO:NEURONIOUtils:79\t\t2.0\n"
          ]
        },
        {
          "output_type": "stream",
          "name": "stdout",
          "text": [
            "2024-03-23 00:21:24,749 [INFO] PGN firing rate avg: 2.0 Hz\n"
          ]
        },
        {
          "output_type": "stream",
          "name": "stderr",
          "text": [
            "INFO:NEURONIOUtils:PGN firing rate avg: 2.0 Hz\n"
          ]
        },
        {
          "output_type": "stream",
          "name": "stdout",
          "text": [
            "2024-03-23 00:21:24,751 [INFO] Grill PGN fr = 2.984 Hz\n"
          ]
        },
        {
          "output_type": "stream",
          "name": "stderr",
          "text": [
            "INFO:NEURONIOUtils:Grill PGN fr = 2.984 Hz\n"
          ]
        },
        {
          "output_type": "stream",
          "name": "stdout",
          "text": [
            "2024-03-23 00:21:24,753 [INFO] IMG node_gid\t  Hz\n"
          ]
        },
        {
          "output_type": "stream",
          "name": "stderr",
          "text": [
            "INFO:NEURONIOUtils:IMG node_gid\t  Hz\n"
          ]
        },
        {
          "output_type": "stream",
          "name": "stdout",
          "text": [
            "2024-03-23 00:21:24,756 [INFO] 90\t\t0.0\n"
          ]
        },
        {
          "output_type": "stream",
          "name": "stderr",
          "text": [
            "INFO:NEURONIOUtils:90\t\t0.0\n"
          ]
        },
        {
          "output_type": "stream",
          "name": "stdout",
          "text": [
            "2024-03-23 00:21:24,759 [INFO] 91\t\t1.0\n"
          ]
        },
        {
          "output_type": "stream",
          "name": "stderr",
          "text": [
            "INFO:NEURONIOUtils:91\t\t1.0\n"
          ]
        },
        {
          "output_type": "stream",
          "name": "stdout",
          "text": [
            "2024-03-23 00:21:24,761 [INFO] 92\t\t0.0\n"
          ]
        },
        {
          "output_type": "stream",
          "name": "stderr",
          "text": [
            "INFO:NEURONIOUtils:92\t\t0.0\n"
          ]
        },
        {
          "output_type": "stream",
          "name": "stdout",
          "text": [
            "2024-03-23 00:21:24,763 [INFO] 93\t\t1.0\n"
          ]
        },
        {
          "output_type": "stream",
          "name": "stderr",
          "text": [
            "INFO:NEURONIOUtils:93\t\t1.0\n"
          ]
        },
        {
          "output_type": "stream",
          "name": "stdout",
          "text": [
            "2024-03-23 00:21:24,767 [INFO] 94\t\t1.0\n"
          ]
        },
        {
          "output_type": "stream",
          "name": "stderr",
          "text": [
            "INFO:NEURONIOUtils:94\t\t1.0\n"
          ]
        },
        {
          "output_type": "stream",
          "name": "stdout",
          "text": [
            "2024-03-23 00:21:24,769 [INFO] 95\t\t0.0\n"
          ]
        },
        {
          "output_type": "stream",
          "name": "stderr",
          "text": [
            "INFO:NEURONIOUtils:95\t\t0.0\n"
          ]
        },
        {
          "output_type": "stream",
          "name": "stdout",
          "text": [
            "2024-03-23 00:21:24,771 [INFO] 96\t\t0.0\n"
          ]
        },
        {
          "output_type": "stream",
          "name": "stderr",
          "text": [
            "INFO:NEURONIOUtils:96\t\t0.0\n"
          ]
        },
        {
          "output_type": "stream",
          "name": "stdout",
          "text": [
            "2024-03-23 00:21:24,773 [INFO] 97\t\t1.0\n"
          ]
        },
        {
          "output_type": "stream",
          "name": "stderr",
          "text": [
            "INFO:NEURONIOUtils:97\t\t1.0\n"
          ]
        },
        {
          "output_type": "stream",
          "name": "stdout",
          "text": [
            "2024-03-23 00:21:24,776 [INFO] 98\t\t1.0\n"
          ]
        },
        {
          "output_type": "stream",
          "name": "stderr",
          "text": [
            "INFO:NEURONIOUtils:98\t\t1.0\n"
          ]
        },
        {
          "output_type": "stream",
          "name": "stdout",
          "text": [
            "2024-03-23 00:21:24,778 [INFO] 99\t\t1.0\n"
          ]
        },
        {
          "output_type": "stream",
          "name": "stderr",
          "text": [
            "INFO:NEURONIOUtils:99\t\t1.0\n"
          ]
        },
        {
          "output_type": "stream",
          "name": "stdout",
          "text": [
            "2024-03-23 00:21:24,780 [INFO] IMG firing rate avg: 2.0 Hz\n"
          ]
        },
        {
          "output_type": "stream",
          "name": "stderr",
          "text": [
            "INFO:NEURONIOUtils:IMG firing rate avg: 2.0 Hz\n"
          ]
        },
        {
          "output_type": "stream",
          "name": "stdout",
          "text": [
            "2024-03-23 00:21:24,789 [INFO] Volume = 0.1458 ml\n"
          ]
        },
        {
          "output_type": "stream",
          "name": "stderr",
          "text": [
            "/usr/local/lib/python3.10/dist-packages/bmtk/utils/reports/spike_trains/spike_trains.py:183: RuntimeWarning: divide by zero encountered in scalar divide\n",
            "  interval = -np.log(1.0 - np.random.uniform()) / fr\n",
            "INFO:NEURONIOUtils:Volume = 0.1458 ml\n"
          ]
        },
        {
          "output_type": "stream",
          "name": "stdout",
          "text": [
            "2024-03-23 00:21:24,794 [INFO] Pressure = 0.00 mmHg\n"
          ]
        },
        {
          "output_type": "stream",
          "name": "stderr",
          "text": [
            "INFO:NEURONIOUtils:Pressure = 0.00 mmHg\n"
          ]
        },
        {
          "output_type": "stream",
          "name": "stdout",
          "text": [
            "2024-03-23 00:21:24,796 [INFO] Calculated bladder afferent firing rate for the next time step = 0.00 Hz \n",
            " \n",
            "\n"
          ]
        },
        {
          "output_type": "stream",
          "name": "stderr",
          "text": [
            "INFO:NEURONIOUtils:Calculated bladder afferent firing rate for the next time step = 0.00 Hz \n",
            " \n",
            "\n"
          ]
        },
        {
          "output_type": "stream",
          "name": "stdout",
          "text": [
            "2024-03-23 00:21:27,306 [INFO]     step:35000 t_sim:7000.00 ms\n"
          ]
        },
        {
          "output_type": "stream",
          "name": "stderr",
          "text": [
            "INFO:NEURONIOUtils:    step:35000 t_sim:7000.00 ms\n"
          ]
        },
        {
          "output_type": "stream",
          "name": "stdout",
          "text": [
            "2024-03-23 00:21:27,321 [INFO] Timestep 6000.0 to 7000.0 ms\n"
          ]
        },
        {
          "output_type": "stream",
          "name": "stderr",
          "text": [
            "INFO:NEURONIOUtils:Timestep 6000.0 to 7000.0 ms\n"
          ]
        },
        {
          "output_type": "stream",
          "name": "stdout",
          "text": [
            "2024-03-23 00:21:27,326 [INFO] PGN node_id\t  Hz\n"
          ]
        },
        {
          "output_type": "stream",
          "name": "stderr",
          "text": [
            "INFO:NEURONIOUtils:PGN node_id\t  Hz\n"
          ]
        },
        {
          "output_type": "stream",
          "name": "stdout",
          "text": [
            "2024-03-23 00:21:27,329 [INFO] 70\t\t2.0\n"
          ]
        },
        {
          "output_type": "stream",
          "name": "stderr",
          "text": [
            "INFO:NEURONIOUtils:70\t\t2.0\n"
          ]
        },
        {
          "output_type": "stream",
          "name": "stdout",
          "text": [
            "2024-03-23 00:21:27,332 [INFO] 71\t\t2.0\n"
          ]
        },
        {
          "output_type": "stream",
          "name": "stderr",
          "text": [
            "INFO:NEURONIOUtils:71\t\t2.0\n"
          ]
        },
        {
          "output_type": "stream",
          "name": "stdout",
          "text": [
            "2024-03-23 00:21:27,335 [INFO] 72\t\t2.0\n"
          ]
        },
        {
          "output_type": "stream",
          "name": "stderr",
          "text": [
            "INFO:NEURONIOUtils:72\t\t2.0\n"
          ]
        },
        {
          "output_type": "stream",
          "name": "stdout",
          "text": [
            "2024-03-23 00:21:27,337 [INFO] 73\t\t2.0\n"
          ]
        },
        {
          "output_type": "stream",
          "name": "stderr",
          "text": [
            "INFO:NEURONIOUtils:73\t\t2.0\n"
          ]
        },
        {
          "output_type": "stream",
          "name": "stdout",
          "text": [
            "2024-03-23 00:21:27,340 [INFO] 74\t\t2.0\n"
          ]
        },
        {
          "output_type": "stream",
          "name": "stderr",
          "text": [
            "INFO:NEURONIOUtils:74\t\t2.0\n"
          ]
        },
        {
          "output_type": "stream",
          "name": "stdout",
          "text": [
            "2024-03-23 00:21:27,342 [INFO] 75\t\t2.0\n"
          ]
        },
        {
          "output_type": "stream",
          "name": "stderr",
          "text": [
            "INFO:NEURONIOUtils:75\t\t2.0\n"
          ]
        },
        {
          "output_type": "stream",
          "name": "stdout",
          "text": [
            "2024-03-23 00:21:27,344 [INFO] 76\t\t2.0\n"
          ]
        },
        {
          "output_type": "stream",
          "name": "stderr",
          "text": [
            "INFO:NEURONIOUtils:76\t\t2.0\n"
          ]
        },
        {
          "output_type": "stream",
          "name": "stdout",
          "text": [
            "2024-03-23 00:21:27,347 [INFO] 77\t\t2.0\n"
          ]
        },
        {
          "output_type": "stream",
          "name": "stderr",
          "text": [
            "INFO:NEURONIOUtils:77\t\t2.0\n"
          ]
        },
        {
          "output_type": "stream",
          "name": "stdout",
          "text": [
            "2024-03-23 00:21:27,349 [INFO] 78\t\t2.0\n"
          ]
        },
        {
          "output_type": "stream",
          "name": "stderr",
          "text": [
            "INFO:NEURONIOUtils:78\t\t2.0\n"
          ]
        },
        {
          "output_type": "stream",
          "name": "stdout",
          "text": [
            "2024-03-23 00:21:27,351 [INFO] 79\t\t2.0\n"
          ]
        },
        {
          "output_type": "stream",
          "name": "stderr",
          "text": [
            "INFO:NEURONIOUtils:79\t\t2.0\n"
          ]
        },
        {
          "output_type": "stream",
          "name": "stdout",
          "text": [
            "2024-03-23 00:21:27,357 [INFO] PGN firing rate avg: 2.0 Hz\n"
          ]
        },
        {
          "output_type": "stream",
          "name": "stderr",
          "text": [
            "INFO:NEURONIOUtils:PGN firing rate avg: 2.0 Hz\n"
          ]
        },
        {
          "output_type": "stream",
          "name": "stdout",
          "text": [
            "2024-03-23 00:21:27,359 [INFO] Grill PGN fr = 2.984 Hz\n"
          ]
        },
        {
          "output_type": "stream",
          "name": "stderr",
          "text": [
            "INFO:NEURONIOUtils:Grill PGN fr = 2.984 Hz\n"
          ]
        },
        {
          "output_type": "stream",
          "name": "stdout",
          "text": [
            "2024-03-23 00:21:27,361 [INFO] IMG node_gid\t  Hz\n"
          ]
        },
        {
          "output_type": "stream",
          "name": "stderr",
          "text": [
            "INFO:NEURONIOUtils:IMG node_gid\t  Hz\n"
          ]
        },
        {
          "output_type": "stream",
          "name": "stdout",
          "text": [
            "2024-03-23 00:21:27,368 [INFO] 90\t\t0.0\n"
          ]
        },
        {
          "output_type": "stream",
          "name": "stderr",
          "text": [
            "INFO:NEURONIOUtils:90\t\t0.0\n"
          ]
        },
        {
          "output_type": "stream",
          "name": "stdout",
          "text": [
            "2024-03-23 00:21:27,370 [INFO] 91\t\t1.0\n"
          ]
        },
        {
          "output_type": "stream",
          "name": "stderr",
          "text": [
            "INFO:NEURONIOUtils:91\t\t1.0\n"
          ]
        },
        {
          "output_type": "stream",
          "name": "stdout",
          "text": [
            "2024-03-23 00:21:27,372 [INFO] 92\t\t0.0\n"
          ]
        },
        {
          "output_type": "stream",
          "name": "stderr",
          "text": [
            "INFO:NEURONIOUtils:92\t\t0.0\n"
          ]
        },
        {
          "output_type": "stream",
          "name": "stdout",
          "text": [
            "2024-03-23 00:21:27,378 [INFO] 93\t\t1.0\n"
          ]
        },
        {
          "output_type": "stream",
          "name": "stderr",
          "text": [
            "INFO:NEURONIOUtils:93\t\t1.0\n"
          ]
        },
        {
          "output_type": "stream",
          "name": "stdout",
          "text": [
            "2024-03-23 00:21:27,380 [INFO] 94\t\t1.0\n"
          ]
        },
        {
          "output_type": "stream",
          "name": "stderr",
          "text": [
            "INFO:NEURONIOUtils:94\t\t1.0\n"
          ]
        },
        {
          "output_type": "stream",
          "name": "stdout",
          "text": [
            "2024-03-23 00:21:27,383 [INFO] 95\t\t0.0\n"
          ]
        },
        {
          "output_type": "stream",
          "name": "stderr",
          "text": [
            "INFO:NEURONIOUtils:95\t\t0.0\n"
          ]
        },
        {
          "output_type": "stream",
          "name": "stdout",
          "text": [
            "2024-03-23 00:21:27,385 [INFO] 96\t\t0.0\n"
          ]
        },
        {
          "output_type": "stream",
          "name": "stderr",
          "text": [
            "INFO:NEURONIOUtils:96\t\t0.0\n"
          ]
        },
        {
          "output_type": "stream",
          "name": "stdout",
          "text": [
            "2024-03-23 00:21:27,387 [INFO] 97\t\t1.0\n"
          ]
        },
        {
          "output_type": "stream",
          "name": "stderr",
          "text": [
            "INFO:NEURONIOUtils:97\t\t1.0\n"
          ]
        },
        {
          "output_type": "stream",
          "name": "stdout",
          "text": [
            "2024-03-23 00:21:27,390 [INFO] 98\t\t1.0\n"
          ]
        },
        {
          "output_type": "stream",
          "name": "stderr",
          "text": [
            "INFO:NEURONIOUtils:98\t\t1.0\n"
          ]
        },
        {
          "output_type": "stream",
          "name": "stdout",
          "text": [
            "2024-03-23 00:21:27,392 [INFO] 99\t\t1.0\n"
          ]
        },
        {
          "output_type": "stream",
          "name": "stderr",
          "text": [
            "INFO:NEURONIOUtils:99\t\t1.0\n"
          ]
        },
        {
          "output_type": "stream",
          "name": "stdout",
          "text": [
            "2024-03-23 00:21:27,395 [INFO] IMG firing rate avg: 2.0 Hz\n"
          ]
        },
        {
          "output_type": "stream",
          "name": "stderr",
          "text": [
            "INFO:NEURONIOUtils:IMG firing rate avg: 2.0 Hz\n"
          ]
        },
        {
          "output_type": "stream",
          "name": "stdout",
          "text": [
            "2024-03-23 00:21:27,403 [INFO] Volume = 0.1750 ml\n"
          ]
        },
        {
          "output_type": "stream",
          "name": "stderr",
          "text": [
            "/usr/local/lib/python3.10/dist-packages/bmtk/utils/reports/spike_trains/spike_trains.py:183: RuntimeWarning: divide by zero encountered in scalar divide\n",
            "  interval = -np.log(1.0 - np.random.uniform()) / fr\n",
            "INFO:NEURONIOUtils:Volume = 0.1750 ml\n"
          ]
        },
        {
          "output_type": "stream",
          "name": "stdout",
          "text": [
            "2024-03-23 00:21:27,406 [INFO] Pressure = 0.00 mmHg\n"
          ]
        },
        {
          "output_type": "stream",
          "name": "stderr",
          "text": [
            "INFO:NEURONIOUtils:Pressure = 0.00 mmHg\n"
          ]
        },
        {
          "output_type": "stream",
          "name": "stdout",
          "text": [
            "2024-03-23 00:21:27,408 [INFO] Calculated bladder afferent firing rate for the next time step = 0.00 Hz \n",
            " \n",
            "\n"
          ]
        },
        {
          "output_type": "stream",
          "name": "stderr",
          "text": [
            "INFO:NEURONIOUtils:Calculated bladder afferent firing rate for the next time step = 0.00 Hz \n",
            " \n",
            "\n"
          ]
        },
        {
          "output_type": "stream",
          "name": "stdout",
          "text": [
            "2024-03-23 00:21:29,860 [INFO]     step:40000 t_sim:8000.00 ms\n"
          ]
        },
        {
          "output_type": "stream",
          "name": "stderr",
          "text": [
            "INFO:NEURONIOUtils:    step:40000 t_sim:8000.00 ms\n"
          ]
        },
        {
          "output_type": "stream",
          "name": "stdout",
          "text": [
            "2024-03-23 00:21:29,871 [INFO] Timestep 7000.0 to 8000.0 ms\n"
          ]
        },
        {
          "output_type": "stream",
          "name": "stderr",
          "text": [
            "INFO:NEURONIOUtils:Timestep 7000.0 to 8000.0 ms\n"
          ]
        },
        {
          "output_type": "stream",
          "name": "stdout",
          "text": [
            "2024-03-23 00:21:29,875 [INFO] PGN node_id\t  Hz\n"
          ]
        },
        {
          "output_type": "stream",
          "name": "stderr",
          "text": [
            "INFO:NEURONIOUtils:PGN node_id\t  Hz\n"
          ]
        },
        {
          "output_type": "stream",
          "name": "stdout",
          "text": [
            "2024-03-23 00:21:29,879 [INFO] 70\t\t2.0\n"
          ]
        },
        {
          "output_type": "stream",
          "name": "stderr",
          "text": [
            "INFO:NEURONIOUtils:70\t\t2.0\n"
          ]
        },
        {
          "output_type": "stream",
          "name": "stdout",
          "text": [
            "2024-03-23 00:21:29,882 [INFO] 71\t\t1.0\n"
          ]
        },
        {
          "output_type": "stream",
          "name": "stderr",
          "text": [
            "INFO:NEURONIOUtils:71\t\t1.0\n"
          ]
        },
        {
          "output_type": "stream",
          "name": "stdout",
          "text": [
            "2024-03-23 00:21:29,884 [INFO] 72\t\t1.0\n"
          ]
        },
        {
          "output_type": "stream",
          "name": "stderr",
          "text": [
            "INFO:NEURONIOUtils:72\t\t1.0\n"
          ]
        },
        {
          "output_type": "stream",
          "name": "stdout",
          "text": [
            "2024-03-23 00:21:29,886 [INFO] 73\t\t1.0\n"
          ]
        },
        {
          "output_type": "stream",
          "name": "stderr",
          "text": [
            "INFO:NEURONIOUtils:73\t\t1.0\n"
          ]
        },
        {
          "output_type": "stream",
          "name": "stdout",
          "text": [
            "2024-03-23 00:21:29,888 [INFO] 74\t\t1.0\n"
          ]
        },
        {
          "output_type": "stream",
          "name": "stderr",
          "text": [
            "INFO:NEURONIOUtils:74\t\t1.0\n"
          ]
        },
        {
          "output_type": "stream",
          "name": "stdout",
          "text": [
            "2024-03-23 00:21:29,891 [INFO] 75\t\t2.0\n"
          ]
        },
        {
          "output_type": "stream",
          "name": "stderr",
          "text": [
            "INFO:NEURONIOUtils:75\t\t2.0\n"
          ]
        },
        {
          "output_type": "stream",
          "name": "stdout",
          "text": [
            "2024-03-23 00:21:29,893 [INFO] 76\t\t1.0\n"
          ]
        },
        {
          "output_type": "stream",
          "name": "stderr",
          "text": [
            "INFO:NEURONIOUtils:76\t\t1.0\n"
          ]
        },
        {
          "output_type": "stream",
          "name": "stdout",
          "text": [
            "2024-03-23 00:21:29,895 [INFO] 77\t\t1.0\n"
          ]
        },
        {
          "output_type": "stream",
          "name": "stderr",
          "text": [
            "INFO:NEURONIOUtils:77\t\t1.0\n"
          ]
        },
        {
          "output_type": "stream",
          "name": "stdout",
          "text": [
            "2024-03-23 00:21:29,897 [INFO] 78\t\t1.0\n"
          ]
        },
        {
          "output_type": "stream",
          "name": "stderr",
          "text": [
            "INFO:NEURONIOUtils:78\t\t1.0\n"
          ]
        },
        {
          "output_type": "stream",
          "name": "stdout",
          "text": [
            "2024-03-23 00:21:29,899 [INFO] 79\t\t2.0\n"
          ]
        },
        {
          "output_type": "stream",
          "name": "stderr",
          "text": [
            "INFO:NEURONIOUtils:79\t\t2.0\n"
          ]
        },
        {
          "output_type": "stream",
          "name": "stdout",
          "text": [
            "2024-03-23 00:21:29,901 [INFO] PGN firing rate avg: 1.3 Hz\n"
          ]
        },
        {
          "output_type": "stream",
          "name": "stderr",
          "text": [
            "INFO:NEURONIOUtils:PGN firing rate avg: 1.3 Hz\n"
          ]
        },
        {
          "output_type": "stream",
          "name": "stdout",
          "text": [
            "2024-03-23 00:21:29,904 [INFO] Grill PGN fr = 1.7886240000000004 Hz\n"
          ]
        },
        {
          "output_type": "stream",
          "name": "stderr",
          "text": [
            "INFO:NEURONIOUtils:Grill PGN fr = 1.7886240000000004 Hz\n"
          ]
        },
        {
          "output_type": "stream",
          "name": "stdout",
          "text": [
            "2024-03-23 00:21:29,906 [INFO] IMG node_gid\t  Hz\n"
          ]
        },
        {
          "output_type": "stream",
          "name": "stderr",
          "text": [
            "INFO:NEURONIOUtils:IMG node_gid\t  Hz\n"
          ]
        },
        {
          "output_type": "stream",
          "name": "stdout",
          "text": [
            "2024-03-23 00:21:29,908 [INFO] 90\t\t0.0\n"
          ]
        },
        {
          "output_type": "stream",
          "name": "stderr",
          "text": [
            "INFO:NEURONIOUtils:90\t\t0.0\n"
          ]
        },
        {
          "output_type": "stream",
          "name": "stdout",
          "text": [
            "2024-03-23 00:21:29,954 [INFO] 91\t\t1.0\n"
          ]
        },
        {
          "output_type": "stream",
          "name": "stderr",
          "text": [
            "INFO:NEURONIOUtils:91\t\t1.0\n"
          ]
        },
        {
          "output_type": "stream",
          "name": "stdout",
          "text": [
            "2024-03-23 00:21:29,958 [INFO] 92\t\t0.0\n"
          ]
        },
        {
          "output_type": "stream",
          "name": "stderr",
          "text": [
            "INFO:NEURONIOUtils:92\t\t0.0\n"
          ]
        },
        {
          "output_type": "stream",
          "name": "stdout",
          "text": [
            "2024-03-23 00:21:29,962 [INFO] 93\t\t1.0\n"
          ]
        },
        {
          "output_type": "stream",
          "name": "stderr",
          "text": [
            "INFO:NEURONIOUtils:93\t\t1.0\n"
          ]
        },
        {
          "output_type": "stream",
          "name": "stdout",
          "text": [
            "2024-03-23 00:21:29,967 [INFO] 94\t\t1.0\n"
          ]
        },
        {
          "output_type": "stream",
          "name": "stderr",
          "text": [
            "INFO:NEURONIOUtils:94\t\t1.0\n"
          ]
        },
        {
          "output_type": "stream",
          "name": "stdout",
          "text": [
            "2024-03-23 00:21:29,972 [INFO] 95\t\t0.0\n"
          ]
        },
        {
          "output_type": "stream",
          "name": "stderr",
          "text": [
            "INFO:NEURONIOUtils:95\t\t0.0\n"
          ]
        },
        {
          "output_type": "stream",
          "name": "stdout",
          "text": [
            "2024-03-23 00:21:29,975 [INFO] 96\t\t0.0\n"
          ]
        },
        {
          "output_type": "stream",
          "name": "stderr",
          "text": [
            "INFO:NEURONIOUtils:96\t\t0.0\n"
          ]
        },
        {
          "output_type": "stream",
          "name": "stdout",
          "text": [
            "2024-03-23 00:21:29,980 [INFO] 97\t\t1.0\n"
          ]
        },
        {
          "output_type": "stream",
          "name": "stderr",
          "text": [
            "INFO:NEURONIOUtils:97\t\t1.0\n"
          ]
        },
        {
          "output_type": "stream",
          "name": "stdout",
          "text": [
            "2024-03-23 00:21:29,984 [INFO] 98\t\t1.0\n"
          ]
        },
        {
          "output_type": "stream",
          "name": "stderr",
          "text": [
            "INFO:NEURONIOUtils:98\t\t1.0\n"
          ]
        },
        {
          "output_type": "stream",
          "name": "stdout",
          "text": [
            "2024-03-23 00:21:29,990 [INFO] 99\t\t1.0\n"
          ]
        },
        {
          "output_type": "stream",
          "name": "stderr",
          "text": [
            "INFO:NEURONIOUtils:99\t\t1.0\n"
          ]
        },
        {
          "output_type": "stream",
          "name": "stdout",
          "text": [
            "2024-03-23 00:21:29,993 [INFO] IMG firing rate avg: 1.3 Hz\n"
          ]
        },
        {
          "output_type": "stream",
          "name": "stderr",
          "text": [
            "INFO:NEURONIOUtils:IMG firing rate avg: 1.3 Hz\n"
          ]
        },
        {
          "output_type": "stream",
          "name": "stdout",
          "text": [
            "2024-03-23 00:21:30,021 [INFO] Volume = 0.2042 ml\n"
          ]
        },
        {
          "output_type": "stream",
          "name": "stderr",
          "text": [
            "/usr/local/lib/python3.10/dist-packages/bmtk/utils/reports/spike_trains/spike_trains.py:183: RuntimeWarning: divide by zero encountered in scalar divide\n",
            "  interval = -np.log(1.0 - np.random.uniform()) / fr\n",
            "INFO:NEURONIOUtils:Volume = 0.2042 ml\n"
          ]
        },
        {
          "output_type": "stream",
          "name": "stdout",
          "text": [
            "2024-03-23 00:21:30,025 [INFO] Pressure = 0.00 mmHg\n"
          ]
        },
        {
          "output_type": "stream",
          "name": "stderr",
          "text": [
            "INFO:NEURONIOUtils:Pressure = 0.00 mmHg\n"
          ]
        },
        {
          "output_type": "stream",
          "name": "stdout",
          "text": [
            "2024-03-23 00:21:30,029 [INFO] Calculated bladder afferent firing rate for the next time step = 0.00 Hz \n",
            " \n",
            "\n"
          ]
        },
        {
          "output_type": "stream",
          "name": "stderr",
          "text": [
            "INFO:NEURONIOUtils:Calculated bladder afferent firing rate for the next time step = 0.00 Hz \n",
            " \n",
            "\n"
          ]
        },
        {
          "output_type": "stream",
          "name": "stdout",
          "text": [
            "2024-03-23 00:21:32,412 [INFO]     step:45000 t_sim:9000.00 ms\n"
          ]
        },
        {
          "output_type": "stream",
          "name": "stderr",
          "text": [
            "INFO:NEURONIOUtils:    step:45000 t_sim:9000.00 ms\n"
          ]
        },
        {
          "output_type": "stream",
          "name": "stdout",
          "text": [
            "2024-03-23 00:21:32,425 [INFO] Timestep 8000.0 to 9000.0 ms\n"
          ]
        },
        {
          "output_type": "stream",
          "name": "stderr",
          "text": [
            "INFO:NEURONIOUtils:Timestep 8000.0 to 9000.0 ms\n"
          ]
        },
        {
          "output_type": "stream",
          "name": "stdout",
          "text": [
            "2024-03-23 00:21:32,429 [INFO] PGN node_id\t  Hz\n"
          ]
        },
        {
          "output_type": "stream",
          "name": "stderr",
          "text": [
            "INFO:NEURONIOUtils:PGN node_id\t  Hz\n"
          ]
        },
        {
          "output_type": "stream",
          "name": "stdout",
          "text": [
            "2024-03-23 00:21:32,433 [INFO] 70\t\t2.0\n"
          ]
        },
        {
          "output_type": "stream",
          "name": "stderr",
          "text": [
            "INFO:NEURONIOUtils:70\t\t2.0\n"
          ]
        },
        {
          "output_type": "stream",
          "name": "stdout",
          "text": [
            "2024-03-23 00:21:32,436 [INFO] 71\t\t3.0\n"
          ]
        },
        {
          "output_type": "stream",
          "name": "stderr",
          "text": [
            "INFO:NEURONIOUtils:71\t\t3.0\n"
          ]
        },
        {
          "output_type": "stream",
          "name": "stdout",
          "text": [
            "2024-03-23 00:21:32,439 [INFO] 72\t\t3.0\n"
          ]
        },
        {
          "output_type": "stream",
          "name": "stderr",
          "text": [
            "INFO:NEURONIOUtils:72\t\t3.0\n"
          ]
        },
        {
          "output_type": "stream",
          "name": "stdout",
          "text": [
            "2024-03-23 00:21:32,441 [INFO] 73\t\t3.0\n"
          ]
        },
        {
          "output_type": "stream",
          "name": "stderr",
          "text": [
            "INFO:NEURONIOUtils:73\t\t3.0\n"
          ]
        },
        {
          "output_type": "stream",
          "name": "stdout",
          "text": [
            "2024-03-23 00:21:32,443 [INFO] 74\t\t3.0\n"
          ]
        },
        {
          "output_type": "stream",
          "name": "stderr",
          "text": [
            "INFO:NEURONIOUtils:74\t\t3.0\n"
          ]
        },
        {
          "output_type": "stream",
          "name": "stdout",
          "text": [
            "2024-03-23 00:21:32,445 [INFO] 75\t\t2.0\n"
          ]
        },
        {
          "output_type": "stream",
          "name": "stderr",
          "text": [
            "INFO:NEURONIOUtils:75\t\t2.0\n"
          ]
        },
        {
          "output_type": "stream",
          "name": "stdout",
          "text": [
            "2024-03-23 00:21:32,447 [INFO] 76\t\t3.0\n"
          ]
        },
        {
          "output_type": "stream",
          "name": "stderr",
          "text": [
            "INFO:NEURONIOUtils:76\t\t3.0\n"
          ]
        },
        {
          "output_type": "stream",
          "name": "stdout",
          "text": [
            "2024-03-23 00:21:32,449 [INFO] 77\t\t3.0\n"
          ]
        },
        {
          "output_type": "stream",
          "name": "stderr",
          "text": [
            "INFO:NEURONIOUtils:77\t\t3.0\n"
          ]
        },
        {
          "output_type": "stream",
          "name": "stdout",
          "text": [
            "2024-03-23 00:21:32,452 [INFO] 78\t\t3.0\n"
          ]
        },
        {
          "output_type": "stream",
          "name": "stderr",
          "text": [
            "INFO:NEURONIOUtils:78\t\t3.0\n"
          ]
        },
        {
          "output_type": "stream",
          "name": "stdout",
          "text": [
            "2024-03-23 00:21:32,454 [INFO] 79\t\t2.0\n"
          ]
        },
        {
          "output_type": "stream",
          "name": "stderr",
          "text": [
            "INFO:NEURONIOUtils:79\t\t2.0\n"
          ]
        },
        {
          "output_type": "stream",
          "name": "stdout",
          "text": [
            "2024-03-23 00:21:32,456 [INFO] PGN firing rate avg: 2.7 Hz\n"
          ]
        },
        {
          "output_type": "stream",
          "name": "stderr",
          "text": [
            "INFO:NEURONIOUtils:PGN firing rate avg: 2.7 Hz\n"
          ]
        },
        {
          "output_type": "stream",
          "name": "stdout",
          "text": [
            "2024-03-23 00:21:32,458 [INFO] Grill PGN fr = 4.158796000000001 Hz\n"
          ]
        },
        {
          "output_type": "stream",
          "name": "stderr",
          "text": [
            "INFO:NEURONIOUtils:Grill PGN fr = 4.158796000000001 Hz\n"
          ]
        },
        {
          "output_type": "stream",
          "name": "stdout",
          "text": [
            "2024-03-23 00:21:32,460 [INFO] IMG node_gid\t  Hz\n"
          ]
        },
        {
          "output_type": "stream",
          "name": "stderr",
          "text": [
            "INFO:NEURONIOUtils:IMG node_gid\t  Hz\n"
          ]
        },
        {
          "output_type": "stream",
          "name": "stdout",
          "text": [
            "2024-03-23 00:21:32,462 [INFO] 90\t\t0.0\n"
          ]
        },
        {
          "output_type": "stream",
          "name": "stderr",
          "text": [
            "INFO:NEURONIOUtils:90\t\t0.0\n"
          ]
        },
        {
          "output_type": "stream",
          "name": "stdout",
          "text": [
            "2024-03-23 00:21:32,464 [INFO] 91\t\t1.0\n"
          ]
        },
        {
          "output_type": "stream",
          "name": "stderr",
          "text": [
            "INFO:NEURONIOUtils:91\t\t1.0\n"
          ]
        },
        {
          "output_type": "stream",
          "name": "stdout",
          "text": [
            "2024-03-23 00:21:32,466 [INFO] 92\t\t0.0\n"
          ]
        },
        {
          "output_type": "stream",
          "name": "stderr",
          "text": [
            "INFO:NEURONIOUtils:92\t\t0.0\n"
          ]
        },
        {
          "output_type": "stream",
          "name": "stdout",
          "text": [
            "2024-03-23 00:21:32,468 [INFO] 93\t\t1.0\n"
          ]
        },
        {
          "output_type": "stream",
          "name": "stderr",
          "text": [
            "INFO:NEURONIOUtils:93\t\t1.0\n"
          ]
        },
        {
          "output_type": "stream",
          "name": "stdout",
          "text": [
            "2024-03-23 00:21:32,471 [INFO] 94\t\t1.0\n"
          ]
        },
        {
          "output_type": "stream",
          "name": "stderr",
          "text": [
            "INFO:NEURONIOUtils:94\t\t1.0\n"
          ]
        },
        {
          "output_type": "stream",
          "name": "stdout",
          "text": [
            "2024-03-23 00:21:32,473 [INFO] 95\t\t0.0\n"
          ]
        },
        {
          "output_type": "stream",
          "name": "stderr",
          "text": [
            "INFO:NEURONIOUtils:95\t\t0.0\n"
          ]
        },
        {
          "output_type": "stream",
          "name": "stdout",
          "text": [
            "2024-03-23 00:21:32,475 [INFO] 96\t\t0.0\n"
          ]
        },
        {
          "output_type": "stream",
          "name": "stderr",
          "text": [
            "INFO:NEURONIOUtils:96\t\t0.0\n"
          ]
        },
        {
          "output_type": "stream",
          "name": "stdout",
          "text": [
            "2024-03-23 00:21:32,477 [INFO] 97\t\t1.0\n"
          ]
        },
        {
          "output_type": "stream",
          "name": "stderr",
          "text": [
            "INFO:NEURONIOUtils:97\t\t1.0\n"
          ]
        },
        {
          "output_type": "stream",
          "name": "stdout",
          "text": [
            "2024-03-23 00:21:32,479 [INFO] 98\t\t1.0\n"
          ]
        },
        {
          "output_type": "stream",
          "name": "stderr",
          "text": [
            "INFO:NEURONIOUtils:98\t\t1.0\n"
          ]
        },
        {
          "output_type": "stream",
          "name": "stdout",
          "text": [
            "2024-03-23 00:21:32,481 [INFO] 99\t\t1.0\n"
          ]
        },
        {
          "output_type": "stream",
          "name": "stderr",
          "text": [
            "INFO:NEURONIOUtils:99\t\t1.0\n"
          ]
        },
        {
          "output_type": "stream",
          "name": "stdout",
          "text": [
            "2024-03-23 00:21:32,484 [INFO] IMG firing rate avg: 2.7 Hz\n"
          ]
        },
        {
          "output_type": "stream",
          "name": "stderr",
          "text": [
            "INFO:NEURONIOUtils:IMG firing rate avg: 2.7 Hz\n"
          ]
        },
        {
          "output_type": "stream",
          "name": "stdout",
          "text": [
            "2024-03-23 00:21:32,492 [INFO] Volume = 0.2333 ml\n"
          ]
        },
        {
          "output_type": "stream",
          "name": "stderr",
          "text": [
            "/usr/local/lib/python3.10/dist-packages/bmtk/utils/reports/spike_trains/spike_trains.py:183: RuntimeWarning: divide by zero encountered in scalar divide\n",
            "  interval = -np.log(1.0 - np.random.uniform()) / fr\n",
            "INFO:NEURONIOUtils:Volume = 0.2333 ml\n"
          ]
        },
        {
          "output_type": "stream",
          "name": "stdout",
          "text": [
            "2024-03-23 00:21:32,495 [INFO] Pressure = 0.00 mmHg\n"
          ]
        },
        {
          "output_type": "stream",
          "name": "stderr",
          "text": [
            "INFO:NEURONIOUtils:Pressure = 0.00 mmHg\n"
          ]
        },
        {
          "output_type": "stream",
          "name": "stdout",
          "text": [
            "2024-03-23 00:21:32,497 [INFO] Calculated bladder afferent firing rate for the next time step = 0.00 Hz \n",
            " \n",
            "\n"
          ]
        },
        {
          "output_type": "stream",
          "name": "stderr",
          "text": [
            "INFO:NEURONIOUtils:Calculated bladder afferent firing rate for the next time step = 0.00 Hz \n",
            " \n",
            "\n"
          ]
        },
        {
          "output_type": "stream",
          "name": "stdout",
          "text": [
            "2024-03-23 00:21:35,410 [INFO]     step:50000 t_sim:10000.00 ms\n"
          ]
        },
        {
          "output_type": "stream",
          "name": "stderr",
          "text": [
            "INFO:NEURONIOUtils:    step:50000 t_sim:10000.00 ms\n"
          ]
        },
        {
          "output_type": "stream",
          "name": "stdout",
          "text": [
            "2024-03-23 00:21:35,427 [INFO] Timestep 9000.0 to 10000.0 ms\n"
          ]
        },
        {
          "output_type": "stream",
          "name": "stderr",
          "text": [
            "INFO:NEURONIOUtils:Timestep 9000.0 to 10000.0 ms\n"
          ]
        },
        {
          "output_type": "stream",
          "name": "stdout",
          "text": [
            "2024-03-23 00:21:35,432 [INFO] PGN node_id\t  Hz\n"
          ]
        },
        {
          "output_type": "stream",
          "name": "stderr",
          "text": [
            "INFO:NEURONIOUtils:PGN node_id\t  Hz\n"
          ]
        },
        {
          "output_type": "stream",
          "name": "stdout",
          "text": [
            "2024-03-23 00:21:35,436 [INFO] 70\t\t2.0\n"
          ]
        },
        {
          "output_type": "stream",
          "name": "stderr",
          "text": [
            "INFO:NEURONIOUtils:70\t\t2.0\n"
          ]
        },
        {
          "output_type": "stream",
          "name": "stdout",
          "text": [
            "2024-03-23 00:21:35,440 [INFO] 71\t\t2.0\n"
          ]
        },
        {
          "output_type": "stream",
          "name": "stderr",
          "text": [
            "INFO:NEURONIOUtils:71\t\t2.0\n"
          ]
        },
        {
          "output_type": "stream",
          "name": "stdout",
          "text": [
            "2024-03-23 00:21:35,446 [INFO] 72\t\t2.0\n"
          ]
        },
        {
          "output_type": "stream",
          "name": "stderr",
          "text": [
            "INFO:NEURONIOUtils:72\t\t2.0\n"
          ]
        },
        {
          "output_type": "stream",
          "name": "stdout",
          "text": [
            "2024-03-23 00:21:35,451 [INFO] 73\t\t2.0\n"
          ]
        },
        {
          "output_type": "stream",
          "name": "stderr",
          "text": [
            "INFO:NEURONIOUtils:73\t\t2.0\n"
          ]
        },
        {
          "output_type": "stream",
          "name": "stdout",
          "text": [
            "2024-03-23 00:21:35,456 [INFO] 74\t\t2.0\n"
          ]
        },
        {
          "output_type": "stream",
          "name": "stderr",
          "text": [
            "INFO:NEURONIOUtils:74\t\t2.0\n"
          ]
        },
        {
          "output_type": "stream",
          "name": "stdout",
          "text": [
            "2024-03-23 00:21:35,461 [INFO] 75\t\t2.0\n"
          ]
        },
        {
          "output_type": "stream",
          "name": "stderr",
          "text": [
            "INFO:NEURONIOUtils:75\t\t2.0\n"
          ]
        },
        {
          "output_type": "stream",
          "name": "stdout",
          "text": [
            "2024-03-23 00:21:35,465 [INFO] 76\t\t2.0\n"
          ]
        },
        {
          "output_type": "stream",
          "name": "stderr",
          "text": [
            "INFO:NEURONIOUtils:76\t\t2.0\n"
          ]
        },
        {
          "output_type": "stream",
          "name": "stdout",
          "text": [
            "2024-03-23 00:21:35,468 [INFO] 77\t\t2.0\n"
          ]
        },
        {
          "output_type": "stream",
          "name": "stderr",
          "text": [
            "INFO:NEURONIOUtils:77\t\t2.0\n"
          ]
        },
        {
          "output_type": "stream",
          "name": "stdout",
          "text": [
            "2024-03-23 00:21:35,473 [INFO] 78\t\t2.0\n"
          ]
        },
        {
          "output_type": "stream",
          "name": "stderr",
          "text": [
            "INFO:NEURONIOUtils:78\t\t2.0\n"
          ]
        },
        {
          "output_type": "stream",
          "name": "stdout",
          "text": [
            "2024-03-23 00:21:35,478 [INFO] 79\t\t2.0\n"
          ]
        },
        {
          "output_type": "stream",
          "name": "stderr",
          "text": [
            "INFO:NEURONIOUtils:79\t\t2.0\n"
          ]
        },
        {
          "output_type": "stream",
          "name": "stdout",
          "text": [
            "2024-03-23 00:21:35,481 [INFO] PGN firing rate avg: 2.0 Hz\n"
          ]
        },
        {
          "output_type": "stream",
          "name": "stderr",
          "text": [
            "INFO:NEURONIOUtils:PGN firing rate avg: 2.0 Hz\n"
          ]
        },
        {
          "output_type": "stream",
          "name": "stdout",
          "text": [
            "2024-03-23 00:21:35,486 [INFO] Grill PGN fr = 2.984 Hz\n"
          ]
        },
        {
          "output_type": "stream",
          "name": "stderr",
          "text": [
            "INFO:NEURONIOUtils:Grill PGN fr = 2.984 Hz\n"
          ]
        },
        {
          "output_type": "stream",
          "name": "stdout",
          "text": [
            "2024-03-23 00:21:35,489 [INFO] IMG node_gid\t  Hz\n"
          ]
        },
        {
          "output_type": "stream",
          "name": "stderr",
          "text": [
            "INFO:NEURONIOUtils:IMG node_gid\t  Hz\n"
          ]
        },
        {
          "output_type": "stream",
          "name": "stdout",
          "text": [
            "2024-03-23 00:21:35,493 [INFO] 90\t\t0.0\n"
          ]
        },
        {
          "output_type": "stream",
          "name": "stderr",
          "text": [
            "INFO:NEURONIOUtils:90\t\t0.0\n"
          ]
        },
        {
          "output_type": "stream",
          "name": "stdout",
          "text": [
            "2024-03-23 00:21:35,522 [INFO] 91\t\t1.0\n"
          ]
        },
        {
          "output_type": "stream",
          "name": "stderr",
          "text": [
            "INFO:NEURONIOUtils:91\t\t1.0\n"
          ]
        },
        {
          "output_type": "stream",
          "name": "stdout",
          "text": [
            "2024-03-23 00:21:35,524 [INFO] 92\t\t0.0\n"
          ]
        },
        {
          "output_type": "stream",
          "name": "stderr",
          "text": [
            "INFO:NEURONIOUtils:92\t\t0.0\n"
          ]
        },
        {
          "output_type": "stream",
          "name": "stdout",
          "text": [
            "2024-03-23 00:21:35,526 [INFO] 93\t\t1.0\n"
          ]
        },
        {
          "output_type": "stream",
          "name": "stderr",
          "text": [
            "INFO:NEURONIOUtils:93\t\t1.0\n"
          ]
        },
        {
          "output_type": "stream",
          "name": "stdout",
          "text": [
            "2024-03-23 00:21:35,529 [INFO] 94\t\t1.0\n"
          ]
        },
        {
          "output_type": "stream",
          "name": "stderr",
          "text": [
            "INFO:NEURONIOUtils:94\t\t1.0\n"
          ]
        },
        {
          "output_type": "stream",
          "name": "stdout",
          "text": [
            "2024-03-23 00:21:35,531 [INFO] 95\t\t0.0\n"
          ]
        },
        {
          "output_type": "stream",
          "name": "stderr",
          "text": [
            "INFO:NEURONIOUtils:95\t\t0.0\n"
          ]
        },
        {
          "output_type": "stream",
          "name": "stdout",
          "text": [
            "2024-03-23 00:21:35,533 [INFO] 96\t\t0.0\n"
          ]
        },
        {
          "output_type": "stream",
          "name": "stderr",
          "text": [
            "INFO:NEURONIOUtils:96\t\t0.0\n"
          ]
        },
        {
          "output_type": "stream",
          "name": "stdout",
          "text": [
            "2024-03-23 00:21:35,535 [INFO] 97\t\t1.0\n"
          ]
        },
        {
          "output_type": "stream",
          "name": "stderr",
          "text": [
            "INFO:NEURONIOUtils:97\t\t1.0\n"
          ]
        },
        {
          "output_type": "stream",
          "name": "stdout",
          "text": [
            "2024-03-23 00:21:35,540 [INFO] 98\t\t1.0\n"
          ]
        },
        {
          "output_type": "stream",
          "name": "stderr",
          "text": [
            "INFO:NEURONIOUtils:98\t\t1.0\n"
          ]
        },
        {
          "output_type": "stream",
          "name": "stdout",
          "text": [
            "2024-03-23 00:21:35,543 [INFO] 99\t\t1.0\n"
          ]
        },
        {
          "output_type": "stream",
          "name": "stderr",
          "text": [
            "INFO:NEURONIOUtils:99\t\t1.0\n"
          ]
        },
        {
          "output_type": "stream",
          "name": "stdout",
          "text": [
            "2024-03-23 00:21:35,545 [INFO] IMG firing rate avg: 2.0 Hz\n"
          ]
        },
        {
          "output_type": "stream",
          "name": "stderr",
          "text": [
            "INFO:NEURONIOUtils:IMG firing rate avg: 2.0 Hz\n"
          ]
        },
        {
          "output_type": "stream",
          "name": "stdout",
          "text": [
            "2024-03-23 00:21:35,553 [INFO] Volume = 0.2625 ml\n"
          ]
        },
        {
          "output_type": "stream",
          "name": "stderr",
          "text": [
            "/usr/local/lib/python3.10/dist-packages/bmtk/utils/reports/spike_trains/spike_trains.py:183: RuntimeWarning: divide by zero encountered in scalar divide\n",
            "  interval = -np.log(1.0 - np.random.uniform()) / fr\n",
            "INFO:NEURONIOUtils:Volume = 0.2625 ml\n"
          ]
        },
        {
          "output_type": "stream",
          "name": "stdout",
          "text": [
            "2024-03-23 00:21:35,556 [INFO] Pressure = 0.00 mmHg\n"
          ]
        },
        {
          "output_type": "stream",
          "name": "stderr",
          "text": [
            "INFO:NEURONIOUtils:Pressure = 0.00 mmHg\n"
          ]
        },
        {
          "output_type": "stream",
          "name": "stdout",
          "text": [
            "2024-03-23 00:21:35,558 [INFO] Calculated bladder afferent firing rate for the next time step = 0.00 Hz \n",
            " \n",
            "\n"
          ]
        },
        {
          "output_type": "stream",
          "name": "stderr",
          "text": [
            "INFO:NEURONIOUtils:Calculated bladder afferent firing rate for the next time step = 0.00 Hz \n",
            " \n",
            "\n"
          ]
        },
        {
          "output_type": "stream",
          "name": "stdout",
          "text": [
            "2024-03-23 00:21:37,943 [INFO]     step:55000 t_sim:11000.00 ms\n"
          ]
        },
        {
          "output_type": "stream",
          "name": "stderr",
          "text": [
            "INFO:NEURONIOUtils:    step:55000 t_sim:11000.00 ms\n"
          ]
        },
        {
          "output_type": "stream",
          "name": "stdout",
          "text": [
            "2024-03-23 00:21:37,958 [INFO] Timestep 10000.0 to 11000.0 ms\n"
          ]
        },
        {
          "output_type": "stream",
          "name": "stderr",
          "text": [
            "INFO:NEURONIOUtils:Timestep 10000.0 to 11000.0 ms\n"
          ]
        },
        {
          "output_type": "stream",
          "name": "stdout",
          "text": [
            "2024-03-23 00:21:37,963 [INFO] PGN node_id\t  Hz\n"
          ]
        },
        {
          "output_type": "stream",
          "name": "stderr",
          "text": [
            "INFO:NEURONIOUtils:PGN node_id\t  Hz\n"
          ]
        },
        {
          "output_type": "stream",
          "name": "stdout",
          "text": [
            "2024-03-23 00:21:37,967 [INFO] 70\t\t3.0\n"
          ]
        },
        {
          "output_type": "stream",
          "name": "stderr",
          "text": [
            "INFO:NEURONIOUtils:70\t\t3.0\n"
          ]
        },
        {
          "output_type": "stream",
          "name": "stdout",
          "text": [
            "2024-03-23 00:21:37,970 [INFO] 71\t\t3.0\n"
          ]
        },
        {
          "output_type": "stream",
          "name": "stderr",
          "text": [
            "INFO:NEURONIOUtils:71\t\t3.0\n"
          ]
        },
        {
          "output_type": "stream",
          "name": "stdout",
          "text": [
            "2024-03-23 00:21:37,972 [INFO] 72\t\t3.0\n"
          ]
        },
        {
          "output_type": "stream",
          "name": "stderr",
          "text": [
            "INFO:NEURONIOUtils:72\t\t3.0\n"
          ]
        },
        {
          "output_type": "stream",
          "name": "stdout",
          "text": [
            "2024-03-23 00:21:37,974 [INFO] 73\t\t3.0\n"
          ]
        },
        {
          "output_type": "stream",
          "name": "stderr",
          "text": [
            "INFO:NEURONIOUtils:73\t\t3.0\n"
          ]
        },
        {
          "output_type": "stream",
          "name": "stdout",
          "text": [
            "2024-03-23 00:21:37,976 [INFO] 74\t\t3.0\n"
          ]
        },
        {
          "output_type": "stream",
          "name": "stderr",
          "text": [
            "INFO:NEURONIOUtils:74\t\t3.0\n"
          ]
        },
        {
          "output_type": "stream",
          "name": "stdout",
          "text": [
            "2024-03-23 00:21:37,978 [INFO] 75\t\t3.0\n"
          ]
        },
        {
          "output_type": "stream",
          "name": "stderr",
          "text": [
            "INFO:NEURONIOUtils:75\t\t3.0\n"
          ]
        },
        {
          "output_type": "stream",
          "name": "stdout",
          "text": [
            "2024-03-23 00:21:37,980 [INFO] 76\t\t3.0\n"
          ]
        },
        {
          "output_type": "stream",
          "name": "stderr",
          "text": [
            "INFO:NEURONIOUtils:76\t\t3.0\n"
          ]
        },
        {
          "output_type": "stream",
          "name": "stdout",
          "text": [
            "2024-03-23 00:21:37,982 [INFO] 77\t\t3.0\n"
          ]
        },
        {
          "output_type": "stream",
          "name": "stderr",
          "text": [
            "INFO:NEURONIOUtils:77\t\t3.0\n"
          ]
        },
        {
          "output_type": "stream",
          "name": "stdout",
          "text": [
            "2024-03-23 00:21:37,983 [INFO] 78\t\t3.0\n"
          ]
        },
        {
          "output_type": "stream",
          "name": "stderr",
          "text": [
            "INFO:NEURONIOUtils:78\t\t3.0\n"
          ]
        },
        {
          "output_type": "stream",
          "name": "stdout",
          "text": [
            "2024-03-23 00:21:37,985 [INFO] 79\t\t3.0\n"
          ]
        },
        {
          "output_type": "stream",
          "name": "stderr",
          "text": [
            "INFO:NEURONIOUtils:79\t\t3.0\n"
          ]
        },
        {
          "output_type": "stream",
          "name": "stdout",
          "text": [
            "2024-03-23 00:21:37,987 [INFO] PGN firing rate avg: 3.0 Hz\n"
          ]
        },
        {
          "output_type": "stream",
          "name": "stderr",
          "text": [
            "INFO:NEURONIOUtils:PGN firing rate avg: 3.0 Hz\n"
          ]
        },
        {
          "output_type": "stream",
          "name": "stdout",
          "text": [
            "2024-03-23 00:21:37,989 [INFO] Grill PGN fr = 4.657 Hz\n"
          ]
        },
        {
          "output_type": "stream",
          "name": "stderr",
          "text": [
            "INFO:NEURONIOUtils:Grill PGN fr = 4.657 Hz\n"
          ]
        },
        {
          "output_type": "stream",
          "name": "stdout",
          "text": [
            "2024-03-23 00:21:37,991 [INFO] IMG node_gid\t  Hz\n"
          ]
        },
        {
          "output_type": "stream",
          "name": "stderr",
          "text": [
            "INFO:NEURONIOUtils:IMG node_gid\t  Hz\n"
          ]
        },
        {
          "output_type": "stream",
          "name": "stdout",
          "text": [
            "2024-03-23 00:21:37,993 [INFO] 90\t\t0.0\n"
          ]
        },
        {
          "output_type": "stream",
          "name": "stderr",
          "text": [
            "INFO:NEURONIOUtils:90\t\t0.0\n"
          ]
        },
        {
          "output_type": "stream",
          "name": "stdout",
          "text": [
            "2024-03-23 00:21:37,996 [INFO] 91\t\t1.0\n"
          ]
        },
        {
          "output_type": "stream",
          "name": "stderr",
          "text": [
            "INFO:NEURONIOUtils:91\t\t1.0\n"
          ]
        },
        {
          "output_type": "stream",
          "name": "stdout",
          "text": [
            "2024-03-23 00:21:37,998 [INFO] 92\t\t0.0\n"
          ]
        },
        {
          "output_type": "stream",
          "name": "stderr",
          "text": [
            "INFO:NEURONIOUtils:92\t\t0.0\n"
          ]
        },
        {
          "output_type": "stream",
          "name": "stdout",
          "text": [
            "2024-03-23 00:21:38,000 [INFO] 93\t\t1.0\n"
          ]
        },
        {
          "output_type": "stream",
          "name": "stderr",
          "text": [
            "INFO:NEURONIOUtils:93\t\t1.0\n"
          ]
        },
        {
          "output_type": "stream",
          "name": "stdout",
          "text": [
            "2024-03-23 00:21:38,002 [INFO] 94\t\t1.0\n"
          ]
        },
        {
          "output_type": "stream",
          "name": "stderr",
          "text": [
            "INFO:NEURONIOUtils:94\t\t1.0\n"
          ]
        },
        {
          "output_type": "stream",
          "name": "stdout",
          "text": [
            "2024-03-23 00:21:38,004 [INFO] 95\t\t0.0\n"
          ]
        },
        {
          "output_type": "stream",
          "name": "stderr",
          "text": [
            "INFO:NEURONIOUtils:95\t\t0.0\n"
          ]
        },
        {
          "output_type": "stream",
          "name": "stdout",
          "text": [
            "2024-03-23 00:21:38,007 [INFO] 96\t\t0.0\n"
          ]
        },
        {
          "output_type": "stream",
          "name": "stderr",
          "text": [
            "INFO:NEURONIOUtils:96\t\t0.0\n"
          ]
        },
        {
          "output_type": "stream",
          "name": "stdout",
          "text": [
            "2024-03-23 00:21:38,009 [INFO] 97\t\t1.0\n"
          ]
        },
        {
          "output_type": "stream",
          "name": "stderr",
          "text": [
            "INFO:NEURONIOUtils:97\t\t1.0\n"
          ]
        },
        {
          "output_type": "stream",
          "name": "stdout",
          "text": [
            "2024-03-23 00:21:38,011 [INFO] 98\t\t1.0\n"
          ]
        },
        {
          "output_type": "stream",
          "name": "stderr",
          "text": [
            "INFO:NEURONIOUtils:98\t\t1.0\n"
          ]
        },
        {
          "output_type": "stream",
          "name": "stdout",
          "text": [
            "2024-03-23 00:21:38,013 [INFO] 99\t\t1.0\n"
          ]
        },
        {
          "output_type": "stream",
          "name": "stderr",
          "text": [
            "INFO:NEURONIOUtils:99\t\t1.0\n"
          ]
        },
        {
          "output_type": "stream",
          "name": "stdout",
          "text": [
            "2024-03-23 00:21:38,015 [INFO] IMG firing rate avg: 3.0 Hz\n"
          ]
        },
        {
          "output_type": "stream",
          "name": "stderr",
          "text": [
            "INFO:NEURONIOUtils:IMG firing rate avg: 3.0 Hz\n"
          ]
        },
        {
          "output_type": "stream",
          "name": "stdout",
          "text": [
            "2024-03-23 00:21:38,022 [INFO] Volume = 0.2917 ml\n"
          ]
        },
        {
          "output_type": "stream",
          "name": "stderr",
          "text": [
            "/usr/local/lib/python3.10/dist-packages/bmtk/utils/reports/spike_trains/spike_trains.py:183: RuntimeWarning: divide by zero encountered in scalar divide\n",
            "  interval = -np.log(1.0 - np.random.uniform()) / fr\n",
            "INFO:NEURONIOUtils:Volume = 0.2917 ml\n"
          ]
        },
        {
          "output_type": "stream",
          "name": "stdout",
          "text": [
            "2024-03-23 00:21:38,030 [INFO] Pressure = 0.00 mmHg\n"
          ]
        },
        {
          "output_type": "stream",
          "name": "stderr",
          "text": [
            "INFO:NEURONIOUtils:Pressure = 0.00 mmHg\n"
          ]
        },
        {
          "output_type": "stream",
          "name": "stdout",
          "text": [
            "2024-03-23 00:21:38,032 [INFO] Calculated bladder afferent firing rate for the next time step = 0.00 Hz \n",
            " \n",
            "\n"
          ]
        },
        {
          "output_type": "stream",
          "name": "stderr",
          "text": [
            "INFO:NEURONIOUtils:Calculated bladder afferent firing rate for the next time step = 0.00 Hz \n",
            " \n",
            "\n"
          ]
        },
        {
          "output_type": "stream",
          "name": "stdout",
          "text": [
            "2024-03-23 00:21:40,485 [INFO]     step:60000 t_sim:12000.00 ms\n"
          ]
        },
        {
          "output_type": "stream",
          "name": "stderr",
          "text": [
            "INFO:NEURONIOUtils:    step:60000 t_sim:12000.00 ms\n"
          ]
        },
        {
          "output_type": "stream",
          "name": "stdout",
          "text": [
            "2024-03-23 00:21:40,500 [INFO] Timestep 11000.0 to 12000.0 ms\n"
          ]
        },
        {
          "output_type": "stream",
          "name": "stderr",
          "text": [
            "INFO:NEURONIOUtils:Timestep 11000.0 to 12000.0 ms\n"
          ]
        },
        {
          "output_type": "stream",
          "name": "stdout",
          "text": [
            "2024-03-23 00:21:40,504 [INFO] PGN node_id\t  Hz\n"
          ]
        },
        {
          "output_type": "stream",
          "name": "stderr",
          "text": [
            "INFO:NEURONIOUtils:PGN node_id\t  Hz\n"
          ]
        },
        {
          "output_type": "stream",
          "name": "stdout",
          "text": [
            "2024-03-23 00:21:40,511 [INFO] 70\t\t2.0\n"
          ]
        },
        {
          "output_type": "stream",
          "name": "stderr",
          "text": [
            "INFO:NEURONIOUtils:70\t\t2.0\n"
          ]
        },
        {
          "output_type": "stream",
          "name": "stdout",
          "text": [
            "2024-03-23 00:21:40,517 [INFO] 71\t\t2.0\n"
          ]
        },
        {
          "output_type": "stream",
          "name": "stderr",
          "text": [
            "INFO:NEURONIOUtils:71\t\t2.0\n"
          ]
        },
        {
          "output_type": "stream",
          "name": "stdout",
          "text": [
            "2024-03-23 00:21:40,519 [INFO] 72\t\t2.0\n"
          ]
        },
        {
          "output_type": "stream",
          "name": "stderr",
          "text": [
            "INFO:NEURONIOUtils:72\t\t2.0\n"
          ]
        },
        {
          "output_type": "stream",
          "name": "stdout",
          "text": [
            "2024-03-23 00:21:40,521 [INFO] 73\t\t2.0\n"
          ]
        },
        {
          "output_type": "stream",
          "name": "stderr",
          "text": [
            "INFO:NEURONIOUtils:73\t\t2.0\n"
          ]
        },
        {
          "output_type": "stream",
          "name": "stdout",
          "text": [
            "2024-03-23 00:21:40,527 [INFO] 74\t\t2.0\n"
          ]
        },
        {
          "output_type": "stream",
          "name": "stderr",
          "text": [
            "INFO:NEURONIOUtils:74\t\t2.0\n"
          ]
        },
        {
          "output_type": "stream",
          "name": "stdout",
          "text": [
            "2024-03-23 00:21:40,529 [INFO] 75\t\t2.0\n"
          ]
        },
        {
          "output_type": "stream",
          "name": "stderr",
          "text": [
            "INFO:NEURONIOUtils:75\t\t2.0\n"
          ]
        },
        {
          "output_type": "stream",
          "name": "stdout",
          "text": [
            "2024-03-23 00:21:40,531 [INFO] 76\t\t2.0\n"
          ]
        },
        {
          "output_type": "stream",
          "name": "stderr",
          "text": [
            "INFO:NEURONIOUtils:76\t\t2.0\n"
          ]
        },
        {
          "output_type": "stream",
          "name": "stdout",
          "text": [
            "2024-03-23 00:21:40,533 [INFO] 77\t\t2.0\n"
          ]
        },
        {
          "output_type": "stream",
          "name": "stderr",
          "text": [
            "INFO:NEURONIOUtils:77\t\t2.0\n"
          ]
        },
        {
          "output_type": "stream",
          "name": "stdout",
          "text": [
            "2024-03-23 00:21:40,535 [INFO] 78\t\t2.0\n"
          ]
        },
        {
          "output_type": "stream",
          "name": "stderr",
          "text": [
            "INFO:NEURONIOUtils:78\t\t2.0\n"
          ]
        },
        {
          "output_type": "stream",
          "name": "stdout",
          "text": [
            "2024-03-23 00:21:40,539 [INFO] 79\t\t2.0\n"
          ]
        },
        {
          "output_type": "stream",
          "name": "stderr",
          "text": [
            "INFO:NEURONIOUtils:79\t\t2.0\n"
          ]
        },
        {
          "output_type": "stream",
          "name": "stdout",
          "text": [
            "2024-03-23 00:21:40,541 [INFO] PGN firing rate avg: 2.0 Hz\n"
          ]
        },
        {
          "output_type": "stream",
          "name": "stderr",
          "text": [
            "INFO:NEURONIOUtils:PGN firing rate avg: 2.0 Hz\n"
          ]
        },
        {
          "output_type": "stream",
          "name": "stdout",
          "text": [
            "2024-03-23 00:21:40,545 [INFO] Grill PGN fr = 2.984 Hz\n"
          ]
        },
        {
          "output_type": "stream",
          "name": "stderr",
          "text": [
            "INFO:NEURONIOUtils:Grill PGN fr = 2.984 Hz\n"
          ]
        },
        {
          "output_type": "stream",
          "name": "stdout",
          "text": [
            "2024-03-23 00:21:40,547 [INFO] IMG node_gid\t  Hz\n"
          ]
        },
        {
          "output_type": "stream",
          "name": "stderr",
          "text": [
            "INFO:NEURONIOUtils:IMG node_gid\t  Hz\n"
          ]
        },
        {
          "output_type": "stream",
          "name": "stdout",
          "text": [
            "2024-03-23 00:21:40,549 [INFO] 90\t\t0.0\n"
          ]
        },
        {
          "output_type": "stream",
          "name": "stderr",
          "text": [
            "INFO:NEURONIOUtils:90\t\t0.0\n"
          ]
        },
        {
          "output_type": "stream",
          "name": "stdout",
          "text": [
            "2024-03-23 00:21:40,551 [INFO] 91\t\t1.0\n"
          ]
        },
        {
          "output_type": "stream",
          "name": "stderr",
          "text": [
            "INFO:NEURONIOUtils:91\t\t1.0\n"
          ]
        },
        {
          "output_type": "stream",
          "name": "stdout",
          "text": [
            "2024-03-23 00:21:40,554 [INFO] 92\t\t0.0\n"
          ]
        },
        {
          "output_type": "stream",
          "name": "stderr",
          "text": [
            "INFO:NEURONIOUtils:92\t\t0.0\n"
          ]
        },
        {
          "output_type": "stream",
          "name": "stdout",
          "text": [
            "2024-03-23 00:21:40,558 [INFO] 93\t\t1.0\n"
          ]
        },
        {
          "output_type": "stream",
          "name": "stderr",
          "text": [
            "INFO:NEURONIOUtils:93\t\t1.0\n"
          ]
        },
        {
          "output_type": "stream",
          "name": "stdout",
          "text": [
            "2024-03-23 00:21:40,562 [INFO] 94\t\t1.0\n"
          ]
        },
        {
          "output_type": "stream",
          "name": "stderr",
          "text": [
            "INFO:NEURONIOUtils:94\t\t1.0\n"
          ]
        },
        {
          "output_type": "stream",
          "name": "stdout",
          "text": [
            "2024-03-23 00:21:40,564 [INFO] 95\t\t0.0\n"
          ]
        },
        {
          "output_type": "stream",
          "name": "stderr",
          "text": [
            "INFO:NEURONIOUtils:95\t\t0.0\n"
          ]
        },
        {
          "output_type": "stream",
          "name": "stdout",
          "text": [
            "2024-03-23 00:21:40,566 [INFO] 96\t\t0.0\n"
          ]
        },
        {
          "output_type": "stream",
          "name": "stderr",
          "text": [
            "INFO:NEURONIOUtils:96\t\t0.0\n"
          ]
        },
        {
          "output_type": "stream",
          "name": "stdout",
          "text": [
            "2024-03-23 00:21:40,568 [INFO] 97\t\t1.0\n"
          ]
        },
        {
          "output_type": "stream",
          "name": "stderr",
          "text": [
            "INFO:NEURONIOUtils:97\t\t1.0\n"
          ]
        },
        {
          "output_type": "stream",
          "name": "stdout",
          "text": [
            "2024-03-23 00:21:40,572 [INFO] 98\t\t1.0\n"
          ]
        },
        {
          "output_type": "stream",
          "name": "stderr",
          "text": [
            "INFO:NEURONIOUtils:98\t\t1.0\n"
          ]
        },
        {
          "output_type": "stream",
          "name": "stdout",
          "text": [
            "2024-03-23 00:21:40,574 [INFO] 99\t\t1.0\n"
          ]
        },
        {
          "output_type": "stream",
          "name": "stderr",
          "text": [
            "INFO:NEURONIOUtils:99\t\t1.0\n"
          ]
        },
        {
          "output_type": "stream",
          "name": "stdout",
          "text": [
            "2024-03-23 00:21:40,576 [INFO] IMG firing rate avg: 2.0 Hz\n"
          ]
        },
        {
          "output_type": "stream",
          "name": "stderr",
          "text": [
            "INFO:NEURONIOUtils:IMG firing rate avg: 2.0 Hz\n"
          ]
        },
        {
          "output_type": "stream",
          "name": "stdout",
          "text": [
            "2024-03-23 00:21:40,587 [INFO] Volume = 0.3208 ml\n"
          ]
        },
        {
          "output_type": "stream",
          "name": "stderr",
          "text": [
            "/usr/local/lib/python3.10/dist-packages/bmtk/utils/reports/spike_trains/spike_trains.py:183: RuntimeWarning: divide by zero encountered in scalar divide\n",
            "  interval = -np.log(1.0 - np.random.uniform()) / fr\n",
            "INFO:NEURONIOUtils:Volume = 0.3208 ml\n"
          ]
        },
        {
          "output_type": "stream",
          "name": "stdout",
          "text": [
            "2024-03-23 00:21:40,595 [INFO] Pressure = 0.00 mmHg\n"
          ]
        },
        {
          "output_type": "stream",
          "name": "stderr",
          "text": [
            "INFO:NEURONIOUtils:Pressure = 0.00 mmHg\n"
          ]
        },
        {
          "output_type": "stream",
          "name": "stdout",
          "text": [
            "2024-03-23 00:21:40,597 [INFO] Calculated bladder afferent firing rate for the next time step = 0.00 Hz \n",
            " \n",
            "\n"
          ]
        },
        {
          "output_type": "stream",
          "name": "stderr",
          "text": [
            "INFO:NEURONIOUtils:Calculated bladder afferent firing rate for the next time step = 0.00 Hz \n",
            " \n",
            "\n"
          ]
        },
        {
          "output_type": "stream",
          "name": "stdout",
          "text": [
            "2024-03-23 00:21:43,384 [INFO]     step:65000 t_sim:13000.00 ms\n"
          ]
        },
        {
          "output_type": "stream",
          "name": "stderr",
          "text": [
            "INFO:NEURONIOUtils:    step:65000 t_sim:13000.00 ms\n"
          ]
        },
        {
          "output_type": "stream",
          "name": "stdout",
          "text": [
            "2024-03-23 00:21:43,397 [INFO] Timestep 12000.0 to 13000.0 ms\n"
          ]
        },
        {
          "output_type": "stream",
          "name": "stderr",
          "text": [
            "INFO:NEURONIOUtils:Timestep 12000.0 to 13000.0 ms\n"
          ]
        },
        {
          "output_type": "stream",
          "name": "stdout",
          "text": [
            "2024-03-23 00:21:43,402 [INFO] PGN node_id\t  Hz\n"
          ]
        },
        {
          "output_type": "stream",
          "name": "stderr",
          "text": [
            "INFO:NEURONIOUtils:PGN node_id\t  Hz\n"
          ]
        },
        {
          "output_type": "stream",
          "name": "stdout",
          "text": [
            "2024-03-23 00:21:43,405 [INFO] 70\t\t4.0\n"
          ]
        },
        {
          "output_type": "stream",
          "name": "stderr",
          "text": [
            "INFO:NEURONIOUtils:70\t\t4.0\n"
          ]
        },
        {
          "output_type": "stream",
          "name": "stdout",
          "text": [
            "2024-03-23 00:21:43,408 [INFO] 71\t\t4.0\n"
          ]
        },
        {
          "output_type": "stream",
          "name": "stderr",
          "text": [
            "INFO:NEURONIOUtils:71\t\t4.0\n"
          ]
        },
        {
          "output_type": "stream",
          "name": "stdout",
          "text": [
            "2024-03-23 00:21:43,410 [INFO] 72\t\t4.0\n"
          ]
        },
        {
          "output_type": "stream",
          "name": "stderr",
          "text": [
            "INFO:NEURONIOUtils:72\t\t4.0\n"
          ]
        },
        {
          "output_type": "stream",
          "name": "stdout",
          "text": [
            "2024-03-23 00:21:43,412 [INFO] 73\t\t4.0\n"
          ]
        },
        {
          "output_type": "stream",
          "name": "stderr",
          "text": [
            "INFO:NEURONIOUtils:73\t\t4.0\n"
          ]
        },
        {
          "output_type": "stream",
          "name": "stdout",
          "text": [
            "2024-03-23 00:21:43,414 [INFO] 74\t\t4.0\n"
          ]
        },
        {
          "output_type": "stream",
          "name": "stderr",
          "text": [
            "INFO:NEURONIOUtils:74\t\t4.0\n"
          ]
        },
        {
          "output_type": "stream",
          "name": "stdout",
          "text": [
            "2024-03-23 00:21:43,416 [INFO] 75\t\t4.0\n"
          ]
        },
        {
          "output_type": "stream",
          "name": "stderr",
          "text": [
            "INFO:NEURONIOUtils:75\t\t4.0\n"
          ]
        },
        {
          "output_type": "stream",
          "name": "stdout",
          "text": [
            "2024-03-23 00:21:43,418 [INFO] 76\t\t4.0\n"
          ]
        },
        {
          "output_type": "stream",
          "name": "stderr",
          "text": [
            "INFO:NEURONIOUtils:76\t\t4.0\n"
          ]
        },
        {
          "output_type": "stream",
          "name": "stdout",
          "text": [
            "2024-03-23 00:21:43,420 [INFO] 77\t\t4.0\n"
          ]
        },
        {
          "output_type": "stream",
          "name": "stderr",
          "text": [
            "INFO:NEURONIOUtils:77\t\t4.0\n"
          ]
        },
        {
          "output_type": "stream",
          "name": "stdout",
          "text": [
            "2024-03-23 00:21:43,422 [INFO] 78\t\t4.0\n"
          ]
        },
        {
          "output_type": "stream",
          "name": "stderr",
          "text": [
            "INFO:NEURONIOUtils:78\t\t4.0\n"
          ]
        },
        {
          "output_type": "stream",
          "name": "stdout",
          "text": [
            "2024-03-23 00:21:43,425 [INFO] 79\t\t4.0\n"
          ]
        },
        {
          "output_type": "stream",
          "name": "stderr",
          "text": [
            "INFO:NEURONIOUtils:79\t\t4.0\n"
          ]
        },
        {
          "output_type": "stream",
          "name": "stdout",
          "text": [
            "2024-03-23 00:21:43,427 [INFO] PGN firing rate avg: 4.0 Hz\n"
          ]
        },
        {
          "output_type": "stream",
          "name": "stderr",
          "text": [
            "INFO:NEURONIOUtils:PGN firing rate avg: 4.0 Hz\n"
          ]
        },
        {
          "output_type": "stream",
          "name": "stdout",
          "text": [
            "2024-03-23 00:21:43,429 [INFO] Grill PGN fr = 6.3 Hz\n"
          ]
        },
        {
          "output_type": "stream",
          "name": "stderr",
          "text": [
            "INFO:NEURONIOUtils:Grill PGN fr = 6.3 Hz\n"
          ]
        },
        {
          "output_type": "stream",
          "name": "stdout",
          "text": [
            "2024-03-23 00:21:43,431 [INFO] IMG node_gid\t  Hz\n"
          ]
        },
        {
          "output_type": "stream",
          "name": "stderr",
          "text": [
            "INFO:NEURONIOUtils:IMG node_gid\t  Hz\n"
          ]
        },
        {
          "output_type": "stream",
          "name": "stdout",
          "text": [
            "2024-03-23 00:21:43,433 [INFO] 90\t\t0.0\n"
          ]
        },
        {
          "output_type": "stream",
          "name": "stderr",
          "text": [
            "INFO:NEURONIOUtils:90\t\t0.0\n"
          ]
        },
        {
          "output_type": "stream",
          "name": "stdout",
          "text": [
            "2024-03-23 00:21:43,435 [INFO] 91\t\t1.0\n"
          ]
        },
        {
          "output_type": "stream",
          "name": "stderr",
          "text": [
            "INFO:NEURONIOUtils:91\t\t1.0\n"
          ]
        },
        {
          "output_type": "stream",
          "name": "stdout",
          "text": [
            "2024-03-23 00:21:43,437 [INFO] 92\t\t0.0\n"
          ]
        },
        {
          "output_type": "stream",
          "name": "stderr",
          "text": [
            "INFO:NEURONIOUtils:92\t\t0.0\n"
          ]
        },
        {
          "output_type": "stream",
          "name": "stdout",
          "text": [
            "2024-03-23 00:21:43,439 [INFO] 93\t\t1.0\n"
          ]
        },
        {
          "output_type": "stream",
          "name": "stderr",
          "text": [
            "INFO:NEURONIOUtils:93\t\t1.0\n"
          ]
        },
        {
          "output_type": "stream",
          "name": "stdout",
          "text": [
            "2024-03-23 00:21:43,441 [INFO] 94\t\t1.0\n"
          ]
        },
        {
          "output_type": "stream",
          "name": "stderr",
          "text": [
            "INFO:NEURONIOUtils:94\t\t1.0\n"
          ]
        },
        {
          "output_type": "stream",
          "name": "stdout",
          "text": [
            "2024-03-23 00:21:43,443 [INFO] 95\t\t0.0\n"
          ]
        },
        {
          "output_type": "stream",
          "name": "stderr",
          "text": [
            "INFO:NEURONIOUtils:95\t\t0.0\n"
          ]
        },
        {
          "output_type": "stream",
          "name": "stdout",
          "text": [
            "2024-03-23 00:21:43,445 [INFO] 96\t\t0.0\n"
          ]
        },
        {
          "output_type": "stream",
          "name": "stderr",
          "text": [
            "INFO:NEURONIOUtils:96\t\t0.0\n"
          ]
        },
        {
          "output_type": "stream",
          "name": "stdout",
          "text": [
            "2024-03-23 00:21:43,447 [INFO] 97\t\t1.0\n"
          ]
        },
        {
          "output_type": "stream",
          "name": "stderr",
          "text": [
            "INFO:NEURONIOUtils:97\t\t1.0\n"
          ]
        },
        {
          "output_type": "stream",
          "name": "stdout",
          "text": [
            "2024-03-23 00:21:43,449 [INFO] 98\t\t1.0\n"
          ]
        },
        {
          "output_type": "stream",
          "name": "stderr",
          "text": [
            "INFO:NEURONIOUtils:98\t\t1.0\n"
          ]
        },
        {
          "output_type": "stream",
          "name": "stdout",
          "text": [
            "2024-03-23 00:21:43,451 [INFO] 99\t\t1.0\n"
          ]
        },
        {
          "output_type": "stream",
          "name": "stderr",
          "text": [
            "INFO:NEURONIOUtils:99\t\t1.0\n"
          ]
        },
        {
          "output_type": "stream",
          "name": "stdout",
          "text": [
            "2024-03-23 00:21:43,453 [INFO] IMG firing rate avg: 4.0 Hz\n"
          ]
        },
        {
          "output_type": "stream",
          "name": "stderr",
          "text": [
            "INFO:NEURONIOUtils:IMG firing rate avg: 4.0 Hz\n"
          ]
        },
        {
          "output_type": "stream",
          "name": "stdout",
          "text": [
            "2024-03-23 00:21:43,461 [INFO] Volume = 0.3500 ml\n"
          ]
        },
        {
          "output_type": "stream",
          "name": "stderr",
          "text": [
            "/usr/local/lib/python3.10/dist-packages/bmtk/utils/reports/spike_trains/spike_trains.py:183: RuntimeWarning: divide by zero encountered in scalar divide\n",
            "  interval = -np.log(1.0 - np.random.uniform()) / fr\n",
            "INFO:NEURONIOUtils:Volume = 0.3500 ml\n"
          ]
        },
        {
          "output_type": "stream",
          "name": "stdout",
          "text": [
            "2024-03-23 00:21:43,463 [INFO] Pressure = 0.49 mmHg\n"
          ]
        },
        {
          "output_type": "stream",
          "name": "stderr",
          "text": [
            "INFO:NEURONIOUtils:Pressure = 0.49 mmHg\n"
          ]
        },
        {
          "output_type": "stream",
          "name": "stdout",
          "text": [
            "2024-03-23 00:21:43,465 [INFO] Calculated bladder afferent firing rate for the next time step = 0.00 Hz \n",
            " \n",
            "\n"
          ]
        },
        {
          "output_type": "stream",
          "name": "stderr",
          "text": [
            "INFO:NEURONIOUtils:Calculated bladder afferent firing rate for the next time step = 0.00 Hz \n",
            " \n",
            "\n"
          ]
        },
        {
          "output_type": "stream",
          "name": "stdout",
          "text": [
            "2024-03-23 00:21:45,921 [INFO]     step:70000 t_sim:14000.00 ms\n"
          ]
        },
        {
          "output_type": "stream",
          "name": "stderr",
          "text": [
            "INFO:NEURONIOUtils:    step:70000 t_sim:14000.00 ms\n"
          ]
        },
        {
          "output_type": "stream",
          "name": "stdout",
          "text": [
            "2024-03-23 00:21:45,943 [INFO] Timestep 13000.0 to 14000.0 ms\n"
          ]
        },
        {
          "output_type": "stream",
          "name": "stderr",
          "text": [
            "INFO:NEURONIOUtils:Timestep 13000.0 to 14000.0 ms\n"
          ]
        },
        {
          "output_type": "stream",
          "name": "stdout",
          "text": [
            "2024-03-23 00:21:45,947 [INFO] PGN node_id\t  Hz\n"
          ]
        },
        {
          "output_type": "stream",
          "name": "stderr",
          "text": [
            "INFO:NEURONIOUtils:PGN node_id\t  Hz\n"
          ]
        },
        {
          "output_type": "stream",
          "name": "stdout",
          "text": [
            "2024-03-23 00:21:45,954 [INFO] 70\t\t3.0\n"
          ]
        },
        {
          "output_type": "stream",
          "name": "stderr",
          "text": [
            "INFO:NEURONIOUtils:70\t\t3.0\n"
          ]
        },
        {
          "output_type": "stream",
          "name": "stdout",
          "text": [
            "2024-03-23 00:21:45,957 [INFO] 71\t\t3.0\n"
          ]
        },
        {
          "output_type": "stream",
          "name": "stderr",
          "text": [
            "INFO:NEURONIOUtils:71\t\t3.0\n"
          ]
        },
        {
          "output_type": "stream",
          "name": "stdout",
          "text": [
            "2024-03-23 00:21:45,962 [INFO] 72\t\t3.0\n"
          ]
        },
        {
          "output_type": "stream",
          "name": "stderr",
          "text": [
            "INFO:NEURONIOUtils:72\t\t3.0\n"
          ]
        },
        {
          "output_type": "stream",
          "name": "stdout",
          "text": [
            "2024-03-23 00:21:45,968 [INFO] 73\t\t3.0\n"
          ]
        },
        {
          "output_type": "stream",
          "name": "stderr",
          "text": [
            "INFO:NEURONIOUtils:73\t\t3.0\n"
          ]
        },
        {
          "output_type": "stream",
          "name": "stdout",
          "text": [
            "2024-03-23 00:21:45,981 [INFO] 74\t\t3.0\n"
          ]
        },
        {
          "output_type": "stream",
          "name": "stderr",
          "text": [
            "INFO:NEURONIOUtils:74\t\t3.0\n"
          ]
        },
        {
          "output_type": "stream",
          "name": "stdout",
          "text": [
            "2024-03-23 00:21:45,985 [INFO] 75\t\t3.0\n"
          ]
        },
        {
          "output_type": "stream",
          "name": "stderr",
          "text": [
            "INFO:NEURONIOUtils:75\t\t3.0\n"
          ]
        },
        {
          "output_type": "stream",
          "name": "stdout",
          "text": [
            "2024-03-23 00:21:45,990 [INFO] 76\t\t3.0\n"
          ]
        },
        {
          "output_type": "stream",
          "name": "stderr",
          "text": [
            "INFO:NEURONIOUtils:76\t\t3.0\n"
          ]
        },
        {
          "output_type": "stream",
          "name": "stdout",
          "text": [
            "2024-03-23 00:21:45,995 [INFO] 77\t\t3.0\n"
          ]
        },
        {
          "output_type": "stream",
          "name": "stderr",
          "text": [
            "INFO:NEURONIOUtils:77\t\t3.0\n"
          ]
        },
        {
          "output_type": "stream",
          "name": "stdout",
          "text": [
            "2024-03-23 00:21:45,998 [INFO] 78\t\t3.0\n"
          ]
        },
        {
          "output_type": "stream",
          "name": "stderr",
          "text": [
            "INFO:NEURONIOUtils:78\t\t3.0\n"
          ]
        },
        {
          "output_type": "stream",
          "name": "stdout",
          "text": [
            "2024-03-23 00:21:46,002 [INFO] 79\t\t3.0\n"
          ]
        },
        {
          "output_type": "stream",
          "name": "stderr",
          "text": [
            "INFO:NEURONIOUtils:79\t\t3.0\n"
          ]
        },
        {
          "output_type": "stream",
          "name": "stdout",
          "text": [
            "2024-03-23 00:21:46,007 [INFO] PGN firing rate avg: 3.0 Hz\n"
          ]
        },
        {
          "output_type": "stream",
          "name": "stderr",
          "text": [
            "INFO:NEURONIOUtils:PGN firing rate avg: 3.0 Hz\n"
          ]
        },
        {
          "output_type": "stream",
          "name": "stdout",
          "text": [
            "2024-03-23 00:21:46,011 [INFO] Grill PGN fr = 4.657 Hz\n"
          ]
        },
        {
          "output_type": "stream",
          "name": "stderr",
          "text": [
            "INFO:NEURONIOUtils:Grill PGN fr = 4.657 Hz\n"
          ]
        },
        {
          "output_type": "stream",
          "name": "stdout",
          "text": [
            "2024-03-23 00:21:46,014 [INFO] IMG node_gid\t  Hz\n"
          ]
        },
        {
          "output_type": "stream",
          "name": "stderr",
          "text": [
            "INFO:NEURONIOUtils:IMG node_gid\t  Hz\n"
          ]
        },
        {
          "output_type": "stream",
          "name": "stdout",
          "text": [
            "2024-03-23 00:21:46,018 [INFO] 90\t\t0.0\n"
          ]
        },
        {
          "output_type": "stream",
          "name": "stderr",
          "text": [
            "INFO:NEURONIOUtils:90\t\t0.0\n"
          ]
        },
        {
          "output_type": "stream",
          "name": "stdout",
          "text": [
            "2024-03-23 00:21:46,022 [INFO] 91\t\t1.0\n"
          ]
        },
        {
          "output_type": "stream",
          "name": "stderr",
          "text": [
            "INFO:NEURONIOUtils:91\t\t1.0\n"
          ]
        },
        {
          "output_type": "stream",
          "name": "stdout",
          "text": [
            "2024-03-23 00:21:46,025 [INFO] 92\t\t0.0\n"
          ]
        },
        {
          "output_type": "stream",
          "name": "stderr",
          "text": [
            "INFO:NEURONIOUtils:92\t\t0.0\n"
          ]
        },
        {
          "output_type": "stream",
          "name": "stdout",
          "text": [
            "2024-03-23 00:21:46,030 [INFO] 93\t\t1.0\n"
          ]
        },
        {
          "output_type": "stream",
          "name": "stderr",
          "text": [
            "INFO:NEURONIOUtils:93\t\t1.0\n"
          ]
        },
        {
          "output_type": "stream",
          "name": "stdout",
          "text": [
            "2024-03-23 00:21:46,032 [INFO] 94\t\t1.0\n"
          ]
        },
        {
          "output_type": "stream",
          "name": "stderr",
          "text": [
            "INFO:NEURONIOUtils:94\t\t1.0\n"
          ]
        },
        {
          "output_type": "stream",
          "name": "stdout",
          "text": [
            "2024-03-23 00:21:46,036 [INFO] 95\t\t0.0\n"
          ]
        },
        {
          "output_type": "stream",
          "name": "stderr",
          "text": [
            "INFO:NEURONIOUtils:95\t\t0.0\n"
          ]
        },
        {
          "output_type": "stream",
          "name": "stdout",
          "text": [
            "2024-03-23 00:21:46,039 [INFO] 96\t\t0.0\n"
          ]
        },
        {
          "output_type": "stream",
          "name": "stderr",
          "text": [
            "INFO:NEURONIOUtils:96\t\t0.0\n"
          ]
        },
        {
          "output_type": "stream",
          "name": "stdout",
          "text": [
            "2024-03-23 00:21:46,043 [INFO] 97\t\t1.0\n"
          ]
        },
        {
          "output_type": "stream",
          "name": "stderr",
          "text": [
            "INFO:NEURONIOUtils:97\t\t1.0\n"
          ]
        },
        {
          "output_type": "stream",
          "name": "stdout",
          "text": [
            "2024-03-23 00:21:46,046 [INFO] 98\t\t1.0\n"
          ]
        },
        {
          "output_type": "stream",
          "name": "stderr",
          "text": [
            "INFO:NEURONIOUtils:98\t\t1.0\n"
          ]
        },
        {
          "output_type": "stream",
          "name": "stdout",
          "text": [
            "2024-03-23 00:21:46,051 [INFO] 99\t\t1.0\n"
          ]
        },
        {
          "output_type": "stream",
          "name": "stderr",
          "text": [
            "INFO:NEURONIOUtils:99\t\t1.0\n"
          ]
        },
        {
          "output_type": "stream",
          "name": "stdout",
          "text": [
            "2024-03-23 00:21:46,055 [INFO] IMG firing rate avg: 3.0 Hz\n"
          ]
        },
        {
          "output_type": "stream",
          "name": "stderr",
          "text": [
            "INFO:NEURONIOUtils:IMG firing rate avg: 3.0 Hz\n"
          ]
        },
        {
          "output_type": "stream",
          "name": "stdout",
          "text": [
            "2024-03-23 00:21:46,099 [INFO] Volume = 0.3792 ml\n"
          ]
        },
        {
          "output_type": "stream",
          "name": "stderr",
          "text": [
            "/usr/local/lib/python3.10/dist-packages/bmtk/utils/reports/spike_trains/spike_trains.py:183: RuntimeWarning: divide by zero encountered in scalar divide\n",
            "  interval = -np.log(1.0 - np.random.uniform()) / fr\n",
            "INFO:NEURONIOUtils:Volume = 0.3792 ml\n"
          ]
        },
        {
          "output_type": "stream",
          "name": "stdout",
          "text": [
            "2024-03-23 00:21:46,104 [INFO] Pressure = 0.00 mmHg\n"
          ]
        },
        {
          "output_type": "stream",
          "name": "stderr",
          "text": [
            "INFO:NEURONIOUtils:Pressure = 0.00 mmHg\n"
          ]
        },
        {
          "output_type": "stream",
          "name": "stdout",
          "text": [
            "2024-03-23 00:21:46,106 [INFO] Calculated bladder afferent firing rate for the next time step = 0.00 Hz \n",
            " \n",
            "\n"
          ]
        },
        {
          "output_type": "stream",
          "name": "stderr",
          "text": [
            "INFO:NEURONIOUtils:Calculated bladder afferent firing rate for the next time step = 0.00 Hz \n",
            " \n",
            "\n"
          ]
        },
        {
          "output_type": "stream",
          "name": "stdout",
          "text": [
            "2024-03-23 00:21:49,297 [INFO]     step:75000 t_sim:15000.00 ms\n"
          ]
        },
        {
          "output_type": "stream",
          "name": "stderr",
          "text": [
            "INFO:NEURONIOUtils:    step:75000 t_sim:15000.00 ms\n"
          ]
        },
        {
          "output_type": "stream",
          "name": "stdout",
          "text": [
            "2024-03-23 00:21:49,309 [INFO] Timestep 14000.0 to 15000.0 ms\n"
          ]
        },
        {
          "output_type": "stream",
          "name": "stderr",
          "text": [
            "INFO:NEURONIOUtils:Timestep 14000.0 to 15000.0 ms\n"
          ]
        },
        {
          "output_type": "stream",
          "name": "stdout",
          "text": [
            "2024-03-23 00:21:49,315 [INFO] PGN node_id\t  Hz\n"
          ]
        },
        {
          "output_type": "stream",
          "name": "stderr",
          "text": [
            "INFO:NEURONIOUtils:PGN node_id\t  Hz\n"
          ]
        },
        {
          "output_type": "stream",
          "name": "stdout",
          "text": [
            "2024-03-23 00:21:49,319 [INFO] 70\t\t1.0\n"
          ]
        },
        {
          "output_type": "stream",
          "name": "stderr",
          "text": [
            "INFO:NEURONIOUtils:70\t\t1.0\n"
          ]
        },
        {
          "output_type": "stream",
          "name": "stdout",
          "text": [
            "2024-03-23 00:21:49,321 [INFO] 71\t\t1.0\n"
          ]
        },
        {
          "output_type": "stream",
          "name": "stderr",
          "text": [
            "INFO:NEURONIOUtils:71\t\t1.0\n"
          ]
        },
        {
          "output_type": "stream",
          "name": "stdout",
          "text": [
            "2024-03-23 00:21:49,324 [INFO] 72\t\t1.0\n"
          ]
        },
        {
          "output_type": "stream",
          "name": "stderr",
          "text": [
            "INFO:NEURONIOUtils:72\t\t1.0\n"
          ]
        },
        {
          "output_type": "stream",
          "name": "stdout",
          "text": [
            "2024-03-23 00:21:49,326 [INFO] 73\t\t1.0\n"
          ]
        },
        {
          "output_type": "stream",
          "name": "stderr",
          "text": [
            "INFO:NEURONIOUtils:73\t\t1.0\n"
          ]
        },
        {
          "output_type": "stream",
          "name": "stdout",
          "text": [
            "2024-03-23 00:21:49,329 [INFO] 74\t\t1.0\n"
          ]
        },
        {
          "output_type": "stream",
          "name": "stderr",
          "text": [
            "INFO:NEURONIOUtils:74\t\t1.0\n"
          ]
        },
        {
          "output_type": "stream",
          "name": "stdout",
          "text": [
            "2024-03-23 00:21:49,331 [INFO] 75\t\t1.0\n"
          ]
        },
        {
          "output_type": "stream",
          "name": "stderr",
          "text": [
            "INFO:NEURONIOUtils:75\t\t1.0\n"
          ]
        },
        {
          "output_type": "stream",
          "name": "stdout",
          "text": [
            "2024-03-23 00:21:49,333 [INFO] 76\t\t1.0\n"
          ]
        },
        {
          "output_type": "stream",
          "name": "stderr",
          "text": [
            "INFO:NEURONIOUtils:76\t\t1.0\n"
          ]
        },
        {
          "output_type": "stream",
          "name": "stdout",
          "text": [
            "2024-03-23 00:21:49,337 [INFO] 77\t\t1.0\n"
          ]
        },
        {
          "output_type": "stream",
          "name": "stderr",
          "text": [
            "INFO:NEURONIOUtils:77\t\t1.0\n"
          ]
        },
        {
          "output_type": "stream",
          "name": "stdout",
          "text": [
            "2024-03-23 00:21:49,339 [INFO] 78\t\t1.0\n"
          ]
        },
        {
          "output_type": "stream",
          "name": "stderr",
          "text": [
            "INFO:NEURONIOUtils:78\t\t1.0\n"
          ]
        },
        {
          "output_type": "stream",
          "name": "stdout",
          "text": [
            "2024-03-23 00:21:49,342 [INFO] 79\t\t1.0\n"
          ]
        },
        {
          "output_type": "stream",
          "name": "stderr",
          "text": [
            "INFO:NEURONIOUtils:79\t\t1.0\n"
          ]
        },
        {
          "output_type": "stream",
          "name": "stdout",
          "text": [
            "2024-03-23 00:21:49,345 [INFO] PGN firing rate avg: 1.0 Hz\n"
          ]
        },
        {
          "output_type": "stream",
          "name": "stderr",
          "text": [
            "INFO:NEURONIOUtils:PGN firing rate avg: 1.0 Hz\n"
          ]
        },
        {
          "output_type": "stream",
          "name": "stdout",
          "text": [
            "2024-03-23 00:21:49,349 [INFO] Grill PGN fr = 1.2690000000000001 Hz\n"
          ]
        },
        {
          "output_type": "stream",
          "name": "stderr",
          "text": [
            "INFO:NEURONIOUtils:Grill PGN fr = 1.2690000000000001 Hz\n"
          ]
        },
        {
          "output_type": "stream",
          "name": "stdout",
          "text": [
            "2024-03-23 00:21:49,351 [INFO] IMG node_gid\t  Hz\n"
          ]
        },
        {
          "output_type": "stream",
          "name": "stderr",
          "text": [
            "INFO:NEURONIOUtils:IMG node_gid\t  Hz\n"
          ]
        },
        {
          "output_type": "stream",
          "name": "stdout",
          "text": [
            "2024-03-23 00:21:49,358 [INFO] 90\t\t0.0\n"
          ]
        },
        {
          "output_type": "stream",
          "name": "stderr",
          "text": [
            "INFO:NEURONIOUtils:90\t\t0.0\n"
          ]
        },
        {
          "output_type": "stream",
          "name": "stdout",
          "text": [
            "2024-03-23 00:21:49,360 [INFO] 91\t\t1.0\n"
          ]
        },
        {
          "output_type": "stream",
          "name": "stderr",
          "text": [
            "INFO:NEURONIOUtils:91\t\t1.0\n"
          ]
        },
        {
          "output_type": "stream",
          "name": "stdout",
          "text": [
            "2024-03-23 00:21:49,366 [INFO] 92\t\t0.0\n"
          ]
        },
        {
          "output_type": "stream",
          "name": "stderr",
          "text": [
            "INFO:NEURONIOUtils:92\t\t0.0\n"
          ]
        },
        {
          "output_type": "stream",
          "name": "stdout",
          "text": [
            "2024-03-23 00:21:49,369 [INFO] 93\t\t1.0\n"
          ]
        },
        {
          "output_type": "stream",
          "name": "stderr",
          "text": [
            "INFO:NEURONIOUtils:93\t\t1.0\n"
          ]
        },
        {
          "output_type": "stream",
          "name": "stdout",
          "text": [
            "2024-03-23 00:21:49,371 [INFO] 94\t\t1.0\n"
          ]
        },
        {
          "output_type": "stream",
          "name": "stderr",
          "text": [
            "INFO:NEURONIOUtils:94\t\t1.0\n"
          ]
        },
        {
          "output_type": "stream",
          "name": "stdout",
          "text": [
            "2024-03-23 00:21:49,373 [INFO] 95\t\t0.0\n"
          ]
        },
        {
          "output_type": "stream",
          "name": "stderr",
          "text": [
            "INFO:NEURONIOUtils:95\t\t0.0\n"
          ]
        },
        {
          "output_type": "stream",
          "name": "stdout",
          "text": [
            "2024-03-23 00:21:49,375 [INFO] 96\t\t0.0\n"
          ]
        },
        {
          "output_type": "stream",
          "name": "stderr",
          "text": [
            "INFO:NEURONIOUtils:96\t\t0.0\n"
          ]
        },
        {
          "output_type": "stream",
          "name": "stdout",
          "text": [
            "2024-03-23 00:21:49,377 [INFO] 97\t\t1.0\n"
          ]
        },
        {
          "output_type": "stream",
          "name": "stderr",
          "text": [
            "INFO:NEURONIOUtils:97\t\t1.0\n"
          ]
        },
        {
          "output_type": "stream",
          "name": "stdout",
          "text": [
            "2024-03-23 00:21:49,379 [INFO] 98\t\t1.0\n"
          ]
        },
        {
          "output_type": "stream",
          "name": "stderr",
          "text": [
            "INFO:NEURONIOUtils:98\t\t1.0\n"
          ]
        },
        {
          "output_type": "stream",
          "name": "stdout",
          "text": [
            "2024-03-23 00:21:49,381 [INFO] 99\t\t1.0\n"
          ]
        },
        {
          "output_type": "stream",
          "name": "stderr",
          "text": [
            "INFO:NEURONIOUtils:99\t\t1.0\n"
          ]
        },
        {
          "output_type": "stream",
          "name": "stdout",
          "text": [
            "2024-03-23 00:21:49,383 [INFO] IMG firing rate avg: 1.0 Hz\n"
          ]
        },
        {
          "output_type": "stream",
          "name": "stderr",
          "text": [
            "INFO:NEURONIOUtils:IMG firing rate avg: 1.0 Hz\n"
          ]
        },
        {
          "output_type": "stream",
          "name": "stdout",
          "text": [
            "2024-03-23 00:21:49,391 [INFO] Volume = 0.4083 ml\n"
          ]
        },
        {
          "output_type": "stream",
          "name": "stderr",
          "text": [
            "/usr/local/lib/python3.10/dist-packages/bmtk/utils/reports/spike_trains/spike_trains.py:183: RuntimeWarning: divide by zero encountered in scalar divide\n",
            "  interval = -np.log(1.0 - np.random.uniform()) / fr\n",
            "INFO:NEURONIOUtils:Volume = 0.4083 ml\n"
          ]
        },
        {
          "output_type": "stream",
          "name": "stdout",
          "text": [
            "2024-03-23 00:21:49,394 [INFO] Pressure = 0.00 mmHg\n"
          ]
        },
        {
          "output_type": "stream",
          "name": "stderr",
          "text": [
            "INFO:NEURONIOUtils:Pressure = 0.00 mmHg\n"
          ]
        },
        {
          "output_type": "stream",
          "name": "stdout",
          "text": [
            "2024-03-23 00:21:49,396 [INFO] Calculated bladder afferent firing rate for the next time step = 0.00 Hz \n",
            " \n",
            "\n"
          ]
        },
        {
          "output_type": "stream",
          "name": "stderr",
          "text": [
            "INFO:NEURONIOUtils:Calculated bladder afferent firing rate for the next time step = 0.00 Hz \n",
            " \n",
            "\n"
          ]
        },
        {
          "output_type": "stream",
          "name": "stdout",
          "text": [
            "2024-03-23 00:21:52,749 [INFO]     step:80000 t_sim:16000.00 ms\n"
          ]
        },
        {
          "output_type": "stream",
          "name": "stderr",
          "text": [
            "INFO:NEURONIOUtils:    step:80000 t_sim:16000.00 ms\n"
          ]
        },
        {
          "output_type": "stream",
          "name": "stdout",
          "text": [
            "2024-03-23 00:21:52,760 [INFO] Timestep 15000.0 to 16000.0 ms\n"
          ]
        },
        {
          "output_type": "stream",
          "name": "stderr",
          "text": [
            "INFO:NEURONIOUtils:Timestep 15000.0 to 16000.0 ms\n"
          ]
        },
        {
          "output_type": "stream",
          "name": "stdout",
          "text": [
            "2024-03-23 00:21:52,765 [INFO] PGN node_id\t  Hz\n"
          ]
        },
        {
          "output_type": "stream",
          "name": "stderr",
          "text": [
            "INFO:NEURONIOUtils:PGN node_id\t  Hz\n"
          ]
        },
        {
          "output_type": "stream",
          "name": "stdout",
          "text": [
            "2024-03-23 00:21:52,769 [INFO] 70\t\t1.0\n"
          ]
        },
        {
          "output_type": "stream",
          "name": "stderr",
          "text": [
            "INFO:NEURONIOUtils:70\t\t1.0\n"
          ]
        },
        {
          "output_type": "stream",
          "name": "stdout",
          "text": [
            "2024-03-23 00:21:52,772 [INFO] 71\t\t1.0\n"
          ]
        },
        {
          "output_type": "stream",
          "name": "stderr",
          "text": [
            "INFO:NEURONIOUtils:71\t\t1.0\n"
          ]
        },
        {
          "output_type": "stream",
          "name": "stdout",
          "text": [
            "2024-03-23 00:21:52,774 [INFO] 72\t\t1.0\n"
          ]
        },
        {
          "output_type": "stream",
          "name": "stderr",
          "text": [
            "INFO:NEURONIOUtils:72\t\t1.0\n"
          ]
        },
        {
          "output_type": "stream",
          "name": "stdout",
          "text": [
            "2024-03-23 00:21:52,776 [INFO] 73\t\t1.0\n"
          ]
        },
        {
          "output_type": "stream",
          "name": "stderr",
          "text": [
            "INFO:NEURONIOUtils:73\t\t1.0\n"
          ]
        },
        {
          "output_type": "stream",
          "name": "stdout",
          "text": [
            "2024-03-23 00:21:52,778 [INFO] 74\t\t1.0\n"
          ]
        },
        {
          "output_type": "stream",
          "name": "stderr",
          "text": [
            "INFO:NEURONIOUtils:74\t\t1.0\n"
          ]
        },
        {
          "output_type": "stream",
          "name": "stdout",
          "text": [
            "2024-03-23 00:21:52,780 [INFO] 75\t\t1.0\n"
          ]
        },
        {
          "output_type": "stream",
          "name": "stderr",
          "text": [
            "INFO:NEURONIOUtils:75\t\t1.0\n"
          ]
        },
        {
          "output_type": "stream",
          "name": "stdout",
          "text": [
            "2024-03-23 00:21:52,782 [INFO] 76\t\t1.0\n"
          ]
        },
        {
          "output_type": "stream",
          "name": "stderr",
          "text": [
            "INFO:NEURONIOUtils:76\t\t1.0\n"
          ]
        },
        {
          "output_type": "stream",
          "name": "stdout",
          "text": [
            "2024-03-23 00:21:52,784 [INFO] 77\t\t1.0\n"
          ]
        },
        {
          "output_type": "stream",
          "name": "stderr",
          "text": [
            "INFO:NEURONIOUtils:77\t\t1.0\n"
          ]
        },
        {
          "output_type": "stream",
          "name": "stdout",
          "text": [
            "2024-03-23 00:21:52,786 [INFO] 78\t\t1.0\n"
          ]
        },
        {
          "output_type": "stream",
          "name": "stderr",
          "text": [
            "INFO:NEURONIOUtils:78\t\t1.0\n"
          ]
        },
        {
          "output_type": "stream",
          "name": "stdout",
          "text": [
            "2024-03-23 00:21:52,788 [INFO] 79\t\t1.0\n"
          ]
        },
        {
          "output_type": "stream",
          "name": "stderr",
          "text": [
            "INFO:NEURONIOUtils:79\t\t1.0\n"
          ]
        },
        {
          "output_type": "stream",
          "name": "stdout",
          "text": [
            "2024-03-23 00:21:52,790 [INFO] PGN firing rate avg: 1.0 Hz\n"
          ]
        },
        {
          "output_type": "stream",
          "name": "stderr",
          "text": [
            "INFO:NEURONIOUtils:PGN firing rate avg: 1.0 Hz\n"
          ]
        },
        {
          "output_type": "stream",
          "name": "stdout",
          "text": [
            "2024-03-23 00:21:52,792 [INFO] Grill PGN fr = 1.2690000000000001 Hz\n"
          ]
        },
        {
          "output_type": "stream",
          "name": "stderr",
          "text": [
            "INFO:NEURONIOUtils:Grill PGN fr = 1.2690000000000001 Hz\n"
          ]
        },
        {
          "output_type": "stream",
          "name": "stdout",
          "text": [
            "2024-03-23 00:21:52,794 [INFO] IMG node_gid\t  Hz\n"
          ]
        },
        {
          "output_type": "stream",
          "name": "stderr",
          "text": [
            "INFO:NEURONIOUtils:IMG node_gid\t  Hz\n"
          ]
        },
        {
          "output_type": "stream",
          "name": "stdout",
          "text": [
            "2024-03-23 00:21:52,796 [INFO] 90\t\t0.0\n"
          ]
        },
        {
          "output_type": "stream",
          "name": "stderr",
          "text": [
            "INFO:NEURONIOUtils:90\t\t0.0\n"
          ]
        },
        {
          "output_type": "stream",
          "name": "stdout",
          "text": [
            "2024-03-23 00:21:52,798 [INFO] 91\t\t1.0\n"
          ]
        },
        {
          "output_type": "stream",
          "name": "stderr",
          "text": [
            "INFO:NEURONIOUtils:91\t\t1.0\n"
          ]
        },
        {
          "output_type": "stream",
          "name": "stdout",
          "text": [
            "2024-03-23 00:21:52,800 [INFO] 92\t\t0.0\n"
          ]
        },
        {
          "output_type": "stream",
          "name": "stderr",
          "text": [
            "INFO:NEURONIOUtils:92\t\t0.0\n"
          ]
        },
        {
          "output_type": "stream",
          "name": "stdout",
          "text": [
            "2024-03-23 00:21:52,802 [INFO] 93\t\t1.0\n"
          ]
        },
        {
          "output_type": "stream",
          "name": "stderr",
          "text": [
            "INFO:NEURONIOUtils:93\t\t1.0\n"
          ]
        },
        {
          "output_type": "stream",
          "name": "stdout",
          "text": [
            "2024-03-23 00:21:52,805 [INFO] 94\t\t1.0\n"
          ]
        },
        {
          "output_type": "stream",
          "name": "stderr",
          "text": [
            "INFO:NEURONIOUtils:94\t\t1.0\n"
          ]
        },
        {
          "output_type": "stream",
          "name": "stdout",
          "text": [
            "2024-03-23 00:21:52,807 [INFO] 95\t\t0.0\n"
          ]
        },
        {
          "output_type": "stream",
          "name": "stderr",
          "text": [
            "INFO:NEURONIOUtils:95\t\t0.0\n"
          ]
        },
        {
          "output_type": "stream",
          "name": "stdout",
          "text": [
            "2024-03-23 00:21:52,809 [INFO] 96\t\t0.0\n"
          ]
        },
        {
          "output_type": "stream",
          "name": "stderr",
          "text": [
            "INFO:NEURONIOUtils:96\t\t0.0\n"
          ]
        },
        {
          "output_type": "stream",
          "name": "stdout",
          "text": [
            "2024-03-23 00:21:52,811 [INFO] 97\t\t1.0\n"
          ]
        },
        {
          "output_type": "stream",
          "name": "stderr",
          "text": [
            "INFO:NEURONIOUtils:97\t\t1.0\n"
          ]
        },
        {
          "output_type": "stream",
          "name": "stdout",
          "text": [
            "2024-03-23 00:21:52,813 [INFO] 98\t\t1.0\n"
          ]
        },
        {
          "output_type": "stream",
          "name": "stderr",
          "text": [
            "INFO:NEURONIOUtils:98\t\t1.0\n"
          ]
        },
        {
          "output_type": "stream",
          "name": "stdout",
          "text": [
            "2024-03-23 00:21:52,815 [INFO] 99\t\t1.0\n"
          ]
        },
        {
          "output_type": "stream",
          "name": "stderr",
          "text": [
            "INFO:NEURONIOUtils:99\t\t1.0\n"
          ]
        },
        {
          "output_type": "stream",
          "name": "stdout",
          "text": [
            "2024-03-23 00:21:52,817 [INFO] IMG firing rate avg: 1.0 Hz\n"
          ]
        },
        {
          "output_type": "stream",
          "name": "stderr",
          "text": [
            "INFO:NEURONIOUtils:IMG firing rate avg: 1.0 Hz\n"
          ]
        },
        {
          "output_type": "stream",
          "name": "stdout",
          "text": [
            "2024-03-23 00:21:52,824 [INFO] Volume = 0.4375 ml\n"
          ]
        },
        {
          "output_type": "stream",
          "name": "stderr",
          "text": [
            "/usr/local/lib/python3.10/dist-packages/bmtk/utils/reports/spike_trains/spike_trains.py:183: RuntimeWarning: divide by zero encountered in scalar divide\n",
            "  interval = -np.log(1.0 - np.random.uniform()) / fr\n",
            "INFO:NEURONIOUtils:Volume = 0.4375 ml\n"
          ]
        },
        {
          "output_type": "stream",
          "name": "stdout",
          "text": [
            "2024-03-23 00:21:52,827 [INFO] Pressure = 0.00 mmHg\n"
          ]
        },
        {
          "output_type": "stream",
          "name": "stderr",
          "text": [
            "INFO:NEURONIOUtils:Pressure = 0.00 mmHg\n"
          ]
        },
        {
          "output_type": "stream",
          "name": "stdout",
          "text": [
            "2024-03-23 00:21:52,830 [INFO] Calculated bladder afferent firing rate for the next time step = 0.00 Hz \n",
            " \n",
            "\n"
          ]
        },
        {
          "output_type": "stream",
          "name": "stderr",
          "text": [
            "INFO:NEURONIOUtils:Calculated bladder afferent firing rate for the next time step = 0.00 Hz \n",
            " \n",
            "\n"
          ]
        },
        {
          "output_type": "stream",
          "name": "stdout",
          "text": [
            "2024-03-23 00:21:55,903 [INFO]     step:85000 t_sim:17000.00 ms\n"
          ]
        },
        {
          "output_type": "stream",
          "name": "stderr",
          "text": [
            "INFO:NEURONIOUtils:    step:85000 t_sim:17000.00 ms\n"
          ]
        },
        {
          "output_type": "stream",
          "name": "stdout",
          "text": [
            "2024-03-23 00:21:55,918 [INFO] Timestep 16000.0 to 17000.0 ms\n"
          ]
        },
        {
          "output_type": "stream",
          "name": "stderr",
          "text": [
            "INFO:NEURONIOUtils:Timestep 16000.0 to 17000.0 ms\n"
          ]
        },
        {
          "output_type": "stream",
          "name": "stdout",
          "text": [
            "2024-03-23 00:21:55,923 [INFO] PGN node_id\t  Hz\n"
          ]
        },
        {
          "output_type": "stream",
          "name": "stderr",
          "text": [
            "INFO:NEURONIOUtils:PGN node_id\t  Hz\n"
          ]
        },
        {
          "output_type": "stream",
          "name": "stdout",
          "text": [
            "2024-03-23 00:21:55,927 [INFO] 70\t\t2.0\n"
          ]
        },
        {
          "output_type": "stream",
          "name": "stderr",
          "text": [
            "INFO:NEURONIOUtils:70\t\t2.0\n"
          ]
        },
        {
          "output_type": "stream",
          "name": "stdout",
          "text": [
            "2024-03-23 00:21:55,930 [INFO] 71\t\t2.0\n"
          ]
        },
        {
          "output_type": "stream",
          "name": "stderr",
          "text": [
            "INFO:NEURONIOUtils:71\t\t2.0\n"
          ]
        },
        {
          "output_type": "stream",
          "name": "stdout",
          "text": [
            "2024-03-23 00:21:55,932 [INFO] 72\t\t2.0\n"
          ]
        },
        {
          "output_type": "stream",
          "name": "stderr",
          "text": [
            "INFO:NEURONIOUtils:72\t\t2.0\n"
          ]
        },
        {
          "output_type": "stream",
          "name": "stdout",
          "text": [
            "2024-03-23 00:21:55,934 [INFO] 73\t\t2.0\n"
          ]
        },
        {
          "output_type": "stream",
          "name": "stderr",
          "text": [
            "INFO:NEURONIOUtils:73\t\t2.0\n"
          ]
        },
        {
          "output_type": "stream",
          "name": "stdout",
          "text": [
            "2024-03-23 00:21:55,947 [INFO] 74\t\t2.0\n"
          ]
        },
        {
          "output_type": "stream",
          "name": "stderr",
          "text": [
            "INFO:NEURONIOUtils:74\t\t2.0\n"
          ]
        },
        {
          "output_type": "stream",
          "name": "stdout",
          "text": [
            "2024-03-23 00:21:55,953 [INFO] 75\t\t2.0\n"
          ]
        },
        {
          "output_type": "stream",
          "name": "stderr",
          "text": [
            "INFO:NEURONIOUtils:75\t\t2.0\n"
          ]
        },
        {
          "output_type": "stream",
          "name": "stdout",
          "text": [
            "2024-03-23 00:21:55,961 [INFO] 76\t\t2.0\n"
          ]
        },
        {
          "output_type": "stream",
          "name": "stderr",
          "text": [
            "INFO:NEURONIOUtils:76\t\t2.0\n"
          ]
        },
        {
          "output_type": "stream",
          "name": "stdout",
          "text": [
            "2024-03-23 00:21:55,965 [INFO] 77\t\t2.0\n"
          ]
        },
        {
          "output_type": "stream",
          "name": "stderr",
          "text": [
            "INFO:NEURONIOUtils:77\t\t2.0\n"
          ]
        },
        {
          "output_type": "stream",
          "name": "stdout",
          "text": [
            "2024-03-23 00:21:55,970 [INFO] 78\t\t2.0\n"
          ]
        },
        {
          "output_type": "stream",
          "name": "stderr",
          "text": [
            "INFO:NEURONIOUtils:78\t\t2.0\n"
          ]
        },
        {
          "output_type": "stream",
          "name": "stdout",
          "text": [
            "2024-03-23 00:21:55,975 [INFO] 79\t\t2.0\n"
          ]
        },
        {
          "output_type": "stream",
          "name": "stderr",
          "text": [
            "INFO:NEURONIOUtils:79\t\t2.0\n"
          ]
        },
        {
          "output_type": "stream",
          "name": "stdout",
          "text": [
            "2024-03-23 00:21:55,978 [INFO] PGN firing rate avg: 2.0 Hz\n"
          ]
        },
        {
          "output_type": "stream",
          "name": "stderr",
          "text": [
            "INFO:NEURONIOUtils:PGN firing rate avg: 2.0 Hz\n"
          ]
        },
        {
          "output_type": "stream",
          "name": "stdout",
          "text": [
            "2024-03-23 00:21:55,980 [INFO] Grill PGN fr = 2.984 Hz\n"
          ]
        },
        {
          "output_type": "stream",
          "name": "stderr",
          "text": [
            "INFO:NEURONIOUtils:Grill PGN fr = 2.984 Hz\n"
          ]
        },
        {
          "output_type": "stream",
          "name": "stdout",
          "text": [
            "2024-03-23 00:21:55,982 [INFO] IMG node_gid\t  Hz\n"
          ]
        },
        {
          "output_type": "stream",
          "name": "stderr",
          "text": [
            "INFO:NEURONIOUtils:IMG node_gid\t  Hz\n"
          ]
        },
        {
          "output_type": "stream",
          "name": "stdout",
          "text": [
            "2024-03-23 00:21:55,987 [INFO] 90\t\t0.0\n"
          ]
        },
        {
          "output_type": "stream",
          "name": "stderr",
          "text": [
            "INFO:NEURONIOUtils:90\t\t0.0\n"
          ]
        },
        {
          "output_type": "stream",
          "name": "stdout",
          "text": [
            "2024-03-23 00:21:55,989 [INFO] 91\t\t1.0\n"
          ]
        },
        {
          "output_type": "stream",
          "name": "stderr",
          "text": [
            "INFO:NEURONIOUtils:91\t\t1.0\n"
          ]
        },
        {
          "output_type": "stream",
          "name": "stdout",
          "text": [
            "2024-03-23 00:21:55,991 [INFO] 92\t\t0.0\n"
          ]
        },
        {
          "output_type": "stream",
          "name": "stderr",
          "text": [
            "INFO:NEURONIOUtils:92\t\t0.0\n"
          ]
        },
        {
          "output_type": "stream",
          "name": "stdout",
          "text": [
            "2024-03-23 00:21:55,993 [INFO] 93\t\t1.0\n"
          ]
        },
        {
          "output_type": "stream",
          "name": "stderr",
          "text": [
            "INFO:NEURONIOUtils:93\t\t1.0\n"
          ]
        },
        {
          "output_type": "stream",
          "name": "stdout",
          "text": [
            "2024-03-23 00:21:55,995 [INFO] 94\t\t1.0\n"
          ]
        },
        {
          "output_type": "stream",
          "name": "stderr",
          "text": [
            "INFO:NEURONIOUtils:94\t\t1.0\n"
          ]
        },
        {
          "output_type": "stream",
          "name": "stdout",
          "text": [
            "2024-03-23 00:21:55,999 [INFO] 95\t\t0.0\n"
          ]
        },
        {
          "output_type": "stream",
          "name": "stderr",
          "text": [
            "INFO:NEURONIOUtils:95\t\t0.0\n"
          ]
        },
        {
          "output_type": "stream",
          "name": "stdout",
          "text": [
            "2024-03-23 00:21:56,001 [INFO] 96\t\t0.0\n"
          ]
        },
        {
          "output_type": "stream",
          "name": "stderr",
          "text": [
            "INFO:NEURONIOUtils:96\t\t0.0\n"
          ]
        },
        {
          "output_type": "stream",
          "name": "stdout",
          "text": [
            "2024-03-23 00:21:56,003 [INFO] 97\t\t1.0\n"
          ]
        },
        {
          "output_type": "stream",
          "name": "stderr",
          "text": [
            "INFO:NEURONIOUtils:97\t\t1.0\n"
          ]
        },
        {
          "output_type": "stream",
          "name": "stdout",
          "text": [
            "2024-03-23 00:21:56,005 [INFO] 98\t\t1.0\n"
          ]
        },
        {
          "output_type": "stream",
          "name": "stderr",
          "text": [
            "INFO:NEURONIOUtils:98\t\t1.0\n"
          ]
        },
        {
          "output_type": "stream",
          "name": "stdout",
          "text": [
            "2024-03-23 00:21:56,008 [INFO] 99\t\t1.0\n"
          ]
        },
        {
          "output_type": "stream",
          "name": "stderr",
          "text": [
            "INFO:NEURONIOUtils:99\t\t1.0\n"
          ]
        },
        {
          "output_type": "stream",
          "name": "stdout",
          "text": [
            "2024-03-23 00:21:56,010 [INFO] IMG firing rate avg: 2.0 Hz\n"
          ]
        },
        {
          "output_type": "stream",
          "name": "stderr",
          "text": [
            "INFO:NEURONIOUtils:IMG firing rate avg: 2.0 Hz\n"
          ]
        },
        {
          "output_type": "stream",
          "name": "stdout",
          "text": [
            "2024-03-23 00:21:56,018 [INFO] Volume = 0.4667 ml\n"
          ]
        },
        {
          "output_type": "stream",
          "name": "stderr",
          "text": [
            "/usr/local/lib/python3.10/dist-packages/bmtk/utils/reports/spike_trains/spike_trains.py:183: RuntimeWarning: divide by zero encountered in scalar divide\n",
            "  interval = -np.log(1.0 - np.random.uniform()) / fr\n",
            "INFO:NEURONIOUtils:Volume = 0.4667 ml\n"
          ]
        },
        {
          "output_type": "stream",
          "name": "stdout",
          "text": [
            "2024-03-23 00:21:56,020 [INFO] Pressure = 0.00 mmHg\n"
          ]
        },
        {
          "output_type": "stream",
          "name": "stderr",
          "text": [
            "INFO:NEURONIOUtils:Pressure = 0.00 mmHg\n"
          ]
        },
        {
          "output_type": "stream",
          "name": "stdout",
          "text": [
            "2024-03-23 00:21:56,022 [INFO] Calculated bladder afferent firing rate for the next time step = 0.00 Hz \n",
            " \n",
            "\n"
          ]
        },
        {
          "output_type": "stream",
          "name": "stderr",
          "text": [
            "INFO:NEURONIOUtils:Calculated bladder afferent firing rate for the next time step = 0.00 Hz \n",
            " \n",
            "\n"
          ]
        },
        {
          "output_type": "stream",
          "name": "stdout",
          "text": [
            "2024-03-23 00:21:58,858 [INFO]     step:90000 t_sim:18000.00 ms\n"
          ]
        },
        {
          "output_type": "stream",
          "name": "stderr",
          "text": [
            "INFO:NEURONIOUtils:    step:90000 t_sim:18000.00 ms\n"
          ]
        },
        {
          "output_type": "stream",
          "name": "stdout",
          "text": [
            "2024-03-23 00:21:58,874 [INFO] Timestep 17000.0 to 18000.0 ms\n"
          ]
        },
        {
          "output_type": "stream",
          "name": "stderr",
          "text": [
            "INFO:NEURONIOUtils:Timestep 17000.0 to 18000.0 ms\n"
          ]
        },
        {
          "output_type": "stream",
          "name": "stdout",
          "text": [
            "2024-03-23 00:21:58,881 [INFO] PGN node_id\t  Hz\n"
          ]
        },
        {
          "output_type": "stream",
          "name": "stderr",
          "text": [
            "INFO:NEURONIOUtils:PGN node_id\t  Hz\n"
          ]
        },
        {
          "output_type": "stream",
          "name": "stdout",
          "text": [
            "2024-03-23 00:21:58,885 [INFO] 70\t\t2.0\n"
          ]
        },
        {
          "output_type": "stream",
          "name": "stderr",
          "text": [
            "INFO:NEURONIOUtils:70\t\t2.0\n"
          ]
        },
        {
          "output_type": "stream",
          "name": "stdout",
          "text": [
            "2024-03-23 00:21:58,891 [INFO] 71\t\t2.0\n"
          ]
        },
        {
          "output_type": "stream",
          "name": "stderr",
          "text": [
            "INFO:NEURONIOUtils:71\t\t2.0\n"
          ]
        },
        {
          "output_type": "stream",
          "name": "stdout",
          "text": [
            "2024-03-23 00:21:58,897 [INFO] 72\t\t2.0\n"
          ]
        },
        {
          "output_type": "stream",
          "name": "stderr",
          "text": [
            "INFO:NEURONIOUtils:72\t\t2.0\n"
          ]
        },
        {
          "output_type": "stream",
          "name": "stdout",
          "text": [
            "2024-03-23 00:21:58,903 [INFO] 73\t\t2.0\n"
          ]
        },
        {
          "output_type": "stream",
          "name": "stderr",
          "text": [
            "INFO:NEURONIOUtils:73\t\t2.0\n"
          ]
        },
        {
          "output_type": "stream",
          "name": "stdout",
          "text": [
            "2024-03-23 00:21:58,907 [INFO] 74\t\t2.0\n"
          ]
        },
        {
          "output_type": "stream",
          "name": "stderr",
          "text": [
            "INFO:NEURONIOUtils:74\t\t2.0\n"
          ]
        },
        {
          "output_type": "stream",
          "name": "stdout",
          "text": [
            "2024-03-23 00:21:58,913 [INFO] 75\t\t2.0\n"
          ]
        },
        {
          "output_type": "stream",
          "name": "stderr",
          "text": [
            "INFO:NEURONIOUtils:75\t\t2.0\n"
          ]
        },
        {
          "output_type": "stream",
          "name": "stdout",
          "text": [
            "2024-03-23 00:21:58,917 [INFO] 76\t\t2.0\n"
          ]
        },
        {
          "output_type": "stream",
          "name": "stderr",
          "text": [
            "INFO:NEURONIOUtils:76\t\t2.0\n"
          ]
        },
        {
          "output_type": "stream",
          "name": "stdout",
          "text": [
            "2024-03-23 00:21:58,921 [INFO] 77\t\t2.0\n"
          ]
        },
        {
          "output_type": "stream",
          "name": "stderr",
          "text": [
            "INFO:NEURONIOUtils:77\t\t2.0\n"
          ]
        },
        {
          "output_type": "stream",
          "name": "stdout",
          "text": [
            "2024-03-23 00:21:58,924 [INFO] 78\t\t2.0\n"
          ]
        },
        {
          "output_type": "stream",
          "name": "stderr",
          "text": [
            "INFO:NEURONIOUtils:78\t\t2.0\n"
          ]
        },
        {
          "output_type": "stream",
          "name": "stdout",
          "text": [
            "2024-03-23 00:21:58,929 [INFO] 79\t\t2.0\n"
          ]
        },
        {
          "output_type": "stream",
          "name": "stderr",
          "text": [
            "INFO:NEURONIOUtils:79\t\t2.0\n"
          ]
        },
        {
          "output_type": "stream",
          "name": "stdout",
          "text": [
            "2024-03-23 00:21:58,934 [INFO] PGN firing rate avg: 2.0 Hz\n"
          ]
        },
        {
          "output_type": "stream",
          "name": "stderr",
          "text": [
            "INFO:NEURONIOUtils:PGN firing rate avg: 2.0 Hz\n"
          ]
        },
        {
          "output_type": "stream",
          "name": "stdout",
          "text": [
            "2024-03-23 00:21:58,936 [INFO] Grill PGN fr = 2.984 Hz\n"
          ]
        },
        {
          "output_type": "stream",
          "name": "stderr",
          "text": [
            "INFO:NEURONIOUtils:Grill PGN fr = 2.984 Hz\n"
          ]
        },
        {
          "output_type": "stream",
          "name": "stdout",
          "text": [
            "2024-03-23 00:21:58,941 [INFO] IMG node_gid\t  Hz\n"
          ]
        },
        {
          "output_type": "stream",
          "name": "stderr",
          "text": [
            "INFO:NEURONIOUtils:IMG node_gid\t  Hz\n"
          ]
        },
        {
          "output_type": "stream",
          "name": "stdout",
          "text": [
            "2024-03-23 00:21:58,943 [INFO] 90\t\t0.0\n"
          ]
        },
        {
          "output_type": "stream",
          "name": "stderr",
          "text": [
            "INFO:NEURONIOUtils:90\t\t0.0\n"
          ]
        },
        {
          "output_type": "stream",
          "name": "stdout",
          "text": [
            "2024-03-23 00:21:58,953 [INFO] 91\t\t1.0\n"
          ]
        },
        {
          "output_type": "stream",
          "name": "stderr",
          "text": [
            "INFO:NEURONIOUtils:91\t\t1.0\n"
          ]
        },
        {
          "output_type": "stream",
          "name": "stdout",
          "text": [
            "2024-03-23 00:21:58,956 [INFO] 92\t\t0.0\n"
          ]
        },
        {
          "output_type": "stream",
          "name": "stderr",
          "text": [
            "INFO:NEURONIOUtils:92\t\t0.0\n"
          ]
        },
        {
          "output_type": "stream",
          "name": "stdout",
          "text": [
            "2024-03-23 00:21:58,960 [INFO] 93\t\t1.0\n"
          ]
        },
        {
          "output_type": "stream",
          "name": "stderr",
          "text": [
            "INFO:NEURONIOUtils:93\t\t1.0\n"
          ]
        },
        {
          "output_type": "stream",
          "name": "stdout",
          "text": [
            "2024-03-23 00:21:58,963 [INFO] 94\t\t1.0\n"
          ]
        },
        {
          "output_type": "stream",
          "name": "stderr",
          "text": [
            "INFO:NEURONIOUtils:94\t\t1.0\n"
          ]
        },
        {
          "output_type": "stream",
          "name": "stdout",
          "text": [
            "2024-03-23 00:21:58,967 [INFO] 95\t\t0.0\n"
          ]
        },
        {
          "output_type": "stream",
          "name": "stderr",
          "text": [
            "INFO:NEURONIOUtils:95\t\t0.0\n"
          ]
        },
        {
          "output_type": "stream",
          "name": "stdout",
          "text": [
            "2024-03-23 00:21:58,970 [INFO] 96\t\t0.0\n"
          ]
        },
        {
          "output_type": "stream",
          "name": "stderr",
          "text": [
            "INFO:NEURONIOUtils:96\t\t0.0\n"
          ]
        },
        {
          "output_type": "stream",
          "name": "stdout",
          "text": [
            "2024-03-23 00:21:58,974 [INFO] 97\t\t1.0\n"
          ]
        },
        {
          "output_type": "stream",
          "name": "stderr",
          "text": [
            "INFO:NEURONIOUtils:97\t\t1.0\n"
          ]
        },
        {
          "output_type": "stream",
          "name": "stdout",
          "text": [
            "2024-03-23 00:21:58,976 [INFO] 98\t\t1.0\n"
          ]
        },
        {
          "output_type": "stream",
          "name": "stderr",
          "text": [
            "INFO:NEURONIOUtils:98\t\t1.0\n"
          ]
        },
        {
          "output_type": "stream",
          "name": "stdout",
          "text": [
            "2024-03-23 00:21:58,981 [INFO] 99\t\t1.0\n"
          ]
        },
        {
          "output_type": "stream",
          "name": "stderr",
          "text": [
            "INFO:NEURONIOUtils:99\t\t1.0\n"
          ]
        },
        {
          "output_type": "stream",
          "name": "stdout",
          "text": [
            "2024-03-23 00:21:58,984 [INFO] IMG firing rate avg: 2.0 Hz\n"
          ]
        },
        {
          "output_type": "stream",
          "name": "stderr",
          "text": [
            "INFO:NEURONIOUtils:IMG firing rate avg: 2.0 Hz\n"
          ]
        },
        {
          "output_type": "stream",
          "name": "stdout",
          "text": [
            "2024-03-23 00:21:59,024 [INFO] Volume = 0.4958 ml\n"
          ]
        },
        {
          "output_type": "stream",
          "name": "stderr",
          "text": [
            "/usr/local/lib/python3.10/dist-packages/bmtk/utils/reports/spike_trains/spike_trains.py:183: RuntimeWarning: divide by zero encountered in scalar divide\n",
            "  interval = -np.log(1.0 - np.random.uniform()) / fr\n",
            "INFO:NEURONIOUtils:Volume = 0.4958 ml\n"
          ]
        },
        {
          "output_type": "stream",
          "name": "stdout",
          "text": [
            "2024-03-23 00:21:59,030 [INFO] Pressure = 0.00 mmHg\n"
          ]
        },
        {
          "output_type": "stream",
          "name": "stderr",
          "text": [
            "INFO:NEURONIOUtils:Pressure = 0.00 mmHg\n"
          ]
        },
        {
          "output_type": "stream",
          "name": "stdout",
          "text": [
            "2024-03-23 00:21:59,033 [INFO] Calculated bladder afferent firing rate for the next time step = 0.00 Hz \n",
            " \n",
            "\n"
          ]
        },
        {
          "output_type": "stream",
          "name": "stderr",
          "text": [
            "INFO:NEURONIOUtils:Calculated bladder afferent firing rate for the next time step = 0.00 Hz \n",
            " \n",
            "\n"
          ]
        },
        {
          "output_type": "stream",
          "name": "stdout",
          "text": [
            "2024-03-23 00:22:02,049 [INFO]     step:95000 t_sim:19000.00 ms\n"
          ]
        },
        {
          "output_type": "stream",
          "name": "stderr",
          "text": [
            "INFO:NEURONIOUtils:    step:95000 t_sim:19000.00 ms\n"
          ]
        },
        {
          "output_type": "stream",
          "name": "stdout",
          "text": [
            "2024-03-23 00:22:02,064 [INFO] Timestep 18000.0 to 19000.0 ms\n"
          ]
        },
        {
          "output_type": "stream",
          "name": "stderr",
          "text": [
            "INFO:NEURONIOUtils:Timestep 18000.0 to 19000.0 ms\n"
          ]
        },
        {
          "output_type": "stream",
          "name": "stdout",
          "text": [
            "2024-03-23 00:22:02,070 [INFO] PGN node_id\t  Hz\n"
          ]
        },
        {
          "output_type": "stream",
          "name": "stderr",
          "text": [
            "INFO:NEURONIOUtils:PGN node_id\t  Hz\n"
          ]
        },
        {
          "output_type": "stream",
          "name": "stdout",
          "text": [
            "2024-03-23 00:22:02,074 [INFO] 70\t\t4.0\n"
          ]
        },
        {
          "output_type": "stream",
          "name": "stderr",
          "text": [
            "INFO:NEURONIOUtils:70\t\t4.0\n"
          ]
        },
        {
          "output_type": "stream",
          "name": "stdout",
          "text": [
            "2024-03-23 00:22:02,077 [INFO] 71\t\t4.0\n"
          ]
        },
        {
          "output_type": "stream",
          "name": "stderr",
          "text": [
            "INFO:NEURONIOUtils:71\t\t4.0\n"
          ]
        },
        {
          "output_type": "stream",
          "name": "stdout",
          "text": [
            "2024-03-23 00:22:02,083 [INFO] 72\t\t4.0\n"
          ]
        },
        {
          "output_type": "stream",
          "name": "stderr",
          "text": [
            "INFO:NEURONIOUtils:72\t\t4.0\n"
          ]
        },
        {
          "output_type": "stream",
          "name": "stdout",
          "text": [
            "2024-03-23 00:22:02,085 [INFO] 73\t\t4.0\n"
          ]
        },
        {
          "output_type": "stream",
          "name": "stderr",
          "text": [
            "INFO:NEURONIOUtils:73\t\t4.0\n"
          ]
        },
        {
          "output_type": "stream",
          "name": "stdout",
          "text": [
            "2024-03-23 00:22:02,087 [INFO] 74\t\t4.0\n"
          ]
        },
        {
          "output_type": "stream",
          "name": "stderr",
          "text": [
            "INFO:NEURONIOUtils:74\t\t4.0\n"
          ]
        },
        {
          "output_type": "stream",
          "name": "stdout",
          "text": [
            "2024-03-23 00:22:02,089 [INFO] 75\t\t4.0\n"
          ]
        },
        {
          "output_type": "stream",
          "name": "stderr",
          "text": [
            "INFO:NEURONIOUtils:75\t\t4.0\n"
          ]
        },
        {
          "output_type": "stream",
          "name": "stdout",
          "text": [
            "2024-03-23 00:22:02,092 [INFO] 76\t\t4.0\n"
          ]
        },
        {
          "output_type": "stream",
          "name": "stderr",
          "text": [
            "INFO:NEURONIOUtils:76\t\t4.0\n"
          ]
        },
        {
          "output_type": "stream",
          "name": "stdout",
          "text": [
            "2024-03-23 00:22:02,094 [INFO] 77\t\t4.0\n"
          ]
        },
        {
          "output_type": "stream",
          "name": "stderr",
          "text": [
            "INFO:NEURONIOUtils:77\t\t4.0\n"
          ]
        },
        {
          "output_type": "stream",
          "name": "stdout",
          "text": [
            "2024-03-23 00:22:02,096 [INFO] 78\t\t4.0\n"
          ]
        },
        {
          "output_type": "stream",
          "name": "stderr",
          "text": [
            "INFO:NEURONIOUtils:78\t\t4.0\n"
          ]
        },
        {
          "output_type": "stream",
          "name": "stdout",
          "text": [
            "2024-03-23 00:22:02,098 [INFO] 79\t\t4.0\n"
          ]
        },
        {
          "output_type": "stream",
          "name": "stderr",
          "text": [
            "INFO:NEURONIOUtils:79\t\t4.0\n"
          ]
        },
        {
          "output_type": "stream",
          "name": "stdout",
          "text": [
            "2024-03-23 00:22:02,101 [INFO] PGN firing rate avg: 4.0 Hz\n"
          ]
        },
        {
          "output_type": "stream",
          "name": "stderr",
          "text": [
            "INFO:NEURONIOUtils:PGN firing rate avg: 4.0 Hz\n"
          ]
        },
        {
          "output_type": "stream",
          "name": "stdout",
          "text": [
            "2024-03-23 00:22:02,103 [INFO] Grill PGN fr = 6.3 Hz\n"
          ]
        },
        {
          "output_type": "stream",
          "name": "stderr",
          "text": [
            "INFO:NEURONIOUtils:Grill PGN fr = 6.3 Hz\n"
          ]
        },
        {
          "output_type": "stream",
          "name": "stdout",
          "text": [
            "2024-03-23 00:22:02,106 [INFO] IMG node_gid\t  Hz\n"
          ]
        },
        {
          "output_type": "stream",
          "name": "stderr",
          "text": [
            "INFO:NEURONIOUtils:IMG node_gid\t  Hz\n"
          ]
        },
        {
          "output_type": "stream",
          "name": "stdout",
          "text": [
            "2024-03-23 00:22:02,109 [INFO] 90\t\t0.0\n"
          ]
        },
        {
          "output_type": "stream",
          "name": "stderr",
          "text": [
            "INFO:NEURONIOUtils:90\t\t0.0\n"
          ]
        },
        {
          "output_type": "stream",
          "name": "stdout",
          "text": [
            "2024-03-23 00:22:02,111 [INFO] 91\t\t1.0\n"
          ]
        },
        {
          "output_type": "stream",
          "name": "stderr",
          "text": [
            "INFO:NEURONIOUtils:91\t\t1.0\n"
          ]
        },
        {
          "output_type": "stream",
          "name": "stdout",
          "text": [
            "2024-03-23 00:22:02,114 [INFO] 92\t\t0.0\n"
          ]
        },
        {
          "output_type": "stream",
          "name": "stderr",
          "text": [
            "INFO:NEURONIOUtils:92\t\t0.0\n"
          ]
        },
        {
          "output_type": "stream",
          "name": "stdout",
          "text": [
            "2024-03-23 00:22:02,116 [INFO] 93\t\t1.0\n"
          ]
        },
        {
          "output_type": "stream",
          "name": "stderr",
          "text": [
            "INFO:NEURONIOUtils:93\t\t1.0\n"
          ]
        },
        {
          "output_type": "stream",
          "name": "stdout",
          "text": [
            "2024-03-23 00:22:02,118 [INFO] 94\t\t1.0\n"
          ]
        },
        {
          "output_type": "stream",
          "name": "stderr",
          "text": [
            "INFO:NEURONIOUtils:94\t\t1.0\n"
          ]
        },
        {
          "output_type": "stream",
          "name": "stdout",
          "text": [
            "2024-03-23 00:22:02,120 [INFO] 95\t\t0.0\n"
          ]
        },
        {
          "output_type": "stream",
          "name": "stderr",
          "text": [
            "INFO:NEURONIOUtils:95\t\t0.0\n"
          ]
        },
        {
          "output_type": "stream",
          "name": "stdout",
          "text": [
            "2024-03-23 00:22:02,122 [INFO] 96\t\t0.0\n"
          ]
        },
        {
          "output_type": "stream",
          "name": "stderr",
          "text": [
            "INFO:NEURONIOUtils:96\t\t0.0\n"
          ]
        },
        {
          "output_type": "stream",
          "name": "stdout",
          "text": [
            "2024-03-23 00:22:02,124 [INFO] 97\t\t1.0\n"
          ]
        },
        {
          "output_type": "stream",
          "name": "stderr",
          "text": [
            "INFO:NEURONIOUtils:97\t\t1.0\n"
          ]
        },
        {
          "output_type": "stream",
          "name": "stdout",
          "text": [
            "2024-03-23 00:22:02,127 [INFO] 98\t\t1.0\n"
          ]
        },
        {
          "output_type": "stream",
          "name": "stderr",
          "text": [
            "INFO:NEURONIOUtils:98\t\t1.0\n"
          ]
        },
        {
          "output_type": "stream",
          "name": "stdout",
          "text": [
            "2024-03-23 00:22:02,129 [INFO] 99\t\t1.0\n"
          ]
        },
        {
          "output_type": "stream",
          "name": "stderr",
          "text": [
            "INFO:NEURONIOUtils:99\t\t1.0\n"
          ]
        },
        {
          "output_type": "stream",
          "name": "stdout",
          "text": [
            "2024-03-23 00:22:02,131 [INFO] IMG firing rate avg: 4.0 Hz\n"
          ]
        },
        {
          "output_type": "stream",
          "name": "stderr",
          "text": [
            "INFO:NEURONIOUtils:IMG firing rate avg: 4.0 Hz\n"
          ]
        },
        {
          "output_type": "stream",
          "name": "stdout",
          "text": [
            "2024-03-23 00:22:02,141 [INFO] Volume = 0.5250 ml\n"
          ]
        },
        {
          "output_type": "stream",
          "name": "stderr",
          "text": [
            "/usr/local/lib/python3.10/dist-packages/bmtk/utils/reports/spike_trains/spike_trains.py:183: RuntimeWarning: divide by zero encountered in scalar divide\n",
            "  interval = -np.log(1.0 - np.random.uniform()) / fr\n",
            "INFO:NEURONIOUtils:Volume = 0.5250 ml\n"
          ]
        },
        {
          "output_type": "stream",
          "name": "stdout",
          "text": [
            "2024-03-23 00:22:02,145 [INFO] Pressure = 1.84 mmHg\n"
          ]
        },
        {
          "output_type": "stream",
          "name": "stderr",
          "text": [
            "INFO:NEURONIOUtils:Pressure = 1.84 mmHg\n"
          ]
        },
        {
          "output_type": "stream",
          "name": "stdout",
          "text": [
            "2024-03-23 00:22:02,148 [INFO] Calculated bladder afferent firing rate for the next time step = 0.00 Hz \n",
            " \n",
            "\n"
          ]
        },
        {
          "output_type": "stream",
          "name": "stderr",
          "text": [
            "INFO:NEURONIOUtils:Calculated bladder afferent firing rate for the next time step = 0.00 Hz \n",
            " \n",
            "\n"
          ]
        },
        {
          "output_type": "stream",
          "name": "stdout",
          "text": [
            "2024-03-23 00:22:04,652 [INFO]     step:100000 t_sim:20000.00 ms\n"
          ]
        },
        {
          "output_type": "stream",
          "name": "stderr",
          "text": [
            "INFO:NEURONIOUtils:    step:100000 t_sim:20000.00 ms\n"
          ]
        },
        {
          "output_type": "stream",
          "name": "stdout",
          "text": [
            "2024-03-23 00:22:04,669 [INFO] Timestep 19000.0 to 20000.0 ms\n"
          ]
        },
        {
          "output_type": "stream",
          "name": "stderr",
          "text": [
            "INFO:NEURONIOUtils:Timestep 19000.0 to 20000.0 ms\n"
          ]
        },
        {
          "output_type": "stream",
          "name": "stdout",
          "text": [
            "2024-03-23 00:22:04,674 [INFO] PGN node_id\t  Hz\n"
          ]
        },
        {
          "output_type": "stream",
          "name": "stderr",
          "text": [
            "INFO:NEURONIOUtils:PGN node_id\t  Hz\n"
          ]
        },
        {
          "output_type": "stream",
          "name": "stdout",
          "text": [
            "2024-03-23 00:22:04,677 [INFO] 70\t\t2.0\n"
          ]
        },
        {
          "output_type": "stream",
          "name": "stderr",
          "text": [
            "INFO:NEURONIOUtils:70\t\t2.0\n"
          ]
        },
        {
          "output_type": "stream",
          "name": "stdout",
          "text": [
            "2024-03-23 00:22:04,679 [INFO] 71\t\t2.0\n"
          ]
        },
        {
          "output_type": "stream",
          "name": "stderr",
          "text": [
            "INFO:NEURONIOUtils:71\t\t2.0\n"
          ]
        },
        {
          "output_type": "stream",
          "name": "stdout",
          "text": [
            "2024-03-23 00:22:04,682 [INFO] 72\t\t2.0\n"
          ]
        },
        {
          "output_type": "stream",
          "name": "stderr",
          "text": [
            "INFO:NEURONIOUtils:72\t\t2.0\n"
          ]
        },
        {
          "output_type": "stream",
          "name": "stdout",
          "text": [
            "2024-03-23 00:22:04,684 [INFO] 73\t\t2.0\n"
          ]
        },
        {
          "output_type": "stream",
          "name": "stderr",
          "text": [
            "INFO:NEURONIOUtils:73\t\t2.0\n"
          ]
        },
        {
          "output_type": "stream",
          "name": "stdout",
          "text": [
            "2024-03-23 00:22:04,686 [INFO] 74\t\t2.0\n"
          ]
        },
        {
          "output_type": "stream",
          "name": "stderr",
          "text": [
            "INFO:NEURONIOUtils:74\t\t2.0\n"
          ]
        },
        {
          "output_type": "stream",
          "name": "stdout",
          "text": [
            "2024-03-23 00:22:04,688 [INFO] 75\t\t2.0\n"
          ]
        },
        {
          "output_type": "stream",
          "name": "stderr",
          "text": [
            "INFO:NEURONIOUtils:75\t\t2.0\n"
          ]
        },
        {
          "output_type": "stream",
          "name": "stdout",
          "text": [
            "2024-03-23 00:22:04,690 [INFO] 76\t\t2.0\n"
          ]
        },
        {
          "output_type": "stream",
          "name": "stderr",
          "text": [
            "INFO:NEURONIOUtils:76\t\t2.0\n"
          ]
        },
        {
          "output_type": "stream",
          "name": "stdout",
          "text": [
            "2024-03-23 00:22:04,693 [INFO] 77\t\t2.0\n"
          ]
        },
        {
          "output_type": "stream",
          "name": "stderr",
          "text": [
            "INFO:NEURONIOUtils:77\t\t2.0\n"
          ]
        },
        {
          "output_type": "stream",
          "name": "stdout",
          "text": [
            "2024-03-23 00:22:04,695 [INFO] 78\t\t2.0\n"
          ]
        },
        {
          "output_type": "stream",
          "name": "stderr",
          "text": [
            "INFO:NEURONIOUtils:78\t\t2.0\n"
          ]
        },
        {
          "output_type": "stream",
          "name": "stdout",
          "text": [
            "2024-03-23 00:22:04,697 [INFO] 79\t\t2.0\n"
          ]
        },
        {
          "output_type": "stream",
          "name": "stderr",
          "text": [
            "INFO:NEURONIOUtils:79\t\t2.0\n"
          ]
        },
        {
          "output_type": "stream",
          "name": "stdout",
          "text": [
            "2024-03-23 00:22:04,699 [INFO] PGN firing rate avg: 2.0 Hz\n"
          ]
        },
        {
          "output_type": "stream",
          "name": "stderr",
          "text": [
            "INFO:NEURONIOUtils:PGN firing rate avg: 2.0 Hz\n"
          ]
        },
        {
          "output_type": "stream",
          "name": "stdout",
          "text": [
            "2024-03-23 00:22:04,701 [INFO] Grill PGN fr = 2.984 Hz\n"
          ]
        },
        {
          "output_type": "stream",
          "name": "stderr",
          "text": [
            "INFO:NEURONIOUtils:Grill PGN fr = 2.984 Hz\n"
          ]
        },
        {
          "output_type": "stream",
          "name": "stdout",
          "text": [
            "2024-03-23 00:22:04,703 [INFO] IMG node_gid\t  Hz\n"
          ]
        },
        {
          "output_type": "stream",
          "name": "stderr",
          "text": [
            "INFO:NEURONIOUtils:IMG node_gid\t  Hz\n"
          ]
        },
        {
          "output_type": "stream",
          "name": "stdout",
          "text": [
            "2024-03-23 00:22:04,705 [INFO] 90\t\t0.0\n"
          ]
        },
        {
          "output_type": "stream",
          "name": "stderr",
          "text": [
            "INFO:NEURONIOUtils:90\t\t0.0\n"
          ]
        },
        {
          "output_type": "stream",
          "name": "stdout",
          "text": [
            "2024-03-23 00:22:04,707 [INFO] 91\t\t1.0\n"
          ]
        },
        {
          "output_type": "stream",
          "name": "stderr",
          "text": [
            "INFO:NEURONIOUtils:91\t\t1.0\n"
          ]
        },
        {
          "output_type": "stream",
          "name": "stdout",
          "text": [
            "2024-03-23 00:22:04,709 [INFO] 92\t\t0.0\n"
          ]
        },
        {
          "output_type": "stream",
          "name": "stderr",
          "text": [
            "INFO:NEURONIOUtils:92\t\t0.0\n"
          ]
        },
        {
          "output_type": "stream",
          "name": "stdout",
          "text": [
            "2024-03-23 00:22:04,711 [INFO] 93\t\t1.0\n"
          ]
        },
        {
          "output_type": "stream",
          "name": "stderr",
          "text": [
            "INFO:NEURONIOUtils:93\t\t1.0\n"
          ]
        },
        {
          "output_type": "stream",
          "name": "stdout",
          "text": [
            "2024-03-23 00:22:04,713 [INFO] 94\t\t1.0\n"
          ]
        },
        {
          "output_type": "stream",
          "name": "stderr",
          "text": [
            "INFO:NEURONIOUtils:94\t\t1.0\n"
          ]
        },
        {
          "output_type": "stream",
          "name": "stdout",
          "text": [
            "2024-03-23 00:22:04,715 [INFO] 95\t\t0.0\n"
          ]
        },
        {
          "output_type": "stream",
          "name": "stderr",
          "text": [
            "INFO:NEURONIOUtils:95\t\t0.0\n"
          ]
        },
        {
          "output_type": "stream",
          "name": "stdout",
          "text": [
            "2024-03-23 00:22:04,717 [INFO] 96\t\t0.0\n"
          ]
        },
        {
          "output_type": "stream",
          "name": "stderr",
          "text": [
            "INFO:NEURONIOUtils:96\t\t0.0\n"
          ]
        },
        {
          "output_type": "stream",
          "name": "stdout",
          "text": [
            "2024-03-23 00:22:04,719 [INFO] 97\t\t1.0\n"
          ]
        },
        {
          "output_type": "stream",
          "name": "stderr",
          "text": [
            "INFO:NEURONIOUtils:97\t\t1.0\n"
          ]
        },
        {
          "output_type": "stream",
          "name": "stdout",
          "text": [
            "2024-03-23 00:22:04,721 [INFO] 98\t\t1.0\n"
          ]
        },
        {
          "output_type": "stream",
          "name": "stderr",
          "text": [
            "INFO:NEURONIOUtils:98\t\t1.0\n"
          ]
        },
        {
          "output_type": "stream",
          "name": "stdout",
          "text": [
            "2024-03-23 00:22:04,724 [INFO] 99\t\t1.0\n"
          ]
        },
        {
          "output_type": "stream",
          "name": "stderr",
          "text": [
            "INFO:NEURONIOUtils:99\t\t1.0\n"
          ]
        },
        {
          "output_type": "stream",
          "name": "stdout",
          "text": [
            "2024-03-23 00:22:04,726 [INFO] IMG firing rate avg: 2.0 Hz\n"
          ]
        },
        {
          "output_type": "stream",
          "name": "stderr",
          "text": [
            "INFO:NEURONIOUtils:IMG firing rate avg: 2.0 Hz\n"
          ]
        },
        {
          "output_type": "stream",
          "name": "stdout",
          "text": [
            "2024-03-23 00:22:04,733 [INFO] Volume = 0.5542 ml\n"
          ]
        },
        {
          "output_type": "stream",
          "name": "stderr",
          "text": [
            "/usr/local/lib/python3.10/dist-packages/bmtk/utils/reports/spike_trains/spike_trains.py:183: RuntimeWarning: divide by zero encountered in scalar divide\n",
            "  interval = -np.log(1.0 - np.random.uniform()) / fr\n",
            "INFO:NEURONIOUtils:Volume = 0.5542 ml\n"
          ]
        },
        {
          "output_type": "stream",
          "name": "stdout",
          "text": [
            "2024-03-23 00:22:04,736 [INFO] Pressure = 0.36 mmHg\n"
          ]
        },
        {
          "output_type": "stream",
          "name": "stderr",
          "text": [
            "INFO:NEURONIOUtils:Pressure = 0.36 mmHg\n"
          ]
        },
        {
          "output_type": "stream",
          "name": "stdout",
          "text": [
            "2024-03-23 00:22:04,739 [INFO] Calculated bladder afferent firing rate for the next time step = 0.00 Hz \n",
            " \n",
            "\n"
          ]
        },
        {
          "output_type": "stream",
          "name": "stderr",
          "text": [
            "INFO:NEURONIOUtils:Calculated bladder afferent firing rate for the next time step = 0.00 Hz \n",
            " \n",
            "\n"
          ]
        },
        {
          "output_type": "stream",
          "name": "stdout",
          "text": [
            "2024-03-23 00:22:07,417 [INFO]     step:105000 t_sim:21000.00 ms\n"
          ]
        },
        {
          "output_type": "stream",
          "name": "stderr",
          "text": [
            "INFO:NEURONIOUtils:    step:105000 t_sim:21000.00 ms\n"
          ]
        },
        {
          "output_type": "stream",
          "name": "stdout",
          "text": [
            "2024-03-23 00:22:07,431 [INFO] Timestep 20000.0 to 21000.0 ms\n"
          ]
        },
        {
          "output_type": "stream",
          "name": "stderr",
          "text": [
            "INFO:NEURONIOUtils:Timestep 20000.0 to 21000.0 ms\n"
          ]
        },
        {
          "output_type": "stream",
          "name": "stdout",
          "text": [
            "2024-03-23 00:22:07,435 [INFO] PGN node_id\t  Hz\n"
          ]
        },
        {
          "output_type": "stream",
          "name": "stderr",
          "text": [
            "INFO:NEURONIOUtils:PGN node_id\t  Hz\n"
          ]
        },
        {
          "output_type": "stream",
          "name": "stdout",
          "text": [
            "2024-03-23 00:22:07,438 [INFO] 70\t\t3.0\n"
          ]
        },
        {
          "output_type": "stream",
          "name": "stderr",
          "text": [
            "INFO:NEURONIOUtils:70\t\t3.0\n"
          ]
        },
        {
          "output_type": "stream",
          "name": "stdout",
          "text": [
            "2024-03-23 00:22:07,442 [INFO] 71\t\t3.0\n"
          ]
        },
        {
          "output_type": "stream",
          "name": "stderr",
          "text": [
            "INFO:NEURONIOUtils:71\t\t3.0\n"
          ]
        },
        {
          "output_type": "stream",
          "name": "stdout",
          "text": [
            "2024-03-23 00:22:07,444 [INFO] 72\t\t3.0\n"
          ]
        },
        {
          "output_type": "stream",
          "name": "stderr",
          "text": [
            "INFO:NEURONIOUtils:72\t\t3.0\n"
          ]
        },
        {
          "output_type": "stream",
          "name": "stdout",
          "text": [
            "2024-03-23 00:22:07,445 [INFO] 73\t\t3.0\n"
          ]
        },
        {
          "output_type": "stream",
          "name": "stderr",
          "text": [
            "INFO:NEURONIOUtils:73\t\t3.0\n"
          ]
        },
        {
          "output_type": "stream",
          "name": "stdout",
          "text": [
            "2024-03-23 00:22:07,448 [INFO] 74\t\t3.0\n"
          ]
        },
        {
          "output_type": "stream",
          "name": "stderr",
          "text": [
            "INFO:NEURONIOUtils:74\t\t3.0\n"
          ]
        },
        {
          "output_type": "stream",
          "name": "stdout",
          "text": [
            "2024-03-23 00:22:07,450 [INFO] 75\t\t3.0\n"
          ]
        },
        {
          "output_type": "stream",
          "name": "stderr",
          "text": [
            "INFO:NEURONIOUtils:75\t\t3.0\n"
          ]
        },
        {
          "output_type": "stream",
          "name": "stdout",
          "text": [
            "2024-03-23 00:22:07,452 [INFO] 76\t\t3.0\n"
          ]
        },
        {
          "output_type": "stream",
          "name": "stderr",
          "text": [
            "INFO:NEURONIOUtils:76\t\t3.0\n"
          ]
        },
        {
          "output_type": "stream",
          "name": "stdout",
          "text": [
            "2024-03-23 00:22:07,454 [INFO] 77\t\t3.0\n"
          ]
        },
        {
          "output_type": "stream",
          "name": "stderr",
          "text": [
            "INFO:NEURONIOUtils:77\t\t3.0\n"
          ]
        },
        {
          "output_type": "stream",
          "name": "stdout",
          "text": [
            "2024-03-23 00:22:07,456 [INFO] 78\t\t3.0\n"
          ]
        },
        {
          "output_type": "stream",
          "name": "stderr",
          "text": [
            "INFO:NEURONIOUtils:78\t\t3.0\n"
          ]
        },
        {
          "output_type": "stream",
          "name": "stdout",
          "text": [
            "2024-03-23 00:22:07,458 [INFO] 79\t\t3.0\n"
          ]
        },
        {
          "output_type": "stream",
          "name": "stderr",
          "text": [
            "INFO:NEURONIOUtils:79\t\t3.0\n"
          ]
        },
        {
          "output_type": "stream",
          "name": "stdout",
          "text": [
            "2024-03-23 00:22:07,460 [INFO] PGN firing rate avg: 3.0 Hz\n"
          ]
        },
        {
          "output_type": "stream",
          "name": "stderr",
          "text": [
            "INFO:NEURONIOUtils:PGN firing rate avg: 3.0 Hz\n"
          ]
        },
        {
          "output_type": "stream",
          "name": "stdout",
          "text": [
            "2024-03-23 00:22:07,462 [INFO] Grill PGN fr = 4.657 Hz\n"
          ]
        },
        {
          "output_type": "stream",
          "name": "stderr",
          "text": [
            "INFO:NEURONIOUtils:Grill PGN fr = 4.657 Hz\n"
          ]
        },
        {
          "output_type": "stream",
          "name": "stdout",
          "text": [
            "2024-03-23 00:22:07,464 [INFO] IMG node_gid\t  Hz\n"
          ]
        },
        {
          "output_type": "stream",
          "name": "stderr",
          "text": [
            "INFO:NEURONIOUtils:IMG node_gid\t  Hz\n"
          ]
        },
        {
          "output_type": "stream",
          "name": "stdout",
          "text": [
            "2024-03-23 00:22:07,466 [INFO] 90\t\t0.0\n"
          ]
        },
        {
          "output_type": "stream",
          "name": "stderr",
          "text": [
            "INFO:NEURONIOUtils:90\t\t0.0\n"
          ]
        },
        {
          "output_type": "stream",
          "name": "stdout",
          "text": [
            "2024-03-23 00:22:07,468 [INFO] 91\t\t1.0\n"
          ]
        },
        {
          "output_type": "stream",
          "name": "stderr",
          "text": [
            "INFO:NEURONIOUtils:91\t\t1.0\n"
          ]
        },
        {
          "output_type": "stream",
          "name": "stdout",
          "text": [
            "2024-03-23 00:22:07,470 [INFO] 92\t\t0.0\n"
          ]
        },
        {
          "output_type": "stream",
          "name": "stderr",
          "text": [
            "INFO:NEURONIOUtils:92\t\t0.0\n"
          ]
        },
        {
          "output_type": "stream",
          "name": "stdout",
          "text": [
            "2024-03-23 00:22:07,472 [INFO] 93\t\t1.0\n"
          ]
        },
        {
          "output_type": "stream",
          "name": "stderr",
          "text": [
            "INFO:NEURONIOUtils:93\t\t1.0\n"
          ]
        },
        {
          "output_type": "stream",
          "name": "stdout",
          "text": [
            "2024-03-23 00:22:07,474 [INFO] 94\t\t1.0\n"
          ]
        },
        {
          "output_type": "stream",
          "name": "stderr",
          "text": [
            "INFO:NEURONIOUtils:94\t\t1.0\n"
          ]
        },
        {
          "output_type": "stream",
          "name": "stdout",
          "text": [
            "2024-03-23 00:22:07,476 [INFO] 95\t\t0.0\n"
          ]
        },
        {
          "output_type": "stream",
          "name": "stderr",
          "text": [
            "INFO:NEURONIOUtils:95\t\t0.0\n"
          ]
        },
        {
          "output_type": "stream",
          "name": "stdout",
          "text": [
            "2024-03-23 00:22:07,478 [INFO] 96\t\t0.0\n"
          ]
        },
        {
          "output_type": "stream",
          "name": "stderr",
          "text": [
            "INFO:NEURONIOUtils:96\t\t0.0\n"
          ]
        },
        {
          "output_type": "stream",
          "name": "stdout",
          "text": [
            "2024-03-23 00:22:07,480 [INFO] 97\t\t1.0\n"
          ]
        },
        {
          "output_type": "stream",
          "name": "stderr",
          "text": [
            "INFO:NEURONIOUtils:97\t\t1.0\n"
          ]
        },
        {
          "output_type": "stream",
          "name": "stdout",
          "text": [
            "2024-03-23 00:22:07,482 [INFO] 98\t\t1.0\n"
          ]
        },
        {
          "output_type": "stream",
          "name": "stderr",
          "text": [
            "INFO:NEURONIOUtils:98\t\t1.0\n"
          ]
        },
        {
          "output_type": "stream",
          "name": "stdout",
          "text": [
            "2024-03-23 00:22:07,484 [INFO] 99\t\t1.0\n"
          ]
        },
        {
          "output_type": "stream",
          "name": "stderr",
          "text": [
            "INFO:NEURONIOUtils:99\t\t1.0\n"
          ]
        },
        {
          "output_type": "stream",
          "name": "stdout",
          "text": [
            "2024-03-23 00:22:07,486 [INFO] IMG firing rate avg: 3.0 Hz\n"
          ]
        },
        {
          "output_type": "stream",
          "name": "stderr",
          "text": [
            "INFO:NEURONIOUtils:IMG firing rate avg: 3.0 Hz\n"
          ]
        },
        {
          "output_type": "stream",
          "name": "stdout",
          "text": [
            "2024-03-23 00:22:07,494 [INFO] Volume = 0.5833 ml\n"
          ]
        },
        {
          "output_type": "stream",
          "name": "stderr",
          "text": [
            "/usr/local/lib/python3.10/dist-packages/bmtk/utils/reports/spike_trains/spike_trains.py:183: RuntimeWarning: divide by zero encountered in scalar divide\n",
            "  interval = -np.log(1.0 - np.random.uniform()) / fr\n",
            "INFO:NEURONIOUtils:Volume = 0.5833 ml\n"
          ]
        },
        {
          "output_type": "stream",
          "name": "stdout",
          "text": [
            "2024-03-23 00:22:07,498 [INFO] Pressure = 1.45 mmHg\n"
          ]
        },
        {
          "output_type": "stream",
          "name": "stderr",
          "text": [
            "INFO:NEURONIOUtils:Pressure = 1.45 mmHg\n"
          ]
        },
        {
          "output_type": "stream",
          "name": "stdout",
          "text": [
            "2024-03-23 00:22:07,500 [INFO] Calculated bladder afferent firing rate for the next time step = 0.00 Hz \n",
            " \n",
            "\n"
          ]
        },
        {
          "output_type": "stream",
          "name": "stderr",
          "text": [
            "INFO:NEURONIOUtils:Calculated bladder afferent firing rate for the next time step = 0.00 Hz \n",
            " \n",
            "\n"
          ]
        },
        {
          "output_type": "stream",
          "name": "stdout",
          "text": [
            "2024-03-23 00:22:10,189 [INFO]     step:110000 t_sim:22000.00 ms\n"
          ]
        },
        {
          "output_type": "stream",
          "name": "stderr",
          "text": [
            "INFO:NEURONIOUtils:    step:110000 t_sim:22000.00 ms\n"
          ]
        },
        {
          "output_type": "stream",
          "name": "stdout",
          "text": [
            "2024-03-23 00:22:10,201 [INFO] Timestep 21000.0 to 22000.0 ms\n"
          ]
        },
        {
          "output_type": "stream",
          "name": "stderr",
          "text": [
            "INFO:NEURONIOUtils:Timestep 21000.0 to 22000.0 ms\n"
          ]
        },
        {
          "output_type": "stream",
          "name": "stdout",
          "text": [
            "2024-03-23 00:22:10,206 [INFO] PGN node_id\t  Hz\n"
          ]
        },
        {
          "output_type": "stream",
          "name": "stderr",
          "text": [
            "INFO:NEURONIOUtils:PGN node_id\t  Hz\n"
          ]
        },
        {
          "output_type": "stream",
          "name": "stdout",
          "text": [
            "2024-03-23 00:22:10,210 [INFO] 70\t\t4.0\n"
          ]
        },
        {
          "output_type": "stream",
          "name": "stderr",
          "text": [
            "INFO:NEURONIOUtils:70\t\t4.0\n"
          ]
        },
        {
          "output_type": "stream",
          "name": "stdout",
          "text": [
            "2024-03-23 00:22:10,219 [INFO] 71\t\t4.0\n"
          ]
        },
        {
          "output_type": "stream",
          "name": "stderr",
          "text": [
            "INFO:NEURONIOUtils:71\t\t4.0\n"
          ]
        },
        {
          "output_type": "stream",
          "name": "stdout",
          "text": [
            "2024-03-23 00:22:10,220 [INFO] 72\t\t4.0\n"
          ]
        },
        {
          "output_type": "stream",
          "name": "stderr",
          "text": [
            "INFO:NEURONIOUtils:72\t\t4.0\n"
          ]
        },
        {
          "output_type": "stream",
          "name": "stdout",
          "text": [
            "2024-03-23 00:22:10,222 [INFO] 73\t\t4.0\n"
          ]
        },
        {
          "output_type": "stream",
          "name": "stderr",
          "text": [
            "INFO:NEURONIOUtils:73\t\t4.0\n"
          ]
        },
        {
          "output_type": "stream",
          "name": "stdout",
          "text": [
            "2024-03-23 00:22:10,224 [INFO] 74\t\t4.0\n"
          ]
        },
        {
          "output_type": "stream",
          "name": "stderr",
          "text": [
            "INFO:NEURONIOUtils:74\t\t4.0\n"
          ]
        },
        {
          "output_type": "stream",
          "name": "stdout",
          "text": [
            "2024-03-23 00:22:10,226 [INFO] 75\t\t4.0\n"
          ]
        },
        {
          "output_type": "stream",
          "name": "stderr",
          "text": [
            "INFO:NEURONIOUtils:75\t\t4.0\n"
          ]
        },
        {
          "output_type": "stream",
          "name": "stdout",
          "text": [
            "2024-03-23 00:22:10,228 [INFO] 76\t\t4.0\n"
          ]
        },
        {
          "output_type": "stream",
          "name": "stderr",
          "text": [
            "INFO:NEURONIOUtils:76\t\t4.0\n"
          ]
        },
        {
          "output_type": "stream",
          "name": "stdout",
          "text": [
            "2024-03-23 00:22:10,230 [INFO] 77\t\t4.0\n"
          ]
        },
        {
          "output_type": "stream",
          "name": "stderr",
          "text": [
            "INFO:NEURONIOUtils:77\t\t4.0\n"
          ]
        },
        {
          "output_type": "stream",
          "name": "stdout",
          "text": [
            "2024-03-23 00:22:10,232 [INFO] 78\t\t4.0\n"
          ]
        },
        {
          "output_type": "stream",
          "name": "stderr",
          "text": [
            "INFO:NEURONIOUtils:78\t\t4.0\n"
          ]
        },
        {
          "output_type": "stream",
          "name": "stdout",
          "text": [
            "2024-03-23 00:22:10,234 [INFO] 79\t\t4.0\n"
          ]
        },
        {
          "output_type": "stream",
          "name": "stderr",
          "text": [
            "INFO:NEURONIOUtils:79\t\t4.0\n"
          ]
        },
        {
          "output_type": "stream",
          "name": "stdout",
          "text": [
            "2024-03-23 00:22:10,236 [INFO] PGN firing rate avg: 4.0 Hz\n"
          ]
        },
        {
          "output_type": "stream",
          "name": "stderr",
          "text": [
            "INFO:NEURONIOUtils:PGN firing rate avg: 4.0 Hz\n"
          ]
        },
        {
          "output_type": "stream",
          "name": "stdout",
          "text": [
            "2024-03-23 00:22:10,238 [INFO] Grill PGN fr = 6.3 Hz\n"
          ]
        },
        {
          "output_type": "stream",
          "name": "stderr",
          "text": [
            "INFO:NEURONIOUtils:Grill PGN fr = 6.3 Hz\n"
          ]
        },
        {
          "output_type": "stream",
          "name": "stdout",
          "text": [
            "2024-03-23 00:22:10,239 [INFO] IMG node_gid\t  Hz\n"
          ]
        },
        {
          "output_type": "stream",
          "name": "stderr",
          "text": [
            "INFO:NEURONIOUtils:IMG node_gid\t  Hz\n"
          ]
        },
        {
          "output_type": "stream",
          "name": "stdout",
          "text": [
            "2024-03-23 00:22:10,242 [INFO] 90\t\t0.0\n"
          ]
        },
        {
          "output_type": "stream",
          "name": "stderr",
          "text": [
            "INFO:NEURONIOUtils:90\t\t0.0\n"
          ]
        },
        {
          "output_type": "stream",
          "name": "stdout",
          "text": [
            "2024-03-23 00:22:10,244 [INFO] 91\t\t1.0\n"
          ]
        },
        {
          "output_type": "stream",
          "name": "stderr",
          "text": [
            "INFO:NEURONIOUtils:91\t\t1.0\n"
          ]
        },
        {
          "output_type": "stream",
          "name": "stdout",
          "text": [
            "2024-03-23 00:22:10,246 [INFO] 92\t\t0.0\n"
          ]
        },
        {
          "output_type": "stream",
          "name": "stderr",
          "text": [
            "INFO:NEURONIOUtils:92\t\t0.0\n"
          ]
        },
        {
          "output_type": "stream",
          "name": "stdout",
          "text": [
            "2024-03-23 00:22:10,248 [INFO] 93\t\t1.0\n"
          ]
        },
        {
          "output_type": "stream",
          "name": "stderr",
          "text": [
            "INFO:NEURONIOUtils:93\t\t1.0\n"
          ]
        },
        {
          "output_type": "stream",
          "name": "stdout",
          "text": [
            "2024-03-23 00:22:10,250 [INFO] 94\t\t1.0\n"
          ]
        },
        {
          "output_type": "stream",
          "name": "stderr",
          "text": [
            "INFO:NEURONIOUtils:94\t\t1.0\n"
          ]
        },
        {
          "output_type": "stream",
          "name": "stdout",
          "text": [
            "2024-03-23 00:22:10,254 [INFO] 95\t\t0.0\n"
          ]
        },
        {
          "output_type": "stream",
          "name": "stderr",
          "text": [
            "INFO:NEURONIOUtils:95\t\t0.0\n"
          ]
        },
        {
          "output_type": "stream",
          "name": "stdout",
          "text": [
            "2024-03-23 00:22:10,256 [INFO] 96\t\t0.0\n"
          ]
        },
        {
          "output_type": "stream",
          "name": "stderr",
          "text": [
            "INFO:NEURONIOUtils:96\t\t0.0\n"
          ]
        },
        {
          "output_type": "stream",
          "name": "stdout",
          "text": [
            "2024-03-23 00:22:10,260 [INFO] 97\t\t1.0\n"
          ]
        },
        {
          "output_type": "stream",
          "name": "stderr",
          "text": [
            "INFO:NEURONIOUtils:97\t\t1.0\n"
          ]
        },
        {
          "output_type": "stream",
          "name": "stdout",
          "text": [
            "2024-03-23 00:22:10,262 [INFO] 98\t\t1.0\n"
          ]
        },
        {
          "output_type": "stream",
          "name": "stderr",
          "text": [
            "INFO:NEURONIOUtils:98\t\t1.0\n"
          ]
        },
        {
          "output_type": "stream",
          "name": "stdout",
          "text": [
            "2024-03-23 00:22:10,266 [INFO] 99\t\t1.0\n"
          ]
        },
        {
          "output_type": "stream",
          "name": "stderr",
          "text": [
            "INFO:NEURONIOUtils:99\t\t1.0\n"
          ]
        },
        {
          "output_type": "stream",
          "name": "stdout",
          "text": [
            "2024-03-23 00:22:10,268 [INFO] IMG firing rate avg: 4.0 Hz\n"
          ]
        },
        {
          "output_type": "stream",
          "name": "stderr",
          "text": [
            "INFO:NEURONIOUtils:IMG firing rate avg: 4.0 Hz\n"
          ]
        },
        {
          "output_type": "stream",
          "name": "stdout",
          "text": [
            "2024-03-23 00:22:10,280 [INFO] Volume = 0.6125 ml\n"
          ]
        },
        {
          "output_type": "stream",
          "name": "stderr",
          "text": [
            "/usr/local/lib/python3.10/dist-packages/bmtk/utils/reports/spike_trains/spike_trains.py:183: RuntimeWarning: divide by zero encountered in scalar divide\n",
            "  interval = -np.log(1.0 - np.random.uniform()) / fr\n",
            "INFO:NEURONIOUtils:Volume = 0.6125 ml\n"
          ]
        },
        {
          "output_type": "stream",
          "name": "stdout",
          "text": [
            "2024-03-23 00:22:10,287 [INFO] Pressure = 2.52 mmHg\n"
          ]
        },
        {
          "output_type": "stream",
          "name": "stderr",
          "text": [
            "INFO:NEURONIOUtils:Pressure = 2.52 mmHg\n"
          ]
        },
        {
          "output_type": "stream",
          "name": "stdout",
          "text": [
            "2024-03-23 00:22:10,291 [INFO] Calculated bladder afferent firing rate for the next time step = 0.00 Hz \n",
            " \n",
            "\n"
          ]
        },
        {
          "output_type": "stream",
          "name": "stderr",
          "text": [
            "INFO:NEURONIOUtils:Calculated bladder afferent firing rate for the next time step = 0.00 Hz \n",
            " \n",
            "\n"
          ]
        },
        {
          "output_type": "stream",
          "name": "stdout",
          "text": [
            "2024-03-23 00:22:13,334 [INFO]     step:115000 t_sim:23000.00 ms\n"
          ]
        },
        {
          "output_type": "stream",
          "name": "stderr",
          "text": [
            "INFO:NEURONIOUtils:    step:115000 t_sim:23000.00 ms\n"
          ]
        },
        {
          "output_type": "stream",
          "name": "stdout",
          "text": [
            "2024-03-23 00:22:13,347 [INFO] Timestep 22000.0 to 23000.0 ms\n"
          ]
        },
        {
          "output_type": "stream",
          "name": "stderr",
          "text": [
            "INFO:NEURONIOUtils:Timestep 22000.0 to 23000.0 ms\n"
          ]
        },
        {
          "output_type": "stream",
          "name": "stdout",
          "text": [
            "2024-03-23 00:22:13,353 [INFO] PGN node_id\t  Hz\n"
          ]
        },
        {
          "output_type": "stream",
          "name": "stderr",
          "text": [
            "INFO:NEURONIOUtils:PGN node_id\t  Hz\n"
          ]
        },
        {
          "output_type": "stream",
          "name": "stdout",
          "text": [
            "2024-03-23 00:22:13,361 [INFO] 70\t\t2.0\n"
          ]
        },
        {
          "output_type": "stream",
          "name": "stderr",
          "text": [
            "INFO:NEURONIOUtils:70\t\t2.0\n"
          ]
        },
        {
          "output_type": "stream",
          "name": "stdout",
          "text": [
            "2024-03-23 00:22:13,364 [INFO] 71\t\t2.0\n"
          ]
        },
        {
          "output_type": "stream",
          "name": "stderr",
          "text": [
            "INFO:NEURONIOUtils:71\t\t2.0\n"
          ]
        },
        {
          "output_type": "stream",
          "name": "stdout",
          "text": [
            "2024-03-23 00:22:13,368 [INFO] 72\t\t2.0\n"
          ]
        },
        {
          "output_type": "stream",
          "name": "stderr",
          "text": [
            "INFO:NEURONIOUtils:72\t\t2.0\n"
          ]
        },
        {
          "output_type": "stream",
          "name": "stdout",
          "text": [
            "2024-03-23 00:22:13,375 [INFO] 73\t\t2.0\n"
          ]
        },
        {
          "output_type": "stream",
          "name": "stderr",
          "text": [
            "INFO:NEURONIOUtils:73\t\t2.0\n"
          ]
        },
        {
          "output_type": "stream",
          "name": "stdout",
          "text": [
            "2024-03-23 00:22:13,381 [INFO] 74\t\t2.0\n"
          ]
        },
        {
          "output_type": "stream",
          "name": "stderr",
          "text": [
            "INFO:NEURONIOUtils:74\t\t2.0\n"
          ]
        },
        {
          "output_type": "stream",
          "name": "stdout",
          "text": [
            "2024-03-23 00:22:13,385 [INFO] 75\t\t2.0\n"
          ]
        },
        {
          "output_type": "stream",
          "name": "stderr",
          "text": [
            "INFO:NEURONIOUtils:75\t\t2.0\n"
          ]
        },
        {
          "output_type": "stream",
          "name": "stdout",
          "text": [
            "2024-03-23 00:22:13,388 [INFO] 76\t\t2.0\n"
          ]
        },
        {
          "output_type": "stream",
          "name": "stderr",
          "text": [
            "INFO:NEURONIOUtils:76\t\t2.0\n"
          ]
        },
        {
          "output_type": "stream",
          "name": "stdout",
          "text": [
            "2024-03-23 00:22:13,392 [INFO] 77\t\t2.0\n"
          ]
        },
        {
          "output_type": "stream",
          "name": "stderr",
          "text": [
            "INFO:NEURONIOUtils:77\t\t2.0\n"
          ]
        },
        {
          "output_type": "stream",
          "name": "stdout",
          "text": [
            "2024-03-23 00:22:13,414 [INFO] 78\t\t2.0\n"
          ]
        },
        {
          "output_type": "stream",
          "name": "stderr",
          "text": [
            "INFO:NEURONIOUtils:78\t\t2.0\n"
          ]
        },
        {
          "output_type": "stream",
          "name": "stdout",
          "text": [
            "2024-03-23 00:22:13,417 [INFO] 79\t\t2.0\n"
          ]
        },
        {
          "output_type": "stream",
          "name": "stderr",
          "text": [
            "INFO:NEURONIOUtils:79\t\t2.0\n"
          ]
        },
        {
          "output_type": "stream",
          "name": "stdout",
          "text": [
            "2024-03-23 00:22:13,421 [INFO] PGN firing rate avg: 2.0 Hz\n"
          ]
        },
        {
          "output_type": "stream",
          "name": "stderr",
          "text": [
            "INFO:NEURONIOUtils:PGN firing rate avg: 2.0 Hz\n"
          ]
        },
        {
          "output_type": "stream",
          "name": "stdout",
          "text": [
            "2024-03-23 00:22:13,431 [INFO] Grill PGN fr = 2.984 Hz\n"
          ]
        },
        {
          "output_type": "stream",
          "name": "stderr",
          "text": [
            "INFO:NEURONIOUtils:Grill PGN fr = 2.984 Hz\n"
          ]
        },
        {
          "output_type": "stream",
          "name": "stdout",
          "text": [
            "2024-03-23 00:22:13,434 [INFO] IMG node_gid\t  Hz\n"
          ]
        },
        {
          "output_type": "stream",
          "name": "stderr",
          "text": [
            "INFO:NEURONIOUtils:IMG node_gid\t  Hz\n"
          ]
        },
        {
          "output_type": "stream",
          "name": "stdout",
          "text": [
            "2024-03-23 00:22:13,437 [INFO] 90\t\t0.0\n"
          ]
        },
        {
          "output_type": "stream",
          "name": "stderr",
          "text": [
            "INFO:NEURONIOUtils:90\t\t0.0\n"
          ]
        },
        {
          "output_type": "stream",
          "name": "stdout",
          "text": [
            "2024-03-23 00:22:13,445 [INFO] 91\t\t0.0\n"
          ]
        },
        {
          "output_type": "stream",
          "name": "stderr",
          "text": [
            "INFO:NEURONIOUtils:91\t\t0.0\n"
          ]
        },
        {
          "output_type": "stream",
          "name": "stdout",
          "text": [
            "2024-03-23 00:22:13,449 [INFO] 92\t\t0.0\n"
          ]
        },
        {
          "output_type": "stream",
          "name": "stderr",
          "text": [
            "INFO:NEURONIOUtils:92\t\t0.0\n"
          ]
        },
        {
          "output_type": "stream",
          "name": "stdout",
          "text": [
            "2024-03-23 00:22:13,451 [INFO] 93\t\t0.0\n"
          ]
        },
        {
          "output_type": "stream",
          "name": "stderr",
          "text": [
            "INFO:NEURONIOUtils:93\t\t0.0\n"
          ]
        },
        {
          "output_type": "stream",
          "name": "stdout",
          "text": [
            "2024-03-23 00:22:13,456 [INFO] 94\t\t0.0\n"
          ]
        },
        {
          "output_type": "stream",
          "name": "stderr",
          "text": [
            "INFO:NEURONIOUtils:94\t\t0.0\n"
          ]
        },
        {
          "output_type": "stream",
          "name": "stdout",
          "text": [
            "2024-03-23 00:22:13,466 [INFO] 95\t\t0.0\n"
          ]
        },
        {
          "output_type": "stream",
          "name": "stderr",
          "text": [
            "INFO:NEURONIOUtils:95\t\t0.0\n"
          ]
        },
        {
          "output_type": "stream",
          "name": "stdout",
          "text": [
            "2024-03-23 00:22:13,469 [INFO] 96\t\t0.0\n"
          ]
        },
        {
          "output_type": "stream",
          "name": "stderr",
          "text": [
            "INFO:NEURONIOUtils:96\t\t0.0\n"
          ]
        },
        {
          "output_type": "stream",
          "name": "stdout",
          "text": [
            "2024-03-23 00:22:13,475 [INFO] 97\t\t0.0\n"
          ]
        },
        {
          "output_type": "stream",
          "name": "stderr",
          "text": [
            "INFO:NEURONIOUtils:97\t\t0.0\n"
          ]
        },
        {
          "output_type": "stream",
          "name": "stdout",
          "text": [
            "2024-03-23 00:22:13,479 [INFO] 98\t\t0.0\n"
          ]
        },
        {
          "output_type": "stream",
          "name": "stderr",
          "text": [
            "INFO:NEURONIOUtils:98\t\t0.0\n"
          ]
        },
        {
          "output_type": "stream",
          "name": "stdout",
          "text": [
            "2024-03-23 00:22:13,487 [INFO] 99\t\t0.0\n"
          ]
        },
        {
          "output_type": "stream",
          "name": "stderr",
          "text": [
            "INFO:NEURONIOUtils:99\t\t0.0\n"
          ]
        },
        {
          "output_type": "stream",
          "name": "stdout",
          "text": [
            "2024-03-23 00:22:13,494 [INFO] IMG firing rate avg: 2.0 Hz\n"
          ]
        },
        {
          "output_type": "stream",
          "name": "stderr",
          "text": [
            "INFO:NEURONIOUtils:IMG firing rate avg: 2.0 Hz\n"
          ]
        },
        {
          "output_type": "stream",
          "name": "stdout",
          "text": [
            "2024-03-23 00:22:13,506 [INFO] Volume = 0.6417 ml\n"
          ]
        },
        {
          "output_type": "stream",
          "name": "stderr",
          "text": [
            "/usr/local/lib/python3.10/dist-packages/bmtk/utils/reports/spike_trains/spike_trains.py:183: RuntimeWarning: divide by zero encountered in scalar divide\n",
            "  interval = -np.log(1.0 - np.random.uniform()) / fr\n",
            "INFO:NEURONIOUtils:Volume = 0.6417 ml\n"
          ]
        },
        {
          "output_type": "stream",
          "name": "stdout",
          "text": [
            "2024-03-23 00:22:13,512 [INFO] Pressure = 1.34 mmHg\n"
          ]
        },
        {
          "output_type": "stream",
          "name": "stderr",
          "text": [
            "INFO:NEURONIOUtils:Pressure = 1.34 mmHg\n"
          ]
        },
        {
          "output_type": "stream",
          "name": "stdout",
          "text": [
            "2024-03-23 00:22:13,519 [INFO] Calculated bladder afferent firing rate for the next time step = 0.00 Hz \n",
            " \n",
            "\n"
          ]
        },
        {
          "output_type": "stream",
          "name": "stderr",
          "text": [
            "INFO:NEURONIOUtils:Calculated bladder afferent firing rate for the next time step = 0.00 Hz \n",
            " \n",
            "\n"
          ]
        },
        {
          "output_type": "stream",
          "name": "stdout",
          "text": [
            "2024-03-23 00:22:16,325 [INFO]     step:120000 t_sim:24000.00 ms\n"
          ]
        },
        {
          "output_type": "stream",
          "name": "stderr",
          "text": [
            "INFO:NEURONIOUtils:    step:120000 t_sim:24000.00 ms\n"
          ]
        },
        {
          "output_type": "stream",
          "name": "stdout",
          "text": [
            "2024-03-23 00:22:16,341 [INFO] Timestep 23000.0 to 24000.0 ms\n"
          ]
        },
        {
          "output_type": "stream",
          "name": "stderr",
          "text": [
            "INFO:NEURONIOUtils:Timestep 23000.0 to 24000.0 ms\n"
          ]
        },
        {
          "output_type": "stream",
          "name": "stdout",
          "text": [
            "2024-03-23 00:22:16,350 [INFO] PGN node_id\t  Hz\n"
          ]
        },
        {
          "output_type": "stream",
          "name": "stderr",
          "text": [
            "INFO:NEURONIOUtils:PGN node_id\t  Hz\n"
          ]
        },
        {
          "output_type": "stream",
          "name": "stdout",
          "text": [
            "2024-03-23 00:22:16,357 [INFO] 70\t\t4.0\n"
          ]
        },
        {
          "output_type": "stream",
          "name": "stderr",
          "text": [
            "INFO:NEURONIOUtils:70\t\t4.0\n"
          ]
        },
        {
          "output_type": "stream",
          "name": "stdout",
          "text": [
            "2024-03-23 00:22:16,362 [INFO] 71\t\t4.0\n"
          ]
        },
        {
          "output_type": "stream",
          "name": "stderr",
          "text": [
            "INFO:NEURONIOUtils:71\t\t4.0\n"
          ]
        },
        {
          "output_type": "stream",
          "name": "stdout",
          "text": [
            "2024-03-23 00:22:16,366 [INFO] 72\t\t4.0\n"
          ]
        },
        {
          "output_type": "stream",
          "name": "stderr",
          "text": [
            "INFO:NEURONIOUtils:72\t\t4.0\n"
          ]
        },
        {
          "output_type": "stream",
          "name": "stdout",
          "text": [
            "2024-03-23 00:22:16,370 [INFO] 73\t\t4.0\n"
          ]
        },
        {
          "output_type": "stream",
          "name": "stderr",
          "text": [
            "INFO:NEURONIOUtils:73\t\t4.0\n"
          ]
        },
        {
          "output_type": "stream",
          "name": "stdout",
          "text": [
            "2024-03-23 00:22:16,371 [INFO] 74\t\t4.0\n"
          ]
        },
        {
          "output_type": "stream",
          "name": "stderr",
          "text": [
            "INFO:NEURONIOUtils:74\t\t4.0\n"
          ]
        },
        {
          "output_type": "stream",
          "name": "stdout",
          "text": [
            "2024-03-23 00:22:16,373 [INFO] 75\t\t4.0\n"
          ]
        },
        {
          "output_type": "stream",
          "name": "stderr",
          "text": [
            "INFO:NEURONIOUtils:75\t\t4.0\n"
          ]
        },
        {
          "output_type": "stream",
          "name": "stdout",
          "text": [
            "2024-03-23 00:22:16,388 [INFO] 76\t\t4.0\n"
          ]
        },
        {
          "output_type": "stream",
          "name": "stderr",
          "text": [
            "INFO:NEURONIOUtils:76\t\t4.0\n"
          ]
        },
        {
          "output_type": "stream",
          "name": "stdout",
          "text": [
            "2024-03-23 00:22:16,394 [INFO] 77\t\t4.0\n"
          ]
        },
        {
          "output_type": "stream",
          "name": "stderr",
          "text": [
            "INFO:NEURONIOUtils:77\t\t4.0\n"
          ]
        },
        {
          "output_type": "stream",
          "name": "stdout",
          "text": [
            "2024-03-23 00:22:16,397 [INFO] 78\t\t4.0\n"
          ]
        },
        {
          "output_type": "stream",
          "name": "stderr",
          "text": [
            "INFO:NEURONIOUtils:78\t\t4.0\n"
          ]
        },
        {
          "output_type": "stream",
          "name": "stdout",
          "text": [
            "2024-03-23 00:22:16,399 [INFO] 79\t\t4.0\n"
          ]
        },
        {
          "output_type": "stream",
          "name": "stderr",
          "text": [
            "INFO:NEURONIOUtils:79\t\t4.0\n"
          ]
        },
        {
          "output_type": "stream",
          "name": "stdout",
          "text": [
            "2024-03-23 00:22:16,403 [INFO] PGN firing rate avg: 4.0 Hz\n"
          ]
        },
        {
          "output_type": "stream",
          "name": "stderr",
          "text": [
            "INFO:NEURONIOUtils:PGN firing rate avg: 4.0 Hz\n"
          ]
        },
        {
          "output_type": "stream",
          "name": "stdout",
          "text": [
            "2024-03-23 00:22:16,405 [INFO] Grill PGN fr = 6.3 Hz\n"
          ]
        },
        {
          "output_type": "stream",
          "name": "stderr",
          "text": [
            "INFO:NEURONIOUtils:Grill PGN fr = 6.3 Hz\n"
          ]
        },
        {
          "output_type": "stream",
          "name": "stdout",
          "text": [
            "2024-03-23 00:22:16,407 [INFO] IMG node_gid\t  Hz\n"
          ]
        },
        {
          "output_type": "stream",
          "name": "stderr",
          "text": [
            "INFO:NEURONIOUtils:IMG node_gid\t  Hz\n"
          ]
        },
        {
          "output_type": "stream",
          "name": "stdout",
          "text": [
            "2024-03-23 00:22:16,409 [INFO] 90\t\t0.0\n"
          ]
        },
        {
          "output_type": "stream",
          "name": "stderr",
          "text": [
            "INFO:NEURONIOUtils:90\t\t0.0\n"
          ]
        },
        {
          "output_type": "stream",
          "name": "stdout",
          "text": [
            "2024-03-23 00:22:16,411 [INFO] 91\t\t1.0\n"
          ]
        },
        {
          "output_type": "stream",
          "name": "stderr",
          "text": [
            "INFO:NEURONIOUtils:91\t\t1.0\n"
          ]
        },
        {
          "output_type": "stream",
          "name": "stdout",
          "text": [
            "2024-03-23 00:22:16,412 [INFO] 92\t\t0.0\n"
          ]
        },
        {
          "output_type": "stream",
          "name": "stderr",
          "text": [
            "INFO:NEURONIOUtils:92\t\t0.0\n"
          ]
        },
        {
          "output_type": "stream",
          "name": "stdout",
          "text": [
            "2024-03-23 00:22:16,414 [INFO] 93\t\t1.0\n"
          ]
        },
        {
          "output_type": "stream",
          "name": "stderr",
          "text": [
            "INFO:NEURONIOUtils:93\t\t1.0\n"
          ]
        },
        {
          "output_type": "stream",
          "name": "stdout",
          "text": [
            "2024-03-23 00:22:16,416 [INFO] 94\t\t1.0\n"
          ]
        },
        {
          "output_type": "stream",
          "name": "stderr",
          "text": [
            "INFO:NEURONIOUtils:94\t\t1.0\n"
          ]
        },
        {
          "output_type": "stream",
          "name": "stdout",
          "text": [
            "2024-03-23 00:22:16,418 [INFO] 95\t\t0.0\n"
          ]
        },
        {
          "output_type": "stream",
          "name": "stderr",
          "text": [
            "INFO:NEURONIOUtils:95\t\t0.0\n"
          ]
        },
        {
          "output_type": "stream",
          "name": "stdout",
          "text": [
            "2024-03-23 00:22:16,420 [INFO] 96\t\t0.0\n"
          ]
        },
        {
          "output_type": "stream",
          "name": "stderr",
          "text": [
            "INFO:NEURONIOUtils:96\t\t0.0\n"
          ]
        },
        {
          "output_type": "stream",
          "name": "stdout",
          "text": [
            "2024-03-23 00:22:16,422 [INFO] 97\t\t1.0\n"
          ]
        },
        {
          "output_type": "stream",
          "name": "stderr",
          "text": [
            "INFO:NEURONIOUtils:97\t\t1.0\n"
          ]
        },
        {
          "output_type": "stream",
          "name": "stdout",
          "text": [
            "2024-03-23 00:22:16,424 [INFO] 98\t\t1.0\n"
          ]
        },
        {
          "output_type": "stream",
          "name": "stderr",
          "text": [
            "INFO:NEURONIOUtils:98\t\t1.0\n"
          ]
        },
        {
          "output_type": "stream",
          "name": "stdout",
          "text": [
            "2024-03-23 00:22:16,426 [INFO] 99\t\t1.0\n"
          ]
        },
        {
          "output_type": "stream",
          "name": "stderr",
          "text": [
            "INFO:NEURONIOUtils:99\t\t1.0\n"
          ]
        },
        {
          "output_type": "stream",
          "name": "stdout",
          "text": [
            "2024-03-23 00:22:16,428 [INFO] IMG firing rate avg: 4.0 Hz\n"
          ]
        },
        {
          "output_type": "stream",
          "name": "stderr",
          "text": [
            "INFO:NEURONIOUtils:IMG firing rate avg: 4.0 Hz\n"
          ]
        },
        {
          "output_type": "stream",
          "name": "stdout",
          "text": [
            "2024-03-23 00:22:16,435 [INFO] Volume = 0.6708 ml\n"
          ]
        },
        {
          "output_type": "stream",
          "name": "stderr",
          "text": [
            "/usr/local/lib/python3.10/dist-packages/bmtk/utils/reports/spike_trains/spike_trains.py:183: RuntimeWarning: divide by zero encountered in scalar divide\n",
            "  interval = -np.log(1.0 - np.random.uniform()) / fr\n",
            "INFO:NEURONIOUtils:Volume = 0.6708 ml\n"
          ]
        },
        {
          "output_type": "stream",
          "name": "stdout",
          "text": [
            "2024-03-23 00:22:16,442 [INFO] Pressure = 2.97 mmHg\n"
          ]
        },
        {
          "output_type": "stream",
          "name": "stderr",
          "text": [
            "INFO:NEURONIOUtils:Pressure = 2.97 mmHg\n"
          ]
        },
        {
          "output_type": "stream",
          "name": "stdout",
          "text": [
            "2024-03-23 00:22:16,444 [INFO] Calculated bladder afferent firing rate for the next time step = 0.00 Hz \n",
            " \n",
            "\n"
          ]
        },
        {
          "output_type": "stream",
          "name": "stderr",
          "text": [
            "INFO:NEURONIOUtils:Calculated bladder afferent firing rate for the next time step = 0.00 Hz \n",
            " \n",
            "\n"
          ]
        },
        {
          "output_type": "stream",
          "name": "stdout",
          "text": [
            "2024-03-23 00:22:19,018 [INFO]     step:125000 t_sim:25000.00 ms\n"
          ]
        },
        {
          "output_type": "stream",
          "name": "stderr",
          "text": [
            "INFO:NEURONIOUtils:    step:125000 t_sim:25000.00 ms\n"
          ]
        },
        {
          "output_type": "stream",
          "name": "stdout",
          "text": [
            "2024-03-23 00:22:19,035 [INFO] Timestep 24000.0 to 25000.0 ms\n"
          ]
        },
        {
          "output_type": "stream",
          "name": "stderr",
          "text": [
            "INFO:NEURONIOUtils:Timestep 24000.0 to 25000.0 ms\n"
          ]
        },
        {
          "output_type": "stream",
          "name": "stdout",
          "text": [
            "2024-03-23 00:22:19,040 [INFO] PGN node_id\t  Hz\n"
          ]
        },
        {
          "output_type": "stream",
          "name": "stderr",
          "text": [
            "INFO:NEURONIOUtils:PGN node_id\t  Hz\n"
          ]
        },
        {
          "output_type": "stream",
          "name": "stdout",
          "text": [
            "2024-03-23 00:22:19,044 [INFO] 70\t\t2.0\n"
          ]
        },
        {
          "output_type": "stream",
          "name": "stderr",
          "text": [
            "INFO:NEURONIOUtils:70\t\t2.0\n"
          ]
        },
        {
          "output_type": "stream",
          "name": "stdout",
          "text": [
            "2024-03-23 00:22:19,048 [INFO] 71\t\t2.0\n"
          ]
        },
        {
          "output_type": "stream",
          "name": "stderr",
          "text": [
            "INFO:NEURONIOUtils:71\t\t2.0\n"
          ]
        },
        {
          "output_type": "stream",
          "name": "stdout",
          "text": [
            "2024-03-23 00:22:19,051 [INFO] 72\t\t2.0\n"
          ]
        },
        {
          "output_type": "stream",
          "name": "stderr",
          "text": [
            "INFO:NEURONIOUtils:72\t\t2.0\n"
          ]
        },
        {
          "output_type": "stream",
          "name": "stdout",
          "text": [
            "2024-03-23 00:22:19,053 [INFO] 73\t\t2.0\n"
          ]
        },
        {
          "output_type": "stream",
          "name": "stderr",
          "text": [
            "INFO:NEURONIOUtils:73\t\t2.0\n"
          ]
        },
        {
          "output_type": "stream",
          "name": "stdout",
          "text": [
            "2024-03-23 00:22:19,055 [INFO] 74\t\t2.0\n"
          ]
        },
        {
          "output_type": "stream",
          "name": "stderr",
          "text": [
            "INFO:NEURONIOUtils:74\t\t2.0\n"
          ]
        },
        {
          "output_type": "stream",
          "name": "stdout",
          "text": [
            "2024-03-23 00:22:19,058 [INFO] 75\t\t2.0\n"
          ]
        },
        {
          "output_type": "stream",
          "name": "stderr",
          "text": [
            "INFO:NEURONIOUtils:75\t\t2.0\n"
          ]
        },
        {
          "output_type": "stream",
          "name": "stdout",
          "text": [
            "2024-03-23 00:22:19,060 [INFO] 76\t\t2.0\n"
          ]
        },
        {
          "output_type": "stream",
          "name": "stderr",
          "text": [
            "INFO:NEURONIOUtils:76\t\t2.0\n"
          ]
        },
        {
          "output_type": "stream",
          "name": "stdout",
          "text": [
            "2024-03-23 00:22:19,063 [INFO] 77\t\t2.0\n"
          ]
        },
        {
          "output_type": "stream",
          "name": "stderr",
          "text": [
            "INFO:NEURONIOUtils:77\t\t2.0\n"
          ]
        },
        {
          "output_type": "stream",
          "name": "stdout",
          "text": [
            "2024-03-23 00:22:19,065 [INFO] 78\t\t2.0\n"
          ]
        },
        {
          "output_type": "stream",
          "name": "stderr",
          "text": [
            "INFO:NEURONIOUtils:78\t\t2.0\n"
          ]
        },
        {
          "output_type": "stream",
          "name": "stdout",
          "text": [
            "2024-03-23 00:22:19,069 [INFO] 79\t\t2.0\n"
          ]
        },
        {
          "output_type": "stream",
          "name": "stderr",
          "text": [
            "INFO:NEURONIOUtils:79\t\t2.0\n"
          ]
        },
        {
          "output_type": "stream",
          "name": "stdout",
          "text": [
            "2024-03-23 00:22:19,071 [INFO] PGN firing rate avg: 2.0 Hz\n"
          ]
        },
        {
          "output_type": "stream",
          "name": "stderr",
          "text": [
            "INFO:NEURONIOUtils:PGN firing rate avg: 2.0 Hz\n"
          ]
        },
        {
          "output_type": "stream",
          "name": "stdout",
          "text": [
            "2024-03-23 00:22:19,074 [INFO] Grill PGN fr = 2.984 Hz\n"
          ]
        },
        {
          "output_type": "stream",
          "name": "stderr",
          "text": [
            "INFO:NEURONIOUtils:Grill PGN fr = 2.984 Hz\n"
          ]
        },
        {
          "output_type": "stream",
          "name": "stdout",
          "text": [
            "2024-03-23 00:22:19,076 [INFO] IMG node_gid\t  Hz\n"
          ]
        },
        {
          "output_type": "stream",
          "name": "stderr",
          "text": [
            "INFO:NEURONIOUtils:IMG node_gid\t  Hz\n"
          ]
        },
        {
          "output_type": "stream",
          "name": "stdout",
          "text": [
            "2024-03-23 00:22:19,078 [INFO] 90\t\t0.0\n"
          ]
        },
        {
          "output_type": "stream",
          "name": "stderr",
          "text": [
            "INFO:NEURONIOUtils:90\t\t0.0\n"
          ]
        },
        {
          "output_type": "stream",
          "name": "stdout",
          "text": [
            "2024-03-23 00:22:19,080 [INFO] 91\t\t1.0\n"
          ]
        },
        {
          "output_type": "stream",
          "name": "stderr",
          "text": [
            "INFO:NEURONIOUtils:91\t\t1.0\n"
          ]
        },
        {
          "output_type": "stream",
          "name": "stdout",
          "text": [
            "2024-03-23 00:22:19,082 [INFO] 92\t\t0.0\n"
          ]
        },
        {
          "output_type": "stream",
          "name": "stderr",
          "text": [
            "INFO:NEURONIOUtils:92\t\t0.0\n"
          ]
        },
        {
          "output_type": "stream",
          "name": "stdout",
          "text": [
            "2024-03-23 00:22:19,084 [INFO] 93\t\t1.0\n"
          ]
        },
        {
          "output_type": "stream",
          "name": "stderr",
          "text": [
            "INFO:NEURONIOUtils:93\t\t1.0\n"
          ]
        },
        {
          "output_type": "stream",
          "name": "stdout",
          "text": [
            "2024-03-23 00:22:19,086 [INFO] 94\t\t1.0\n"
          ]
        },
        {
          "output_type": "stream",
          "name": "stderr",
          "text": [
            "INFO:NEURONIOUtils:94\t\t1.0\n"
          ]
        },
        {
          "output_type": "stream",
          "name": "stdout",
          "text": [
            "2024-03-23 00:22:19,088 [INFO] 95\t\t0.0\n"
          ]
        },
        {
          "output_type": "stream",
          "name": "stderr",
          "text": [
            "INFO:NEURONIOUtils:95\t\t0.0\n"
          ]
        },
        {
          "output_type": "stream",
          "name": "stdout",
          "text": [
            "2024-03-23 00:22:19,090 [INFO] 96\t\t0.0\n"
          ]
        },
        {
          "output_type": "stream",
          "name": "stderr",
          "text": [
            "INFO:NEURONIOUtils:96\t\t0.0\n"
          ]
        },
        {
          "output_type": "stream",
          "name": "stdout",
          "text": [
            "2024-03-23 00:22:19,092 [INFO] 97\t\t1.0\n"
          ]
        },
        {
          "output_type": "stream",
          "name": "stderr",
          "text": [
            "INFO:NEURONIOUtils:97\t\t1.0\n"
          ]
        },
        {
          "output_type": "stream",
          "name": "stdout",
          "text": [
            "2024-03-23 00:22:19,095 [INFO] 98\t\t1.0\n"
          ]
        },
        {
          "output_type": "stream",
          "name": "stderr",
          "text": [
            "INFO:NEURONIOUtils:98\t\t1.0\n"
          ]
        },
        {
          "output_type": "stream",
          "name": "stdout",
          "text": [
            "2024-03-23 00:22:19,097 [INFO] 99\t\t1.0\n"
          ]
        },
        {
          "output_type": "stream",
          "name": "stderr",
          "text": [
            "INFO:NEURONIOUtils:99\t\t1.0\n"
          ]
        },
        {
          "output_type": "stream",
          "name": "stdout",
          "text": [
            "2024-03-23 00:22:19,103 [INFO] IMG firing rate avg: 2.0 Hz\n"
          ]
        },
        {
          "output_type": "stream",
          "name": "stderr",
          "text": [
            "INFO:NEURONIOUtils:IMG firing rate avg: 2.0 Hz\n"
          ]
        },
        {
          "output_type": "stream",
          "name": "stdout",
          "text": [
            "2024-03-23 00:22:19,115 [INFO] Volume = 0.7000 ml\n"
          ]
        },
        {
          "output_type": "stream",
          "name": "stderr",
          "text": [
            "/usr/local/lib/python3.10/dist-packages/bmtk/utils/reports/spike_trains/spike_trains.py:183: RuntimeWarning: divide by zero encountered in scalar divide\n",
            "  interval = -np.log(1.0 - np.random.uniform()) / fr\n",
            "INFO:NEURONIOUtils:Volume = 0.7000 ml\n"
          ]
        },
        {
          "output_type": "stream",
          "name": "stdout",
          "text": [
            "2024-03-23 00:22:19,125 [INFO] Pressure = 1.48 mmHg\n"
          ]
        },
        {
          "output_type": "stream",
          "name": "stderr",
          "text": [
            "INFO:NEURONIOUtils:Pressure = 1.48 mmHg\n"
          ]
        },
        {
          "output_type": "stream",
          "name": "stdout",
          "text": [
            "2024-03-23 00:22:19,127 [INFO] Calculated bladder afferent firing rate for the next time step = 0.00 Hz \n",
            " \n",
            "\n"
          ]
        },
        {
          "output_type": "stream",
          "name": "stderr",
          "text": [
            "INFO:NEURONIOUtils:Calculated bladder afferent firing rate for the next time step = 0.00 Hz \n",
            " \n",
            "\n"
          ]
        },
        {
          "output_type": "stream",
          "name": "stdout",
          "text": [
            "2024-03-23 00:22:21,907 [INFO]     step:130000 t_sim:26000.00 ms\n"
          ]
        },
        {
          "output_type": "stream",
          "name": "stderr",
          "text": [
            "INFO:NEURONIOUtils:    step:130000 t_sim:26000.00 ms\n"
          ]
        },
        {
          "output_type": "stream",
          "name": "stdout",
          "text": [
            "2024-03-23 00:22:21,918 [INFO] Timestep 25000.0 to 26000.0 ms\n"
          ]
        },
        {
          "output_type": "stream",
          "name": "stderr",
          "text": [
            "INFO:NEURONIOUtils:Timestep 25000.0 to 26000.0 ms\n"
          ]
        },
        {
          "output_type": "stream",
          "name": "stdout",
          "text": [
            "2024-03-23 00:22:21,924 [INFO] PGN node_id\t  Hz\n"
          ]
        },
        {
          "output_type": "stream",
          "name": "stderr",
          "text": [
            "INFO:NEURONIOUtils:PGN node_id\t  Hz\n"
          ]
        },
        {
          "output_type": "stream",
          "name": "stdout",
          "text": [
            "2024-03-23 00:22:21,929 [INFO] 70\t\t1.0\n"
          ]
        },
        {
          "output_type": "stream",
          "name": "stderr",
          "text": [
            "INFO:NEURONIOUtils:70\t\t1.0\n"
          ]
        },
        {
          "output_type": "stream",
          "name": "stdout",
          "text": [
            "2024-03-23 00:22:21,935 [INFO] 71\t\t1.0\n"
          ]
        },
        {
          "output_type": "stream",
          "name": "stderr",
          "text": [
            "INFO:NEURONIOUtils:71\t\t1.0\n"
          ]
        },
        {
          "output_type": "stream",
          "name": "stdout",
          "text": [
            "2024-03-23 00:22:21,937 [INFO] 72\t\t1.0\n"
          ]
        },
        {
          "output_type": "stream",
          "name": "stderr",
          "text": [
            "INFO:NEURONIOUtils:72\t\t1.0\n"
          ]
        },
        {
          "output_type": "stream",
          "name": "stdout",
          "text": [
            "2024-03-23 00:22:21,939 [INFO] 73\t\t1.0\n"
          ]
        },
        {
          "output_type": "stream",
          "name": "stderr",
          "text": [
            "INFO:NEURONIOUtils:73\t\t1.0\n"
          ]
        },
        {
          "output_type": "stream",
          "name": "stdout",
          "text": [
            "2024-03-23 00:22:21,941 [INFO] 74\t\t1.0\n"
          ]
        },
        {
          "output_type": "stream",
          "name": "stderr",
          "text": [
            "INFO:NEURONIOUtils:74\t\t1.0\n"
          ]
        },
        {
          "output_type": "stream",
          "name": "stdout",
          "text": [
            "2024-03-23 00:22:21,943 [INFO] 75\t\t1.0\n"
          ]
        },
        {
          "output_type": "stream",
          "name": "stderr",
          "text": [
            "INFO:NEURONIOUtils:75\t\t1.0\n"
          ]
        },
        {
          "output_type": "stream",
          "name": "stdout",
          "text": [
            "2024-03-23 00:22:21,945 [INFO] 76\t\t1.0\n"
          ]
        },
        {
          "output_type": "stream",
          "name": "stderr",
          "text": [
            "INFO:NEURONIOUtils:76\t\t1.0\n"
          ]
        },
        {
          "output_type": "stream",
          "name": "stdout",
          "text": [
            "2024-03-23 00:22:21,947 [INFO] 77\t\t1.0\n"
          ]
        },
        {
          "output_type": "stream",
          "name": "stderr",
          "text": [
            "INFO:NEURONIOUtils:77\t\t1.0\n"
          ]
        },
        {
          "output_type": "stream",
          "name": "stdout",
          "text": [
            "2024-03-23 00:22:21,950 [INFO] 78\t\t1.0\n"
          ]
        },
        {
          "output_type": "stream",
          "name": "stderr",
          "text": [
            "INFO:NEURONIOUtils:78\t\t1.0\n"
          ]
        },
        {
          "output_type": "stream",
          "name": "stdout",
          "text": [
            "2024-03-23 00:22:21,952 [INFO] 79\t\t1.0\n"
          ]
        },
        {
          "output_type": "stream",
          "name": "stderr",
          "text": [
            "INFO:NEURONIOUtils:79\t\t1.0\n"
          ]
        },
        {
          "output_type": "stream",
          "name": "stdout",
          "text": [
            "2024-03-23 00:22:21,954 [INFO] PGN firing rate avg: 1.0 Hz\n"
          ]
        },
        {
          "output_type": "stream",
          "name": "stderr",
          "text": [
            "INFO:NEURONIOUtils:PGN firing rate avg: 1.0 Hz\n"
          ]
        },
        {
          "output_type": "stream",
          "name": "stdout",
          "text": [
            "2024-03-23 00:22:21,956 [INFO] Grill PGN fr = 1.2690000000000001 Hz\n"
          ]
        },
        {
          "output_type": "stream",
          "name": "stderr",
          "text": [
            "INFO:NEURONIOUtils:Grill PGN fr = 1.2690000000000001 Hz\n"
          ]
        },
        {
          "output_type": "stream",
          "name": "stdout",
          "text": [
            "2024-03-23 00:22:21,958 [INFO] IMG node_gid\t  Hz\n"
          ]
        },
        {
          "output_type": "stream",
          "name": "stderr",
          "text": [
            "INFO:NEURONIOUtils:IMG node_gid\t  Hz\n"
          ]
        },
        {
          "output_type": "stream",
          "name": "stdout",
          "text": [
            "2024-03-23 00:22:21,960 [INFO] 90\t\t0.0\n"
          ]
        },
        {
          "output_type": "stream",
          "name": "stderr",
          "text": [
            "INFO:NEURONIOUtils:90\t\t0.0\n"
          ]
        },
        {
          "output_type": "stream",
          "name": "stdout",
          "text": [
            "2024-03-23 00:22:21,962 [INFO] 91\t\t1.0\n"
          ]
        },
        {
          "output_type": "stream",
          "name": "stderr",
          "text": [
            "INFO:NEURONIOUtils:91\t\t1.0\n"
          ]
        },
        {
          "output_type": "stream",
          "name": "stdout",
          "text": [
            "2024-03-23 00:22:21,964 [INFO] 92\t\t0.0\n"
          ]
        },
        {
          "output_type": "stream",
          "name": "stderr",
          "text": [
            "INFO:NEURONIOUtils:92\t\t0.0\n"
          ]
        },
        {
          "output_type": "stream",
          "name": "stdout",
          "text": [
            "2024-03-23 00:22:21,966 [INFO] 93\t\t1.0\n"
          ]
        },
        {
          "output_type": "stream",
          "name": "stderr",
          "text": [
            "INFO:NEURONIOUtils:93\t\t1.0\n"
          ]
        },
        {
          "output_type": "stream",
          "name": "stdout",
          "text": [
            "2024-03-23 00:22:21,968 [INFO] 94\t\t1.0\n"
          ]
        },
        {
          "output_type": "stream",
          "name": "stderr",
          "text": [
            "INFO:NEURONIOUtils:94\t\t1.0\n"
          ]
        },
        {
          "output_type": "stream",
          "name": "stdout",
          "text": [
            "2024-03-23 00:22:21,971 [INFO] 95\t\t0.0\n"
          ]
        },
        {
          "output_type": "stream",
          "name": "stderr",
          "text": [
            "INFO:NEURONIOUtils:95\t\t0.0\n"
          ]
        },
        {
          "output_type": "stream",
          "name": "stdout",
          "text": [
            "2024-03-23 00:22:21,973 [INFO] 96\t\t0.0\n"
          ]
        },
        {
          "output_type": "stream",
          "name": "stderr",
          "text": [
            "INFO:NEURONIOUtils:96\t\t0.0\n"
          ]
        },
        {
          "output_type": "stream",
          "name": "stdout",
          "text": [
            "2024-03-23 00:22:21,974 [INFO] 97\t\t1.0\n"
          ]
        },
        {
          "output_type": "stream",
          "name": "stderr",
          "text": [
            "INFO:NEURONIOUtils:97\t\t1.0\n"
          ]
        },
        {
          "output_type": "stream",
          "name": "stdout",
          "text": [
            "2024-03-23 00:22:21,976 [INFO] 98\t\t1.0\n"
          ]
        },
        {
          "output_type": "stream",
          "name": "stderr",
          "text": [
            "INFO:NEURONIOUtils:98\t\t1.0\n"
          ]
        },
        {
          "output_type": "stream",
          "name": "stdout",
          "text": [
            "2024-03-23 00:22:21,979 [INFO] 99\t\t1.0\n"
          ]
        },
        {
          "output_type": "stream",
          "name": "stderr",
          "text": [
            "INFO:NEURONIOUtils:99\t\t1.0\n"
          ]
        },
        {
          "output_type": "stream",
          "name": "stdout",
          "text": [
            "2024-03-23 00:22:21,981 [INFO] IMG firing rate avg: 1.0 Hz\n"
          ]
        },
        {
          "output_type": "stream",
          "name": "stderr",
          "text": [
            "INFO:NEURONIOUtils:IMG firing rate avg: 1.0 Hz\n"
          ]
        },
        {
          "output_type": "stream",
          "name": "stdout",
          "text": [
            "2024-03-23 00:22:21,995 [INFO] Volume = 0.7292 ml\n"
          ]
        },
        {
          "output_type": "stream",
          "name": "stderr",
          "text": [
            "/usr/local/lib/python3.10/dist-packages/bmtk/utils/reports/spike_trains/spike_trains.py:183: RuntimeWarning: divide by zero encountered in scalar divide\n",
            "  interval = -np.log(1.0 - np.random.uniform()) / fr\n",
            "INFO:NEURONIOUtils:Volume = 0.7292 ml\n"
          ]
        },
        {
          "output_type": "stream",
          "name": "stdout",
          "text": [
            "2024-03-23 00:22:22,000 [INFO] Pressure = 0.83 mmHg\n"
          ]
        },
        {
          "output_type": "stream",
          "name": "stderr",
          "text": [
            "INFO:NEURONIOUtils:Pressure = 0.83 mmHg\n"
          ]
        },
        {
          "output_type": "stream",
          "name": "stdout",
          "text": [
            "2024-03-23 00:22:22,003 [INFO] Calculated bladder afferent firing rate for the next time step = 0.00 Hz \n",
            " \n",
            "\n"
          ]
        },
        {
          "output_type": "stream",
          "name": "stderr",
          "text": [
            "INFO:NEURONIOUtils:Calculated bladder afferent firing rate for the next time step = 0.00 Hz \n",
            " \n",
            "\n"
          ]
        },
        {
          "output_type": "stream",
          "name": "stdout",
          "text": [
            "2024-03-23 00:22:25,125 [INFO]     step:135000 t_sim:27000.00 ms\n"
          ]
        },
        {
          "output_type": "stream",
          "name": "stderr",
          "text": [
            "INFO:NEURONIOUtils:    step:135000 t_sim:27000.00 ms\n"
          ]
        },
        {
          "output_type": "stream",
          "name": "stdout",
          "text": [
            "2024-03-23 00:22:25,139 [INFO] Timestep 26000.0 to 27000.0 ms\n"
          ]
        },
        {
          "output_type": "stream",
          "name": "stderr",
          "text": [
            "INFO:NEURONIOUtils:Timestep 26000.0 to 27000.0 ms\n"
          ]
        },
        {
          "output_type": "stream",
          "name": "stdout",
          "text": [
            "2024-03-23 00:22:25,146 [INFO] PGN node_id\t  Hz\n"
          ]
        },
        {
          "output_type": "stream",
          "name": "stderr",
          "text": [
            "INFO:NEURONIOUtils:PGN node_id\t  Hz\n"
          ]
        },
        {
          "output_type": "stream",
          "name": "stdout",
          "text": [
            "2024-03-23 00:22:25,155 [INFO] 70\t\t3.0\n"
          ]
        },
        {
          "output_type": "stream",
          "name": "stderr",
          "text": [
            "INFO:NEURONIOUtils:70\t\t3.0\n"
          ]
        },
        {
          "output_type": "stream",
          "name": "stdout",
          "text": [
            "2024-03-23 00:22:25,158 [INFO] 71\t\t3.0\n"
          ]
        },
        {
          "output_type": "stream",
          "name": "stderr",
          "text": [
            "INFO:NEURONIOUtils:71\t\t3.0\n"
          ]
        },
        {
          "output_type": "stream",
          "name": "stdout",
          "text": [
            "2024-03-23 00:22:25,160 [INFO] 72\t\t3.0\n"
          ]
        },
        {
          "output_type": "stream",
          "name": "stderr",
          "text": [
            "INFO:NEURONIOUtils:72\t\t3.0\n"
          ]
        },
        {
          "output_type": "stream",
          "name": "stdout",
          "text": [
            "2024-03-23 00:22:25,164 [INFO] 73\t\t3.0\n"
          ]
        },
        {
          "output_type": "stream",
          "name": "stderr",
          "text": [
            "INFO:NEURONIOUtils:73\t\t3.0\n"
          ]
        },
        {
          "output_type": "stream",
          "name": "stdout",
          "text": [
            "2024-03-23 00:22:25,166 [INFO] 74\t\t3.0\n"
          ]
        },
        {
          "output_type": "stream",
          "name": "stderr",
          "text": [
            "INFO:NEURONIOUtils:74\t\t3.0\n"
          ]
        },
        {
          "output_type": "stream",
          "name": "stdout",
          "text": [
            "2024-03-23 00:22:25,171 [INFO] 75\t\t3.0\n"
          ]
        },
        {
          "output_type": "stream",
          "name": "stderr",
          "text": [
            "INFO:NEURONIOUtils:75\t\t3.0\n"
          ]
        },
        {
          "output_type": "stream",
          "name": "stdout",
          "text": [
            "2024-03-23 00:22:25,173 [INFO] 76\t\t3.0\n"
          ]
        },
        {
          "output_type": "stream",
          "name": "stderr",
          "text": [
            "INFO:NEURONIOUtils:76\t\t3.0\n"
          ]
        },
        {
          "output_type": "stream",
          "name": "stdout",
          "text": [
            "2024-03-23 00:22:25,175 [INFO] 77\t\t3.0\n"
          ]
        },
        {
          "output_type": "stream",
          "name": "stderr",
          "text": [
            "INFO:NEURONIOUtils:77\t\t3.0\n"
          ]
        },
        {
          "output_type": "stream",
          "name": "stdout",
          "text": [
            "2024-03-23 00:22:25,180 [INFO] 78\t\t3.0\n"
          ]
        },
        {
          "output_type": "stream",
          "name": "stderr",
          "text": [
            "INFO:NEURONIOUtils:78\t\t3.0\n"
          ]
        },
        {
          "output_type": "stream",
          "name": "stdout",
          "text": [
            "2024-03-23 00:22:25,182 [INFO] 79\t\t3.0\n"
          ]
        },
        {
          "output_type": "stream",
          "name": "stderr",
          "text": [
            "INFO:NEURONIOUtils:79\t\t3.0\n"
          ]
        },
        {
          "output_type": "stream",
          "name": "stdout",
          "text": [
            "2024-03-23 00:22:25,184 [INFO] PGN firing rate avg: 3.0 Hz\n"
          ]
        },
        {
          "output_type": "stream",
          "name": "stderr",
          "text": [
            "INFO:NEURONIOUtils:PGN firing rate avg: 3.0 Hz\n"
          ]
        },
        {
          "output_type": "stream",
          "name": "stdout",
          "text": [
            "2024-03-23 00:22:25,188 [INFO] Grill PGN fr = 4.657 Hz\n"
          ]
        },
        {
          "output_type": "stream",
          "name": "stderr",
          "text": [
            "INFO:NEURONIOUtils:Grill PGN fr = 4.657 Hz\n"
          ]
        },
        {
          "output_type": "stream",
          "name": "stdout",
          "text": [
            "2024-03-23 00:22:25,190 [INFO] IMG node_gid\t  Hz\n"
          ]
        },
        {
          "output_type": "stream",
          "name": "stderr",
          "text": [
            "INFO:NEURONIOUtils:IMG node_gid\t  Hz\n"
          ]
        },
        {
          "output_type": "stream",
          "name": "stdout",
          "text": [
            "2024-03-23 00:22:25,192 [INFO] 90\t\t0.0\n"
          ]
        },
        {
          "output_type": "stream",
          "name": "stderr",
          "text": [
            "INFO:NEURONIOUtils:90\t\t0.0\n"
          ]
        },
        {
          "output_type": "stream",
          "name": "stdout",
          "text": [
            "2024-03-23 00:22:25,194 [INFO] 91\t\t1.0\n"
          ]
        },
        {
          "output_type": "stream",
          "name": "stderr",
          "text": [
            "INFO:NEURONIOUtils:91\t\t1.0\n"
          ]
        },
        {
          "output_type": "stream",
          "name": "stdout",
          "text": [
            "2024-03-23 00:22:25,196 [INFO] 92\t\t0.0\n"
          ]
        },
        {
          "output_type": "stream",
          "name": "stderr",
          "text": [
            "INFO:NEURONIOUtils:92\t\t0.0\n"
          ]
        },
        {
          "output_type": "stream",
          "name": "stdout",
          "text": [
            "2024-03-23 00:22:25,198 [INFO] 93\t\t1.0\n"
          ]
        },
        {
          "output_type": "stream",
          "name": "stderr",
          "text": [
            "INFO:NEURONIOUtils:93\t\t1.0\n"
          ]
        },
        {
          "output_type": "stream",
          "name": "stdout",
          "text": [
            "2024-03-23 00:22:25,199 [INFO] 94\t\t1.0\n"
          ]
        },
        {
          "output_type": "stream",
          "name": "stderr",
          "text": [
            "INFO:NEURONIOUtils:94\t\t1.0\n"
          ]
        },
        {
          "output_type": "stream",
          "name": "stdout",
          "text": [
            "2024-03-23 00:22:25,201 [INFO] 95\t\t0.0\n"
          ]
        },
        {
          "output_type": "stream",
          "name": "stderr",
          "text": [
            "INFO:NEURONIOUtils:95\t\t0.0\n"
          ]
        },
        {
          "output_type": "stream",
          "name": "stdout",
          "text": [
            "2024-03-23 00:22:25,204 [INFO] 96\t\t0.0\n"
          ]
        },
        {
          "output_type": "stream",
          "name": "stderr",
          "text": [
            "INFO:NEURONIOUtils:96\t\t0.0\n"
          ]
        },
        {
          "output_type": "stream",
          "name": "stdout",
          "text": [
            "2024-03-23 00:22:25,206 [INFO] 97\t\t1.0\n"
          ]
        },
        {
          "output_type": "stream",
          "name": "stderr",
          "text": [
            "INFO:NEURONIOUtils:97\t\t1.0\n"
          ]
        },
        {
          "output_type": "stream",
          "name": "stdout",
          "text": [
            "2024-03-23 00:22:25,207 [INFO] 98\t\t1.0\n"
          ]
        },
        {
          "output_type": "stream",
          "name": "stderr",
          "text": [
            "INFO:NEURONIOUtils:98\t\t1.0\n"
          ]
        },
        {
          "output_type": "stream",
          "name": "stdout",
          "text": [
            "2024-03-23 00:22:25,209 [INFO] 99\t\t1.0\n"
          ]
        },
        {
          "output_type": "stream",
          "name": "stderr",
          "text": [
            "INFO:NEURONIOUtils:99\t\t1.0\n"
          ]
        },
        {
          "output_type": "stream",
          "name": "stdout",
          "text": [
            "2024-03-23 00:22:25,211 [INFO] IMG firing rate avg: 3.0 Hz\n"
          ]
        },
        {
          "output_type": "stream",
          "name": "stderr",
          "text": [
            "INFO:NEURONIOUtils:IMG firing rate avg: 3.0 Hz\n"
          ]
        },
        {
          "output_type": "stream",
          "name": "stdout",
          "text": [
            "2024-03-23 00:22:25,220 [INFO] Volume = 0.7583 ml\n"
          ]
        },
        {
          "output_type": "stream",
          "name": "stderr",
          "text": [
            "/usr/local/lib/python3.10/dist-packages/bmtk/utils/reports/spike_trains/spike_trains.py:183: RuntimeWarning: divide by zero encountered in scalar divide\n",
            "  interval = -np.log(1.0 - np.random.uniform()) / fr\n",
            "INFO:NEURONIOUtils:Volume = 0.7583 ml\n"
          ]
        },
        {
          "output_type": "stream",
          "name": "stdout",
          "text": [
            "2024-03-23 00:22:25,226 [INFO] Pressure = 2.80 mmHg\n"
          ]
        },
        {
          "output_type": "stream",
          "name": "stderr",
          "text": [
            "INFO:NEURONIOUtils:Pressure = 2.80 mmHg\n"
          ]
        },
        {
          "output_type": "stream",
          "name": "stdout",
          "text": [
            "2024-03-23 00:22:25,228 [INFO] Calculated bladder afferent firing rate for the next time step = 0.00 Hz \n",
            " \n",
            "\n"
          ]
        },
        {
          "output_type": "stream",
          "name": "stderr",
          "text": [
            "INFO:NEURONIOUtils:Calculated bladder afferent firing rate for the next time step = 0.00 Hz \n",
            " \n",
            "\n"
          ]
        },
        {
          "output_type": "stream",
          "name": "stdout",
          "text": [
            "2024-03-23 00:22:28,441 [INFO]     step:140000 t_sim:28000.00 ms\n"
          ]
        },
        {
          "output_type": "stream",
          "name": "stderr",
          "text": [
            "INFO:NEURONIOUtils:    step:140000 t_sim:28000.00 ms\n"
          ]
        },
        {
          "output_type": "stream",
          "name": "stdout",
          "text": [
            "2024-03-23 00:22:28,453 [INFO] Timestep 27000.0 to 28000.0 ms\n"
          ]
        },
        {
          "output_type": "stream",
          "name": "stderr",
          "text": [
            "INFO:NEURONIOUtils:Timestep 27000.0 to 28000.0 ms\n"
          ]
        },
        {
          "output_type": "stream",
          "name": "stdout",
          "text": [
            "2024-03-23 00:22:28,457 [INFO] PGN node_id\t  Hz\n"
          ]
        },
        {
          "output_type": "stream",
          "name": "stderr",
          "text": [
            "INFO:NEURONIOUtils:PGN node_id\t  Hz\n"
          ]
        },
        {
          "output_type": "stream",
          "name": "stdout",
          "text": [
            "2024-03-23 00:22:28,461 [INFO] 70\t\t2.0\n"
          ]
        },
        {
          "output_type": "stream",
          "name": "stderr",
          "text": [
            "INFO:NEURONIOUtils:70\t\t2.0\n"
          ]
        },
        {
          "output_type": "stream",
          "name": "stdout",
          "text": [
            "2024-03-23 00:22:28,464 [INFO] 71\t\t2.0\n"
          ]
        },
        {
          "output_type": "stream",
          "name": "stderr",
          "text": [
            "INFO:NEURONIOUtils:71\t\t2.0\n"
          ]
        },
        {
          "output_type": "stream",
          "name": "stdout",
          "text": [
            "2024-03-23 00:22:28,466 [INFO] 72\t\t2.0\n"
          ]
        },
        {
          "output_type": "stream",
          "name": "stderr",
          "text": [
            "INFO:NEURONIOUtils:72\t\t2.0\n"
          ]
        },
        {
          "output_type": "stream",
          "name": "stdout",
          "text": [
            "2024-03-23 00:22:28,469 [INFO] 73\t\t2.0\n"
          ]
        },
        {
          "output_type": "stream",
          "name": "stderr",
          "text": [
            "INFO:NEURONIOUtils:73\t\t2.0\n"
          ]
        },
        {
          "output_type": "stream",
          "name": "stdout",
          "text": [
            "2024-03-23 00:22:28,471 [INFO] 74\t\t2.0\n"
          ]
        },
        {
          "output_type": "stream",
          "name": "stderr",
          "text": [
            "INFO:NEURONIOUtils:74\t\t2.0\n"
          ]
        },
        {
          "output_type": "stream",
          "name": "stdout",
          "text": [
            "2024-03-23 00:22:28,473 [INFO] 75\t\t2.0\n"
          ]
        },
        {
          "output_type": "stream",
          "name": "stderr",
          "text": [
            "INFO:NEURONIOUtils:75\t\t2.0\n"
          ]
        },
        {
          "output_type": "stream",
          "name": "stdout",
          "text": [
            "2024-03-23 00:22:28,475 [INFO] 76\t\t2.0\n"
          ]
        },
        {
          "output_type": "stream",
          "name": "stderr",
          "text": [
            "INFO:NEURONIOUtils:76\t\t2.0\n"
          ]
        },
        {
          "output_type": "stream",
          "name": "stdout",
          "text": [
            "2024-03-23 00:22:28,477 [INFO] 77\t\t2.0\n"
          ]
        },
        {
          "output_type": "stream",
          "name": "stderr",
          "text": [
            "INFO:NEURONIOUtils:77\t\t2.0\n"
          ]
        },
        {
          "output_type": "stream",
          "name": "stdout",
          "text": [
            "2024-03-23 00:22:28,479 [INFO] 78\t\t2.0\n"
          ]
        },
        {
          "output_type": "stream",
          "name": "stderr",
          "text": [
            "INFO:NEURONIOUtils:78\t\t2.0\n"
          ]
        },
        {
          "output_type": "stream",
          "name": "stdout",
          "text": [
            "2024-03-23 00:22:28,481 [INFO] 79\t\t2.0\n"
          ]
        },
        {
          "output_type": "stream",
          "name": "stderr",
          "text": [
            "INFO:NEURONIOUtils:79\t\t2.0\n"
          ]
        },
        {
          "output_type": "stream",
          "name": "stdout",
          "text": [
            "2024-03-23 00:22:28,483 [INFO] PGN firing rate avg: 2.0 Hz\n"
          ]
        },
        {
          "output_type": "stream",
          "name": "stderr",
          "text": [
            "INFO:NEURONIOUtils:PGN firing rate avg: 2.0 Hz\n"
          ]
        },
        {
          "output_type": "stream",
          "name": "stdout",
          "text": [
            "2024-03-23 00:22:28,488 [INFO] Grill PGN fr = 2.984 Hz\n"
          ]
        },
        {
          "output_type": "stream",
          "name": "stderr",
          "text": [
            "INFO:NEURONIOUtils:Grill PGN fr = 2.984 Hz\n"
          ]
        },
        {
          "output_type": "stream",
          "name": "stdout",
          "text": [
            "2024-03-23 00:22:28,490 [INFO] IMG node_gid\t  Hz\n"
          ]
        },
        {
          "output_type": "stream",
          "name": "stderr",
          "text": [
            "INFO:NEURONIOUtils:IMG node_gid\t  Hz\n"
          ]
        },
        {
          "output_type": "stream",
          "name": "stdout",
          "text": [
            "2024-03-23 00:22:28,492 [INFO] 90\t\t0.0\n"
          ]
        },
        {
          "output_type": "stream",
          "name": "stderr",
          "text": [
            "INFO:NEURONIOUtils:90\t\t0.0\n"
          ]
        },
        {
          "output_type": "stream",
          "name": "stdout",
          "text": [
            "2024-03-23 00:22:28,494 [INFO] 91\t\t1.0\n"
          ]
        },
        {
          "output_type": "stream",
          "name": "stderr",
          "text": [
            "INFO:NEURONIOUtils:91\t\t1.0\n"
          ]
        },
        {
          "output_type": "stream",
          "name": "stdout",
          "text": [
            "2024-03-23 00:22:28,496 [INFO] 92\t\t0.0\n"
          ]
        },
        {
          "output_type": "stream",
          "name": "stderr",
          "text": [
            "INFO:NEURONIOUtils:92\t\t0.0\n"
          ]
        },
        {
          "output_type": "stream",
          "name": "stdout",
          "text": [
            "2024-03-23 00:22:28,498 [INFO] 93\t\t1.0\n"
          ]
        },
        {
          "output_type": "stream",
          "name": "stderr",
          "text": [
            "INFO:NEURONIOUtils:93\t\t1.0\n"
          ]
        },
        {
          "output_type": "stream",
          "name": "stdout",
          "text": [
            "2024-03-23 00:22:28,500 [INFO] 94\t\t1.0\n"
          ]
        },
        {
          "output_type": "stream",
          "name": "stderr",
          "text": [
            "INFO:NEURONIOUtils:94\t\t1.0\n"
          ]
        },
        {
          "output_type": "stream",
          "name": "stdout",
          "text": [
            "2024-03-23 00:22:28,502 [INFO] 95\t\t0.0\n"
          ]
        },
        {
          "output_type": "stream",
          "name": "stderr",
          "text": [
            "INFO:NEURONIOUtils:95\t\t0.0\n"
          ]
        },
        {
          "output_type": "stream",
          "name": "stdout",
          "text": [
            "2024-03-23 00:22:28,504 [INFO] 96\t\t0.0\n"
          ]
        },
        {
          "output_type": "stream",
          "name": "stderr",
          "text": [
            "INFO:NEURONIOUtils:96\t\t0.0\n"
          ]
        },
        {
          "output_type": "stream",
          "name": "stdout",
          "text": [
            "2024-03-23 00:22:28,506 [INFO] 97\t\t1.0\n"
          ]
        },
        {
          "output_type": "stream",
          "name": "stderr",
          "text": [
            "INFO:NEURONIOUtils:97\t\t1.0\n"
          ]
        },
        {
          "output_type": "stream",
          "name": "stdout",
          "text": [
            "2024-03-23 00:22:28,507 [INFO] 98\t\t1.0\n"
          ]
        },
        {
          "output_type": "stream",
          "name": "stderr",
          "text": [
            "INFO:NEURONIOUtils:98\t\t1.0\n"
          ]
        },
        {
          "output_type": "stream",
          "name": "stdout",
          "text": [
            "2024-03-23 00:22:28,509 [INFO] 99\t\t1.0\n"
          ]
        },
        {
          "output_type": "stream",
          "name": "stderr",
          "text": [
            "INFO:NEURONIOUtils:99\t\t1.0\n"
          ]
        },
        {
          "output_type": "stream",
          "name": "stdout",
          "text": [
            "2024-03-23 00:22:28,511 [INFO] IMG firing rate avg: 2.0 Hz\n"
          ]
        },
        {
          "output_type": "stream",
          "name": "stderr",
          "text": [
            "INFO:NEURONIOUtils:IMG firing rate avg: 2.0 Hz\n"
          ]
        },
        {
          "output_type": "stream",
          "name": "stdout",
          "text": [
            "2024-03-23 00:22:28,519 [INFO] Volume = 0.7875 ml\n"
          ]
        },
        {
          "output_type": "stream",
          "name": "stderr",
          "text": [
            "/usr/local/lib/python3.10/dist-packages/bmtk/utils/reports/spike_trains/spike_trains.py:183: RuntimeWarning: divide by zero encountered in scalar divide\n",
            "  interval = -np.log(1.0 - np.random.uniform()) / fr\n",
            "INFO:NEURONIOUtils:Volume = 0.7875 ml\n"
          ]
        },
        {
          "output_type": "stream",
          "name": "stdout",
          "text": [
            "2024-03-23 00:22:28,527 [INFO] Pressure = 2.16 mmHg\n"
          ]
        },
        {
          "output_type": "stream",
          "name": "stderr",
          "text": [
            "INFO:NEURONIOUtils:Pressure = 2.16 mmHg\n"
          ]
        },
        {
          "output_type": "stream",
          "name": "stdout",
          "text": [
            "2024-03-23 00:22:28,529 [INFO] Calculated bladder afferent firing rate for the next time step = 0.00 Hz \n",
            " \n",
            "\n"
          ]
        },
        {
          "output_type": "stream",
          "name": "stderr",
          "text": [
            "INFO:NEURONIOUtils:Calculated bladder afferent firing rate for the next time step = 0.00 Hz \n",
            " \n",
            "\n"
          ]
        },
        {
          "output_type": "stream",
          "name": "stdout",
          "text": [
            "2024-03-23 00:22:31,078 [INFO]     step:145000 t_sim:29000.00 ms\n"
          ]
        },
        {
          "output_type": "stream",
          "name": "stderr",
          "text": [
            "INFO:NEURONIOUtils:    step:145000 t_sim:29000.00 ms\n"
          ]
        },
        {
          "output_type": "stream",
          "name": "stdout",
          "text": [
            "2024-03-23 00:22:31,091 [INFO] Timestep 28000.0 to 29000.0 ms\n"
          ]
        },
        {
          "output_type": "stream",
          "name": "stderr",
          "text": [
            "INFO:NEURONIOUtils:Timestep 28000.0 to 29000.0 ms\n"
          ]
        },
        {
          "output_type": "stream",
          "name": "stdout",
          "text": [
            "2024-03-23 00:22:31,096 [INFO] PGN node_id\t  Hz\n"
          ]
        },
        {
          "output_type": "stream",
          "name": "stderr",
          "text": [
            "INFO:NEURONIOUtils:PGN node_id\t  Hz\n"
          ]
        },
        {
          "output_type": "stream",
          "name": "stdout",
          "text": [
            "2024-03-23 00:22:31,100 [INFO] 70\t\t5.0\n"
          ]
        },
        {
          "output_type": "stream",
          "name": "stderr",
          "text": [
            "INFO:NEURONIOUtils:70\t\t5.0\n"
          ]
        },
        {
          "output_type": "stream",
          "name": "stdout",
          "text": [
            "2024-03-23 00:22:31,103 [INFO] 71\t\t5.0\n"
          ]
        },
        {
          "output_type": "stream",
          "name": "stderr",
          "text": [
            "INFO:NEURONIOUtils:71\t\t5.0\n"
          ]
        },
        {
          "output_type": "stream",
          "name": "stdout",
          "text": [
            "2024-03-23 00:22:31,105 [INFO] 72\t\t5.0\n"
          ]
        },
        {
          "output_type": "stream",
          "name": "stderr",
          "text": [
            "INFO:NEURONIOUtils:72\t\t5.0\n"
          ]
        },
        {
          "output_type": "stream",
          "name": "stdout",
          "text": [
            "2024-03-23 00:22:31,107 [INFO] 73\t\t5.0\n"
          ]
        },
        {
          "output_type": "stream",
          "name": "stderr",
          "text": [
            "INFO:NEURONIOUtils:73\t\t5.0\n"
          ]
        },
        {
          "output_type": "stream",
          "name": "stdout",
          "text": [
            "2024-03-23 00:22:31,108 [INFO] 74\t\t5.0\n"
          ]
        },
        {
          "output_type": "stream",
          "name": "stderr",
          "text": [
            "INFO:NEURONIOUtils:74\t\t5.0\n"
          ]
        },
        {
          "output_type": "stream",
          "name": "stdout",
          "text": [
            "2024-03-23 00:22:31,110 [INFO] 75\t\t5.0\n"
          ]
        },
        {
          "output_type": "stream",
          "name": "stderr",
          "text": [
            "INFO:NEURONIOUtils:75\t\t5.0\n"
          ]
        },
        {
          "output_type": "stream",
          "name": "stdout",
          "text": [
            "2024-03-23 00:22:31,112 [INFO] 76\t\t5.0\n"
          ]
        },
        {
          "output_type": "stream",
          "name": "stderr",
          "text": [
            "INFO:NEURONIOUtils:76\t\t5.0\n"
          ]
        },
        {
          "output_type": "stream",
          "name": "stdout",
          "text": [
            "2024-03-23 00:22:31,114 [INFO] 77\t\t5.0\n"
          ]
        },
        {
          "output_type": "stream",
          "name": "stderr",
          "text": [
            "INFO:NEURONIOUtils:77\t\t5.0\n"
          ]
        },
        {
          "output_type": "stream",
          "name": "stdout",
          "text": [
            "2024-03-23 00:22:31,116 [INFO] 78\t\t5.0\n"
          ]
        },
        {
          "output_type": "stream",
          "name": "stderr",
          "text": [
            "INFO:NEURONIOUtils:78\t\t5.0\n"
          ]
        },
        {
          "output_type": "stream",
          "name": "stdout",
          "text": [
            "2024-03-23 00:22:31,118 [INFO] 79\t\t5.0\n"
          ]
        },
        {
          "output_type": "stream",
          "name": "stderr",
          "text": [
            "INFO:NEURONIOUtils:79\t\t5.0\n"
          ]
        },
        {
          "output_type": "stream",
          "name": "stdout",
          "text": [
            "2024-03-23 00:22:31,120 [INFO] PGN firing rate avg: 5.0 Hz\n"
          ]
        },
        {
          "output_type": "stream",
          "name": "stderr",
          "text": [
            "INFO:NEURONIOUtils:PGN firing rate avg: 5.0 Hz\n"
          ]
        },
        {
          "output_type": "stream",
          "name": "stdout",
          "text": [
            "2024-03-23 00:22:31,122 [INFO] Grill PGN fr = 7.925000000000001 Hz\n"
          ]
        },
        {
          "output_type": "stream",
          "name": "stderr",
          "text": [
            "INFO:NEURONIOUtils:Grill PGN fr = 7.925000000000001 Hz\n"
          ]
        },
        {
          "output_type": "stream",
          "name": "stdout",
          "text": [
            "2024-03-23 00:22:31,124 [INFO] IMG node_gid\t  Hz\n"
          ]
        },
        {
          "output_type": "stream",
          "name": "stderr",
          "text": [
            "INFO:NEURONIOUtils:IMG node_gid\t  Hz\n"
          ]
        },
        {
          "output_type": "stream",
          "name": "stdout",
          "text": [
            "2024-03-23 00:22:31,126 [INFO] 90\t\t0.0\n"
          ]
        },
        {
          "output_type": "stream",
          "name": "stderr",
          "text": [
            "INFO:NEURONIOUtils:90\t\t0.0\n"
          ]
        },
        {
          "output_type": "stream",
          "name": "stdout",
          "text": [
            "2024-03-23 00:22:31,128 [INFO] 91\t\t1.0\n"
          ]
        },
        {
          "output_type": "stream",
          "name": "stderr",
          "text": [
            "INFO:NEURONIOUtils:91\t\t1.0\n"
          ]
        },
        {
          "output_type": "stream",
          "name": "stdout",
          "text": [
            "2024-03-23 00:22:31,130 [INFO] 92\t\t0.0\n"
          ]
        },
        {
          "output_type": "stream",
          "name": "stderr",
          "text": [
            "INFO:NEURONIOUtils:92\t\t0.0\n"
          ]
        },
        {
          "output_type": "stream",
          "name": "stdout",
          "text": [
            "2024-03-23 00:22:31,132 [INFO] 93\t\t1.0\n"
          ]
        },
        {
          "output_type": "stream",
          "name": "stderr",
          "text": [
            "INFO:NEURONIOUtils:93\t\t1.0\n"
          ]
        },
        {
          "output_type": "stream",
          "name": "stdout",
          "text": [
            "2024-03-23 00:22:31,134 [INFO] 94\t\t1.0\n"
          ]
        },
        {
          "output_type": "stream",
          "name": "stderr",
          "text": [
            "INFO:NEURONIOUtils:94\t\t1.0\n"
          ]
        },
        {
          "output_type": "stream",
          "name": "stdout",
          "text": [
            "2024-03-23 00:22:31,136 [INFO] 95\t\t0.0\n"
          ]
        },
        {
          "output_type": "stream",
          "name": "stderr",
          "text": [
            "INFO:NEURONIOUtils:95\t\t0.0\n"
          ]
        },
        {
          "output_type": "stream",
          "name": "stdout",
          "text": [
            "2024-03-23 00:22:31,138 [INFO] 96\t\t0.0\n"
          ]
        },
        {
          "output_type": "stream",
          "name": "stderr",
          "text": [
            "INFO:NEURONIOUtils:96\t\t0.0\n"
          ]
        },
        {
          "output_type": "stream",
          "name": "stdout",
          "text": [
            "2024-03-23 00:22:31,140 [INFO] 97\t\t1.0\n"
          ]
        },
        {
          "output_type": "stream",
          "name": "stderr",
          "text": [
            "INFO:NEURONIOUtils:97\t\t1.0\n"
          ]
        },
        {
          "output_type": "stream",
          "name": "stdout",
          "text": [
            "2024-03-23 00:22:31,142 [INFO] 98\t\t1.0\n"
          ]
        },
        {
          "output_type": "stream",
          "name": "stderr",
          "text": [
            "INFO:NEURONIOUtils:98\t\t1.0\n"
          ]
        },
        {
          "output_type": "stream",
          "name": "stdout",
          "text": [
            "2024-03-23 00:22:31,144 [INFO] 99\t\t1.0\n"
          ]
        },
        {
          "output_type": "stream",
          "name": "stderr",
          "text": [
            "INFO:NEURONIOUtils:99\t\t1.0\n"
          ]
        },
        {
          "output_type": "stream",
          "name": "stdout",
          "text": [
            "2024-03-23 00:22:31,150 [INFO] IMG firing rate avg: 5.0 Hz\n"
          ]
        },
        {
          "output_type": "stream",
          "name": "stderr",
          "text": [
            "INFO:NEURONIOUtils:IMG firing rate avg: 5.0 Hz\n"
          ]
        },
        {
          "output_type": "stream",
          "name": "stdout",
          "text": [
            "2024-03-23 00:22:31,160 [INFO] Volume = 0.8167 ml\n"
          ]
        },
        {
          "output_type": "stream",
          "name": "stderr",
          "text": [
            "/usr/local/lib/python3.10/dist-packages/bmtk/utils/reports/spike_trains/spike_trains.py:183: RuntimeWarning: divide by zero encountered in scalar divide\n",
            "  interval = -np.log(1.0 - np.random.uniform()) / fr\n",
            "INFO:NEURONIOUtils:Volume = 0.8167 ml\n"
          ]
        },
        {
          "output_type": "stream",
          "name": "stdout",
          "text": [
            "2024-03-23 00:22:31,166 [INFO] Pressure = 4.93 mmHg\n"
          ]
        },
        {
          "output_type": "stream",
          "name": "stderr",
          "text": [
            "INFO:NEURONIOUtils:Pressure = 4.93 mmHg\n"
          ]
        },
        {
          "output_type": "stream",
          "name": "stdout",
          "text": [
            "2024-03-23 00:22:31,171 [INFO] Calculated bladder afferent firing rate for the next time step = 0.00 Hz \n",
            " \n",
            "\n"
          ]
        },
        {
          "output_type": "stream",
          "name": "stderr",
          "text": [
            "INFO:NEURONIOUtils:Calculated bladder afferent firing rate for the next time step = 0.00 Hz \n",
            " \n",
            "\n"
          ]
        },
        {
          "output_type": "stream",
          "name": "stdout",
          "text": [
            "2024-03-23 00:22:33,587 [INFO]     step:150000 t_sim:30000.00 ms\n"
          ]
        },
        {
          "output_type": "stream",
          "name": "stderr",
          "text": [
            "INFO:NEURONIOUtils:    step:150000 t_sim:30000.00 ms\n"
          ]
        },
        {
          "output_type": "stream",
          "name": "stdout",
          "text": [
            "2024-03-23 00:22:33,599 [INFO] Timestep 29000.0 to 30000.0 ms\n"
          ]
        },
        {
          "output_type": "stream",
          "name": "stderr",
          "text": [
            "INFO:NEURONIOUtils:Timestep 29000.0 to 30000.0 ms\n"
          ]
        },
        {
          "output_type": "stream",
          "name": "stdout",
          "text": [
            "2024-03-23 00:22:33,607 [INFO] PGN node_id\t  Hz\n"
          ]
        },
        {
          "output_type": "stream",
          "name": "stderr",
          "text": [
            "INFO:NEURONIOUtils:PGN node_id\t  Hz\n"
          ]
        },
        {
          "output_type": "stream",
          "name": "stdout",
          "text": [
            "2024-03-23 00:22:33,611 [INFO] 70\t\t2.0\n"
          ]
        },
        {
          "output_type": "stream",
          "name": "stderr",
          "text": [
            "INFO:NEURONIOUtils:70\t\t2.0\n"
          ]
        },
        {
          "output_type": "stream",
          "name": "stdout",
          "text": [
            "2024-03-23 00:22:33,614 [INFO] 71\t\t2.0\n"
          ]
        },
        {
          "output_type": "stream",
          "name": "stderr",
          "text": [
            "INFO:NEURONIOUtils:71\t\t2.0\n"
          ]
        },
        {
          "output_type": "stream",
          "name": "stdout",
          "text": [
            "2024-03-23 00:22:33,617 [INFO] 72\t\t2.0\n"
          ]
        },
        {
          "output_type": "stream",
          "name": "stderr",
          "text": [
            "INFO:NEURONIOUtils:72\t\t2.0\n"
          ]
        },
        {
          "output_type": "stream",
          "name": "stdout",
          "text": [
            "2024-03-23 00:22:33,619 [INFO] 73\t\t2.0\n"
          ]
        },
        {
          "output_type": "stream",
          "name": "stderr",
          "text": [
            "INFO:NEURONIOUtils:73\t\t2.0\n"
          ]
        },
        {
          "output_type": "stream",
          "name": "stdout",
          "text": [
            "2024-03-23 00:22:33,624 [INFO] 74\t\t2.0\n"
          ]
        },
        {
          "output_type": "stream",
          "name": "stderr",
          "text": [
            "INFO:NEURONIOUtils:74\t\t2.0\n"
          ]
        },
        {
          "output_type": "stream",
          "name": "stdout",
          "text": [
            "2024-03-23 00:22:33,626 [INFO] 75\t\t2.0\n"
          ]
        },
        {
          "output_type": "stream",
          "name": "stderr",
          "text": [
            "INFO:NEURONIOUtils:75\t\t2.0\n"
          ]
        },
        {
          "output_type": "stream",
          "name": "stdout",
          "text": [
            "2024-03-23 00:22:33,630 [INFO] 76\t\t2.0\n"
          ]
        },
        {
          "output_type": "stream",
          "name": "stderr",
          "text": [
            "INFO:NEURONIOUtils:76\t\t2.0\n"
          ]
        },
        {
          "output_type": "stream",
          "name": "stdout",
          "text": [
            "2024-03-23 00:22:33,632 [INFO] 77\t\t2.0\n"
          ]
        },
        {
          "output_type": "stream",
          "name": "stderr",
          "text": [
            "INFO:NEURONIOUtils:77\t\t2.0\n"
          ]
        },
        {
          "output_type": "stream",
          "name": "stdout",
          "text": [
            "2024-03-23 00:22:33,634 [INFO] 78\t\t2.0\n"
          ]
        },
        {
          "output_type": "stream",
          "name": "stderr",
          "text": [
            "INFO:NEURONIOUtils:78\t\t2.0\n"
          ]
        },
        {
          "output_type": "stream",
          "name": "stdout",
          "text": [
            "2024-03-23 00:22:33,637 [INFO] 79\t\t2.0\n"
          ]
        },
        {
          "output_type": "stream",
          "name": "stderr",
          "text": [
            "INFO:NEURONIOUtils:79\t\t2.0\n"
          ]
        },
        {
          "output_type": "stream",
          "name": "stdout",
          "text": [
            "2024-03-23 00:22:33,639 [INFO] PGN firing rate avg: 2.0 Hz\n"
          ]
        },
        {
          "output_type": "stream",
          "name": "stderr",
          "text": [
            "INFO:NEURONIOUtils:PGN firing rate avg: 2.0 Hz\n"
          ]
        },
        {
          "output_type": "stream",
          "name": "stdout",
          "text": [
            "2024-03-23 00:22:33,641 [INFO] Grill PGN fr = 2.984 Hz\n"
          ]
        },
        {
          "output_type": "stream",
          "name": "stderr",
          "text": [
            "INFO:NEURONIOUtils:Grill PGN fr = 2.984 Hz\n"
          ]
        },
        {
          "output_type": "stream",
          "name": "stdout",
          "text": [
            "2024-03-23 00:22:33,644 [INFO] IMG node_gid\t  Hz\n"
          ]
        },
        {
          "output_type": "stream",
          "name": "stderr",
          "text": [
            "INFO:NEURONIOUtils:IMG node_gid\t  Hz\n"
          ]
        },
        {
          "output_type": "stream",
          "name": "stdout",
          "text": [
            "2024-03-23 00:22:33,647 [INFO] 90\t\t0.0\n"
          ]
        },
        {
          "output_type": "stream",
          "name": "stderr",
          "text": [
            "INFO:NEURONIOUtils:90\t\t0.0\n"
          ]
        },
        {
          "output_type": "stream",
          "name": "stdout",
          "text": [
            "2024-03-23 00:22:33,649 [INFO] 91\t\t0.0\n"
          ]
        },
        {
          "output_type": "stream",
          "name": "stderr",
          "text": [
            "INFO:NEURONIOUtils:91\t\t0.0\n"
          ]
        },
        {
          "output_type": "stream",
          "name": "stdout",
          "text": [
            "2024-03-23 00:22:33,652 [INFO] 92\t\t0.0\n"
          ]
        },
        {
          "output_type": "stream",
          "name": "stderr",
          "text": [
            "INFO:NEURONIOUtils:92\t\t0.0\n"
          ]
        },
        {
          "output_type": "stream",
          "name": "stdout",
          "text": [
            "2024-03-23 00:22:33,654 [INFO] 93\t\t0.0\n"
          ]
        },
        {
          "output_type": "stream",
          "name": "stderr",
          "text": [
            "INFO:NEURONIOUtils:93\t\t0.0\n"
          ]
        },
        {
          "output_type": "stream",
          "name": "stdout",
          "text": [
            "2024-03-23 00:22:33,656 [INFO] 94\t\t0.0\n"
          ]
        },
        {
          "output_type": "stream",
          "name": "stderr",
          "text": [
            "INFO:NEURONIOUtils:94\t\t0.0\n"
          ]
        },
        {
          "output_type": "stream",
          "name": "stdout",
          "text": [
            "2024-03-23 00:22:33,658 [INFO] 95\t\t0.0\n"
          ]
        },
        {
          "output_type": "stream",
          "name": "stderr",
          "text": [
            "INFO:NEURONIOUtils:95\t\t0.0\n"
          ]
        },
        {
          "output_type": "stream",
          "name": "stdout",
          "text": [
            "2024-03-23 00:22:33,660 [INFO] 96\t\t0.0\n"
          ]
        },
        {
          "output_type": "stream",
          "name": "stderr",
          "text": [
            "INFO:NEURONIOUtils:96\t\t0.0\n"
          ]
        },
        {
          "output_type": "stream",
          "name": "stdout",
          "text": [
            "2024-03-23 00:22:33,662 [INFO] 97\t\t0.0\n"
          ]
        },
        {
          "output_type": "stream",
          "name": "stderr",
          "text": [
            "INFO:NEURONIOUtils:97\t\t0.0\n"
          ]
        },
        {
          "output_type": "stream",
          "name": "stdout",
          "text": [
            "2024-03-23 00:22:33,664 [INFO] 98\t\t0.0\n"
          ]
        },
        {
          "output_type": "stream",
          "name": "stderr",
          "text": [
            "INFO:NEURONIOUtils:98\t\t0.0\n"
          ]
        },
        {
          "output_type": "stream",
          "name": "stdout",
          "text": [
            "2024-03-23 00:22:33,667 [INFO] 99\t\t0.0\n"
          ]
        },
        {
          "output_type": "stream",
          "name": "stderr",
          "text": [
            "INFO:NEURONIOUtils:99\t\t0.0\n"
          ]
        },
        {
          "output_type": "stream",
          "name": "stdout",
          "text": [
            "2024-03-23 00:22:33,670 [INFO] IMG firing rate avg: 2.0 Hz\n"
          ]
        },
        {
          "output_type": "stream",
          "name": "stderr",
          "text": [
            "INFO:NEURONIOUtils:IMG firing rate avg: 2.0 Hz\n"
          ]
        },
        {
          "output_type": "stream",
          "name": "stdout",
          "text": [
            "2024-03-23 00:22:33,684 [INFO] Volume = 0.8458 ml\n"
          ]
        },
        {
          "output_type": "stream",
          "name": "stderr",
          "text": [
            "/usr/local/lib/python3.10/dist-packages/bmtk/utils/reports/spike_trains/spike_trains.py:183: RuntimeWarning: divide by zero encountered in scalar divide\n",
            "  interval = -np.log(1.0 - np.random.uniform()) / fr\n",
            "INFO:NEURONIOUtils:Volume = 0.8458 ml\n"
          ]
        },
        {
          "output_type": "stream",
          "name": "stdout",
          "text": [
            "2024-03-23 00:22:33,692 [INFO] Pressure = 2.92 mmHg\n"
          ]
        },
        {
          "output_type": "stream",
          "name": "stderr",
          "text": [
            "INFO:NEURONIOUtils:Pressure = 2.92 mmHg\n"
          ]
        },
        {
          "output_type": "stream",
          "name": "stdout",
          "text": [
            "2024-03-23 00:22:33,695 [INFO] Calculated bladder afferent firing rate for the next time step = 0.00 Hz \n",
            " \n",
            "\n"
          ]
        },
        {
          "output_type": "stream",
          "name": "stderr",
          "text": [
            "INFO:NEURONIOUtils:Calculated bladder afferent firing rate for the next time step = 0.00 Hz \n",
            " \n",
            "\n"
          ]
        },
        {
          "output_type": "stream",
          "name": "stdout",
          "text": [
            "2024-03-23 00:22:36,329 [INFO]     step:155000 t_sim:31000.00 ms\n"
          ]
        },
        {
          "output_type": "stream",
          "name": "stderr",
          "text": [
            "INFO:NEURONIOUtils:    step:155000 t_sim:31000.00 ms\n"
          ]
        },
        {
          "output_type": "stream",
          "name": "stdout",
          "text": [
            "2024-03-23 00:22:36,344 [INFO] Timestep 30000.0 to 31000.0 ms\n"
          ]
        },
        {
          "output_type": "stream",
          "name": "stderr",
          "text": [
            "INFO:NEURONIOUtils:Timestep 30000.0 to 31000.0 ms\n"
          ]
        },
        {
          "output_type": "stream",
          "name": "stdout",
          "text": [
            "2024-03-23 00:22:36,355 [INFO] PGN node_id\t  Hz\n"
          ]
        },
        {
          "output_type": "stream",
          "name": "stderr",
          "text": [
            "INFO:NEURONIOUtils:PGN node_id\t  Hz\n"
          ]
        },
        {
          "output_type": "stream",
          "name": "stdout",
          "text": [
            "2024-03-23 00:22:36,359 [INFO] 70\t\t1.0\n"
          ]
        },
        {
          "output_type": "stream",
          "name": "stderr",
          "text": [
            "INFO:NEURONIOUtils:70\t\t1.0\n"
          ]
        },
        {
          "output_type": "stream",
          "name": "stdout",
          "text": [
            "2024-03-23 00:22:36,361 [INFO] 71\t\t1.0\n"
          ]
        },
        {
          "output_type": "stream",
          "name": "stderr",
          "text": [
            "INFO:NEURONIOUtils:71\t\t1.0\n"
          ]
        },
        {
          "output_type": "stream",
          "name": "stdout",
          "text": [
            "2024-03-23 00:22:36,363 [INFO] 72\t\t1.0\n"
          ]
        },
        {
          "output_type": "stream",
          "name": "stderr",
          "text": [
            "INFO:NEURONIOUtils:72\t\t1.0\n"
          ]
        },
        {
          "output_type": "stream",
          "name": "stdout",
          "text": [
            "2024-03-23 00:22:36,367 [INFO] 73\t\t1.0\n"
          ]
        },
        {
          "output_type": "stream",
          "name": "stderr",
          "text": [
            "INFO:NEURONIOUtils:73\t\t1.0\n"
          ]
        },
        {
          "output_type": "stream",
          "name": "stdout",
          "text": [
            "2024-03-23 00:22:36,369 [INFO] 74\t\t1.0\n"
          ]
        },
        {
          "output_type": "stream",
          "name": "stderr",
          "text": [
            "INFO:NEURONIOUtils:74\t\t1.0\n"
          ]
        },
        {
          "output_type": "stream",
          "name": "stdout",
          "text": [
            "2024-03-23 00:22:36,372 [INFO] 75\t\t1.0\n"
          ]
        },
        {
          "output_type": "stream",
          "name": "stderr",
          "text": [
            "INFO:NEURONIOUtils:75\t\t1.0\n"
          ]
        },
        {
          "output_type": "stream",
          "name": "stdout",
          "text": [
            "2024-03-23 00:22:36,377 [INFO] 76\t\t1.0\n"
          ]
        },
        {
          "output_type": "stream",
          "name": "stderr",
          "text": [
            "INFO:NEURONIOUtils:76\t\t1.0\n"
          ]
        },
        {
          "output_type": "stream",
          "name": "stdout",
          "text": [
            "2024-03-23 00:22:36,381 [INFO] 77\t\t1.0\n"
          ]
        },
        {
          "output_type": "stream",
          "name": "stderr",
          "text": [
            "INFO:NEURONIOUtils:77\t\t1.0\n"
          ]
        },
        {
          "output_type": "stream",
          "name": "stdout",
          "text": [
            "2024-03-23 00:22:36,384 [INFO] 78\t\t1.0\n"
          ]
        },
        {
          "output_type": "stream",
          "name": "stderr",
          "text": [
            "INFO:NEURONIOUtils:78\t\t1.0\n"
          ]
        },
        {
          "output_type": "stream",
          "name": "stdout",
          "text": [
            "2024-03-23 00:22:36,386 [INFO] 79\t\t1.0\n"
          ]
        },
        {
          "output_type": "stream",
          "name": "stderr",
          "text": [
            "INFO:NEURONIOUtils:79\t\t1.0\n"
          ]
        },
        {
          "output_type": "stream",
          "name": "stdout",
          "text": [
            "2024-03-23 00:22:36,388 [INFO] PGN firing rate avg: 1.0 Hz\n"
          ]
        },
        {
          "output_type": "stream",
          "name": "stderr",
          "text": [
            "INFO:NEURONIOUtils:PGN firing rate avg: 1.0 Hz\n"
          ]
        },
        {
          "output_type": "stream",
          "name": "stdout",
          "text": [
            "2024-03-23 00:22:36,391 [INFO] Grill PGN fr = 1.2690000000000001 Hz\n"
          ]
        },
        {
          "output_type": "stream",
          "name": "stderr",
          "text": [
            "INFO:NEURONIOUtils:Grill PGN fr = 1.2690000000000001 Hz\n"
          ]
        },
        {
          "output_type": "stream",
          "name": "stdout",
          "text": [
            "2024-03-23 00:22:36,393 [INFO] IMG node_gid\t  Hz\n"
          ]
        },
        {
          "output_type": "stream",
          "name": "stderr",
          "text": [
            "INFO:NEURONIOUtils:IMG node_gid\t  Hz\n"
          ]
        },
        {
          "output_type": "stream",
          "name": "stdout",
          "text": [
            "2024-03-23 00:22:36,395 [INFO] 90\t\t0.0\n"
          ]
        },
        {
          "output_type": "stream",
          "name": "stderr",
          "text": [
            "INFO:NEURONIOUtils:90\t\t0.0\n"
          ]
        },
        {
          "output_type": "stream",
          "name": "stdout",
          "text": [
            "2024-03-23 00:22:36,397 [INFO] 91\t\t1.0\n"
          ]
        },
        {
          "output_type": "stream",
          "name": "stderr",
          "text": [
            "INFO:NEURONIOUtils:91\t\t1.0\n"
          ]
        },
        {
          "output_type": "stream",
          "name": "stdout",
          "text": [
            "2024-03-23 00:22:36,399 [INFO] 92\t\t0.0\n"
          ]
        },
        {
          "output_type": "stream",
          "name": "stderr",
          "text": [
            "INFO:NEURONIOUtils:92\t\t0.0\n"
          ]
        },
        {
          "output_type": "stream",
          "name": "stdout",
          "text": [
            "2024-03-23 00:22:36,402 [INFO] 93\t\t1.0\n"
          ]
        },
        {
          "output_type": "stream",
          "name": "stderr",
          "text": [
            "INFO:NEURONIOUtils:93\t\t1.0\n"
          ]
        },
        {
          "output_type": "stream",
          "name": "stdout",
          "text": [
            "2024-03-23 00:22:36,404 [INFO] 94\t\t1.0\n"
          ]
        },
        {
          "output_type": "stream",
          "name": "stderr",
          "text": [
            "INFO:NEURONIOUtils:94\t\t1.0\n"
          ]
        },
        {
          "output_type": "stream",
          "name": "stdout",
          "text": [
            "2024-03-23 00:22:36,406 [INFO] 95\t\t0.0\n"
          ]
        },
        {
          "output_type": "stream",
          "name": "stderr",
          "text": [
            "INFO:NEURONIOUtils:95\t\t0.0\n"
          ]
        },
        {
          "output_type": "stream",
          "name": "stdout",
          "text": [
            "2024-03-23 00:22:36,408 [INFO] 96\t\t0.0\n"
          ]
        },
        {
          "output_type": "stream",
          "name": "stderr",
          "text": [
            "INFO:NEURONIOUtils:96\t\t0.0\n"
          ]
        },
        {
          "output_type": "stream",
          "name": "stdout",
          "text": [
            "2024-03-23 00:22:36,410 [INFO] 97\t\t1.0\n"
          ]
        },
        {
          "output_type": "stream",
          "name": "stderr",
          "text": [
            "INFO:NEURONIOUtils:97\t\t1.0\n"
          ]
        },
        {
          "output_type": "stream",
          "name": "stdout",
          "text": [
            "2024-03-23 00:22:36,412 [INFO] 98\t\t1.0\n"
          ]
        },
        {
          "output_type": "stream",
          "name": "stderr",
          "text": [
            "INFO:NEURONIOUtils:98\t\t1.0\n"
          ]
        },
        {
          "output_type": "stream",
          "name": "stdout",
          "text": [
            "2024-03-23 00:22:36,415 [INFO] 99\t\t1.0\n"
          ]
        },
        {
          "output_type": "stream",
          "name": "stderr",
          "text": [
            "INFO:NEURONIOUtils:99\t\t1.0\n"
          ]
        },
        {
          "output_type": "stream",
          "name": "stdout",
          "text": [
            "2024-03-23 00:22:36,417 [INFO] IMG firing rate avg: 1.0 Hz\n"
          ]
        },
        {
          "output_type": "stream",
          "name": "stderr",
          "text": [
            "INFO:NEURONIOUtils:IMG firing rate avg: 1.0 Hz\n"
          ]
        },
        {
          "output_type": "stream",
          "name": "stdout",
          "text": [
            "2024-03-23 00:22:36,425 [INFO] Volume = 0.8750 ml\n"
          ]
        },
        {
          "output_type": "stream",
          "name": "stderr",
          "text": [
            "/usr/local/lib/python3.10/dist-packages/bmtk/utils/reports/spike_trains/spike_trains.py:183: RuntimeWarning: divide by zero encountered in scalar divide\n",
            "  interval = -np.log(1.0 - np.random.uniform()) / fr\n",
            "INFO:NEURONIOUtils:Volume = 0.8750 ml\n"
          ]
        },
        {
          "output_type": "stream",
          "name": "stdout",
          "text": [
            "2024-03-23 00:22:36,428 [INFO] Pressure = 1.95 mmHg\n"
          ]
        },
        {
          "output_type": "stream",
          "name": "stderr",
          "text": [
            "INFO:NEURONIOUtils:Pressure = 1.95 mmHg\n"
          ]
        },
        {
          "output_type": "stream",
          "name": "stdout",
          "text": [
            "2024-03-23 00:22:36,429 [INFO] Calculated bladder afferent firing rate for the next time step = 0.00 Hz \n",
            " \n",
            "\n"
          ]
        },
        {
          "output_type": "stream",
          "name": "stderr",
          "text": [
            "INFO:NEURONIOUtils:Calculated bladder afferent firing rate for the next time step = 0.00 Hz \n",
            " \n",
            "\n"
          ]
        },
        {
          "output_type": "stream",
          "name": "stdout",
          "text": [
            "2024-03-23 00:22:39,699 [INFO]     step:160000 t_sim:32000.00 ms\n"
          ]
        },
        {
          "output_type": "stream",
          "name": "stderr",
          "text": [
            "INFO:NEURONIOUtils:    step:160000 t_sim:32000.00 ms\n"
          ]
        },
        {
          "output_type": "stream",
          "name": "stdout",
          "text": [
            "2024-03-23 00:22:39,713 [INFO] Timestep 31000.0 to 32000.0 ms\n"
          ]
        },
        {
          "output_type": "stream",
          "name": "stderr",
          "text": [
            "INFO:NEURONIOUtils:Timestep 31000.0 to 32000.0 ms\n"
          ]
        },
        {
          "output_type": "stream",
          "name": "stdout",
          "text": [
            "2024-03-23 00:22:39,717 [INFO] PGN node_id\t  Hz\n"
          ]
        },
        {
          "output_type": "stream",
          "name": "stderr",
          "text": [
            "INFO:NEURONIOUtils:PGN node_id\t  Hz\n"
          ]
        },
        {
          "output_type": "stream",
          "name": "stdout",
          "text": [
            "2024-03-23 00:22:39,721 [INFO] 70\t\t2.0\n"
          ]
        },
        {
          "output_type": "stream",
          "name": "stderr",
          "text": [
            "INFO:NEURONIOUtils:70\t\t2.0\n"
          ]
        },
        {
          "output_type": "stream",
          "name": "stdout",
          "text": [
            "2024-03-23 00:22:39,724 [INFO] 71\t\t2.0\n"
          ]
        },
        {
          "output_type": "stream",
          "name": "stderr",
          "text": [
            "INFO:NEURONIOUtils:71\t\t2.0\n"
          ]
        },
        {
          "output_type": "stream",
          "name": "stdout",
          "text": [
            "2024-03-23 00:22:39,726 [INFO] 72\t\t2.0\n"
          ]
        },
        {
          "output_type": "stream",
          "name": "stderr",
          "text": [
            "INFO:NEURONIOUtils:72\t\t2.0\n"
          ]
        },
        {
          "output_type": "stream",
          "name": "stdout",
          "text": [
            "2024-03-23 00:22:39,732 [INFO] 73\t\t2.0\n"
          ]
        },
        {
          "output_type": "stream",
          "name": "stderr",
          "text": [
            "INFO:NEURONIOUtils:73\t\t2.0\n"
          ]
        },
        {
          "output_type": "stream",
          "name": "stdout",
          "text": [
            "2024-03-23 00:22:39,734 [INFO] 74\t\t2.0\n"
          ]
        },
        {
          "output_type": "stream",
          "name": "stderr",
          "text": [
            "INFO:NEURONIOUtils:74\t\t2.0\n"
          ]
        },
        {
          "output_type": "stream",
          "name": "stdout",
          "text": [
            "2024-03-23 00:22:39,736 [INFO] 75\t\t2.0\n"
          ]
        },
        {
          "output_type": "stream",
          "name": "stderr",
          "text": [
            "INFO:NEURONIOUtils:75\t\t2.0\n"
          ]
        },
        {
          "output_type": "stream",
          "name": "stdout",
          "text": [
            "2024-03-23 00:22:39,738 [INFO] 76\t\t2.0\n"
          ]
        },
        {
          "output_type": "stream",
          "name": "stderr",
          "text": [
            "INFO:NEURONIOUtils:76\t\t2.0\n"
          ]
        },
        {
          "output_type": "stream",
          "name": "stdout",
          "text": [
            "2024-03-23 00:22:39,740 [INFO] 77\t\t2.0\n"
          ]
        },
        {
          "output_type": "stream",
          "name": "stderr",
          "text": [
            "INFO:NEURONIOUtils:77\t\t2.0\n"
          ]
        },
        {
          "output_type": "stream",
          "name": "stdout",
          "text": [
            "2024-03-23 00:22:39,742 [INFO] 78\t\t2.0\n"
          ]
        },
        {
          "output_type": "stream",
          "name": "stderr",
          "text": [
            "INFO:NEURONIOUtils:78\t\t2.0\n"
          ]
        },
        {
          "output_type": "stream",
          "name": "stdout",
          "text": [
            "2024-03-23 00:22:39,744 [INFO] 79\t\t2.0\n"
          ]
        },
        {
          "output_type": "stream",
          "name": "stderr",
          "text": [
            "INFO:NEURONIOUtils:79\t\t2.0\n"
          ]
        },
        {
          "output_type": "stream",
          "name": "stdout",
          "text": [
            "2024-03-23 00:22:39,746 [INFO] PGN firing rate avg: 2.0 Hz\n"
          ]
        },
        {
          "output_type": "stream",
          "name": "stderr",
          "text": [
            "INFO:NEURONIOUtils:PGN firing rate avg: 2.0 Hz\n"
          ]
        },
        {
          "output_type": "stream",
          "name": "stdout",
          "text": [
            "2024-03-23 00:22:39,748 [INFO] Grill PGN fr = 2.984 Hz\n"
          ]
        },
        {
          "output_type": "stream",
          "name": "stderr",
          "text": [
            "INFO:NEURONIOUtils:Grill PGN fr = 2.984 Hz\n"
          ]
        },
        {
          "output_type": "stream",
          "name": "stdout",
          "text": [
            "2024-03-23 00:22:39,750 [INFO] IMG node_gid\t  Hz\n"
          ]
        },
        {
          "output_type": "stream",
          "name": "stderr",
          "text": [
            "INFO:NEURONIOUtils:IMG node_gid\t  Hz\n"
          ]
        },
        {
          "output_type": "stream",
          "name": "stdout",
          "text": [
            "2024-03-23 00:22:39,752 [INFO] 90\t\t0.0\n"
          ]
        },
        {
          "output_type": "stream",
          "name": "stderr",
          "text": [
            "INFO:NEURONIOUtils:90\t\t0.0\n"
          ]
        },
        {
          "output_type": "stream",
          "name": "stdout",
          "text": [
            "2024-03-23 00:22:39,754 [INFO] 91\t\t1.0\n"
          ]
        },
        {
          "output_type": "stream",
          "name": "stderr",
          "text": [
            "INFO:NEURONIOUtils:91\t\t1.0\n"
          ]
        },
        {
          "output_type": "stream",
          "name": "stdout",
          "text": [
            "2024-03-23 00:22:39,756 [INFO] 92\t\t0.0\n"
          ]
        },
        {
          "output_type": "stream",
          "name": "stderr",
          "text": [
            "INFO:NEURONIOUtils:92\t\t0.0\n"
          ]
        },
        {
          "output_type": "stream",
          "name": "stdout",
          "text": [
            "2024-03-23 00:22:39,759 [INFO] 93\t\t1.0\n"
          ]
        },
        {
          "output_type": "stream",
          "name": "stderr",
          "text": [
            "INFO:NEURONIOUtils:93\t\t1.0\n"
          ]
        },
        {
          "output_type": "stream",
          "name": "stdout",
          "text": [
            "2024-03-23 00:22:39,764 [INFO] 94\t\t1.0\n"
          ]
        },
        {
          "output_type": "stream",
          "name": "stderr",
          "text": [
            "INFO:NEURONIOUtils:94\t\t1.0\n"
          ]
        },
        {
          "output_type": "stream",
          "name": "stdout",
          "text": [
            "2024-03-23 00:22:39,767 [INFO] 95\t\t0.0\n"
          ]
        },
        {
          "output_type": "stream",
          "name": "stderr",
          "text": [
            "INFO:NEURONIOUtils:95\t\t0.0\n"
          ]
        },
        {
          "output_type": "stream",
          "name": "stdout",
          "text": [
            "2024-03-23 00:22:39,768 [INFO] 96\t\t0.0\n"
          ]
        },
        {
          "output_type": "stream",
          "name": "stderr",
          "text": [
            "INFO:NEURONIOUtils:96\t\t0.0\n"
          ]
        },
        {
          "output_type": "stream",
          "name": "stdout",
          "text": [
            "2024-03-23 00:22:39,771 [INFO] 97\t\t1.0\n"
          ]
        },
        {
          "output_type": "stream",
          "name": "stderr",
          "text": [
            "INFO:NEURONIOUtils:97\t\t1.0\n"
          ]
        },
        {
          "output_type": "stream",
          "name": "stdout",
          "text": [
            "2024-03-23 00:22:39,773 [INFO] 98\t\t1.0\n"
          ]
        },
        {
          "output_type": "stream",
          "name": "stderr",
          "text": [
            "INFO:NEURONIOUtils:98\t\t1.0\n"
          ]
        },
        {
          "output_type": "stream",
          "name": "stdout",
          "text": [
            "2024-03-23 00:22:39,775 [INFO] 99\t\t1.0\n"
          ]
        },
        {
          "output_type": "stream",
          "name": "stderr",
          "text": [
            "INFO:NEURONIOUtils:99\t\t1.0\n"
          ]
        },
        {
          "output_type": "stream",
          "name": "stdout",
          "text": [
            "2024-03-23 00:22:39,777 [INFO] IMG firing rate avg: 2.0 Hz\n"
          ]
        },
        {
          "output_type": "stream",
          "name": "stderr",
          "text": [
            "INFO:NEURONIOUtils:IMG firing rate avg: 2.0 Hz\n"
          ]
        },
        {
          "output_type": "stream",
          "name": "stdout",
          "text": [
            "2024-03-23 00:22:39,784 [INFO] Volume = 0.9042 ml\n"
          ]
        },
        {
          "output_type": "stream",
          "name": "stderr",
          "text": [
            "/usr/local/lib/python3.10/dist-packages/bmtk/utils/reports/spike_trains/spike_trains.py:183: RuntimeWarning: divide by zero encountered in scalar divide\n",
            "  interval = -np.log(1.0 - np.random.uniform()) / fr\n",
            "INFO:NEURONIOUtils:Volume = 0.9042 ml\n"
          ]
        },
        {
          "output_type": "stream",
          "name": "stdout",
          "text": [
            "2024-03-23 00:22:39,795 [INFO] Pressure = 3.06 mmHg\n"
          ]
        },
        {
          "output_type": "stream",
          "name": "stderr",
          "text": [
            "INFO:NEURONIOUtils:Pressure = 3.06 mmHg\n"
          ]
        },
        {
          "output_type": "stream",
          "name": "stdout",
          "text": [
            "2024-03-23 00:22:39,802 [INFO] Calculated bladder afferent firing rate for the next time step = 0.00 Hz \n",
            " \n",
            "\n"
          ]
        },
        {
          "output_type": "stream",
          "name": "stderr",
          "text": [
            "INFO:NEURONIOUtils:Calculated bladder afferent firing rate for the next time step = 0.00 Hz \n",
            " \n",
            "\n"
          ]
        },
        {
          "output_type": "stream",
          "name": "stdout",
          "text": [
            "2024-03-23 00:22:42,516 [INFO]     step:165000 t_sim:33000.00 ms\n"
          ]
        },
        {
          "output_type": "stream",
          "name": "stderr",
          "text": [
            "INFO:NEURONIOUtils:    step:165000 t_sim:33000.00 ms\n"
          ]
        },
        {
          "output_type": "stream",
          "name": "stdout",
          "text": [
            "2024-03-23 00:22:42,531 [INFO] Timestep 32000.0 to 33000.0 ms\n"
          ]
        },
        {
          "output_type": "stream",
          "name": "stderr",
          "text": [
            "INFO:NEURONIOUtils:Timestep 32000.0 to 33000.0 ms\n"
          ]
        },
        {
          "output_type": "stream",
          "name": "stdout",
          "text": [
            "2024-03-23 00:22:42,540 [INFO] PGN node_id\t  Hz\n"
          ]
        },
        {
          "output_type": "stream",
          "name": "stderr",
          "text": [
            "INFO:NEURONIOUtils:PGN node_id\t  Hz\n"
          ]
        },
        {
          "output_type": "stream",
          "name": "stdout",
          "text": [
            "2024-03-23 00:22:42,546 [INFO] 70\t\t3.0\n"
          ]
        },
        {
          "output_type": "stream",
          "name": "stderr",
          "text": [
            "INFO:NEURONIOUtils:70\t\t3.0\n"
          ]
        },
        {
          "output_type": "stream",
          "name": "stdout",
          "text": [
            "2024-03-23 00:22:42,553 [INFO] 71\t\t3.0\n"
          ]
        },
        {
          "output_type": "stream",
          "name": "stderr",
          "text": [
            "INFO:NEURONIOUtils:71\t\t3.0\n"
          ]
        },
        {
          "output_type": "stream",
          "name": "stdout",
          "text": [
            "2024-03-23 00:22:42,555 [INFO] 72\t\t3.0\n"
          ]
        },
        {
          "output_type": "stream",
          "name": "stderr",
          "text": [
            "INFO:NEURONIOUtils:72\t\t3.0\n"
          ]
        },
        {
          "output_type": "stream",
          "name": "stdout",
          "text": [
            "2024-03-23 00:22:42,557 [INFO] 73\t\t3.0\n"
          ]
        },
        {
          "output_type": "stream",
          "name": "stderr",
          "text": [
            "INFO:NEURONIOUtils:73\t\t3.0\n"
          ]
        },
        {
          "output_type": "stream",
          "name": "stdout",
          "text": [
            "2024-03-23 00:22:42,559 [INFO] 74\t\t3.0\n"
          ]
        },
        {
          "output_type": "stream",
          "name": "stderr",
          "text": [
            "INFO:NEURONIOUtils:74\t\t3.0\n"
          ]
        },
        {
          "output_type": "stream",
          "name": "stdout",
          "text": [
            "2024-03-23 00:22:42,565 [INFO] 75\t\t3.0\n"
          ]
        },
        {
          "output_type": "stream",
          "name": "stderr",
          "text": [
            "INFO:NEURONIOUtils:75\t\t3.0\n"
          ]
        },
        {
          "output_type": "stream",
          "name": "stdout",
          "text": [
            "2024-03-23 00:22:42,567 [INFO] 76\t\t3.0\n"
          ]
        },
        {
          "output_type": "stream",
          "name": "stderr",
          "text": [
            "INFO:NEURONIOUtils:76\t\t3.0\n"
          ]
        },
        {
          "output_type": "stream",
          "name": "stdout",
          "text": [
            "2024-03-23 00:22:42,569 [INFO] 77\t\t3.0\n"
          ]
        },
        {
          "output_type": "stream",
          "name": "stderr",
          "text": [
            "INFO:NEURONIOUtils:77\t\t3.0\n"
          ]
        },
        {
          "output_type": "stream",
          "name": "stdout",
          "text": [
            "2024-03-23 00:22:42,570 [INFO] 78\t\t3.0\n"
          ]
        },
        {
          "output_type": "stream",
          "name": "stderr",
          "text": [
            "INFO:NEURONIOUtils:78\t\t3.0\n"
          ]
        },
        {
          "output_type": "stream",
          "name": "stdout",
          "text": [
            "2024-03-23 00:22:42,576 [INFO] 79\t\t3.0\n"
          ]
        },
        {
          "output_type": "stream",
          "name": "stderr",
          "text": [
            "INFO:NEURONIOUtils:79\t\t3.0\n"
          ]
        },
        {
          "output_type": "stream",
          "name": "stdout",
          "text": [
            "2024-03-23 00:22:42,578 [INFO] PGN firing rate avg: 3.0 Hz\n"
          ]
        },
        {
          "output_type": "stream",
          "name": "stderr",
          "text": [
            "INFO:NEURONIOUtils:PGN firing rate avg: 3.0 Hz\n"
          ]
        },
        {
          "output_type": "stream",
          "name": "stdout",
          "text": [
            "2024-03-23 00:22:42,579 [INFO] Grill PGN fr = 4.657 Hz\n"
          ]
        },
        {
          "output_type": "stream",
          "name": "stderr",
          "text": [
            "INFO:NEURONIOUtils:Grill PGN fr = 4.657 Hz\n"
          ]
        },
        {
          "output_type": "stream",
          "name": "stdout",
          "text": [
            "2024-03-23 00:22:42,581 [INFO] IMG node_gid\t  Hz\n"
          ]
        },
        {
          "output_type": "stream",
          "name": "stderr",
          "text": [
            "INFO:NEURONIOUtils:IMG node_gid\t  Hz\n"
          ]
        },
        {
          "output_type": "stream",
          "name": "stdout",
          "text": [
            "2024-03-23 00:22:42,583 [INFO] 90\t\t0.0\n"
          ]
        },
        {
          "output_type": "stream",
          "name": "stderr",
          "text": [
            "INFO:NEURONIOUtils:90\t\t0.0\n"
          ]
        },
        {
          "output_type": "stream",
          "name": "stdout",
          "text": [
            "2024-03-23 00:22:42,585 [INFO] 91\t\t1.0\n"
          ]
        },
        {
          "output_type": "stream",
          "name": "stderr",
          "text": [
            "INFO:NEURONIOUtils:91\t\t1.0\n"
          ]
        },
        {
          "output_type": "stream",
          "name": "stdout",
          "text": [
            "2024-03-23 00:22:42,587 [INFO] 92\t\t0.0\n"
          ]
        },
        {
          "output_type": "stream",
          "name": "stderr",
          "text": [
            "INFO:NEURONIOUtils:92\t\t0.0\n"
          ]
        },
        {
          "output_type": "stream",
          "name": "stdout",
          "text": [
            "2024-03-23 00:22:42,589 [INFO] 93\t\t1.0\n"
          ]
        },
        {
          "output_type": "stream",
          "name": "stderr",
          "text": [
            "INFO:NEURONIOUtils:93\t\t1.0\n"
          ]
        },
        {
          "output_type": "stream",
          "name": "stdout",
          "text": [
            "2024-03-23 00:22:42,591 [INFO] 94\t\t1.0\n"
          ]
        },
        {
          "output_type": "stream",
          "name": "stderr",
          "text": [
            "INFO:NEURONIOUtils:94\t\t1.0\n"
          ]
        },
        {
          "output_type": "stream",
          "name": "stdout",
          "text": [
            "2024-03-23 00:22:42,593 [INFO] 95\t\t0.0\n"
          ]
        },
        {
          "output_type": "stream",
          "name": "stderr",
          "text": [
            "INFO:NEURONIOUtils:95\t\t0.0\n"
          ]
        },
        {
          "output_type": "stream",
          "name": "stdout",
          "text": [
            "2024-03-23 00:22:42,595 [INFO] 96\t\t0.0\n"
          ]
        },
        {
          "output_type": "stream",
          "name": "stderr",
          "text": [
            "INFO:NEURONIOUtils:96\t\t0.0\n"
          ]
        },
        {
          "output_type": "stream",
          "name": "stdout",
          "text": [
            "2024-03-23 00:22:42,597 [INFO] 97\t\t1.0\n"
          ]
        },
        {
          "output_type": "stream",
          "name": "stderr",
          "text": [
            "INFO:NEURONIOUtils:97\t\t1.0\n"
          ]
        },
        {
          "output_type": "stream",
          "name": "stdout",
          "text": [
            "2024-03-23 00:22:42,599 [INFO] 98\t\t1.0\n"
          ]
        },
        {
          "output_type": "stream",
          "name": "stderr",
          "text": [
            "INFO:NEURONIOUtils:98\t\t1.0\n"
          ]
        },
        {
          "output_type": "stream",
          "name": "stdout",
          "text": [
            "2024-03-23 00:22:42,601 [INFO] 99\t\t1.0\n"
          ]
        },
        {
          "output_type": "stream",
          "name": "stderr",
          "text": [
            "INFO:NEURONIOUtils:99\t\t1.0\n"
          ]
        },
        {
          "output_type": "stream",
          "name": "stdout",
          "text": [
            "2024-03-23 00:22:42,603 [INFO] IMG firing rate avg: 3.0 Hz\n"
          ]
        },
        {
          "output_type": "stream",
          "name": "stderr",
          "text": [
            "INFO:NEURONIOUtils:IMG firing rate avg: 3.0 Hz\n"
          ]
        },
        {
          "output_type": "stream",
          "name": "stdout",
          "text": [
            "2024-03-23 00:22:42,610 [INFO] Volume = 0.9333 ml\n"
          ]
        },
        {
          "output_type": "stream",
          "name": "stderr",
          "text": [
            "/usr/local/lib/python3.10/dist-packages/bmtk/utils/reports/spike_trains/spike_trains.py:183: RuntimeWarning: divide by zero encountered in scalar divide\n",
            "  interval = -np.log(1.0 - np.random.uniform()) / fr\n",
            "INFO:NEURONIOUtils:Volume = 0.9333 ml\n"
          ]
        },
        {
          "output_type": "stream",
          "name": "stdout",
          "text": [
            "2024-03-23 00:22:42,616 [INFO] Pressure = 4.15 mmHg\n"
          ]
        },
        {
          "output_type": "stream",
          "name": "stderr",
          "text": [
            "INFO:NEURONIOUtils:Pressure = 4.15 mmHg\n"
          ]
        },
        {
          "output_type": "stream",
          "name": "stdout",
          "text": [
            "2024-03-23 00:22:42,621 [INFO] Calculated bladder afferent firing rate for the next time step = 0.00 Hz \n",
            " \n",
            "\n"
          ]
        },
        {
          "output_type": "stream",
          "name": "stderr",
          "text": [
            "INFO:NEURONIOUtils:Calculated bladder afferent firing rate for the next time step = 0.00 Hz \n",
            " \n",
            "\n"
          ]
        },
        {
          "output_type": "stream",
          "name": "stdout",
          "text": [
            "2024-03-23 00:22:45,344 [INFO]     step:170000 t_sim:34000.00 ms\n"
          ]
        },
        {
          "output_type": "stream",
          "name": "stderr",
          "text": [
            "INFO:NEURONIOUtils:    step:170000 t_sim:34000.00 ms\n"
          ]
        },
        {
          "output_type": "stream",
          "name": "stdout",
          "text": [
            "2024-03-23 00:22:45,359 [INFO] Timestep 33000.0 to 34000.0 ms\n"
          ]
        },
        {
          "output_type": "stream",
          "name": "stderr",
          "text": [
            "INFO:NEURONIOUtils:Timestep 33000.0 to 34000.0 ms\n"
          ]
        },
        {
          "output_type": "stream",
          "name": "stdout",
          "text": [
            "2024-03-23 00:22:45,363 [INFO] PGN node_id\t  Hz\n"
          ]
        },
        {
          "output_type": "stream",
          "name": "stderr",
          "text": [
            "INFO:NEURONIOUtils:PGN node_id\t  Hz\n"
          ]
        },
        {
          "output_type": "stream",
          "name": "stdout",
          "text": [
            "2024-03-23 00:22:45,369 [INFO] 70\t\t2.0\n"
          ]
        },
        {
          "output_type": "stream",
          "name": "stderr",
          "text": [
            "INFO:NEURONIOUtils:70\t\t2.0\n"
          ]
        },
        {
          "output_type": "stream",
          "name": "stdout",
          "text": [
            "2024-03-23 00:22:45,371 [INFO] 71\t\t2.0\n"
          ]
        },
        {
          "output_type": "stream",
          "name": "stderr",
          "text": [
            "INFO:NEURONIOUtils:71\t\t2.0\n"
          ]
        },
        {
          "output_type": "stream",
          "name": "stdout",
          "text": [
            "2024-03-23 00:22:45,374 [INFO] 72\t\t2.0\n"
          ]
        },
        {
          "output_type": "stream",
          "name": "stderr",
          "text": [
            "INFO:NEURONIOUtils:72\t\t2.0\n"
          ]
        },
        {
          "output_type": "stream",
          "name": "stdout",
          "text": [
            "2024-03-23 00:22:45,376 [INFO] 73\t\t2.0\n"
          ]
        },
        {
          "output_type": "stream",
          "name": "stderr",
          "text": [
            "INFO:NEURONIOUtils:73\t\t2.0\n"
          ]
        },
        {
          "output_type": "stream",
          "name": "stdout",
          "text": [
            "2024-03-23 00:22:45,378 [INFO] 74\t\t2.0\n"
          ]
        },
        {
          "output_type": "stream",
          "name": "stderr",
          "text": [
            "INFO:NEURONIOUtils:74\t\t2.0\n"
          ]
        },
        {
          "output_type": "stream",
          "name": "stdout",
          "text": [
            "2024-03-23 00:22:45,380 [INFO] 75\t\t2.0\n"
          ]
        },
        {
          "output_type": "stream",
          "name": "stderr",
          "text": [
            "INFO:NEURONIOUtils:75\t\t2.0\n"
          ]
        },
        {
          "output_type": "stream",
          "name": "stdout",
          "text": [
            "2024-03-23 00:22:45,382 [INFO] 76\t\t2.0\n"
          ]
        },
        {
          "output_type": "stream",
          "name": "stderr",
          "text": [
            "INFO:NEURONIOUtils:76\t\t2.0\n"
          ]
        },
        {
          "output_type": "stream",
          "name": "stdout",
          "text": [
            "2024-03-23 00:22:45,384 [INFO] 77\t\t2.0\n"
          ]
        },
        {
          "output_type": "stream",
          "name": "stderr",
          "text": [
            "INFO:NEURONIOUtils:77\t\t2.0\n"
          ]
        },
        {
          "output_type": "stream",
          "name": "stdout",
          "text": [
            "2024-03-23 00:22:45,387 [INFO] 78\t\t2.0\n"
          ]
        },
        {
          "output_type": "stream",
          "name": "stderr",
          "text": [
            "INFO:NEURONIOUtils:78\t\t2.0\n"
          ]
        },
        {
          "output_type": "stream",
          "name": "stdout",
          "text": [
            "2024-03-23 00:22:45,394 [INFO] 79\t\t2.0\n"
          ]
        },
        {
          "output_type": "stream",
          "name": "stderr",
          "text": [
            "INFO:NEURONIOUtils:79\t\t2.0\n"
          ]
        },
        {
          "output_type": "stream",
          "name": "stdout",
          "text": [
            "2024-03-23 00:22:45,399 [INFO] PGN firing rate avg: 2.0 Hz\n"
          ]
        },
        {
          "output_type": "stream",
          "name": "stderr",
          "text": [
            "INFO:NEURONIOUtils:PGN firing rate avg: 2.0 Hz\n"
          ]
        },
        {
          "output_type": "stream",
          "name": "stdout",
          "text": [
            "2024-03-23 00:22:45,402 [INFO] Grill PGN fr = 2.984 Hz\n"
          ]
        },
        {
          "output_type": "stream",
          "name": "stderr",
          "text": [
            "INFO:NEURONIOUtils:Grill PGN fr = 2.984 Hz\n"
          ]
        },
        {
          "output_type": "stream",
          "name": "stdout",
          "text": [
            "2024-03-23 00:22:45,404 [INFO] IMG node_gid\t  Hz\n"
          ]
        },
        {
          "output_type": "stream",
          "name": "stderr",
          "text": [
            "INFO:NEURONIOUtils:IMG node_gid\t  Hz\n"
          ]
        },
        {
          "output_type": "stream",
          "name": "stdout",
          "text": [
            "2024-03-23 00:22:45,406 [INFO] 90\t\t0.0\n"
          ]
        },
        {
          "output_type": "stream",
          "name": "stderr",
          "text": [
            "INFO:NEURONIOUtils:90\t\t0.0\n"
          ]
        },
        {
          "output_type": "stream",
          "name": "stdout",
          "text": [
            "2024-03-23 00:22:45,409 [INFO] 91\t\t1.0\n"
          ]
        },
        {
          "output_type": "stream",
          "name": "stderr",
          "text": [
            "INFO:NEURONIOUtils:91\t\t1.0\n"
          ]
        },
        {
          "output_type": "stream",
          "name": "stdout",
          "text": [
            "2024-03-23 00:22:45,411 [INFO] 92\t\t0.0\n"
          ]
        },
        {
          "output_type": "stream",
          "name": "stderr",
          "text": [
            "INFO:NEURONIOUtils:92\t\t0.0\n"
          ]
        },
        {
          "output_type": "stream",
          "name": "stdout",
          "text": [
            "2024-03-23 00:22:45,413 [INFO] 93\t\t1.0\n"
          ]
        },
        {
          "output_type": "stream",
          "name": "stderr",
          "text": [
            "INFO:NEURONIOUtils:93\t\t1.0\n"
          ]
        },
        {
          "output_type": "stream",
          "name": "stdout",
          "text": [
            "2024-03-23 00:22:45,416 [INFO] 94\t\t1.0\n"
          ]
        },
        {
          "output_type": "stream",
          "name": "stderr",
          "text": [
            "INFO:NEURONIOUtils:94\t\t1.0\n"
          ]
        },
        {
          "output_type": "stream",
          "name": "stdout",
          "text": [
            "2024-03-23 00:22:45,419 [INFO] 95\t\t0.0\n"
          ]
        },
        {
          "output_type": "stream",
          "name": "stderr",
          "text": [
            "INFO:NEURONIOUtils:95\t\t0.0\n"
          ]
        },
        {
          "output_type": "stream",
          "name": "stdout",
          "text": [
            "2024-03-23 00:22:45,421 [INFO] 96\t\t0.0\n"
          ]
        },
        {
          "output_type": "stream",
          "name": "stderr",
          "text": [
            "INFO:NEURONIOUtils:96\t\t0.0\n"
          ]
        },
        {
          "output_type": "stream",
          "name": "stdout",
          "text": [
            "2024-03-23 00:22:45,423 [INFO] 97\t\t1.0\n"
          ]
        },
        {
          "output_type": "stream",
          "name": "stderr",
          "text": [
            "INFO:NEURONIOUtils:97\t\t1.0\n"
          ]
        },
        {
          "output_type": "stream",
          "name": "stdout",
          "text": [
            "2024-03-23 00:22:45,425 [INFO] 98\t\t1.0\n"
          ]
        },
        {
          "output_type": "stream",
          "name": "stderr",
          "text": [
            "INFO:NEURONIOUtils:98\t\t1.0\n"
          ]
        },
        {
          "output_type": "stream",
          "name": "stdout",
          "text": [
            "2024-03-23 00:22:45,427 [INFO] 99\t\t1.0\n"
          ]
        },
        {
          "output_type": "stream",
          "name": "stderr",
          "text": [
            "INFO:NEURONIOUtils:99\t\t1.0\n"
          ]
        },
        {
          "output_type": "stream",
          "name": "stdout",
          "text": [
            "2024-03-23 00:22:45,430 [INFO] IMG firing rate avg: 2.0 Hz\n"
          ]
        },
        {
          "output_type": "stream",
          "name": "stderr",
          "text": [
            "INFO:NEURONIOUtils:IMG firing rate avg: 2.0 Hz\n"
          ]
        },
        {
          "output_type": "stream",
          "name": "stdout",
          "text": [
            "2024-03-23 00:22:45,439 [INFO] Volume = 0.9625 ml\n"
          ]
        },
        {
          "output_type": "stream",
          "name": "stderr",
          "text": [
            "/usr/local/lib/python3.10/dist-packages/bmtk/utils/reports/spike_trains/spike_trains.py:183: RuntimeWarning: divide by zero encountered in scalar divide\n",
            "  interval = -np.log(1.0 - np.random.uniform()) / fr\n",
            "INFO:NEURONIOUtils:Volume = 0.9625 ml\n"
          ]
        },
        {
          "output_type": "stream",
          "name": "stdout",
          "text": [
            "2024-03-23 00:22:45,442 [INFO] Pressure = 3.51 mmHg\n"
          ]
        },
        {
          "output_type": "stream",
          "name": "stderr",
          "text": [
            "INFO:NEURONIOUtils:Pressure = 3.51 mmHg\n"
          ]
        },
        {
          "output_type": "stream",
          "name": "stdout",
          "text": [
            "2024-03-23 00:22:45,444 [INFO] Calculated bladder afferent firing rate for the next time step = 0.00 Hz \n",
            " \n",
            "\n"
          ]
        },
        {
          "output_type": "stream",
          "name": "stderr",
          "text": [
            "INFO:NEURONIOUtils:Calculated bladder afferent firing rate for the next time step = 0.00 Hz \n",
            " \n",
            "\n"
          ]
        },
        {
          "output_type": "stream",
          "name": "stdout",
          "text": [
            "2024-03-23 00:22:48,777 [INFO]     step:175000 t_sim:35000.00 ms\n"
          ]
        },
        {
          "output_type": "stream",
          "name": "stderr",
          "text": [
            "INFO:NEURONIOUtils:    step:175000 t_sim:35000.00 ms\n"
          ]
        },
        {
          "output_type": "stream",
          "name": "stdout",
          "text": [
            "2024-03-23 00:22:48,792 [INFO] Timestep 34000.0 to 35000.0 ms\n"
          ]
        },
        {
          "output_type": "stream",
          "name": "stderr",
          "text": [
            "INFO:NEURONIOUtils:Timestep 34000.0 to 35000.0 ms\n"
          ]
        },
        {
          "output_type": "stream",
          "name": "stdout",
          "text": [
            "2024-03-23 00:22:48,797 [INFO] PGN node_id\t  Hz\n"
          ]
        },
        {
          "output_type": "stream",
          "name": "stderr",
          "text": [
            "INFO:NEURONIOUtils:PGN node_id\t  Hz\n"
          ]
        },
        {
          "output_type": "stream",
          "name": "stdout",
          "text": [
            "2024-03-23 00:22:48,801 [INFO] 70\t\t2.0\n"
          ]
        },
        {
          "output_type": "stream",
          "name": "stderr",
          "text": [
            "INFO:NEURONIOUtils:70\t\t2.0\n"
          ]
        },
        {
          "output_type": "stream",
          "name": "stdout",
          "text": [
            "2024-03-23 00:22:48,803 [INFO] 71\t\t2.0\n"
          ]
        },
        {
          "output_type": "stream",
          "name": "stderr",
          "text": [
            "INFO:NEURONIOUtils:71\t\t2.0\n"
          ]
        },
        {
          "output_type": "stream",
          "name": "stdout",
          "text": [
            "2024-03-23 00:22:48,806 [INFO] 72\t\t2.0\n"
          ]
        },
        {
          "output_type": "stream",
          "name": "stderr",
          "text": [
            "INFO:NEURONIOUtils:72\t\t2.0\n"
          ]
        },
        {
          "output_type": "stream",
          "name": "stdout",
          "text": [
            "2024-03-23 00:22:48,808 [INFO] 73\t\t2.0\n"
          ]
        },
        {
          "output_type": "stream",
          "name": "stderr",
          "text": [
            "INFO:NEURONIOUtils:73\t\t2.0\n"
          ]
        },
        {
          "output_type": "stream",
          "name": "stdout",
          "text": [
            "2024-03-23 00:22:48,810 [INFO] 74\t\t2.0\n"
          ]
        },
        {
          "output_type": "stream",
          "name": "stderr",
          "text": [
            "INFO:NEURONIOUtils:74\t\t2.0\n"
          ]
        },
        {
          "output_type": "stream",
          "name": "stdout",
          "text": [
            "2024-03-23 00:22:48,812 [INFO] 75\t\t2.0\n"
          ]
        },
        {
          "output_type": "stream",
          "name": "stderr",
          "text": [
            "INFO:NEURONIOUtils:75\t\t2.0\n"
          ]
        },
        {
          "output_type": "stream",
          "name": "stdout",
          "text": [
            "2024-03-23 00:22:48,814 [INFO] 76\t\t2.0\n"
          ]
        },
        {
          "output_type": "stream",
          "name": "stderr",
          "text": [
            "INFO:NEURONIOUtils:76\t\t2.0\n"
          ]
        },
        {
          "output_type": "stream",
          "name": "stdout",
          "text": [
            "2024-03-23 00:22:48,817 [INFO] 77\t\t2.0\n"
          ]
        },
        {
          "output_type": "stream",
          "name": "stderr",
          "text": [
            "INFO:NEURONIOUtils:77\t\t2.0\n"
          ]
        },
        {
          "output_type": "stream",
          "name": "stdout",
          "text": [
            "2024-03-23 00:22:48,819 [INFO] 78\t\t2.0\n"
          ]
        },
        {
          "output_type": "stream",
          "name": "stderr",
          "text": [
            "INFO:NEURONIOUtils:78\t\t2.0\n"
          ]
        },
        {
          "output_type": "stream",
          "name": "stdout",
          "text": [
            "2024-03-23 00:22:48,821 [INFO] 79\t\t2.0\n"
          ]
        },
        {
          "output_type": "stream",
          "name": "stderr",
          "text": [
            "INFO:NEURONIOUtils:79\t\t2.0\n"
          ]
        },
        {
          "output_type": "stream",
          "name": "stdout",
          "text": [
            "2024-03-23 00:22:48,823 [INFO] PGN firing rate avg: 2.0 Hz\n"
          ]
        },
        {
          "output_type": "stream",
          "name": "stderr",
          "text": [
            "INFO:NEURONIOUtils:PGN firing rate avg: 2.0 Hz\n"
          ]
        },
        {
          "output_type": "stream",
          "name": "stdout",
          "text": [
            "2024-03-23 00:22:48,825 [INFO] Grill PGN fr = 2.984 Hz\n"
          ]
        },
        {
          "output_type": "stream",
          "name": "stderr",
          "text": [
            "INFO:NEURONIOUtils:Grill PGN fr = 2.984 Hz\n"
          ]
        },
        {
          "output_type": "stream",
          "name": "stdout",
          "text": [
            "2024-03-23 00:22:48,828 [INFO] IMG node_gid\t  Hz\n"
          ]
        },
        {
          "output_type": "stream",
          "name": "stderr",
          "text": [
            "INFO:NEURONIOUtils:IMG node_gid\t  Hz\n"
          ]
        },
        {
          "output_type": "stream",
          "name": "stdout",
          "text": [
            "2024-03-23 00:22:48,830 [INFO] 90\t\t0.0\n"
          ]
        },
        {
          "output_type": "stream",
          "name": "stderr",
          "text": [
            "INFO:NEURONIOUtils:90\t\t0.0\n"
          ]
        },
        {
          "output_type": "stream",
          "name": "stdout",
          "text": [
            "2024-03-23 00:22:48,832 [INFO] 91\t\t1.0\n"
          ]
        },
        {
          "output_type": "stream",
          "name": "stderr",
          "text": [
            "INFO:NEURONIOUtils:91\t\t1.0\n"
          ]
        },
        {
          "output_type": "stream",
          "name": "stdout",
          "text": [
            "2024-03-23 00:22:48,834 [INFO] 92\t\t0.0\n"
          ]
        },
        {
          "output_type": "stream",
          "name": "stderr",
          "text": [
            "INFO:NEURONIOUtils:92\t\t0.0\n"
          ]
        },
        {
          "output_type": "stream",
          "name": "stdout",
          "text": [
            "2024-03-23 00:22:48,841 [INFO] 93\t\t1.0\n"
          ]
        },
        {
          "output_type": "stream",
          "name": "stderr",
          "text": [
            "INFO:NEURONIOUtils:93\t\t1.0\n"
          ]
        },
        {
          "output_type": "stream",
          "name": "stdout",
          "text": [
            "2024-03-23 00:22:48,843 [INFO] 94\t\t1.0\n"
          ]
        },
        {
          "output_type": "stream",
          "name": "stderr",
          "text": [
            "INFO:NEURONIOUtils:94\t\t1.0\n"
          ]
        },
        {
          "output_type": "stream",
          "name": "stdout",
          "text": [
            "2024-03-23 00:22:48,846 [INFO] 95\t\t0.0\n"
          ]
        },
        {
          "output_type": "stream",
          "name": "stderr",
          "text": [
            "INFO:NEURONIOUtils:95\t\t0.0\n"
          ]
        },
        {
          "output_type": "stream",
          "name": "stdout",
          "text": [
            "2024-03-23 00:22:48,850 [INFO] 96\t\t0.0\n"
          ]
        },
        {
          "output_type": "stream",
          "name": "stderr",
          "text": [
            "INFO:NEURONIOUtils:96\t\t0.0\n"
          ]
        },
        {
          "output_type": "stream",
          "name": "stdout",
          "text": [
            "2024-03-23 00:22:48,853 [INFO] 97\t\t1.0\n"
          ]
        },
        {
          "output_type": "stream",
          "name": "stderr",
          "text": [
            "INFO:NEURONIOUtils:97\t\t1.0\n"
          ]
        },
        {
          "output_type": "stream",
          "name": "stdout",
          "text": [
            "2024-03-23 00:22:48,855 [INFO] 98\t\t1.0\n"
          ]
        },
        {
          "output_type": "stream",
          "name": "stderr",
          "text": [
            "INFO:NEURONIOUtils:98\t\t1.0\n"
          ]
        },
        {
          "output_type": "stream",
          "name": "stdout",
          "text": [
            "2024-03-23 00:22:48,857 [INFO] 99\t\t1.0\n"
          ]
        },
        {
          "output_type": "stream",
          "name": "stderr",
          "text": [
            "INFO:NEURONIOUtils:99\t\t1.0\n"
          ]
        },
        {
          "output_type": "stream",
          "name": "stdout",
          "text": [
            "2024-03-23 00:22:48,859 [INFO] IMG firing rate avg: 2.0 Hz\n"
          ]
        },
        {
          "output_type": "stream",
          "name": "stderr",
          "text": [
            "INFO:NEURONIOUtils:IMG firing rate avg: 2.0 Hz\n"
          ]
        },
        {
          "output_type": "stream",
          "name": "stdout",
          "text": [
            "2024-03-23 00:22:48,866 [INFO] Volume = 0.9917 ml\n"
          ]
        },
        {
          "output_type": "stream",
          "name": "stderr",
          "text": [
            "/usr/local/lib/python3.10/dist-packages/bmtk/utils/reports/spike_trains/spike_trains.py:183: RuntimeWarning: divide by zero encountered in scalar divide\n",
            "  interval = -np.log(1.0 - np.random.uniform()) / fr\n",
            "INFO:NEURONIOUtils:Volume = 0.9917 ml\n"
          ]
        },
        {
          "output_type": "stream",
          "name": "stdout",
          "text": [
            "2024-03-23 00:22:48,869 [INFO] Pressure = 3.74 mmHg\n"
          ]
        },
        {
          "output_type": "stream",
          "name": "stderr",
          "text": [
            "INFO:NEURONIOUtils:Pressure = 3.74 mmHg\n"
          ]
        },
        {
          "output_type": "stream",
          "name": "stdout",
          "text": [
            "2024-03-23 00:22:48,871 [INFO] Calculated bladder afferent firing rate for the next time step = 0.00 Hz \n",
            " \n",
            "\n"
          ]
        },
        {
          "output_type": "stream",
          "name": "stderr",
          "text": [
            "INFO:NEURONIOUtils:Calculated bladder afferent firing rate for the next time step = 0.00 Hz \n",
            " \n",
            "\n"
          ]
        },
        {
          "output_type": "stream",
          "name": "stdout",
          "text": [
            "2024-03-23 00:22:52,949 [INFO]     step:180000 t_sim:36000.00 ms\n"
          ]
        },
        {
          "output_type": "stream",
          "name": "stderr",
          "text": [
            "INFO:NEURONIOUtils:    step:180000 t_sim:36000.00 ms\n"
          ]
        },
        {
          "output_type": "stream",
          "name": "stdout",
          "text": [
            "2024-03-23 00:22:52,961 [INFO] Timestep 35000.0 to 36000.0 ms\n"
          ]
        },
        {
          "output_type": "stream",
          "name": "stderr",
          "text": [
            "INFO:NEURONIOUtils:Timestep 35000.0 to 36000.0 ms\n"
          ]
        },
        {
          "output_type": "stream",
          "name": "stdout",
          "text": [
            "2024-03-23 00:22:52,965 [INFO] PGN node_id\t  Hz\n"
          ]
        },
        {
          "output_type": "stream",
          "name": "stderr",
          "text": [
            "INFO:NEURONIOUtils:PGN node_id\t  Hz\n"
          ]
        },
        {
          "output_type": "stream",
          "name": "stdout",
          "text": [
            "2024-03-23 00:22:52,968 [INFO] 70\t\t2.0\n"
          ]
        },
        {
          "output_type": "stream",
          "name": "stderr",
          "text": [
            "INFO:NEURONIOUtils:70\t\t2.0\n"
          ]
        },
        {
          "output_type": "stream",
          "name": "stdout",
          "text": [
            "2024-03-23 00:22:52,970 [INFO] 71\t\t2.0\n"
          ]
        },
        {
          "output_type": "stream",
          "name": "stderr",
          "text": [
            "INFO:NEURONIOUtils:71\t\t2.0\n"
          ]
        },
        {
          "output_type": "stream",
          "name": "stdout",
          "text": [
            "2024-03-23 00:22:52,975 [INFO] 72\t\t2.0\n"
          ]
        },
        {
          "output_type": "stream",
          "name": "stderr",
          "text": [
            "INFO:NEURONIOUtils:72\t\t2.0\n"
          ]
        },
        {
          "output_type": "stream",
          "name": "stdout",
          "text": [
            "2024-03-23 00:22:52,977 [INFO] 73\t\t2.0\n"
          ]
        },
        {
          "output_type": "stream",
          "name": "stderr",
          "text": [
            "INFO:NEURONIOUtils:73\t\t2.0\n"
          ]
        },
        {
          "output_type": "stream",
          "name": "stdout",
          "text": [
            "2024-03-23 00:22:52,979 [INFO] 74\t\t2.0\n"
          ]
        },
        {
          "output_type": "stream",
          "name": "stderr",
          "text": [
            "INFO:NEURONIOUtils:74\t\t2.0\n"
          ]
        },
        {
          "output_type": "stream",
          "name": "stdout",
          "text": [
            "2024-03-23 00:22:52,982 [INFO] 75\t\t2.0\n"
          ]
        },
        {
          "output_type": "stream",
          "name": "stderr",
          "text": [
            "INFO:NEURONIOUtils:75\t\t2.0\n"
          ]
        },
        {
          "output_type": "stream",
          "name": "stdout",
          "text": [
            "2024-03-23 00:22:52,984 [INFO] 76\t\t2.0\n"
          ]
        },
        {
          "output_type": "stream",
          "name": "stderr",
          "text": [
            "INFO:NEURONIOUtils:76\t\t2.0\n"
          ]
        },
        {
          "output_type": "stream",
          "name": "stdout",
          "text": [
            "2024-03-23 00:22:52,986 [INFO] 77\t\t2.0\n"
          ]
        },
        {
          "output_type": "stream",
          "name": "stderr",
          "text": [
            "INFO:NEURONIOUtils:77\t\t2.0\n"
          ]
        },
        {
          "output_type": "stream",
          "name": "stdout",
          "text": [
            "2024-03-23 00:22:52,988 [INFO] 78\t\t2.0\n"
          ]
        },
        {
          "output_type": "stream",
          "name": "stderr",
          "text": [
            "INFO:NEURONIOUtils:78\t\t2.0\n"
          ]
        },
        {
          "output_type": "stream",
          "name": "stdout",
          "text": [
            "2024-03-23 00:22:52,990 [INFO] 79\t\t2.0\n"
          ]
        },
        {
          "output_type": "stream",
          "name": "stderr",
          "text": [
            "INFO:NEURONIOUtils:79\t\t2.0\n"
          ]
        },
        {
          "output_type": "stream",
          "name": "stdout",
          "text": [
            "2024-03-23 00:22:52,993 [INFO] PGN firing rate avg: 2.0 Hz\n"
          ]
        },
        {
          "output_type": "stream",
          "name": "stderr",
          "text": [
            "INFO:NEURONIOUtils:PGN firing rate avg: 2.0 Hz\n"
          ]
        },
        {
          "output_type": "stream",
          "name": "stdout",
          "text": [
            "2024-03-23 00:22:52,995 [INFO] Grill PGN fr = 2.984 Hz\n"
          ]
        },
        {
          "output_type": "stream",
          "name": "stderr",
          "text": [
            "INFO:NEURONIOUtils:Grill PGN fr = 2.984 Hz\n"
          ]
        },
        {
          "output_type": "stream",
          "name": "stdout",
          "text": [
            "2024-03-23 00:22:52,997 [INFO] IMG node_gid\t  Hz\n"
          ]
        },
        {
          "output_type": "stream",
          "name": "stderr",
          "text": [
            "INFO:NEURONIOUtils:IMG node_gid\t  Hz\n"
          ]
        },
        {
          "output_type": "stream",
          "name": "stdout",
          "text": [
            "2024-03-23 00:22:52,999 [INFO] 90\t\t0.0\n"
          ]
        },
        {
          "output_type": "stream",
          "name": "stderr",
          "text": [
            "INFO:NEURONIOUtils:90\t\t0.0\n"
          ]
        },
        {
          "output_type": "stream",
          "name": "stdout",
          "text": [
            "2024-03-23 00:22:53,001 [INFO] 91\t\t1.0\n"
          ]
        },
        {
          "output_type": "stream",
          "name": "stderr",
          "text": [
            "INFO:NEURONIOUtils:91\t\t1.0\n"
          ]
        },
        {
          "output_type": "stream",
          "name": "stdout",
          "text": [
            "2024-03-23 00:22:53,003 [INFO] 92\t\t0.0\n"
          ]
        },
        {
          "output_type": "stream",
          "name": "stderr",
          "text": [
            "INFO:NEURONIOUtils:92\t\t0.0\n"
          ]
        },
        {
          "output_type": "stream",
          "name": "stdout",
          "text": [
            "2024-03-23 00:22:53,005 [INFO] 93\t\t1.0\n"
          ]
        },
        {
          "output_type": "stream",
          "name": "stderr",
          "text": [
            "INFO:NEURONIOUtils:93\t\t1.0\n"
          ]
        },
        {
          "output_type": "stream",
          "name": "stdout",
          "text": [
            "2024-03-23 00:22:53,007 [INFO] 94\t\t1.0\n"
          ]
        },
        {
          "output_type": "stream",
          "name": "stderr",
          "text": [
            "INFO:NEURONIOUtils:94\t\t1.0\n"
          ]
        },
        {
          "output_type": "stream",
          "name": "stdout",
          "text": [
            "2024-03-23 00:22:53,009 [INFO] 95\t\t0.0\n"
          ]
        },
        {
          "output_type": "stream",
          "name": "stderr",
          "text": [
            "INFO:NEURONIOUtils:95\t\t0.0\n"
          ]
        },
        {
          "output_type": "stream",
          "name": "stdout",
          "text": [
            "2024-03-23 00:22:53,011 [INFO] 96\t\t0.0\n"
          ]
        },
        {
          "output_type": "stream",
          "name": "stderr",
          "text": [
            "INFO:NEURONIOUtils:96\t\t0.0\n"
          ]
        },
        {
          "output_type": "stream",
          "name": "stdout",
          "text": [
            "2024-03-23 00:22:53,013 [INFO] 97\t\t1.0\n"
          ]
        },
        {
          "output_type": "stream",
          "name": "stderr",
          "text": [
            "INFO:NEURONIOUtils:97\t\t1.0\n"
          ]
        },
        {
          "output_type": "stream",
          "name": "stdout",
          "text": [
            "2024-03-23 00:22:53,015 [INFO] 98\t\t1.0\n"
          ]
        },
        {
          "output_type": "stream",
          "name": "stderr",
          "text": [
            "INFO:NEURONIOUtils:98\t\t1.0\n"
          ]
        },
        {
          "output_type": "stream",
          "name": "stdout",
          "text": [
            "2024-03-23 00:22:53,017 [INFO] 99\t\t1.0\n"
          ]
        },
        {
          "output_type": "stream",
          "name": "stderr",
          "text": [
            "INFO:NEURONIOUtils:99\t\t1.0\n"
          ]
        },
        {
          "output_type": "stream",
          "name": "stdout",
          "text": [
            "2024-03-23 00:22:53,019 [INFO] IMG firing rate avg: 2.0 Hz\n"
          ]
        },
        {
          "output_type": "stream",
          "name": "stderr",
          "text": [
            "INFO:NEURONIOUtils:IMG firing rate avg: 2.0 Hz\n"
          ]
        },
        {
          "output_type": "stream",
          "name": "stdout",
          "text": [
            "2024-03-23 00:22:53,028 [INFO] Volume = 1.0208 ml\n"
          ]
        },
        {
          "output_type": "stream",
          "name": "stderr",
          "text": [
            "/usr/local/lib/python3.10/dist-packages/bmtk/utils/reports/spike_trains/spike_trains.py:183: RuntimeWarning: divide by zero encountered in scalar divide\n",
            "  interval = -np.log(1.0 - np.random.uniform()) / fr\n",
            "INFO:NEURONIOUtils:Volume = 1.0208 ml\n"
          ]
        },
        {
          "output_type": "stream",
          "name": "stdout",
          "text": [
            "2024-03-23 00:22:53,031 [INFO] Pressure = 3.96 mmHg\n"
          ]
        },
        {
          "output_type": "stream",
          "name": "stderr",
          "text": [
            "INFO:NEURONIOUtils:Pressure = 3.96 mmHg\n"
          ]
        },
        {
          "output_type": "stream",
          "name": "stdout",
          "text": [
            "2024-03-23 00:22:53,033 [INFO] Calculated bladder afferent firing rate for the next time step = 0.00 Hz \n",
            " \n",
            "\n"
          ]
        },
        {
          "output_type": "stream",
          "name": "stderr",
          "text": [
            "INFO:NEURONIOUtils:Calculated bladder afferent firing rate for the next time step = 0.00 Hz \n",
            " \n",
            "\n"
          ]
        },
        {
          "output_type": "stream",
          "name": "stdout",
          "text": [
            "2024-03-23 00:22:56,318 [INFO]     step:185000 t_sim:37000.00 ms\n"
          ]
        },
        {
          "output_type": "stream",
          "name": "stderr",
          "text": [
            "INFO:NEURONIOUtils:    step:185000 t_sim:37000.00 ms\n"
          ]
        },
        {
          "output_type": "stream",
          "name": "stdout",
          "text": [
            "2024-03-23 00:22:56,331 [INFO] Timestep 36000.0 to 37000.0 ms\n"
          ]
        },
        {
          "output_type": "stream",
          "name": "stderr",
          "text": [
            "INFO:NEURONIOUtils:Timestep 36000.0 to 37000.0 ms\n"
          ]
        },
        {
          "output_type": "stream",
          "name": "stdout",
          "text": [
            "2024-03-23 00:22:56,335 [INFO] PGN node_id\t  Hz\n"
          ]
        },
        {
          "output_type": "stream",
          "name": "stderr",
          "text": [
            "INFO:NEURONIOUtils:PGN node_id\t  Hz\n"
          ]
        },
        {
          "output_type": "stream",
          "name": "stdout",
          "text": [
            "2024-03-23 00:22:56,339 [INFO] 70\t\t3.0\n"
          ]
        },
        {
          "output_type": "stream",
          "name": "stderr",
          "text": [
            "INFO:NEURONIOUtils:70\t\t3.0\n"
          ]
        },
        {
          "output_type": "stream",
          "name": "stdout",
          "text": [
            "2024-03-23 00:22:56,344 [INFO] 71\t\t3.0\n"
          ]
        },
        {
          "output_type": "stream",
          "name": "stderr",
          "text": [
            "INFO:NEURONIOUtils:71\t\t3.0\n"
          ]
        },
        {
          "output_type": "stream",
          "name": "stdout",
          "text": [
            "2024-03-23 00:22:56,346 [INFO] 72\t\t3.0\n"
          ]
        },
        {
          "output_type": "stream",
          "name": "stderr",
          "text": [
            "INFO:NEURONIOUtils:72\t\t3.0\n"
          ]
        },
        {
          "output_type": "stream",
          "name": "stdout",
          "text": [
            "2024-03-23 00:22:56,348 [INFO] 73\t\t3.0\n"
          ]
        },
        {
          "output_type": "stream",
          "name": "stderr",
          "text": [
            "INFO:NEURONIOUtils:73\t\t3.0\n"
          ]
        },
        {
          "output_type": "stream",
          "name": "stdout",
          "text": [
            "2024-03-23 00:22:56,350 [INFO] 74\t\t3.0\n"
          ]
        },
        {
          "output_type": "stream",
          "name": "stderr",
          "text": [
            "INFO:NEURONIOUtils:74\t\t3.0\n"
          ]
        },
        {
          "output_type": "stream",
          "name": "stdout",
          "text": [
            "2024-03-23 00:22:56,352 [INFO] 75\t\t3.0\n"
          ]
        },
        {
          "output_type": "stream",
          "name": "stderr",
          "text": [
            "INFO:NEURONIOUtils:75\t\t3.0\n"
          ]
        },
        {
          "output_type": "stream",
          "name": "stdout",
          "text": [
            "2024-03-23 00:22:56,354 [INFO] 76\t\t3.0\n"
          ]
        },
        {
          "output_type": "stream",
          "name": "stderr",
          "text": [
            "INFO:NEURONIOUtils:76\t\t3.0\n"
          ]
        },
        {
          "output_type": "stream",
          "name": "stdout",
          "text": [
            "2024-03-23 00:22:56,356 [INFO] 77\t\t3.0\n"
          ]
        },
        {
          "output_type": "stream",
          "name": "stderr",
          "text": [
            "INFO:NEURONIOUtils:77\t\t3.0\n"
          ]
        },
        {
          "output_type": "stream",
          "name": "stdout",
          "text": [
            "2024-03-23 00:22:56,359 [INFO] 78\t\t3.0\n"
          ]
        },
        {
          "output_type": "stream",
          "name": "stderr",
          "text": [
            "INFO:NEURONIOUtils:78\t\t3.0\n"
          ]
        },
        {
          "output_type": "stream",
          "name": "stdout",
          "text": [
            "2024-03-23 00:22:56,361 [INFO] 79\t\t3.0\n"
          ]
        },
        {
          "output_type": "stream",
          "name": "stderr",
          "text": [
            "INFO:NEURONIOUtils:79\t\t3.0\n"
          ]
        },
        {
          "output_type": "stream",
          "name": "stdout",
          "text": [
            "2024-03-23 00:22:56,363 [INFO] PGN firing rate avg: 3.0 Hz\n"
          ]
        },
        {
          "output_type": "stream",
          "name": "stderr",
          "text": [
            "INFO:NEURONIOUtils:PGN firing rate avg: 3.0 Hz\n"
          ]
        },
        {
          "output_type": "stream",
          "name": "stdout",
          "text": [
            "2024-03-23 00:22:56,365 [INFO] Grill PGN fr = 4.657 Hz\n"
          ]
        },
        {
          "output_type": "stream",
          "name": "stderr",
          "text": [
            "INFO:NEURONIOUtils:Grill PGN fr = 4.657 Hz\n"
          ]
        },
        {
          "output_type": "stream",
          "name": "stdout",
          "text": [
            "2024-03-23 00:22:56,368 [INFO] IMG node_gid\t  Hz\n"
          ]
        },
        {
          "output_type": "stream",
          "name": "stderr",
          "text": [
            "INFO:NEURONIOUtils:IMG node_gid\t  Hz\n"
          ]
        },
        {
          "output_type": "stream",
          "name": "stdout",
          "text": [
            "2024-03-23 00:22:56,370 [INFO] 90\t\t0.0\n"
          ]
        },
        {
          "output_type": "stream",
          "name": "stderr",
          "text": [
            "INFO:NEURONIOUtils:90\t\t0.0\n"
          ]
        },
        {
          "output_type": "stream",
          "name": "stdout",
          "text": [
            "2024-03-23 00:22:56,372 [INFO] 91\t\t1.0\n"
          ]
        },
        {
          "output_type": "stream",
          "name": "stderr",
          "text": [
            "INFO:NEURONIOUtils:91\t\t1.0\n"
          ]
        },
        {
          "output_type": "stream",
          "name": "stdout",
          "text": [
            "2024-03-23 00:22:56,374 [INFO] 92\t\t0.0\n"
          ]
        },
        {
          "output_type": "stream",
          "name": "stderr",
          "text": [
            "INFO:NEURONIOUtils:92\t\t0.0\n"
          ]
        },
        {
          "output_type": "stream",
          "name": "stdout",
          "text": [
            "2024-03-23 00:22:56,376 [INFO] 93\t\t1.0\n"
          ]
        },
        {
          "output_type": "stream",
          "name": "stderr",
          "text": [
            "INFO:NEURONIOUtils:93\t\t1.0\n"
          ]
        },
        {
          "output_type": "stream",
          "name": "stdout",
          "text": [
            "2024-03-23 00:22:56,378 [INFO] 94\t\t1.0\n"
          ]
        },
        {
          "output_type": "stream",
          "name": "stderr",
          "text": [
            "INFO:NEURONIOUtils:94\t\t1.0\n"
          ]
        },
        {
          "output_type": "stream",
          "name": "stdout",
          "text": [
            "2024-03-23 00:22:56,380 [INFO] 95\t\t0.0\n"
          ]
        },
        {
          "output_type": "stream",
          "name": "stderr",
          "text": [
            "INFO:NEURONIOUtils:95\t\t0.0\n"
          ]
        },
        {
          "output_type": "stream",
          "name": "stdout",
          "text": [
            "2024-03-23 00:22:56,382 [INFO] 96\t\t0.0\n"
          ]
        },
        {
          "output_type": "stream",
          "name": "stderr",
          "text": [
            "INFO:NEURONIOUtils:96\t\t0.0\n"
          ]
        },
        {
          "output_type": "stream",
          "name": "stdout",
          "text": [
            "2024-03-23 00:22:56,384 [INFO] 97\t\t1.0\n"
          ]
        },
        {
          "output_type": "stream",
          "name": "stderr",
          "text": [
            "INFO:NEURONIOUtils:97\t\t1.0\n"
          ]
        },
        {
          "output_type": "stream",
          "name": "stdout",
          "text": [
            "2024-03-23 00:22:56,387 [INFO] 98\t\t1.0\n"
          ]
        },
        {
          "output_type": "stream",
          "name": "stderr",
          "text": [
            "INFO:NEURONIOUtils:98\t\t1.0\n"
          ]
        },
        {
          "output_type": "stream",
          "name": "stdout",
          "text": [
            "2024-03-23 00:22:56,390 [INFO] 99\t\t1.0\n"
          ]
        },
        {
          "output_type": "stream",
          "name": "stderr",
          "text": [
            "INFO:NEURONIOUtils:99\t\t1.0\n"
          ]
        },
        {
          "output_type": "stream",
          "name": "stdout",
          "text": [
            "2024-03-23 00:22:56,392 [INFO] IMG firing rate avg: 3.0 Hz\n"
          ]
        },
        {
          "output_type": "stream",
          "name": "stderr",
          "text": [
            "INFO:NEURONIOUtils:IMG firing rate avg: 3.0 Hz\n"
          ]
        },
        {
          "output_type": "stream",
          "name": "stdout",
          "text": [
            "2024-03-23 00:22:56,401 [INFO] Volume = 1.0500 ml\n"
          ]
        },
        {
          "output_type": "stream",
          "name": "stderr",
          "text": [
            "/usr/local/lib/python3.10/dist-packages/bmtk/utils/reports/spike_trains/spike_trains.py:183: RuntimeWarning: divide by zero encountered in scalar divide\n",
            "  interval = -np.log(1.0 - np.random.uniform()) / fr\n",
            "INFO:NEURONIOUtils:Volume = 1.0500 ml\n"
          ]
        },
        {
          "output_type": "stream",
          "name": "stdout",
          "text": [
            "2024-03-23 00:22:56,405 [INFO] Pressure = 5.05 mmHg\n"
          ]
        },
        {
          "output_type": "stream",
          "name": "stderr",
          "text": [
            "INFO:NEURONIOUtils:Pressure = 5.05 mmHg\n"
          ]
        },
        {
          "output_type": "stream",
          "name": "stdout",
          "text": [
            "2024-03-23 00:22:56,407 [INFO] Calculated bladder afferent firing rate for the next time step = 0.00 Hz \n",
            " \n",
            "\n"
          ]
        },
        {
          "output_type": "stream",
          "name": "stderr",
          "text": [
            "INFO:NEURONIOUtils:Calculated bladder afferent firing rate for the next time step = 0.00 Hz \n",
            " \n",
            "\n"
          ]
        },
        {
          "output_type": "stream",
          "name": "stdout",
          "text": [
            "2024-03-23 00:22:59,035 [INFO]     step:190000 t_sim:38000.00 ms\n"
          ]
        },
        {
          "output_type": "stream",
          "name": "stderr",
          "text": [
            "INFO:NEURONIOUtils:    step:190000 t_sim:38000.00 ms\n"
          ]
        },
        {
          "output_type": "stream",
          "name": "stdout",
          "text": [
            "2024-03-23 00:22:59,049 [INFO] Timestep 37000.0 to 38000.0 ms\n"
          ]
        },
        {
          "output_type": "stream",
          "name": "stderr",
          "text": [
            "INFO:NEURONIOUtils:Timestep 37000.0 to 38000.0 ms\n"
          ]
        },
        {
          "output_type": "stream",
          "name": "stdout",
          "text": [
            "2024-03-23 00:22:59,054 [INFO] PGN node_id\t  Hz\n"
          ]
        },
        {
          "output_type": "stream",
          "name": "stderr",
          "text": [
            "INFO:NEURONIOUtils:PGN node_id\t  Hz\n"
          ]
        },
        {
          "output_type": "stream",
          "name": "stdout",
          "text": [
            "2024-03-23 00:22:59,058 [INFO] 70\t\t2.0\n"
          ]
        },
        {
          "output_type": "stream",
          "name": "stderr",
          "text": [
            "INFO:NEURONIOUtils:70\t\t2.0\n"
          ]
        },
        {
          "output_type": "stream",
          "name": "stdout",
          "text": [
            "2024-03-23 00:22:59,060 [INFO] 71\t\t2.0\n"
          ]
        },
        {
          "output_type": "stream",
          "name": "stderr",
          "text": [
            "INFO:NEURONIOUtils:71\t\t2.0\n"
          ]
        },
        {
          "output_type": "stream",
          "name": "stdout",
          "text": [
            "2024-03-23 00:22:59,062 [INFO] 72\t\t2.0\n"
          ]
        },
        {
          "output_type": "stream",
          "name": "stderr",
          "text": [
            "INFO:NEURONIOUtils:72\t\t2.0\n"
          ]
        },
        {
          "output_type": "stream",
          "name": "stdout",
          "text": [
            "2024-03-23 00:22:59,064 [INFO] 73\t\t2.0\n"
          ]
        },
        {
          "output_type": "stream",
          "name": "stderr",
          "text": [
            "INFO:NEURONIOUtils:73\t\t2.0\n"
          ]
        },
        {
          "output_type": "stream",
          "name": "stdout",
          "text": [
            "2024-03-23 00:22:59,066 [INFO] 74\t\t2.0\n"
          ]
        },
        {
          "output_type": "stream",
          "name": "stderr",
          "text": [
            "INFO:NEURONIOUtils:74\t\t2.0\n"
          ]
        },
        {
          "output_type": "stream",
          "name": "stdout",
          "text": [
            "2024-03-23 00:22:59,068 [INFO] 75\t\t2.0\n"
          ]
        },
        {
          "output_type": "stream",
          "name": "stderr",
          "text": [
            "INFO:NEURONIOUtils:75\t\t2.0\n"
          ]
        },
        {
          "output_type": "stream",
          "name": "stdout",
          "text": [
            "2024-03-23 00:22:59,070 [INFO] 76\t\t2.0\n"
          ]
        },
        {
          "output_type": "stream",
          "name": "stderr",
          "text": [
            "INFO:NEURONIOUtils:76\t\t2.0\n"
          ]
        },
        {
          "output_type": "stream",
          "name": "stdout",
          "text": [
            "2024-03-23 00:22:59,072 [INFO] 77\t\t2.0\n"
          ]
        },
        {
          "output_type": "stream",
          "name": "stderr",
          "text": [
            "INFO:NEURONIOUtils:77\t\t2.0\n"
          ]
        },
        {
          "output_type": "stream",
          "name": "stdout",
          "text": [
            "2024-03-23 00:22:59,074 [INFO] 78\t\t2.0\n"
          ]
        },
        {
          "output_type": "stream",
          "name": "stderr",
          "text": [
            "INFO:NEURONIOUtils:78\t\t2.0\n"
          ]
        },
        {
          "output_type": "stream",
          "name": "stdout",
          "text": [
            "2024-03-23 00:22:59,077 [INFO] 79\t\t2.0\n"
          ]
        },
        {
          "output_type": "stream",
          "name": "stderr",
          "text": [
            "INFO:NEURONIOUtils:79\t\t2.0\n"
          ]
        },
        {
          "output_type": "stream",
          "name": "stdout",
          "text": [
            "2024-03-23 00:22:59,079 [INFO] PGN firing rate avg: 2.0 Hz\n"
          ]
        },
        {
          "output_type": "stream",
          "name": "stderr",
          "text": [
            "INFO:NEURONIOUtils:PGN firing rate avg: 2.0 Hz\n"
          ]
        },
        {
          "output_type": "stream",
          "name": "stdout",
          "text": [
            "2024-03-23 00:22:59,081 [INFO] Grill PGN fr = 2.984 Hz\n"
          ]
        },
        {
          "output_type": "stream",
          "name": "stderr",
          "text": [
            "INFO:NEURONIOUtils:Grill PGN fr = 2.984 Hz\n"
          ]
        },
        {
          "output_type": "stream",
          "name": "stdout",
          "text": [
            "2024-03-23 00:22:59,083 [INFO] IMG node_gid\t  Hz\n"
          ]
        },
        {
          "output_type": "stream",
          "name": "stderr",
          "text": [
            "INFO:NEURONIOUtils:IMG node_gid\t  Hz\n"
          ]
        },
        {
          "output_type": "stream",
          "name": "stdout",
          "text": [
            "2024-03-23 00:22:59,085 [INFO] 90\t\t0.0\n"
          ]
        },
        {
          "output_type": "stream",
          "name": "stderr",
          "text": [
            "INFO:NEURONIOUtils:90\t\t0.0\n"
          ]
        },
        {
          "output_type": "stream",
          "name": "stdout",
          "text": [
            "2024-03-23 00:22:59,087 [INFO] 91\t\t1.0\n"
          ]
        },
        {
          "output_type": "stream",
          "name": "stderr",
          "text": [
            "INFO:NEURONIOUtils:91\t\t1.0\n"
          ]
        },
        {
          "output_type": "stream",
          "name": "stdout",
          "text": [
            "2024-03-23 00:22:59,089 [INFO] 92\t\t0.0\n"
          ]
        },
        {
          "output_type": "stream",
          "name": "stderr",
          "text": [
            "INFO:NEURONIOUtils:92\t\t0.0\n"
          ]
        },
        {
          "output_type": "stream",
          "name": "stdout",
          "text": [
            "2024-03-23 00:22:59,091 [INFO] 93\t\t1.0\n"
          ]
        },
        {
          "output_type": "stream",
          "name": "stderr",
          "text": [
            "INFO:NEURONIOUtils:93\t\t1.0\n"
          ]
        },
        {
          "output_type": "stream",
          "name": "stdout",
          "text": [
            "2024-03-23 00:22:59,093 [INFO] 94\t\t1.0\n"
          ]
        },
        {
          "output_type": "stream",
          "name": "stderr",
          "text": [
            "INFO:NEURONIOUtils:94\t\t1.0\n"
          ]
        },
        {
          "output_type": "stream",
          "name": "stdout",
          "text": [
            "2024-03-23 00:22:59,095 [INFO] 95\t\t0.0\n"
          ]
        },
        {
          "output_type": "stream",
          "name": "stderr",
          "text": [
            "INFO:NEURONIOUtils:95\t\t0.0\n"
          ]
        },
        {
          "output_type": "stream",
          "name": "stdout",
          "text": [
            "2024-03-23 00:22:59,098 [INFO] 96\t\t0.0\n"
          ]
        },
        {
          "output_type": "stream",
          "name": "stderr",
          "text": [
            "INFO:NEURONIOUtils:96\t\t0.0\n"
          ]
        },
        {
          "output_type": "stream",
          "name": "stdout",
          "text": [
            "2024-03-23 00:22:59,100 [INFO] 97\t\t1.0\n"
          ]
        },
        {
          "output_type": "stream",
          "name": "stderr",
          "text": [
            "INFO:NEURONIOUtils:97\t\t1.0\n"
          ]
        },
        {
          "output_type": "stream",
          "name": "stdout",
          "text": [
            "2024-03-23 00:22:59,102 [INFO] 98\t\t1.0\n"
          ]
        },
        {
          "output_type": "stream",
          "name": "stderr",
          "text": [
            "INFO:NEURONIOUtils:98\t\t1.0\n"
          ]
        },
        {
          "output_type": "stream",
          "name": "stdout",
          "text": [
            "2024-03-23 00:22:59,104 [INFO] 99\t\t1.0\n"
          ]
        },
        {
          "output_type": "stream",
          "name": "stderr",
          "text": [
            "INFO:NEURONIOUtils:99\t\t1.0\n"
          ]
        },
        {
          "output_type": "stream",
          "name": "stdout",
          "text": [
            "2024-03-23 00:22:59,106 [INFO] IMG firing rate avg: 2.0 Hz\n"
          ]
        },
        {
          "output_type": "stream",
          "name": "stderr",
          "text": [
            "INFO:NEURONIOUtils:IMG firing rate avg: 2.0 Hz\n"
          ]
        },
        {
          "output_type": "stream",
          "name": "stdout",
          "text": [
            "2024-03-23 00:22:59,114 [INFO] Volume = 1.0792 ml\n"
          ]
        },
        {
          "output_type": "stream",
          "name": "stderr",
          "text": [
            "/usr/local/lib/python3.10/dist-packages/bmtk/utils/reports/spike_trains/spike_trains.py:183: RuntimeWarning: divide by zero encountered in scalar divide\n",
            "  interval = -np.log(1.0 - np.random.uniform()) / fr\n",
            "INFO:NEURONIOUtils:Volume = 1.0792 ml\n"
          ]
        },
        {
          "output_type": "stream",
          "name": "stdout",
          "text": [
            "2024-03-23 00:22:59,116 [INFO] Pressure = 4.41 mmHg\n"
          ]
        },
        {
          "output_type": "stream",
          "name": "stderr",
          "text": [
            "INFO:NEURONIOUtils:Pressure = 4.41 mmHg\n"
          ]
        },
        {
          "output_type": "stream",
          "name": "stdout",
          "text": [
            "2024-03-23 00:22:59,118 [INFO] Calculated bladder afferent firing rate for the next time step = 0.00 Hz \n",
            " \n",
            "\n"
          ]
        },
        {
          "output_type": "stream",
          "name": "stderr",
          "text": [
            "INFO:NEURONIOUtils:Calculated bladder afferent firing rate for the next time step = 0.00 Hz \n",
            " \n",
            "\n"
          ]
        },
        {
          "output_type": "stream",
          "name": "stdout",
          "text": [
            "2024-03-23 00:23:01,658 [INFO]     step:195000 t_sim:39000.00 ms\n"
          ]
        },
        {
          "output_type": "stream",
          "name": "stderr",
          "text": [
            "INFO:NEURONIOUtils:    step:195000 t_sim:39000.00 ms\n"
          ]
        },
        {
          "output_type": "stream",
          "name": "stdout",
          "text": [
            "2024-03-23 00:23:01,677 [INFO] Timestep 38000.0 to 39000.0 ms\n"
          ]
        },
        {
          "output_type": "stream",
          "name": "stderr",
          "text": [
            "INFO:NEURONIOUtils:Timestep 38000.0 to 39000.0 ms\n"
          ]
        },
        {
          "output_type": "stream",
          "name": "stdout",
          "text": [
            "2024-03-23 00:23:01,686 [INFO] PGN node_id\t  Hz\n"
          ]
        },
        {
          "output_type": "stream",
          "name": "stderr",
          "text": [
            "INFO:NEURONIOUtils:PGN node_id\t  Hz\n"
          ]
        },
        {
          "output_type": "stream",
          "name": "stdout",
          "text": [
            "2024-03-23 00:23:01,690 [INFO] 70\t\t4.0\n"
          ]
        },
        {
          "output_type": "stream",
          "name": "stderr",
          "text": [
            "INFO:NEURONIOUtils:70\t\t4.0\n"
          ]
        },
        {
          "output_type": "stream",
          "name": "stdout",
          "text": [
            "2024-03-23 00:23:01,697 [INFO] 71\t\t4.0\n"
          ]
        },
        {
          "output_type": "stream",
          "name": "stderr",
          "text": [
            "INFO:NEURONIOUtils:71\t\t4.0\n"
          ]
        },
        {
          "output_type": "stream",
          "name": "stdout",
          "text": [
            "2024-03-23 00:23:01,701 [INFO] 72\t\t4.0\n"
          ]
        },
        {
          "output_type": "stream",
          "name": "stderr",
          "text": [
            "INFO:NEURONIOUtils:72\t\t4.0\n"
          ]
        },
        {
          "output_type": "stream",
          "name": "stdout",
          "text": [
            "2024-03-23 00:23:01,703 [INFO] 73\t\t4.0\n"
          ]
        },
        {
          "output_type": "stream",
          "name": "stderr",
          "text": [
            "INFO:NEURONIOUtils:73\t\t4.0\n"
          ]
        },
        {
          "output_type": "stream",
          "name": "stdout",
          "text": [
            "2024-03-23 00:23:01,708 [INFO] 74\t\t4.0\n"
          ]
        },
        {
          "output_type": "stream",
          "name": "stderr",
          "text": [
            "INFO:NEURONIOUtils:74\t\t4.0\n"
          ]
        },
        {
          "output_type": "stream",
          "name": "stdout",
          "text": [
            "2024-03-23 00:23:01,709 [INFO] 75\t\t4.0\n"
          ]
        },
        {
          "output_type": "stream",
          "name": "stderr",
          "text": [
            "INFO:NEURONIOUtils:75\t\t4.0\n"
          ]
        },
        {
          "output_type": "stream",
          "name": "stdout",
          "text": [
            "2024-03-23 00:23:01,711 [INFO] 76\t\t4.0\n"
          ]
        },
        {
          "output_type": "stream",
          "name": "stderr",
          "text": [
            "INFO:NEURONIOUtils:76\t\t4.0\n"
          ]
        },
        {
          "output_type": "stream",
          "name": "stdout",
          "text": [
            "2024-03-23 00:23:01,716 [INFO] 77\t\t4.0\n"
          ]
        },
        {
          "output_type": "stream",
          "name": "stderr",
          "text": [
            "INFO:NEURONIOUtils:77\t\t4.0\n"
          ]
        },
        {
          "output_type": "stream",
          "name": "stdout",
          "text": [
            "2024-03-23 00:23:01,717 [INFO] 78\t\t4.0\n"
          ]
        },
        {
          "output_type": "stream",
          "name": "stderr",
          "text": [
            "INFO:NEURONIOUtils:78\t\t4.0\n"
          ]
        },
        {
          "output_type": "stream",
          "name": "stdout",
          "text": [
            "2024-03-23 00:23:01,722 [INFO] 79\t\t4.0\n"
          ]
        },
        {
          "output_type": "stream",
          "name": "stderr",
          "text": [
            "INFO:NEURONIOUtils:79\t\t4.0\n"
          ]
        },
        {
          "output_type": "stream",
          "name": "stdout",
          "text": [
            "2024-03-23 00:23:01,724 [INFO] PGN firing rate avg: 4.0 Hz\n"
          ]
        },
        {
          "output_type": "stream",
          "name": "stderr",
          "text": [
            "INFO:NEURONIOUtils:PGN firing rate avg: 4.0 Hz\n"
          ]
        },
        {
          "output_type": "stream",
          "name": "stdout",
          "text": [
            "2024-03-23 00:23:01,727 [INFO] Grill PGN fr = 6.3 Hz\n"
          ]
        },
        {
          "output_type": "stream",
          "name": "stderr",
          "text": [
            "INFO:NEURONIOUtils:Grill PGN fr = 6.3 Hz\n"
          ]
        },
        {
          "output_type": "stream",
          "name": "stdout",
          "text": [
            "2024-03-23 00:23:01,729 [INFO] IMG node_gid\t  Hz\n"
          ]
        },
        {
          "output_type": "stream",
          "name": "stderr",
          "text": [
            "INFO:NEURONIOUtils:IMG node_gid\t  Hz\n"
          ]
        },
        {
          "output_type": "stream",
          "name": "stdout",
          "text": [
            "2024-03-23 00:23:01,731 [INFO] 90\t\t0.0\n"
          ]
        },
        {
          "output_type": "stream",
          "name": "stderr",
          "text": [
            "INFO:NEURONIOUtils:90\t\t0.0\n"
          ]
        },
        {
          "output_type": "stream",
          "name": "stdout",
          "text": [
            "2024-03-23 00:23:01,733 [INFO] 91\t\t1.0\n"
          ]
        },
        {
          "output_type": "stream",
          "name": "stderr",
          "text": [
            "INFO:NEURONIOUtils:91\t\t1.0\n"
          ]
        },
        {
          "output_type": "stream",
          "name": "stdout",
          "text": [
            "2024-03-23 00:23:01,735 [INFO] 92\t\t0.0\n"
          ]
        },
        {
          "output_type": "stream",
          "name": "stderr",
          "text": [
            "INFO:NEURONIOUtils:92\t\t0.0\n"
          ]
        },
        {
          "output_type": "stream",
          "name": "stdout",
          "text": [
            "2024-03-23 00:23:01,737 [INFO] 93\t\t1.0\n"
          ]
        },
        {
          "output_type": "stream",
          "name": "stderr",
          "text": [
            "INFO:NEURONIOUtils:93\t\t1.0\n"
          ]
        },
        {
          "output_type": "stream",
          "name": "stdout",
          "text": [
            "2024-03-23 00:23:01,739 [INFO] 94\t\t1.0\n"
          ]
        },
        {
          "output_type": "stream",
          "name": "stderr",
          "text": [
            "INFO:NEURONIOUtils:94\t\t1.0\n"
          ]
        },
        {
          "output_type": "stream",
          "name": "stdout",
          "text": [
            "2024-03-23 00:23:01,741 [INFO] 95\t\t0.0\n"
          ]
        },
        {
          "output_type": "stream",
          "name": "stderr",
          "text": [
            "INFO:NEURONIOUtils:95\t\t0.0\n"
          ]
        },
        {
          "output_type": "stream",
          "name": "stdout",
          "text": [
            "2024-03-23 00:23:01,743 [INFO] 96\t\t0.0\n"
          ]
        },
        {
          "output_type": "stream",
          "name": "stderr",
          "text": [
            "INFO:NEURONIOUtils:96\t\t0.0\n"
          ]
        },
        {
          "output_type": "stream",
          "name": "stdout",
          "text": [
            "2024-03-23 00:23:01,747 [INFO] 97\t\t1.0\n"
          ]
        },
        {
          "output_type": "stream",
          "name": "stderr",
          "text": [
            "INFO:NEURONIOUtils:97\t\t1.0\n"
          ]
        },
        {
          "output_type": "stream",
          "name": "stdout",
          "text": [
            "2024-03-23 00:23:01,749 [INFO] 98\t\t1.0\n"
          ]
        },
        {
          "output_type": "stream",
          "name": "stderr",
          "text": [
            "INFO:NEURONIOUtils:98\t\t1.0\n"
          ]
        },
        {
          "output_type": "stream",
          "name": "stdout",
          "text": [
            "2024-03-23 00:23:01,753 [INFO] 99\t\t1.0\n"
          ]
        },
        {
          "output_type": "stream",
          "name": "stderr",
          "text": [
            "INFO:NEURONIOUtils:99\t\t1.0\n"
          ]
        },
        {
          "output_type": "stream",
          "name": "stdout",
          "text": [
            "2024-03-23 00:23:01,755 [INFO] IMG firing rate avg: 4.0 Hz\n"
          ]
        },
        {
          "output_type": "stream",
          "name": "stderr",
          "text": [
            "INFO:NEURONIOUtils:IMG firing rate avg: 4.0 Hz\n"
          ]
        },
        {
          "output_type": "stream",
          "name": "stdout",
          "text": [
            "2024-03-23 00:23:01,763 [INFO] Volume = 1.1083 ml\n"
          ]
        },
        {
          "output_type": "stream",
          "name": "stderr",
          "text": [
            "/usr/local/lib/python3.10/dist-packages/bmtk/utils/reports/spike_trains/spike_trains.py:183: RuntimeWarning: divide by zero encountered in scalar divide\n",
            "  interval = -np.log(1.0 - np.random.uniform()) / fr\n",
            "INFO:NEURONIOUtils:Volume = 1.1083 ml\n"
          ]
        },
        {
          "output_type": "stream",
          "name": "stdout",
          "text": [
            "2024-03-23 00:23:01,768 [INFO] Pressure = 6.35 mmHg\n"
          ]
        },
        {
          "output_type": "stream",
          "name": "stderr",
          "text": [
            "INFO:NEURONIOUtils:Pressure = 6.35 mmHg\n"
          ]
        },
        {
          "output_type": "stream",
          "name": "stdout",
          "text": [
            "2024-03-23 00:23:01,770 [INFO] Calculated bladder afferent firing rate for the next time step = 0.00 Hz \n",
            " \n",
            "\n"
          ]
        },
        {
          "output_type": "stream",
          "name": "stderr",
          "text": [
            "INFO:NEURONIOUtils:Calculated bladder afferent firing rate for the next time step = 0.00 Hz \n",
            " \n",
            "\n"
          ]
        },
        {
          "output_type": "stream",
          "name": "stdout",
          "text": [
            "2024-03-23 00:23:05,077 [INFO]     step:200000 t_sim:40000.00 ms\n"
          ]
        },
        {
          "output_type": "stream",
          "name": "stderr",
          "text": [
            "INFO:NEURONIOUtils:    step:200000 t_sim:40000.00 ms\n"
          ]
        },
        {
          "output_type": "stream",
          "name": "stdout",
          "text": [
            "2024-03-23 00:23:05,091 [INFO] Timestep 39000.0 to 40000.0 ms\n"
          ]
        },
        {
          "output_type": "stream",
          "name": "stderr",
          "text": [
            "INFO:NEURONIOUtils:Timestep 39000.0 to 40000.0 ms\n"
          ]
        },
        {
          "output_type": "stream",
          "name": "stdout",
          "text": [
            "2024-03-23 00:23:05,096 [INFO] PGN node_id\t  Hz\n"
          ]
        },
        {
          "output_type": "stream",
          "name": "stderr",
          "text": [
            "INFO:NEURONIOUtils:PGN node_id\t  Hz\n"
          ]
        },
        {
          "output_type": "stream",
          "name": "stdout",
          "text": [
            "2024-03-23 00:23:05,100 [INFO] 70\t\t3.0\n"
          ]
        },
        {
          "output_type": "stream",
          "name": "stderr",
          "text": [
            "INFO:NEURONIOUtils:70\t\t3.0\n"
          ]
        },
        {
          "output_type": "stream",
          "name": "stdout",
          "text": [
            "2024-03-23 00:23:05,103 [INFO] 71\t\t3.0\n"
          ]
        },
        {
          "output_type": "stream",
          "name": "stderr",
          "text": [
            "INFO:NEURONIOUtils:71\t\t3.0\n"
          ]
        },
        {
          "output_type": "stream",
          "name": "stdout",
          "text": [
            "2024-03-23 00:23:05,109 [INFO] 72\t\t3.0\n"
          ]
        },
        {
          "output_type": "stream",
          "name": "stderr",
          "text": [
            "INFO:NEURONIOUtils:72\t\t3.0\n"
          ]
        },
        {
          "output_type": "stream",
          "name": "stdout",
          "text": [
            "2024-03-23 00:23:05,111 [INFO] 73\t\t3.0\n"
          ]
        },
        {
          "output_type": "stream",
          "name": "stderr",
          "text": [
            "INFO:NEURONIOUtils:73\t\t3.0\n"
          ]
        },
        {
          "output_type": "stream",
          "name": "stdout",
          "text": [
            "2024-03-23 00:23:05,113 [INFO] 74\t\t3.0\n"
          ]
        },
        {
          "output_type": "stream",
          "name": "stderr",
          "text": [
            "INFO:NEURONIOUtils:74\t\t3.0\n"
          ]
        },
        {
          "output_type": "stream",
          "name": "stdout",
          "text": [
            "2024-03-23 00:23:05,115 [INFO] 75\t\t3.0\n"
          ]
        },
        {
          "output_type": "stream",
          "name": "stderr",
          "text": [
            "INFO:NEURONIOUtils:75\t\t3.0\n"
          ]
        },
        {
          "output_type": "stream",
          "name": "stdout",
          "text": [
            "2024-03-23 00:23:05,120 [INFO] 76\t\t3.0\n"
          ]
        },
        {
          "output_type": "stream",
          "name": "stderr",
          "text": [
            "INFO:NEURONIOUtils:76\t\t3.0\n"
          ]
        },
        {
          "output_type": "stream",
          "name": "stdout",
          "text": [
            "2024-03-23 00:23:05,122 [INFO] 77\t\t3.0\n"
          ]
        },
        {
          "output_type": "stream",
          "name": "stderr",
          "text": [
            "INFO:NEURONIOUtils:77\t\t3.0\n"
          ]
        },
        {
          "output_type": "stream",
          "name": "stdout",
          "text": [
            "2024-03-23 00:23:05,125 [INFO] 78\t\t3.0\n"
          ]
        },
        {
          "output_type": "stream",
          "name": "stderr",
          "text": [
            "INFO:NEURONIOUtils:78\t\t3.0\n"
          ]
        },
        {
          "output_type": "stream",
          "name": "stdout",
          "text": [
            "2024-03-23 00:23:05,127 [INFO] 79\t\t3.0\n"
          ]
        },
        {
          "output_type": "stream",
          "name": "stderr",
          "text": [
            "INFO:NEURONIOUtils:79\t\t3.0\n"
          ]
        },
        {
          "output_type": "stream",
          "name": "stdout",
          "text": [
            "2024-03-23 00:23:05,129 [INFO] PGN firing rate avg: 3.0 Hz\n"
          ]
        },
        {
          "output_type": "stream",
          "name": "stderr",
          "text": [
            "INFO:NEURONIOUtils:PGN firing rate avg: 3.0 Hz\n"
          ]
        },
        {
          "output_type": "stream",
          "name": "stdout",
          "text": [
            "2024-03-23 00:23:05,131 [INFO] Grill PGN fr = 4.657 Hz\n"
          ]
        },
        {
          "output_type": "stream",
          "name": "stderr",
          "text": [
            "INFO:NEURONIOUtils:Grill PGN fr = 4.657 Hz\n"
          ]
        },
        {
          "output_type": "stream",
          "name": "stdout",
          "text": [
            "2024-03-23 00:23:05,136 [INFO] IMG node_gid\t  Hz\n"
          ]
        },
        {
          "output_type": "stream",
          "name": "stderr",
          "text": [
            "INFO:NEURONIOUtils:IMG node_gid\t  Hz\n"
          ]
        },
        {
          "output_type": "stream",
          "name": "stdout",
          "text": [
            "2024-03-23 00:23:05,142 [INFO] 90\t\t0.0\n"
          ]
        },
        {
          "output_type": "stream",
          "name": "stderr",
          "text": [
            "INFO:NEURONIOUtils:90\t\t0.0\n"
          ]
        },
        {
          "output_type": "stream",
          "name": "stdout",
          "text": [
            "2024-03-23 00:23:05,144 [INFO] 91\t\t1.0\n"
          ]
        },
        {
          "output_type": "stream",
          "name": "stderr",
          "text": [
            "INFO:NEURONIOUtils:91\t\t1.0\n"
          ]
        },
        {
          "output_type": "stream",
          "name": "stdout",
          "text": [
            "2024-03-23 00:23:05,146 [INFO] 92\t\t0.0\n"
          ]
        },
        {
          "output_type": "stream",
          "name": "stderr",
          "text": [
            "INFO:NEURONIOUtils:92\t\t0.0\n"
          ]
        },
        {
          "output_type": "stream",
          "name": "stdout",
          "text": [
            "2024-03-23 00:23:05,148 [INFO] 93\t\t1.0\n"
          ]
        },
        {
          "output_type": "stream",
          "name": "stderr",
          "text": [
            "INFO:NEURONIOUtils:93\t\t1.0\n"
          ]
        },
        {
          "output_type": "stream",
          "name": "stdout",
          "text": [
            "2024-03-23 00:23:05,154 [INFO] 94\t\t1.0\n"
          ]
        },
        {
          "output_type": "stream",
          "name": "stderr",
          "text": [
            "INFO:NEURONIOUtils:94\t\t1.0\n"
          ]
        },
        {
          "output_type": "stream",
          "name": "stdout",
          "text": [
            "2024-03-23 00:23:05,156 [INFO] 95\t\t0.0\n"
          ]
        },
        {
          "output_type": "stream",
          "name": "stderr",
          "text": [
            "INFO:NEURONIOUtils:95\t\t0.0\n"
          ]
        },
        {
          "output_type": "stream",
          "name": "stdout",
          "text": [
            "2024-03-23 00:23:05,159 [INFO] 96\t\t0.0\n"
          ]
        },
        {
          "output_type": "stream",
          "name": "stderr",
          "text": [
            "INFO:NEURONIOUtils:96\t\t0.0\n"
          ]
        },
        {
          "output_type": "stream",
          "name": "stdout",
          "text": [
            "2024-03-23 00:23:05,164 [INFO] 97\t\t1.0\n"
          ]
        },
        {
          "output_type": "stream",
          "name": "stderr",
          "text": [
            "INFO:NEURONIOUtils:97\t\t1.0\n"
          ]
        },
        {
          "output_type": "stream",
          "name": "stdout",
          "text": [
            "2024-03-23 00:23:05,168 [INFO] 98\t\t1.0\n"
          ]
        },
        {
          "output_type": "stream",
          "name": "stderr",
          "text": [
            "INFO:NEURONIOUtils:98\t\t1.0\n"
          ]
        },
        {
          "output_type": "stream",
          "name": "stdout",
          "text": [
            "2024-03-23 00:23:05,170 [INFO] 99\t\t1.0\n"
          ]
        },
        {
          "output_type": "stream",
          "name": "stderr",
          "text": [
            "INFO:NEURONIOUtils:99\t\t1.0\n"
          ]
        },
        {
          "output_type": "stream",
          "name": "stdout",
          "text": [
            "2024-03-23 00:23:05,173 [INFO] IMG firing rate avg: 3.0 Hz\n"
          ]
        },
        {
          "output_type": "stream",
          "name": "stderr",
          "text": [
            "INFO:NEURONIOUtils:IMG firing rate avg: 3.0 Hz\n"
          ]
        },
        {
          "output_type": "stream",
          "name": "stdout",
          "text": [
            "2024-03-23 00:23:05,182 [INFO] Volume = 1.1375 ml\n"
          ]
        },
        {
          "output_type": "stream",
          "name": "stderr",
          "text": [
            "/usr/local/lib/python3.10/dist-packages/bmtk/utils/reports/spike_trains/spike_trains.py:183: RuntimeWarning: divide by zero encountered in scalar divide\n",
            "  interval = -np.log(1.0 - np.random.uniform()) / fr\n",
            "INFO:NEURONIOUtils:Volume = 1.1375 ml\n"
          ]
        },
        {
          "output_type": "stream",
          "name": "stdout",
          "text": [
            "2024-03-23 00:23:05,187 [INFO] Pressure = 5.73 mmHg\n"
          ]
        },
        {
          "output_type": "stream",
          "name": "stderr",
          "text": [
            "INFO:NEURONIOUtils:Pressure = 5.73 mmHg\n"
          ]
        },
        {
          "output_type": "stream",
          "name": "stdout",
          "text": [
            "2024-03-23 00:23:05,189 [INFO] Calculated bladder afferent firing rate for the next time step = 0.00 Hz \n",
            " \n",
            "\n"
          ]
        },
        {
          "output_type": "stream",
          "name": "stderr",
          "text": [
            "INFO:NEURONIOUtils:Calculated bladder afferent firing rate for the next time step = 0.00 Hz \n",
            " \n",
            "\n"
          ]
        },
        {
          "output_type": "stream",
          "name": "stdout",
          "text": [
            "2024-03-23 00:23:08,107 [INFO]     step:205000 t_sim:41000.00 ms\n"
          ]
        },
        {
          "output_type": "stream",
          "name": "stderr",
          "text": [
            "INFO:NEURONIOUtils:    step:205000 t_sim:41000.00 ms\n"
          ]
        },
        {
          "output_type": "stream",
          "name": "stdout",
          "text": [
            "2024-03-23 00:23:08,119 [INFO] Timestep 40000.0 to 41000.0 ms\n"
          ]
        },
        {
          "output_type": "stream",
          "name": "stderr",
          "text": [
            "INFO:NEURONIOUtils:Timestep 40000.0 to 41000.0 ms\n"
          ]
        },
        {
          "output_type": "stream",
          "name": "stdout",
          "text": [
            "2024-03-23 00:23:08,124 [INFO] PGN node_id\t  Hz\n"
          ]
        },
        {
          "output_type": "stream",
          "name": "stderr",
          "text": [
            "INFO:NEURONIOUtils:PGN node_id\t  Hz\n"
          ]
        },
        {
          "output_type": "stream",
          "name": "stdout",
          "text": [
            "2024-03-23 00:23:08,128 [INFO] 70\t\t2.0\n"
          ]
        },
        {
          "output_type": "stream",
          "name": "stderr",
          "text": [
            "INFO:NEURONIOUtils:70\t\t2.0\n"
          ]
        },
        {
          "output_type": "stream",
          "name": "stdout",
          "text": [
            "2024-03-23 00:23:08,130 [INFO] 71\t\t2.0\n"
          ]
        },
        {
          "output_type": "stream",
          "name": "stderr",
          "text": [
            "INFO:NEURONIOUtils:71\t\t2.0\n"
          ]
        },
        {
          "output_type": "stream",
          "name": "stdout",
          "text": [
            "2024-03-23 00:23:08,132 [INFO] 72\t\t2.0\n"
          ]
        },
        {
          "output_type": "stream",
          "name": "stderr",
          "text": [
            "INFO:NEURONIOUtils:72\t\t2.0\n"
          ]
        },
        {
          "output_type": "stream",
          "name": "stdout",
          "text": [
            "2024-03-23 00:23:08,134 [INFO] 73\t\t2.0\n"
          ]
        },
        {
          "output_type": "stream",
          "name": "stderr",
          "text": [
            "INFO:NEURONIOUtils:73\t\t2.0\n"
          ]
        },
        {
          "output_type": "stream",
          "name": "stdout",
          "text": [
            "2024-03-23 00:23:08,137 [INFO] 74\t\t2.0\n"
          ]
        },
        {
          "output_type": "stream",
          "name": "stderr",
          "text": [
            "INFO:NEURONIOUtils:74\t\t2.0\n"
          ]
        },
        {
          "output_type": "stream",
          "name": "stdout",
          "text": [
            "2024-03-23 00:23:08,139 [INFO] 75\t\t2.0\n"
          ]
        },
        {
          "output_type": "stream",
          "name": "stderr",
          "text": [
            "INFO:NEURONIOUtils:75\t\t2.0\n"
          ]
        },
        {
          "output_type": "stream",
          "name": "stdout",
          "text": [
            "2024-03-23 00:23:08,141 [INFO] 76\t\t2.0\n"
          ]
        },
        {
          "output_type": "stream",
          "name": "stderr",
          "text": [
            "INFO:NEURONIOUtils:76\t\t2.0\n"
          ]
        },
        {
          "output_type": "stream",
          "name": "stdout",
          "text": [
            "2024-03-23 00:23:08,143 [INFO] 77\t\t2.0\n"
          ]
        },
        {
          "output_type": "stream",
          "name": "stderr",
          "text": [
            "INFO:NEURONIOUtils:77\t\t2.0\n"
          ]
        },
        {
          "output_type": "stream",
          "name": "stdout",
          "text": [
            "2024-03-23 00:23:08,146 [INFO] 78\t\t2.0\n"
          ]
        },
        {
          "output_type": "stream",
          "name": "stderr",
          "text": [
            "INFO:NEURONIOUtils:78\t\t2.0\n"
          ]
        },
        {
          "output_type": "stream",
          "name": "stdout",
          "text": [
            "2024-03-23 00:23:08,148 [INFO] 79\t\t2.0\n"
          ]
        },
        {
          "output_type": "stream",
          "name": "stderr",
          "text": [
            "INFO:NEURONIOUtils:79\t\t2.0\n"
          ]
        },
        {
          "output_type": "stream",
          "name": "stdout",
          "text": [
            "2024-03-23 00:23:08,150 [INFO] PGN firing rate avg: 2.0 Hz\n"
          ]
        },
        {
          "output_type": "stream",
          "name": "stderr",
          "text": [
            "INFO:NEURONIOUtils:PGN firing rate avg: 2.0 Hz\n"
          ]
        },
        {
          "output_type": "stream",
          "name": "stdout",
          "text": [
            "2024-03-23 00:23:08,152 [INFO] Grill PGN fr = 2.984 Hz\n"
          ]
        },
        {
          "output_type": "stream",
          "name": "stderr",
          "text": [
            "INFO:NEURONIOUtils:Grill PGN fr = 2.984 Hz\n"
          ]
        },
        {
          "output_type": "stream",
          "name": "stdout",
          "text": [
            "2024-03-23 00:23:08,156 [INFO] IMG node_gid\t  Hz\n"
          ]
        },
        {
          "output_type": "stream",
          "name": "stderr",
          "text": [
            "INFO:NEURONIOUtils:IMG node_gid\t  Hz\n"
          ]
        },
        {
          "output_type": "stream",
          "name": "stdout",
          "text": [
            "2024-03-23 00:23:08,159 [INFO] 90\t\t0.0\n"
          ]
        },
        {
          "output_type": "stream",
          "name": "stderr",
          "text": [
            "INFO:NEURONIOUtils:90\t\t0.0\n"
          ]
        },
        {
          "output_type": "stream",
          "name": "stdout",
          "text": [
            "2024-03-23 00:23:08,164 [INFO] 91\t\t1.0\n"
          ]
        },
        {
          "output_type": "stream",
          "name": "stderr",
          "text": [
            "INFO:NEURONIOUtils:91\t\t1.0\n"
          ]
        },
        {
          "output_type": "stream",
          "name": "stdout",
          "text": [
            "2024-03-23 00:23:08,166 [INFO] 92\t\t0.0\n"
          ]
        },
        {
          "output_type": "stream",
          "name": "stderr",
          "text": [
            "INFO:NEURONIOUtils:92\t\t0.0\n"
          ]
        },
        {
          "output_type": "stream",
          "name": "stdout",
          "text": [
            "2024-03-23 00:23:08,168 [INFO] 93\t\t1.0\n"
          ]
        },
        {
          "output_type": "stream",
          "name": "stderr",
          "text": [
            "INFO:NEURONIOUtils:93\t\t1.0\n"
          ]
        },
        {
          "output_type": "stream",
          "name": "stdout",
          "text": [
            "2024-03-23 00:23:08,171 [INFO] 94\t\t1.0\n"
          ]
        },
        {
          "output_type": "stream",
          "name": "stderr",
          "text": [
            "INFO:NEURONIOUtils:94\t\t1.0\n"
          ]
        },
        {
          "output_type": "stream",
          "name": "stdout",
          "text": [
            "2024-03-23 00:23:08,174 [INFO] 95\t\t0.0\n"
          ]
        },
        {
          "output_type": "stream",
          "name": "stderr",
          "text": [
            "INFO:NEURONIOUtils:95\t\t0.0\n"
          ]
        },
        {
          "output_type": "stream",
          "name": "stdout",
          "text": [
            "2024-03-23 00:23:08,177 [INFO] 96\t\t0.0\n"
          ]
        },
        {
          "output_type": "stream",
          "name": "stderr",
          "text": [
            "INFO:NEURONIOUtils:96\t\t0.0\n"
          ]
        },
        {
          "output_type": "stream",
          "name": "stdout",
          "text": [
            "2024-03-23 00:23:08,181 [INFO] 97\t\t1.0\n"
          ]
        },
        {
          "output_type": "stream",
          "name": "stderr",
          "text": [
            "INFO:NEURONIOUtils:97\t\t1.0\n"
          ]
        },
        {
          "output_type": "stream",
          "name": "stdout",
          "text": [
            "2024-03-23 00:23:08,183 [INFO] 98\t\t1.0\n"
          ]
        },
        {
          "output_type": "stream",
          "name": "stderr",
          "text": [
            "INFO:NEURONIOUtils:98\t\t1.0\n"
          ]
        },
        {
          "output_type": "stream",
          "name": "stdout",
          "text": [
            "2024-03-23 00:23:08,185 [INFO] 99\t\t1.0\n"
          ]
        },
        {
          "output_type": "stream",
          "name": "stderr",
          "text": [
            "INFO:NEURONIOUtils:99\t\t1.0\n"
          ]
        },
        {
          "output_type": "stream",
          "name": "stdout",
          "text": [
            "2024-03-23 00:23:08,191 [INFO] IMG firing rate avg: 2.0 Hz\n"
          ]
        },
        {
          "output_type": "stream",
          "name": "stderr",
          "text": [
            "INFO:NEURONIOUtils:IMG firing rate avg: 2.0 Hz\n"
          ]
        },
        {
          "output_type": "stream",
          "name": "stdout",
          "text": [
            "2024-03-23 00:23:08,251 [INFO] Volume = 1.1667 ml\n"
          ]
        },
        {
          "output_type": "stream",
          "name": "stderr",
          "text": [
            "/usr/local/lib/python3.10/dist-packages/bmtk/utils/reports/spike_trains/spike_trains.py:183: RuntimeWarning: divide by zero encountered in scalar divide\n",
            "  interval = -np.log(1.0 - np.random.uniform()) / fr\n",
            "INFO:NEURONIOUtils:Volume = 1.1667 ml\n"
          ]
        },
        {
          "output_type": "stream",
          "name": "stdout",
          "text": [
            "2024-03-23 00:23:08,259 [INFO] Pressure = 5.09 mmHg\n"
          ]
        },
        {
          "output_type": "stream",
          "name": "stderr",
          "text": [
            "INFO:NEURONIOUtils:Pressure = 5.09 mmHg\n"
          ]
        },
        {
          "output_type": "stream",
          "name": "stdout",
          "text": [
            "2024-03-23 00:23:08,264 [INFO] Calculated bladder afferent firing rate for the next time step = 0.00 Hz \n",
            " \n",
            "\n"
          ]
        },
        {
          "output_type": "stream",
          "name": "stderr",
          "text": [
            "INFO:NEURONIOUtils:Calculated bladder afferent firing rate for the next time step = 0.00 Hz \n",
            " \n",
            "\n"
          ]
        },
        {
          "output_type": "stream",
          "name": "stdout",
          "text": [
            "2024-03-23 00:23:11,014 [INFO]     step:210000 t_sim:42000.00 ms\n"
          ]
        },
        {
          "output_type": "stream",
          "name": "stderr",
          "text": [
            "INFO:NEURONIOUtils:    step:210000 t_sim:42000.00 ms\n"
          ]
        },
        {
          "output_type": "stream",
          "name": "stdout",
          "text": [
            "2024-03-23 00:23:11,027 [INFO] Timestep 41000.0 to 42000.0 ms\n"
          ]
        },
        {
          "output_type": "stream",
          "name": "stderr",
          "text": [
            "INFO:NEURONIOUtils:Timestep 41000.0 to 42000.0 ms\n"
          ]
        },
        {
          "output_type": "stream",
          "name": "stdout",
          "text": [
            "2024-03-23 00:23:11,031 [INFO] PGN node_id\t  Hz\n"
          ]
        },
        {
          "output_type": "stream",
          "name": "stderr",
          "text": [
            "INFO:NEURONIOUtils:PGN node_id\t  Hz\n"
          ]
        },
        {
          "output_type": "stream",
          "name": "stdout",
          "text": [
            "2024-03-23 00:23:11,035 [INFO] 70\t\t2.0\n"
          ]
        },
        {
          "output_type": "stream",
          "name": "stderr",
          "text": [
            "INFO:NEURONIOUtils:70\t\t2.0\n"
          ]
        },
        {
          "output_type": "stream",
          "name": "stdout",
          "text": [
            "2024-03-23 00:23:11,039 [INFO] 71\t\t2.0\n"
          ]
        },
        {
          "output_type": "stream",
          "name": "stderr",
          "text": [
            "INFO:NEURONIOUtils:71\t\t2.0\n"
          ]
        },
        {
          "output_type": "stream",
          "name": "stdout",
          "text": [
            "2024-03-23 00:23:11,040 [INFO] 72\t\t2.0\n"
          ]
        },
        {
          "output_type": "stream",
          "name": "stderr",
          "text": [
            "INFO:NEURONIOUtils:72\t\t2.0\n"
          ]
        },
        {
          "output_type": "stream",
          "name": "stdout",
          "text": [
            "2024-03-23 00:23:11,043 [INFO] 73\t\t2.0\n"
          ]
        },
        {
          "output_type": "stream",
          "name": "stderr",
          "text": [
            "INFO:NEURONIOUtils:73\t\t2.0\n"
          ]
        },
        {
          "output_type": "stream",
          "name": "stdout",
          "text": [
            "2024-03-23 00:23:11,045 [INFO] 74\t\t2.0\n"
          ]
        },
        {
          "output_type": "stream",
          "name": "stderr",
          "text": [
            "INFO:NEURONIOUtils:74\t\t2.0\n"
          ]
        },
        {
          "output_type": "stream",
          "name": "stdout",
          "text": [
            "2024-03-23 00:23:11,048 [INFO] 75\t\t2.0\n"
          ]
        },
        {
          "output_type": "stream",
          "name": "stderr",
          "text": [
            "INFO:NEURONIOUtils:75\t\t2.0\n"
          ]
        },
        {
          "output_type": "stream",
          "name": "stdout",
          "text": [
            "2024-03-23 00:23:11,049 [INFO] 76\t\t2.0\n"
          ]
        },
        {
          "output_type": "stream",
          "name": "stderr",
          "text": [
            "INFO:NEURONIOUtils:76\t\t2.0\n"
          ]
        },
        {
          "output_type": "stream",
          "name": "stdout",
          "text": [
            "2024-03-23 00:23:11,051 [INFO] 77\t\t2.0\n"
          ]
        },
        {
          "output_type": "stream",
          "name": "stderr",
          "text": [
            "INFO:NEURONIOUtils:77\t\t2.0\n"
          ]
        },
        {
          "output_type": "stream",
          "name": "stdout",
          "text": [
            "2024-03-23 00:23:11,053 [INFO] 78\t\t2.0\n"
          ]
        },
        {
          "output_type": "stream",
          "name": "stderr",
          "text": [
            "INFO:NEURONIOUtils:78\t\t2.0\n"
          ]
        },
        {
          "output_type": "stream",
          "name": "stdout",
          "text": [
            "2024-03-23 00:23:11,056 [INFO] 79\t\t2.0\n"
          ]
        },
        {
          "output_type": "stream",
          "name": "stderr",
          "text": [
            "INFO:NEURONIOUtils:79\t\t2.0\n"
          ]
        },
        {
          "output_type": "stream",
          "name": "stdout",
          "text": [
            "2024-03-23 00:23:11,058 [INFO] PGN firing rate avg: 2.0 Hz\n"
          ]
        },
        {
          "output_type": "stream",
          "name": "stderr",
          "text": [
            "INFO:NEURONIOUtils:PGN firing rate avg: 2.0 Hz\n"
          ]
        },
        {
          "output_type": "stream",
          "name": "stdout",
          "text": [
            "2024-03-23 00:23:11,059 [INFO] Grill PGN fr = 2.984 Hz\n"
          ]
        },
        {
          "output_type": "stream",
          "name": "stderr",
          "text": [
            "INFO:NEURONIOUtils:Grill PGN fr = 2.984 Hz\n"
          ]
        },
        {
          "output_type": "stream",
          "name": "stdout",
          "text": [
            "2024-03-23 00:23:11,061 [INFO] IMG node_gid\t  Hz\n"
          ]
        },
        {
          "output_type": "stream",
          "name": "stderr",
          "text": [
            "INFO:NEURONIOUtils:IMG node_gid\t  Hz\n"
          ]
        },
        {
          "output_type": "stream",
          "name": "stdout",
          "text": [
            "2024-03-23 00:23:11,063 [INFO] 90\t\t0.0\n"
          ]
        },
        {
          "output_type": "stream",
          "name": "stderr",
          "text": [
            "INFO:NEURONIOUtils:90\t\t0.0\n"
          ]
        },
        {
          "output_type": "stream",
          "name": "stdout",
          "text": [
            "2024-03-23 00:23:11,065 [INFO] 91\t\t1.0\n"
          ]
        },
        {
          "output_type": "stream",
          "name": "stderr",
          "text": [
            "INFO:NEURONIOUtils:91\t\t1.0\n"
          ]
        },
        {
          "output_type": "stream",
          "name": "stdout",
          "text": [
            "2024-03-23 00:23:11,067 [INFO] 92\t\t0.0\n"
          ]
        },
        {
          "output_type": "stream",
          "name": "stderr",
          "text": [
            "INFO:NEURONIOUtils:92\t\t0.0\n"
          ]
        },
        {
          "output_type": "stream",
          "name": "stdout",
          "text": [
            "2024-03-23 00:23:11,069 [INFO] 93\t\t1.0\n"
          ]
        },
        {
          "output_type": "stream",
          "name": "stderr",
          "text": [
            "INFO:NEURONIOUtils:93\t\t1.0\n"
          ]
        },
        {
          "output_type": "stream",
          "name": "stdout",
          "text": [
            "2024-03-23 00:23:11,072 [INFO] 94\t\t1.0\n"
          ]
        },
        {
          "output_type": "stream",
          "name": "stderr",
          "text": [
            "INFO:NEURONIOUtils:94\t\t1.0\n"
          ]
        },
        {
          "output_type": "stream",
          "name": "stdout",
          "text": [
            "2024-03-23 00:23:11,074 [INFO] 95\t\t0.0\n"
          ]
        },
        {
          "output_type": "stream",
          "name": "stderr",
          "text": [
            "INFO:NEURONIOUtils:95\t\t0.0\n"
          ]
        },
        {
          "output_type": "stream",
          "name": "stdout",
          "text": [
            "2024-03-23 00:23:11,076 [INFO] 96\t\t0.0\n"
          ]
        },
        {
          "output_type": "stream",
          "name": "stderr",
          "text": [
            "INFO:NEURONIOUtils:96\t\t0.0\n"
          ]
        },
        {
          "output_type": "stream",
          "name": "stdout",
          "text": [
            "2024-03-23 00:23:11,078 [INFO] 97\t\t1.0\n"
          ]
        },
        {
          "output_type": "stream",
          "name": "stderr",
          "text": [
            "INFO:NEURONIOUtils:97\t\t1.0\n"
          ]
        },
        {
          "output_type": "stream",
          "name": "stdout",
          "text": [
            "2024-03-23 00:23:11,080 [INFO] 98\t\t1.0\n"
          ]
        },
        {
          "output_type": "stream",
          "name": "stderr",
          "text": [
            "INFO:NEURONIOUtils:98\t\t1.0\n"
          ]
        },
        {
          "output_type": "stream",
          "name": "stdout",
          "text": [
            "2024-03-23 00:23:11,082 [INFO] 99\t\t1.0\n"
          ]
        },
        {
          "output_type": "stream",
          "name": "stderr",
          "text": [
            "INFO:NEURONIOUtils:99\t\t1.0\n"
          ]
        },
        {
          "output_type": "stream",
          "name": "stdout",
          "text": [
            "2024-03-23 00:23:11,084 [INFO] IMG firing rate avg: 2.0 Hz\n"
          ]
        },
        {
          "output_type": "stream",
          "name": "stderr",
          "text": [
            "INFO:NEURONIOUtils:IMG firing rate avg: 2.0 Hz\n"
          ]
        },
        {
          "output_type": "stream",
          "name": "stdout",
          "text": [
            "2024-03-23 00:23:11,091 [INFO] Volume = 1.1958 ml\n"
          ]
        },
        {
          "output_type": "stream",
          "name": "stderr",
          "text": [
            "/usr/local/lib/python3.10/dist-packages/bmtk/utils/reports/spike_trains/spike_trains.py:183: RuntimeWarning: divide by zero encountered in scalar divide\n",
            "  interval = -np.log(1.0 - np.random.uniform()) / fr\n",
            "INFO:NEURONIOUtils:Volume = 1.1958 ml\n"
          ]
        },
        {
          "output_type": "stream",
          "name": "stdout",
          "text": [
            "2024-03-23 00:23:11,096 [INFO] Pressure = 5.31 mmHg\n"
          ]
        },
        {
          "output_type": "stream",
          "name": "stderr",
          "text": [
            "INFO:NEURONIOUtils:Pressure = 5.31 mmHg\n"
          ]
        },
        {
          "output_type": "stream",
          "name": "stdout",
          "text": [
            "2024-03-23 00:23:11,098 [INFO] Calculated bladder afferent firing rate for the next time step = 0.00 Hz \n",
            " \n",
            "\n"
          ]
        },
        {
          "output_type": "stream",
          "name": "stderr",
          "text": [
            "INFO:NEURONIOUtils:Calculated bladder afferent firing rate for the next time step = 0.00 Hz \n",
            " \n",
            "\n"
          ]
        },
        {
          "output_type": "stream",
          "name": "stdout",
          "text": [
            "2024-03-23 00:23:13,946 [INFO]     step:215000 t_sim:43000.00 ms\n"
          ]
        },
        {
          "output_type": "stream",
          "name": "stderr",
          "text": [
            "INFO:NEURONIOUtils:    step:215000 t_sim:43000.00 ms\n"
          ]
        },
        {
          "output_type": "stream",
          "name": "stdout",
          "text": [
            "2024-03-23 00:23:13,958 [INFO] Timestep 42000.0 to 43000.0 ms\n"
          ]
        },
        {
          "output_type": "stream",
          "name": "stderr",
          "text": [
            "INFO:NEURONIOUtils:Timestep 42000.0 to 43000.0 ms\n"
          ]
        },
        {
          "output_type": "stream",
          "name": "stdout",
          "text": [
            "2024-03-23 00:23:13,963 [INFO] PGN node_id\t  Hz\n"
          ]
        },
        {
          "output_type": "stream",
          "name": "stderr",
          "text": [
            "INFO:NEURONIOUtils:PGN node_id\t  Hz\n"
          ]
        },
        {
          "output_type": "stream",
          "name": "stdout",
          "text": [
            "2024-03-23 00:23:13,966 [INFO] 70\t\t2.0\n"
          ]
        },
        {
          "output_type": "stream",
          "name": "stderr",
          "text": [
            "INFO:NEURONIOUtils:70\t\t2.0\n"
          ]
        },
        {
          "output_type": "stream",
          "name": "stdout",
          "text": [
            "2024-03-23 00:23:13,970 [INFO] 71\t\t2.0\n"
          ]
        },
        {
          "output_type": "stream",
          "name": "stderr",
          "text": [
            "INFO:NEURONIOUtils:71\t\t2.0\n"
          ]
        },
        {
          "output_type": "stream",
          "name": "stdout",
          "text": [
            "2024-03-23 00:23:13,975 [INFO] 72\t\t2.0\n"
          ]
        },
        {
          "output_type": "stream",
          "name": "stderr",
          "text": [
            "INFO:NEURONIOUtils:72\t\t2.0\n"
          ]
        },
        {
          "output_type": "stream",
          "name": "stdout",
          "text": [
            "2024-03-23 00:23:13,978 [INFO] 73\t\t2.0\n"
          ]
        },
        {
          "output_type": "stream",
          "name": "stderr",
          "text": [
            "INFO:NEURONIOUtils:73\t\t2.0\n"
          ]
        },
        {
          "output_type": "stream",
          "name": "stdout",
          "text": [
            "2024-03-23 00:23:13,980 [INFO] 74\t\t2.0\n"
          ]
        },
        {
          "output_type": "stream",
          "name": "stderr",
          "text": [
            "INFO:NEURONIOUtils:74\t\t2.0\n"
          ]
        },
        {
          "output_type": "stream",
          "name": "stdout",
          "text": [
            "2024-03-23 00:23:13,981 [INFO] 75\t\t2.0\n"
          ]
        },
        {
          "output_type": "stream",
          "name": "stderr",
          "text": [
            "INFO:NEURONIOUtils:75\t\t2.0\n"
          ]
        },
        {
          "output_type": "stream",
          "name": "stdout",
          "text": [
            "2024-03-23 00:23:13,983 [INFO] 76\t\t2.0\n"
          ]
        },
        {
          "output_type": "stream",
          "name": "stderr",
          "text": [
            "INFO:NEURONIOUtils:76\t\t2.0\n"
          ]
        },
        {
          "output_type": "stream",
          "name": "stdout",
          "text": [
            "2024-03-23 00:23:13,989 [INFO] 77\t\t2.0\n"
          ]
        },
        {
          "output_type": "stream",
          "name": "stderr",
          "text": [
            "INFO:NEURONIOUtils:77\t\t2.0\n"
          ]
        },
        {
          "output_type": "stream",
          "name": "stdout",
          "text": [
            "2024-03-23 00:23:13,991 [INFO] 78\t\t2.0\n"
          ]
        },
        {
          "output_type": "stream",
          "name": "stderr",
          "text": [
            "INFO:NEURONIOUtils:78\t\t2.0\n"
          ]
        },
        {
          "output_type": "stream",
          "name": "stdout",
          "text": [
            "2024-03-23 00:23:13,993 [INFO] 79\t\t2.0\n"
          ]
        },
        {
          "output_type": "stream",
          "name": "stderr",
          "text": [
            "INFO:NEURONIOUtils:79\t\t2.0\n"
          ]
        },
        {
          "output_type": "stream",
          "name": "stdout",
          "text": [
            "2024-03-23 00:23:13,995 [INFO] PGN firing rate avg: 2.0 Hz\n"
          ]
        },
        {
          "output_type": "stream",
          "name": "stderr",
          "text": [
            "INFO:NEURONIOUtils:PGN firing rate avg: 2.0 Hz\n"
          ]
        },
        {
          "output_type": "stream",
          "name": "stdout",
          "text": [
            "2024-03-23 00:23:14,000 [INFO] Grill PGN fr = 2.984 Hz\n"
          ]
        },
        {
          "output_type": "stream",
          "name": "stderr",
          "text": [
            "INFO:NEURONIOUtils:Grill PGN fr = 2.984 Hz\n"
          ]
        },
        {
          "output_type": "stream",
          "name": "stdout",
          "text": [
            "2024-03-23 00:23:14,002 [INFO] IMG node_gid\t  Hz\n"
          ]
        },
        {
          "output_type": "stream",
          "name": "stderr",
          "text": [
            "INFO:NEURONIOUtils:IMG node_gid\t  Hz\n"
          ]
        },
        {
          "output_type": "stream",
          "name": "stdout",
          "text": [
            "2024-03-23 00:23:14,004 [INFO] 90\t\t0.0\n"
          ]
        },
        {
          "output_type": "stream",
          "name": "stderr",
          "text": [
            "INFO:NEURONIOUtils:90\t\t0.0\n"
          ]
        },
        {
          "output_type": "stream",
          "name": "stdout",
          "text": [
            "2024-03-23 00:23:14,006 [INFO] 91\t\t1.0\n"
          ]
        },
        {
          "output_type": "stream",
          "name": "stderr",
          "text": [
            "INFO:NEURONIOUtils:91\t\t1.0\n"
          ]
        },
        {
          "output_type": "stream",
          "name": "stdout",
          "text": [
            "2024-03-23 00:23:14,007 [INFO] 92\t\t0.0\n"
          ]
        },
        {
          "output_type": "stream",
          "name": "stderr",
          "text": [
            "INFO:NEURONIOUtils:92\t\t0.0\n"
          ]
        },
        {
          "output_type": "stream",
          "name": "stdout",
          "text": [
            "2024-03-23 00:23:14,012 [INFO] 93\t\t1.0\n"
          ]
        },
        {
          "output_type": "stream",
          "name": "stderr",
          "text": [
            "INFO:NEURONIOUtils:93\t\t1.0\n"
          ]
        },
        {
          "output_type": "stream",
          "name": "stdout",
          "text": [
            "2024-03-23 00:23:14,014 [INFO] 94\t\t1.0\n"
          ]
        },
        {
          "output_type": "stream",
          "name": "stderr",
          "text": [
            "INFO:NEURONIOUtils:94\t\t1.0\n"
          ]
        },
        {
          "output_type": "stream",
          "name": "stdout",
          "text": [
            "2024-03-23 00:23:14,018 [INFO] 95\t\t0.0\n"
          ]
        },
        {
          "output_type": "stream",
          "name": "stderr",
          "text": [
            "INFO:NEURONIOUtils:95\t\t0.0\n"
          ]
        },
        {
          "output_type": "stream",
          "name": "stdout",
          "text": [
            "2024-03-23 00:23:14,020 [INFO] 96\t\t0.0\n"
          ]
        },
        {
          "output_type": "stream",
          "name": "stderr",
          "text": [
            "INFO:NEURONIOUtils:96\t\t0.0\n"
          ]
        },
        {
          "output_type": "stream",
          "name": "stdout",
          "text": [
            "2024-03-23 00:23:14,022 [INFO] 97\t\t1.0\n"
          ]
        },
        {
          "output_type": "stream",
          "name": "stderr",
          "text": [
            "INFO:NEURONIOUtils:97\t\t1.0\n"
          ]
        },
        {
          "output_type": "stream",
          "name": "stdout",
          "text": [
            "2024-03-23 00:23:14,024 [INFO] 98\t\t1.0\n"
          ]
        },
        {
          "output_type": "stream",
          "name": "stderr",
          "text": [
            "INFO:NEURONIOUtils:98\t\t1.0\n"
          ]
        },
        {
          "output_type": "stream",
          "name": "stdout",
          "text": [
            "2024-03-23 00:23:14,030 [INFO] 99\t\t1.0\n"
          ]
        },
        {
          "output_type": "stream",
          "name": "stderr",
          "text": [
            "INFO:NEURONIOUtils:99\t\t1.0\n"
          ]
        },
        {
          "output_type": "stream",
          "name": "stdout",
          "text": [
            "2024-03-23 00:23:14,032 [INFO] IMG firing rate avg: 2.0 Hz\n"
          ]
        },
        {
          "output_type": "stream",
          "name": "stderr",
          "text": [
            "INFO:NEURONIOUtils:IMG firing rate avg: 2.0 Hz\n"
          ]
        },
        {
          "output_type": "stream",
          "name": "stdout",
          "text": [
            "2024-03-23 00:23:14,039 [INFO] Volume = 1.2250 ml\n"
          ]
        },
        {
          "output_type": "stream",
          "name": "stderr",
          "text": [
            "/usr/local/lib/python3.10/dist-packages/bmtk/utils/reports/spike_trains/spike_trains.py:183: RuntimeWarning: divide by zero encountered in scalar divide\n",
            "  interval = -np.log(1.0 - np.random.uniform()) / fr\n",
            "INFO:NEURONIOUtils:Volume = 1.2250 ml\n"
          ]
        },
        {
          "output_type": "stream",
          "name": "stdout",
          "text": [
            "2024-03-23 00:23:14,046 [INFO] Pressure = 5.54 mmHg\n"
          ]
        },
        {
          "output_type": "stream",
          "name": "stderr",
          "text": [
            "INFO:NEURONIOUtils:Pressure = 5.54 mmHg\n"
          ]
        },
        {
          "output_type": "stream",
          "name": "stdout",
          "text": [
            "2024-03-23 00:23:14,047 [INFO] Calculated bladder afferent firing rate for the next time step = 0.00 Hz \n",
            " \n",
            "\n"
          ]
        },
        {
          "output_type": "stream",
          "name": "stderr",
          "text": [
            "INFO:NEURONIOUtils:Calculated bladder afferent firing rate for the next time step = 0.00 Hz \n",
            " \n",
            "\n"
          ]
        },
        {
          "output_type": "stream",
          "name": "stdout",
          "text": [
            "2024-03-23 00:23:17,328 [INFO]     step:220000 t_sim:44000.00 ms\n"
          ]
        },
        {
          "output_type": "stream",
          "name": "stderr",
          "text": [
            "INFO:NEURONIOUtils:    step:220000 t_sim:44000.00 ms\n"
          ]
        },
        {
          "output_type": "stream",
          "name": "stdout",
          "text": [
            "2024-03-23 00:23:17,340 [INFO] Timestep 43000.0 to 44000.0 ms\n"
          ]
        },
        {
          "output_type": "stream",
          "name": "stderr",
          "text": [
            "INFO:NEURONIOUtils:Timestep 43000.0 to 44000.0 ms\n"
          ]
        },
        {
          "output_type": "stream",
          "name": "stdout",
          "text": [
            "2024-03-23 00:23:17,345 [INFO] PGN node_id\t  Hz\n"
          ]
        },
        {
          "output_type": "stream",
          "name": "stderr",
          "text": [
            "INFO:NEURONIOUtils:PGN node_id\t  Hz\n"
          ]
        },
        {
          "output_type": "stream",
          "name": "stdout",
          "text": [
            "2024-03-23 00:23:17,351 [INFO] 70\t\t2.0\n"
          ]
        },
        {
          "output_type": "stream",
          "name": "stderr",
          "text": [
            "INFO:NEURONIOUtils:70\t\t2.0\n"
          ]
        },
        {
          "output_type": "stream",
          "name": "stdout",
          "text": [
            "2024-03-23 00:23:17,355 [INFO] 71\t\t2.0\n"
          ]
        },
        {
          "output_type": "stream",
          "name": "stderr",
          "text": [
            "INFO:NEURONIOUtils:71\t\t2.0\n"
          ]
        },
        {
          "output_type": "stream",
          "name": "stdout",
          "text": [
            "2024-03-23 00:23:17,357 [INFO] 72\t\t2.0\n"
          ]
        },
        {
          "output_type": "stream",
          "name": "stderr",
          "text": [
            "INFO:NEURONIOUtils:72\t\t2.0\n"
          ]
        },
        {
          "output_type": "stream",
          "name": "stdout",
          "text": [
            "2024-03-23 00:23:17,361 [INFO] 73\t\t2.0\n"
          ]
        },
        {
          "output_type": "stream",
          "name": "stderr",
          "text": [
            "INFO:NEURONIOUtils:73\t\t2.0\n"
          ]
        },
        {
          "output_type": "stream",
          "name": "stdout",
          "text": [
            "2024-03-23 00:23:17,363 [INFO] 74\t\t2.0\n"
          ]
        },
        {
          "output_type": "stream",
          "name": "stderr",
          "text": [
            "INFO:NEURONIOUtils:74\t\t2.0\n"
          ]
        },
        {
          "output_type": "stream",
          "name": "stdout",
          "text": [
            "2024-03-23 00:23:17,364 [INFO] 75\t\t2.0\n"
          ]
        },
        {
          "output_type": "stream",
          "name": "stderr",
          "text": [
            "INFO:NEURONIOUtils:75\t\t2.0\n"
          ]
        },
        {
          "output_type": "stream",
          "name": "stdout",
          "text": [
            "2024-03-23 00:23:17,366 [INFO] 76\t\t2.0\n"
          ]
        },
        {
          "output_type": "stream",
          "name": "stderr",
          "text": [
            "INFO:NEURONIOUtils:76\t\t2.0\n"
          ]
        },
        {
          "output_type": "stream",
          "name": "stdout",
          "text": [
            "2024-03-23 00:23:17,372 [INFO] 77\t\t2.0\n"
          ]
        },
        {
          "output_type": "stream",
          "name": "stderr",
          "text": [
            "INFO:NEURONIOUtils:77\t\t2.0\n"
          ]
        },
        {
          "output_type": "stream",
          "name": "stdout",
          "text": [
            "2024-03-23 00:23:17,374 [INFO] 78\t\t2.0\n"
          ]
        },
        {
          "output_type": "stream",
          "name": "stderr",
          "text": [
            "INFO:NEURONIOUtils:78\t\t2.0\n"
          ]
        },
        {
          "output_type": "stream",
          "name": "stdout",
          "text": [
            "2024-03-23 00:23:17,375 [INFO] 79\t\t2.0\n"
          ]
        },
        {
          "output_type": "stream",
          "name": "stderr",
          "text": [
            "INFO:NEURONIOUtils:79\t\t2.0\n"
          ]
        },
        {
          "output_type": "stream",
          "name": "stdout",
          "text": [
            "2024-03-23 00:23:17,378 [INFO] PGN firing rate avg: 2.0 Hz\n"
          ]
        },
        {
          "output_type": "stream",
          "name": "stderr",
          "text": [
            "INFO:NEURONIOUtils:PGN firing rate avg: 2.0 Hz\n"
          ]
        },
        {
          "output_type": "stream",
          "name": "stdout",
          "text": [
            "2024-03-23 00:23:17,384 [INFO] Grill PGN fr = 2.984 Hz\n"
          ]
        },
        {
          "output_type": "stream",
          "name": "stderr",
          "text": [
            "INFO:NEURONIOUtils:Grill PGN fr = 2.984 Hz\n"
          ]
        },
        {
          "output_type": "stream",
          "name": "stdout",
          "text": [
            "2024-03-23 00:23:17,386 [INFO] IMG node_gid\t  Hz\n"
          ]
        },
        {
          "output_type": "stream",
          "name": "stderr",
          "text": [
            "INFO:NEURONIOUtils:IMG node_gid\t  Hz\n"
          ]
        },
        {
          "output_type": "stream",
          "name": "stdout",
          "text": [
            "2024-03-23 00:23:17,388 [INFO] 90\t\t0.0\n"
          ]
        },
        {
          "output_type": "stream",
          "name": "stderr",
          "text": [
            "INFO:NEURONIOUtils:90\t\t0.0\n"
          ]
        },
        {
          "output_type": "stream",
          "name": "stdout",
          "text": [
            "2024-03-23 00:23:17,394 [INFO] 91\t\t1.0\n"
          ]
        },
        {
          "output_type": "stream",
          "name": "stderr",
          "text": [
            "INFO:NEURONIOUtils:91\t\t1.0\n"
          ]
        },
        {
          "output_type": "stream",
          "name": "stdout",
          "text": [
            "2024-03-23 00:23:17,396 [INFO] 92\t\t0.0\n"
          ]
        },
        {
          "output_type": "stream",
          "name": "stderr",
          "text": [
            "INFO:NEURONIOUtils:92\t\t0.0\n"
          ]
        },
        {
          "output_type": "stream",
          "name": "stdout",
          "text": [
            "2024-03-23 00:23:17,398 [INFO] 93\t\t1.0\n"
          ]
        },
        {
          "output_type": "stream",
          "name": "stderr",
          "text": [
            "INFO:NEURONIOUtils:93\t\t1.0\n"
          ]
        },
        {
          "output_type": "stream",
          "name": "stdout",
          "text": [
            "2024-03-23 00:23:17,400 [INFO] 94\t\t1.0\n"
          ]
        },
        {
          "output_type": "stream",
          "name": "stderr",
          "text": [
            "INFO:NEURONIOUtils:94\t\t1.0\n"
          ]
        },
        {
          "output_type": "stream",
          "name": "stdout",
          "text": [
            "2024-03-23 00:23:17,406 [INFO] 95\t\t0.0\n"
          ]
        },
        {
          "output_type": "stream",
          "name": "stderr",
          "text": [
            "INFO:NEURONIOUtils:95\t\t0.0\n"
          ]
        },
        {
          "output_type": "stream",
          "name": "stdout",
          "text": [
            "2024-03-23 00:23:17,408 [INFO] 96\t\t0.0\n"
          ]
        },
        {
          "output_type": "stream",
          "name": "stderr",
          "text": [
            "INFO:NEURONIOUtils:96\t\t0.0\n"
          ]
        },
        {
          "output_type": "stream",
          "name": "stdout",
          "text": [
            "2024-03-23 00:23:17,410 [INFO] 97\t\t1.0\n"
          ]
        },
        {
          "output_type": "stream",
          "name": "stderr",
          "text": [
            "INFO:NEURONIOUtils:97\t\t1.0\n"
          ]
        },
        {
          "output_type": "stream",
          "name": "stdout",
          "text": [
            "2024-03-23 00:23:17,412 [INFO] 98\t\t1.0\n"
          ]
        },
        {
          "output_type": "stream",
          "name": "stderr",
          "text": [
            "INFO:NEURONIOUtils:98\t\t1.0\n"
          ]
        },
        {
          "output_type": "stream",
          "name": "stdout",
          "text": [
            "2024-03-23 00:23:17,416 [INFO] 99\t\t1.0\n"
          ]
        },
        {
          "output_type": "stream",
          "name": "stderr",
          "text": [
            "INFO:NEURONIOUtils:99\t\t1.0\n"
          ]
        },
        {
          "output_type": "stream",
          "name": "stdout",
          "text": [
            "2024-03-23 00:23:17,418 [INFO] IMG firing rate avg: 2.0 Hz\n"
          ]
        },
        {
          "output_type": "stream",
          "name": "stderr",
          "text": [
            "INFO:NEURONIOUtils:IMG firing rate avg: 2.0 Hz\n"
          ]
        },
        {
          "output_type": "stream",
          "name": "stdout",
          "text": [
            "2024-03-23 00:23:17,430 [INFO] Volume = 1.2542 ml\n"
          ]
        },
        {
          "output_type": "stream",
          "name": "stderr",
          "text": [
            "/usr/local/lib/python3.10/dist-packages/bmtk/utils/reports/spike_trains/spike_trains.py:183: RuntimeWarning: divide by zero encountered in scalar divide\n",
            "  interval = -np.log(1.0 - np.random.uniform()) / fr\n",
            "INFO:NEURONIOUtils:Volume = 1.2542 ml\n"
          ]
        },
        {
          "output_type": "stream",
          "name": "stdout",
          "text": [
            "2024-03-23 00:23:17,436 [INFO] Pressure = 5.76 mmHg\n"
          ]
        },
        {
          "output_type": "stream",
          "name": "stderr",
          "text": [
            "INFO:NEURONIOUtils:Pressure = 5.76 mmHg\n"
          ]
        },
        {
          "output_type": "stream",
          "name": "stdout",
          "text": [
            "2024-03-23 00:23:17,438 [INFO] Calculated bladder afferent firing rate for the next time step = 0.00 Hz \n",
            " \n",
            "\n"
          ]
        },
        {
          "output_type": "stream",
          "name": "stderr",
          "text": [
            "INFO:NEURONIOUtils:Calculated bladder afferent firing rate for the next time step = 0.00 Hz \n",
            " \n",
            "\n"
          ]
        },
        {
          "output_type": "stream",
          "name": "stdout",
          "text": [
            "2024-03-23 00:23:20,401 [INFO]     step:225000 t_sim:45000.00 ms\n"
          ]
        },
        {
          "output_type": "stream",
          "name": "stderr",
          "text": [
            "INFO:NEURONIOUtils:    step:225000 t_sim:45000.00 ms\n"
          ]
        },
        {
          "output_type": "stream",
          "name": "stdout",
          "text": [
            "2024-03-23 00:23:20,416 [INFO] Timestep 44000.0 to 45000.0 ms\n"
          ]
        },
        {
          "output_type": "stream",
          "name": "stderr",
          "text": [
            "INFO:NEURONIOUtils:Timestep 44000.0 to 45000.0 ms\n"
          ]
        },
        {
          "output_type": "stream",
          "name": "stdout",
          "text": [
            "2024-03-23 00:23:20,420 [INFO] PGN node_id\t  Hz\n"
          ]
        },
        {
          "output_type": "stream",
          "name": "stderr",
          "text": [
            "INFO:NEURONIOUtils:PGN node_id\t  Hz\n"
          ]
        },
        {
          "output_type": "stream",
          "name": "stdout",
          "text": [
            "2024-03-23 00:23:20,424 [INFO] 70\t\t2.0\n"
          ]
        },
        {
          "output_type": "stream",
          "name": "stderr",
          "text": [
            "INFO:NEURONIOUtils:70\t\t2.0\n"
          ]
        },
        {
          "output_type": "stream",
          "name": "stdout",
          "text": [
            "2024-03-23 00:23:20,427 [INFO] 71\t\t2.0\n"
          ]
        },
        {
          "output_type": "stream",
          "name": "stderr",
          "text": [
            "INFO:NEURONIOUtils:71\t\t2.0\n"
          ]
        },
        {
          "output_type": "stream",
          "name": "stdout",
          "text": [
            "2024-03-23 00:23:20,434 [INFO] 72\t\t2.0\n"
          ]
        },
        {
          "output_type": "stream",
          "name": "stderr",
          "text": [
            "INFO:NEURONIOUtils:72\t\t2.0\n"
          ]
        },
        {
          "output_type": "stream",
          "name": "stdout",
          "text": [
            "2024-03-23 00:23:20,436 [INFO] 73\t\t2.0\n"
          ]
        },
        {
          "output_type": "stream",
          "name": "stderr",
          "text": [
            "INFO:NEURONIOUtils:73\t\t2.0\n"
          ]
        },
        {
          "output_type": "stream",
          "name": "stdout",
          "text": [
            "2024-03-23 00:23:20,441 [INFO] 74\t\t2.0\n"
          ]
        },
        {
          "output_type": "stream",
          "name": "stderr",
          "text": [
            "INFO:NEURONIOUtils:74\t\t2.0\n"
          ]
        },
        {
          "output_type": "stream",
          "name": "stdout",
          "text": [
            "2024-03-23 00:23:20,443 [INFO] 75\t\t2.0\n"
          ]
        },
        {
          "output_type": "stream",
          "name": "stderr",
          "text": [
            "INFO:NEURONIOUtils:75\t\t2.0\n"
          ]
        },
        {
          "output_type": "stream",
          "name": "stdout",
          "text": [
            "2024-03-23 00:23:20,445 [INFO] 76\t\t2.0\n"
          ]
        },
        {
          "output_type": "stream",
          "name": "stderr",
          "text": [
            "INFO:NEURONIOUtils:76\t\t2.0\n"
          ]
        },
        {
          "output_type": "stream",
          "name": "stdout",
          "text": [
            "2024-03-23 00:23:20,447 [INFO] 77\t\t2.0\n"
          ]
        },
        {
          "output_type": "stream",
          "name": "stderr",
          "text": [
            "INFO:NEURONIOUtils:77\t\t2.0\n"
          ]
        },
        {
          "output_type": "stream",
          "name": "stdout",
          "text": [
            "2024-03-23 00:23:20,449 [INFO] 78\t\t2.0\n"
          ]
        },
        {
          "output_type": "stream",
          "name": "stderr",
          "text": [
            "INFO:NEURONIOUtils:78\t\t2.0\n"
          ]
        },
        {
          "output_type": "stream",
          "name": "stdout",
          "text": [
            "2024-03-23 00:23:20,455 [INFO] 79\t\t2.0\n"
          ]
        },
        {
          "output_type": "stream",
          "name": "stderr",
          "text": [
            "INFO:NEURONIOUtils:79\t\t2.0\n"
          ]
        },
        {
          "output_type": "stream",
          "name": "stdout",
          "text": [
            "2024-03-23 00:23:20,457 [INFO] PGN firing rate avg: 2.0 Hz\n"
          ]
        },
        {
          "output_type": "stream",
          "name": "stderr",
          "text": [
            "INFO:NEURONIOUtils:PGN firing rate avg: 2.0 Hz\n"
          ]
        },
        {
          "output_type": "stream",
          "name": "stdout",
          "text": [
            "2024-03-23 00:23:20,458 [INFO] Grill PGN fr = 2.984 Hz\n"
          ]
        },
        {
          "output_type": "stream",
          "name": "stderr",
          "text": [
            "INFO:NEURONIOUtils:Grill PGN fr = 2.984 Hz\n"
          ]
        },
        {
          "output_type": "stream",
          "name": "stdout",
          "text": [
            "2024-03-23 00:23:20,460 [INFO] IMG node_gid\t  Hz\n"
          ]
        },
        {
          "output_type": "stream",
          "name": "stderr",
          "text": [
            "INFO:NEURONIOUtils:IMG node_gid\t  Hz\n"
          ]
        },
        {
          "output_type": "stream",
          "name": "stdout",
          "text": [
            "2024-03-23 00:23:20,466 [INFO] 90\t\t0.0\n"
          ]
        },
        {
          "output_type": "stream",
          "name": "stderr",
          "text": [
            "INFO:NEURONIOUtils:90\t\t0.0\n"
          ]
        },
        {
          "output_type": "stream",
          "name": "stdout",
          "text": [
            "2024-03-23 00:23:20,469 [INFO] 91\t\t1.0\n"
          ]
        },
        {
          "output_type": "stream",
          "name": "stderr",
          "text": [
            "INFO:NEURONIOUtils:91\t\t1.0\n"
          ]
        },
        {
          "output_type": "stream",
          "name": "stdout",
          "text": [
            "2024-03-23 00:23:20,472 [INFO] 92\t\t0.0\n"
          ]
        },
        {
          "output_type": "stream",
          "name": "stderr",
          "text": [
            "INFO:NEURONIOUtils:92\t\t0.0\n"
          ]
        },
        {
          "output_type": "stream",
          "name": "stdout",
          "text": [
            "2024-03-23 00:23:20,478 [INFO] 93\t\t1.0\n"
          ]
        },
        {
          "output_type": "stream",
          "name": "stderr",
          "text": [
            "INFO:NEURONIOUtils:93\t\t1.0\n"
          ]
        },
        {
          "output_type": "stream",
          "name": "stdout",
          "text": [
            "2024-03-23 00:23:20,484 [INFO] 94\t\t1.0\n"
          ]
        },
        {
          "output_type": "stream",
          "name": "stderr",
          "text": [
            "INFO:NEURONIOUtils:94\t\t1.0\n"
          ]
        },
        {
          "output_type": "stream",
          "name": "stdout",
          "text": [
            "2024-03-23 00:23:20,488 [INFO] 95\t\t0.0\n"
          ]
        },
        {
          "output_type": "stream",
          "name": "stderr",
          "text": [
            "INFO:NEURONIOUtils:95\t\t0.0\n"
          ]
        },
        {
          "output_type": "stream",
          "name": "stdout",
          "text": [
            "2024-03-23 00:23:20,493 [INFO] 96\t\t0.0\n"
          ]
        },
        {
          "output_type": "stream",
          "name": "stderr",
          "text": [
            "INFO:NEURONIOUtils:96\t\t0.0\n"
          ]
        },
        {
          "output_type": "stream",
          "name": "stdout",
          "text": [
            "2024-03-23 00:23:20,499 [INFO] 97\t\t1.0\n"
          ]
        },
        {
          "output_type": "stream",
          "name": "stderr",
          "text": [
            "INFO:NEURONIOUtils:97\t\t1.0\n"
          ]
        },
        {
          "output_type": "stream",
          "name": "stdout",
          "text": [
            "2024-03-23 00:23:20,504 [INFO] 98\t\t1.0\n"
          ]
        },
        {
          "output_type": "stream",
          "name": "stderr",
          "text": [
            "INFO:NEURONIOUtils:98\t\t1.0\n"
          ]
        },
        {
          "output_type": "stream",
          "name": "stdout",
          "text": [
            "2024-03-23 00:23:20,510 [INFO] 99\t\t1.0\n"
          ]
        },
        {
          "output_type": "stream",
          "name": "stderr",
          "text": [
            "INFO:NEURONIOUtils:99\t\t1.0\n"
          ]
        },
        {
          "output_type": "stream",
          "name": "stdout",
          "text": [
            "2024-03-23 00:23:20,514 [INFO] IMG firing rate avg: 2.0 Hz\n"
          ]
        },
        {
          "output_type": "stream",
          "name": "stderr",
          "text": [
            "INFO:NEURONIOUtils:IMG firing rate avg: 2.0 Hz\n"
          ]
        },
        {
          "output_type": "stream",
          "name": "stdout",
          "text": [
            "2024-03-23 00:23:20,561 [INFO] Volume = 1.2833 ml\n"
          ]
        },
        {
          "output_type": "stream",
          "name": "stderr",
          "text": [
            "/usr/local/lib/python3.10/dist-packages/bmtk/utils/reports/spike_trains/spike_trains.py:183: RuntimeWarning: divide by zero encountered in scalar divide\n",
            "  interval = -np.log(1.0 - np.random.uniform()) / fr\n",
            "INFO:NEURONIOUtils:Volume = 1.2833 ml\n"
          ]
        },
        {
          "output_type": "stream",
          "name": "stdout",
          "text": [
            "2024-03-23 00:23:20,568 [INFO] Pressure = 5.99 mmHg\n"
          ]
        },
        {
          "output_type": "stream",
          "name": "stderr",
          "text": [
            "INFO:NEURONIOUtils:Pressure = 5.99 mmHg\n"
          ]
        },
        {
          "output_type": "stream",
          "name": "stdout",
          "text": [
            "2024-03-23 00:23:20,572 [INFO] Calculated bladder afferent firing rate for the next time step = 0.00 Hz \n",
            " \n",
            "\n"
          ]
        },
        {
          "output_type": "stream",
          "name": "stderr",
          "text": [
            "INFO:NEURONIOUtils:Calculated bladder afferent firing rate for the next time step = 0.00 Hz \n",
            " \n",
            "\n"
          ]
        },
        {
          "output_type": "stream",
          "name": "stdout",
          "text": [
            "2024-03-23 00:23:23,500 [INFO]     step:230000 t_sim:46000.00 ms\n"
          ]
        },
        {
          "output_type": "stream",
          "name": "stderr",
          "text": [
            "INFO:NEURONIOUtils:    step:230000 t_sim:46000.00 ms\n"
          ]
        },
        {
          "output_type": "stream",
          "name": "stdout",
          "text": [
            "2024-03-23 00:23:23,513 [INFO] Timestep 45000.0 to 46000.0 ms\n"
          ]
        },
        {
          "output_type": "stream",
          "name": "stderr",
          "text": [
            "INFO:NEURONIOUtils:Timestep 45000.0 to 46000.0 ms\n"
          ]
        },
        {
          "output_type": "stream",
          "name": "stdout",
          "text": [
            "2024-03-23 00:23:23,519 [INFO] PGN node_id\t  Hz\n"
          ]
        },
        {
          "output_type": "stream",
          "name": "stderr",
          "text": [
            "INFO:NEURONIOUtils:PGN node_id\t  Hz\n"
          ]
        },
        {
          "output_type": "stream",
          "name": "stdout",
          "text": [
            "2024-03-23 00:23:23,523 [INFO] 70\t\t1.0\n"
          ]
        },
        {
          "output_type": "stream",
          "name": "stderr",
          "text": [
            "INFO:NEURONIOUtils:70\t\t1.0\n"
          ]
        },
        {
          "output_type": "stream",
          "name": "stdout",
          "text": [
            "2024-03-23 00:23:23,527 [INFO] 71\t\t1.0\n"
          ]
        },
        {
          "output_type": "stream",
          "name": "stderr",
          "text": [
            "INFO:NEURONIOUtils:71\t\t1.0\n"
          ]
        },
        {
          "output_type": "stream",
          "name": "stdout",
          "text": [
            "2024-03-23 00:23:23,529 [INFO] 72\t\t1.0\n"
          ]
        },
        {
          "output_type": "stream",
          "name": "stderr",
          "text": [
            "INFO:NEURONIOUtils:72\t\t1.0\n"
          ]
        },
        {
          "output_type": "stream",
          "name": "stdout",
          "text": [
            "2024-03-23 00:23:23,531 [INFO] 73\t\t1.0\n"
          ]
        },
        {
          "output_type": "stream",
          "name": "stderr",
          "text": [
            "INFO:NEURONIOUtils:73\t\t1.0\n"
          ]
        },
        {
          "output_type": "stream",
          "name": "stdout",
          "text": [
            "2024-03-23 00:23:23,533 [INFO] 74\t\t1.0\n"
          ]
        },
        {
          "output_type": "stream",
          "name": "stderr",
          "text": [
            "INFO:NEURONIOUtils:74\t\t1.0\n"
          ]
        },
        {
          "output_type": "stream",
          "name": "stdout",
          "text": [
            "2024-03-23 00:23:23,535 [INFO] 75\t\t1.0\n"
          ]
        },
        {
          "output_type": "stream",
          "name": "stderr",
          "text": [
            "INFO:NEURONIOUtils:75\t\t1.0\n"
          ]
        },
        {
          "output_type": "stream",
          "name": "stdout",
          "text": [
            "2024-03-23 00:23:23,538 [INFO] 76\t\t1.0\n"
          ]
        },
        {
          "output_type": "stream",
          "name": "stderr",
          "text": [
            "INFO:NEURONIOUtils:76\t\t1.0\n"
          ]
        },
        {
          "output_type": "stream",
          "name": "stdout",
          "text": [
            "2024-03-23 00:23:23,540 [INFO] 77\t\t1.0\n"
          ]
        },
        {
          "output_type": "stream",
          "name": "stderr",
          "text": [
            "INFO:NEURONIOUtils:77\t\t1.0\n"
          ]
        },
        {
          "output_type": "stream",
          "name": "stdout",
          "text": [
            "2024-03-23 00:23:23,543 [INFO] 78\t\t1.0\n"
          ]
        },
        {
          "output_type": "stream",
          "name": "stderr",
          "text": [
            "INFO:NEURONIOUtils:78\t\t1.0\n"
          ]
        },
        {
          "output_type": "stream",
          "name": "stdout",
          "text": [
            "2024-03-23 00:23:23,545 [INFO] 79\t\t1.0\n"
          ]
        },
        {
          "output_type": "stream",
          "name": "stderr",
          "text": [
            "INFO:NEURONIOUtils:79\t\t1.0\n"
          ]
        },
        {
          "output_type": "stream",
          "name": "stdout",
          "text": [
            "2024-03-23 00:23:23,547 [INFO] PGN firing rate avg: 1.0 Hz\n"
          ]
        },
        {
          "output_type": "stream",
          "name": "stderr",
          "text": [
            "INFO:NEURONIOUtils:PGN firing rate avg: 1.0 Hz\n"
          ]
        },
        {
          "output_type": "stream",
          "name": "stdout",
          "text": [
            "2024-03-23 00:23:23,549 [INFO] Grill PGN fr = 1.2690000000000001 Hz\n"
          ]
        },
        {
          "output_type": "stream",
          "name": "stderr",
          "text": [
            "INFO:NEURONIOUtils:Grill PGN fr = 1.2690000000000001 Hz\n"
          ]
        },
        {
          "output_type": "stream",
          "name": "stdout",
          "text": [
            "2024-03-23 00:23:23,551 [INFO] IMG node_gid\t  Hz\n"
          ]
        },
        {
          "output_type": "stream",
          "name": "stderr",
          "text": [
            "INFO:NEURONIOUtils:IMG node_gid\t  Hz\n"
          ]
        },
        {
          "output_type": "stream",
          "name": "stdout",
          "text": [
            "2024-03-23 00:23:23,553 [INFO] 90\t\t0.0\n"
          ]
        },
        {
          "output_type": "stream",
          "name": "stderr",
          "text": [
            "INFO:NEURONIOUtils:90\t\t0.0\n"
          ]
        },
        {
          "output_type": "stream",
          "name": "stdout",
          "text": [
            "2024-03-23 00:23:23,555 [INFO] 91\t\t1.0\n"
          ]
        },
        {
          "output_type": "stream",
          "name": "stderr",
          "text": [
            "INFO:NEURONIOUtils:91\t\t1.0\n"
          ]
        },
        {
          "output_type": "stream",
          "name": "stdout",
          "text": [
            "2024-03-23 00:23:23,557 [INFO] 92\t\t0.0\n"
          ]
        },
        {
          "output_type": "stream",
          "name": "stderr",
          "text": [
            "INFO:NEURONIOUtils:92\t\t0.0\n"
          ]
        },
        {
          "output_type": "stream",
          "name": "stdout",
          "text": [
            "2024-03-23 00:23:23,559 [INFO] 93\t\t1.0\n"
          ]
        },
        {
          "output_type": "stream",
          "name": "stderr",
          "text": [
            "INFO:NEURONIOUtils:93\t\t1.0\n"
          ]
        },
        {
          "output_type": "stream",
          "name": "stdout",
          "text": [
            "2024-03-23 00:23:23,561 [INFO] 94\t\t1.0\n"
          ]
        },
        {
          "output_type": "stream",
          "name": "stderr",
          "text": [
            "INFO:NEURONIOUtils:94\t\t1.0\n"
          ]
        },
        {
          "output_type": "stream",
          "name": "stdout",
          "text": [
            "2024-03-23 00:23:23,563 [INFO] 95\t\t0.0\n"
          ]
        },
        {
          "output_type": "stream",
          "name": "stderr",
          "text": [
            "INFO:NEURONIOUtils:95\t\t0.0\n"
          ]
        },
        {
          "output_type": "stream",
          "name": "stdout",
          "text": [
            "2024-03-23 00:23:23,565 [INFO] 96\t\t0.0\n"
          ]
        },
        {
          "output_type": "stream",
          "name": "stderr",
          "text": [
            "INFO:NEURONIOUtils:96\t\t0.0\n"
          ]
        },
        {
          "output_type": "stream",
          "name": "stdout",
          "text": [
            "2024-03-23 00:23:23,568 [INFO] 97\t\t1.0\n"
          ]
        },
        {
          "output_type": "stream",
          "name": "stderr",
          "text": [
            "INFO:NEURONIOUtils:97\t\t1.0\n"
          ]
        },
        {
          "output_type": "stream",
          "name": "stdout",
          "text": [
            "2024-03-23 00:23:23,569 [INFO] 98\t\t1.0\n"
          ]
        },
        {
          "output_type": "stream",
          "name": "stderr",
          "text": [
            "INFO:NEURONIOUtils:98\t\t1.0\n"
          ]
        },
        {
          "output_type": "stream",
          "name": "stdout",
          "text": [
            "2024-03-23 00:23:23,572 [INFO] 99\t\t1.0\n"
          ]
        },
        {
          "output_type": "stream",
          "name": "stderr",
          "text": [
            "INFO:NEURONIOUtils:99\t\t1.0\n"
          ]
        },
        {
          "output_type": "stream",
          "name": "stdout",
          "text": [
            "2024-03-23 00:23:23,574 [INFO] IMG firing rate avg: 1.0 Hz\n"
          ]
        },
        {
          "output_type": "stream",
          "name": "stderr",
          "text": [
            "INFO:NEURONIOUtils:IMG firing rate avg: 1.0 Hz\n"
          ]
        },
        {
          "output_type": "stream",
          "name": "stdout",
          "text": [
            "2024-03-23 00:23:23,581 [INFO] Volume = 1.3125 ml\n"
          ]
        },
        {
          "output_type": "stream",
          "name": "stderr",
          "text": [
            "/usr/local/lib/python3.10/dist-packages/bmtk/utils/reports/spike_trains/spike_trains.py:183: RuntimeWarning: divide by zero encountered in scalar divide\n",
            "  interval = -np.log(1.0 - np.random.uniform()) / fr\n",
            "INFO:NEURONIOUtils:Volume = 1.3125 ml\n"
          ]
        },
        {
          "output_type": "stream",
          "name": "stdout",
          "text": [
            "2024-03-23 00:23:23,587 [INFO] Pressure = 5.33 mmHg\n"
          ]
        },
        {
          "output_type": "stream",
          "name": "stderr",
          "text": [
            "INFO:NEURONIOUtils:Pressure = 5.33 mmHg\n"
          ]
        },
        {
          "output_type": "stream",
          "name": "stdout",
          "text": [
            "2024-03-23 00:23:23,589 [INFO] Calculated bladder afferent firing rate for the next time step = 0.00 Hz \n",
            " \n",
            "\n"
          ]
        },
        {
          "output_type": "stream",
          "name": "stderr",
          "text": [
            "INFO:NEURONIOUtils:Calculated bladder afferent firing rate for the next time step = 0.00 Hz \n",
            " \n",
            "\n"
          ]
        },
        {
          "output_type": "stream",
          "name": "stdout",
          "text": [
            "2024-03-23 00:23:26,695 [INFO]     step:235000 t_sim:47000.00 ms\n"
          ]
        },
        {
          "output_type": "stream",
          "name": "stderr",
          "text": [
            "INFO:NEURONIOUtils:    step:235000 t_sim:47000.00 ms\n"
          ]
        },
        {
          "output_type": "stream",
          "name": "stdout",
          "text": [
            "2024-03-23 00:23:26,707 [INFO] Timestep 46000.0 to 47000.0 ms\n"
          ]
        },
        {
          "output_type": "stream",
          "name": "stderr",
          "text": [
            "INFO:NEURONIOUtils:Timestep 46000.0 to 47000.0 ms\n"
          ]
        },
        {
          "output_type": "stream",
          "name": "stdout",
          "text": [
            "2024-03-23 00:23:26,711 [INFO] PGN node_id\t  Hz\n"
          ]
        },
        {
          "output_type": "stream",
          "name": "stderr",
          "text": [
            "INFO:NEURONIOUtils:PGN node_id\t  Hz\n"
          ]
        },
        {
          "output_type": "stream",
          "name": "stdout",
          "text": [
            "2024-03-23 00:23:26,715 [INFO] 70\t\t2.0\n"
          ]
        },
        {
          "output_type": "stream",
          "name": "stderr",
          "text": [
            "INFO:NEURONIOUtils:70\t\t2.0\n"
          ]
        },
        {
          "output_type": "stream",
          "name": "stdout",
          "text": [
            "2024-03-23 00:23:26,719 [INFO] 71\t\t2.0\n"
          ]
        },
        {
          "output_type": "stream",
          "name": "stderr",
          "text": [
            "INFO:NEURONIOUtils:71\t\t2.0\n"
          ]
        },
        {
          "output_type": "stream",
          "name": "stdout",
          "text": [
            "2024-03-23 00:23:26,721 [INFO] 72\t\t2.0\n"
          ]
        },
        {
          "output_type": "stream",
          "name": "stderr",
          "text": [
            "INFO:NEURONIOUtils:72\t\t2.0\n"
          ]
        },
        {
          "output_type": "stream",
          "name": "stdout",
          "text": [
            "2024-03-23 00:23:26,722 [INFO] 73\t\t2.0\n"
          ]
        },
        {
          "output_type": "stream",
          "name": "stderr",
          "text": [
            "INFO:NEURONIOUtils:73\t\t2.0\n"
          ]
        },
        {
          "output_type": "stream",
          "name": "stdout",
          "text": [
            "2024-03-23 00:23:26,724 [INFO] 74\t\t2.0\n"
          ]
        },
        {
          "output_type": "stream",
          "name": "stderr",
          "text": [
            "INFO:NEURONIOUtils:74\t\t2.0\n"
          ]
        },
        {
          "output_type": "stream",
          "name": "stdout",
          "text": [
            "2024-03-23 00:23:26,726 [INFO] 75\t\t2.0\n"
          ]
        },
        {
          "output_type": "stream",
          "name": "stderr",
          "text": [
            "INFO:NEURONIOUtils:75\t\t2.0\n"
          ]
        },
        {
          "output_type": "stream",
          "name": "stdout",
          "text": [
            "2024-03-23 00:23:26,728 [INFO] 76\t\t2.0\n"
          ]
        },
        {
          "output_type": "stream",
          "name": "stderr",
          "text": [
            "INFO:NEURONIOUtils:76\t\t2.0\n"
          ]
        },
        {
          "output_type": "stream",
          "name": "stdout",
          "text": [
            "2024-03-23 00:23:26,730 [INFO] 77\t\t2.0\n"
          ]
        },
        {
          "output_type": "stream",
          "name": "stderr",
          "text": [
            "INFO:NEURONIOUtils:77\t\t2.0\n"
          ]
        },
        {
          "output_type": "stream",
          "name": "stdout",
          "text": [
            "2024-03-23 00:23:26,732 [INFO] 78\t\t2.0\n"
          ]
        },
        {
          "output_type": "stream",
          "name": "stderr",
          "text": [
            "INFO:NEURONIOUtils:78\t\t2.0\n"
          ]
        },
        {
          "output_type": "stream",
          "name": "stdout",
          "text": [
            "2024-03-23 00:23:26,734 [INFO] 79\t\t2.0\n"
          ]
        },
        {
          "output_type": "stream",
          "name": "stderr",
          "text": [
            "INFO:NEURONIOUtils:79\t\t2.0\n"
          ]
        },
        {
          "output_type": "stream",
          "name": "stdout",
          "text": [
            "2024-03-23 00:23:26,738 [INFO] PGN firing rate avg: 2.0 Hz\n"
          ]
        },
        {
          "output_type": "stream",
          "name": "stderr",
          "text": [
            "INFO:NEURONIOUtils:PGN firing rate avg: 2.0 Hz\n"
          ]
        },
        {
          "output_type": "stream",
          "name": "stdout",
          "text": [
            "2024-03-23 00:23:26,740 [INFO] Grill PGN fr = 2.984 Hz\n"
          ]
        },
        {
          "output_type": "stream",
          "name": "stderr",
          "text": [
            "INFO:NEURONIOUtils:Grill PGN fr = 2.984 Hz\n"
          ]
        },
        {
          "output_type": "stream",
          "name": "stdout",
          "text": [
            "2024-03-23 00:23:26,742 [INFO] IMG node_gid\t  Hz\n"
          ]
        },
        {
          "output_type": "stream",
          "name": "stderr",
          "text": [
            "INFO:NEURONIOUtils:IMG node_gid\t  Hz\n"
          ]
        },
        {
          "output_type": "stream",
          "name": "stdout",
          "text": [
            "2024-03-23 00:23:26,744 [INFO] 90\t\t0.0\n"
          ]
        },
        {
          "output_type": "stream",
          "name": "stderr",
          "text": [
            "INFO:NEURONIOUtils:90\t\t0.0\n"
          ]
        },
        {
          "output_type": "stream",
          "name": "stdout",
          "text": [
            "2024-03-23 00:23:26,746 [INFO] 91\t\t1.0\n"
          ]
        },
        {
          "output_type": "stream",
          "name": "stderr",
          "text": [
            "INFO:NEURONIOUtils:91\t\t1.0\n"
          ]
        },
        {
          "output_type": "stream",
          "name": "stdout",
          "text": [
            "2024-03-23 00:23:26,748 [INFO] 92\t\t0.0\n"
          ]
        },
        {
          "output_type": "stream",
          "name": "stderr",
          "text": [
            "INFO:NEURONIOUtils:92\t\t0.0\n"
          ]
        },
        {
          "output_type": "stream",
          "name": "stdout",
          "text": [
            "2024-03-23 00:23:26,750 [INFO] 93\t\t1.0\n"
          ]
        },
        {
          "output_type": "stream",
          "name": "stderr",
          "text": [
            "INFO:NEURONIOUtils:93\t\t1.0\n"
          ]
        },
        {
          "output_type": "stream",
          "name": "stdout",
          "text": [
            "2024-03-23 00:23:26,752 [INFO] 94\t\t1.0\n"
          ]
        },
        {
          "output_type": "stream",
          "name": "stderr",
          "text": [
            "INFO:NEURONIOUtils:94\t\t1.0\n"
          ]
        },
        {
          "output_type": "stream",
          "name": "stdout",
          "text": [
            "2024-03-23 00:23:26,754 [INFO] 95\t\t0.0\n"
          ]
        },
        {
          "output_type": "stream",
          "name": "stderr",
          "text": [
            "INFO:NEURONIOUtils:95\t\t0.0\n"
          ]
        },
        {
          "output_type": "stream",
          "name": "stdout",
          "text": [
            "2024-03-23 00:23:26,756 [INFO] 96\t\t0.0\n"
          ]
        },
        {
          "output_type": "stream",
          "name": "stderr",
          "text": [
            "INFO:NEURONIOUtils:96\t\t0.0\n"
          ]
        },
        {
          "output_type": "stream",
          "name": "stdout",
          "text": [
            "2024-03-23 00:23:26,758 [INFO] 97\t\t1.0\n"
          ]
        },
        {
          "output_type": "stream",
          "name": "stderr",
          "text": [
            "INFO:NEURONIOUtils:97\t\t1.0\n"
          ]
        },
        {
          "output_type": "stream",
          "name": "stdout",
          "text": [
            "2024-03-23 00:23:26,760 [INFO] 98\t\t1.0\n"
          ]
        },
        {
          "output_type": "stream",
          "name": "stderr",
          "text": [
            "INFO:NEURONIOUtils:98\t\t1.0\n"
          ]
        },
        {
          "output_type": "stream",
          "name": "stdout",
          "text": [
            "2024-03-23 00:23:26,762 [INFO] 99\t\t1.0\n"
          ]
        },
        {
          "output_type": "stream",
          "name": "stderr",
          "text": [
            "INFO:NEURONIOUtils:99\t\t1.0\n"
          ]
        },
        {
          "output_type": "stream",
          "name": "stdout",
          "text": [
            "2024-03-23 00:23:26,764 [INFO] IMG firing rate avg: 2.0 Hz\n"
          ]
        },
        {
          "output_type": "stream",
          "name": "stderr",
          "text": [
            "INFO:NEURONIOUtils:IMG firing rate avg: 2.0 Hz\n"
          ]
        },
        {
          "output_type": "stream",
          "name": "stdout",
          "text": [
            "2024-03-23 00:23:26,771 [INFO] Volume = 1.3417 ml\n"
          ]
        },
        {
          "output_type": "stream",
          "name": "stderr",
          "text": [
            "/usr/local/lib/python3.10/dist-packages/bmtk/utils/reports/spike_trains/spike_trains.py:183: RuntimeWarning: divide by zero encountered in scalar divide\n",
            "  interval = -np.log(1.0 - np.random.uniform()) / fr\n",
            "INFO:NEURONIOUtils:Volume = 1.3417 ml\n"
          ]
        },
        {
          "output_type": "stream",
          "name": "stdout",
          "text": [
            "2024-03-23 00:23:26,774 [INFO] Pressure = 6.44 mmHg\n"
          ]
        },
        {
          "output_type": "stream",
          "name": "stderr",
          "text": [
            "INFO:NEURONIOUtils:Pressure = 6.44 mmHg\n"
          ]
        },
        {
          "output_type": "stream",
          "name": "stdout",
          "text": [
            "2024-03-23 00:23:26,776 [INFO] Calculated bladder afferent firing rate for the next time step = 0.00 Hz \n",
            " \n",
            "\n"
          ]
        },
        {
          "output_type": "stream",
          "name": "stderr",
          "text": [
            "INFO:NEURONIOUtils:Calculated bladder afferent firing rate for the next time step = 0.00 Hz \n",
            " \n",
            "\n"
          ]
        },
        {
          "output_type": "stream",
          "name": "stdout",
          "text": [
            "2024-03-23 00:23:29,862 [INFO]     step:240000 t_sim:48000.00 ms\n"
          ]
        },
        {
          "output_type": "stream",
          "name": "stderr",
          "text": [
            "INFO:NEURONIOUtils:    step:240000 t_sim:48000.00 ms\n"
          ]
        },
        {
          "output_type": "stream",
          "name": "stdout",
          "text": [
            "2024-03-23 00:23:29,880 [INFO] Timestep 47000.0 to 48000.0 ms\n"
          ]
        },
        {
          "output_type": "stream",
          "name": "stderr",
          "text": [
            "INFO:NEURONIOUtils:Timestep 47000.0 to 48000.0 ms\n"
          ]
        },
        {
          "output_type": "stream",
          "name": "stdout",
          "text": [
            "2024-03-23 00:23:29,886 [INFO] PGN node_id\t  Hz\n"
          ]
        },
        {
          "output_type": "stream",
          "name": "stderr",
          "text": [
            "INFO:NEURONIOUtils:PGN node_id\t  Hz\n"
          ]
        },
        {
          "output_type": "stream",
          "name": "stdout",
          "text": [
            "2024-03-23 00:23:29,891 [INFO] 70\t\t4.0\n"
          ]
        },
        {
          "output_type": "stream",
          "name": "stderr",
          "text": [
            "INFO:NEURONIOUtils:70\t\t4.0\n"
          ]
        },
        {
          "output_type": "stream",
          "name": "stdout",
          "text": [
            "2024-03-23 00:23:29,899 [INFO] 71\t\t4.0\n"
          ]
        },
        {
          "output_type": "stream",
          "name": "stderr",
          "text": [
            "INFO:NEURONIOUtils:71\t\t4.0\n"
          ]
        },
        {
          "output_type": "stream",
          "name": "stdout",
          "text": [
            "2024-03-23 00:23:29,903 [INFO] 72\t\t4.0\n"
          ]
        },
        {
          "output_type": "stream",
          "name": "stderr",
          "text": [
            "INFO:NEURONIOUtils:72\t\t4.0\n"
          ]
        },
        {
          "output_type": "stream",
          "name": "stdout",
          "text": [
            "2024-03-23 00:23:29,907 [INFO] 73\t\t4.0\n"
          ]
        },
        {
          "output_type": "stream",
          "name": "stderr",
          "text": [
            "INFO:NEURONIOUtils:73\t\t4.0\n"
          ]
        },
        {
          "output_type": "stream",
          "name": "stdout",
          "text": [
            "2024-03-23 00:23:29,913 [INFO] 74\t\t4.0\n"
          ]
        },
        {
          "output_type": "stream",
          "name": "stderr",
          "text": [
            "INFO:NEURONIOUtils:74\t\t4.0\n"
          ]
        },
        {
          "output_type": "stream",
          "name": "stdout",
          "text": [
            "2024-03-23 00:23:29,918 [INFO] 75\t\t4.0\n"
          ]
        },
        {
          "output_type": "stream",
          "name": "stderr",
          "text": [
            "INFO:NEURONIOUtils:75\t\t4.0\n"
          ]
        },
        {
          "output_type": "stream",
          "name": "stdout",
          "text": [
            "2024-03-23 00:23:29,933 [INFO] 76\t\t4.0\n"
          ]
        },
        {
          "output_type": "stream",
          "name": "stderr",
          "text": [
            "INFO:NEURONIOUtils:76\t\t4.0\n"
          ]
        },
        {
          "output_type": "stream",
          "name": "stdout",
          "text": [
            "2024-03-23 00:23:29,942 [INFO] 77\t\t4.0\n"
          ]
        },
        {
          "output_type": "stream",
          "name": "stderr",
          "text": [
            "INFO:NEURONIOUtils:77\t\t4.0\n"
          ]
        },
        {
          "output_type": "stream",
          "name": "stdout",
          "text": [
            "2024-03-23 00:23:29,946 [INFO] 78\t\t4.0\n"
          ]
        },
        {
          "output_type": "stream",
          "name": "stderr",
          "text": [
            "INFO:NEURONIOUtils:78\t\t4.0\n"
          ]
        },
        {
          "output_type": "stream",
          "name": "stdout",
          "text": [
            "2024-03-23 00:23:29,949 [INFO] 79\t\t4.0\n"
          ]
        },
        {
          "output_type": "stream",
          "name": "stderr",
          "text": [
            "INFO:NEURONIOUtils:79\t\t4.0\n"
          ]
        },
        {
          "output_type": "stream",
          "name": "stdout",
          "text": [
            "2024-03-23 00:23:29,957 [INFO] PGN firing rate avg: 4.0 Hz\n"
          ]
        },
        {
          "output_type": "stream",
          "name": "stderr",
          "text": [
            "INFO:NEURONIOUtils:PGN firing rate avg: 4.0 Hz\n"
          ]
        },
        {
          "output_type": "stream",
          "name": "stdout",
          "text": [
            "2024-03-23 00:23:29,959 [INFO] Grill PGN fr = 6.3 Hz\n"
          ]
        },
        {
          "output_type": "stream",
          "name": "stderr",
          "text": [
            "INFO:NEURONIOUtils:Grill PGN fr = 6.3 Hz\n"
          ]
        },
        {
          "output_type": "stream",
          "name": "stdout",
          "text": [
            "2024-03-23 00:23:29,964 [INFO] IMG node_gid\t  Hz\n"
          ]
        },
        {
          "output_type": "stream",
          "name": "stderr",
          "text": [
            "INFO:NEURONIOUtils:IMG node_gid\t  Hz\n"
          ]
        },
        {
          "output_type": "stream",
          "name": "stdout",
          "text": [
            "2024-03-23 00:23:29,967 [INFO] 90\t\t0.0\n"
          ]
        },
        {
          "output_type": "stream",
          "name": "stderr",
          "text": [
            "INFO:NEURONIOUtils:90\t\t0.0\n"
          ]
        },
        {
          "output_type": "stream",
          "name": "stdout",
          "text": [
            "2024-03-23 00:23:29,971 [INFO] 91\t\t1.0\n"
          ]
        },
        {
          "output_type": "stream",
          "name": "stderr",
          "text": [
            "INFO:NEURONIOUtils:91\t\t1.0\n"
          ]
        },
        {
          "output_type": "stream",
          "name": "stdout",
          "text": [
            "2024-03-23 00:23:29,982 [INFO] 92\t\t0.0\n"
          ]
        },
        {
          "output_type": "stream",
          "name": "stderr",
          "text": [
            "INFO:NEURONIOUtils:92\t\t0.0\n"
          ]
        },
        {
          "output_type": "stream",
          "name": "stdout",
          "text": [
            "2024-03-23 00:23:29,985 [INFO] 93\t\t1.0\n"
          ]
        },
        {
          "output_type": "stream",
          "name": "stderr",
          "text": [
            "INFO:NEURONIOUtils:93\t\t1.0\n"
          ]
        },
        {
          "output_type": "stream",
          "name": "stdout",
          "text": [
            "2024-03-23 00:23:29,990 [INFO] 94\t\t1.0\n"
          ]
        },
        {
          "output_type": "stream",
          "name": "stderr",
          "text": [
            "INFO:NEURONIOUtils:94\t\t1.0\n"
          ]
        },
        {
          "output_type": "stream",
          "name": "stdout",
          "text": [
            "2024-03-23 00:23:29,992 [INFO] 95\t\t0.0\n"
          ]
        },
        {
          "output_type": "stream",
          "name": "stderr",
          "text": [
            "INFO:NEURONIOUtils:95\t\t0.0\n"
          ]
        },
        {
          "output_type": "stream",
          "name": "stdout",
          "text": [
            "2024-03-23 00:23:29,994 [INFO] 96\t\t0.0\n"
          ]
        },
        {
          "output_type": "stream",
          "name": "stderr",
          "text": [
            "INFO:NEURONIOUtils:96\t\t0.0\n"
          ]
        },
        {
          "output_type": "stream",
          "name": "stdout",
          "text": [
            "2024-03-23 00:23:29,996 [INFO] 97\t\t1.0\n"
          ]
        },
        {
          "output_type": "stream",
          "name": "stderr",
          "text": [
            "INFO:NEURONIOUtils:97\t\t1.0\n"
          ]
        },
        {
          "output_type": "stream",
          "name": "stdout",
          "text": [
            "2024-03-23 00:23:30,002 [INFO] 98\t\t1.0\n"
          ]
        },
        {
          "output_type": "stream",
          "name": "stderr",
          "text": [
            "INFO:NEURONIOUtils:98\t\t1.0\n"
          ]
        },
        {
          "output_type": "stream",
          "name": "stdout",
          "text": [
            "2024-03-23 00:23:30,004 [INFO] 99\t\t1.0\n"
          ]
        },
        {
          "output_type": "stream",
          "name": "stderr",
          "text": [
            "INFO:NEURONIOUtils:99\t\t1.0\n"
          ]
        },
        {
          "output_type": "stream",
          "name": "stdout",
          "text": [
            "2024-03-23 00:23:30,006 [INFO] IMG firing rate avg: 4.0 Hz\n"
          ]
        },
        {
          "output_type": "stream",
          "name": "stderr",
          "text": [
            "INFO:NEURONIOUtils:IMG firing rate avg: 4.0 Hz\n"
          ]
        },
        {
          "output_type": "stream",
          "name": "stdout",
          "text": [
            "2024-03-23 00:23:30,019 [INFO] Volume = 1.3708 ml\n"
          ]
        },
        {
          "output_type": "stream",
          "name": "stderr",
          "text": [
            "INFO:NEURONIOUtils:Volume = 1.3708 ml\n"
          ]
        },
        {
          "output_type": "stream",
          "name": "stdout",
          "text": [
            "2024-03-23 00:23:30,026 [INFO] Pressure = 8.37 mmHg\n"
          ]
        },
        {
          "output_type": "stream",
          "name": "stderr",
          "text": [
            "INFO:NEURONIOUtils:Pressure = 8.37 mmHg\n"
          ]
        },
        {
          "output_type": "stream",
          "name": "stdout",
          "text": [
            "2024-03-23 00:23:30,028 [INFO] Calculated bladder afferent firing rate for the next time step = 1.36 Hz \n",
            " \n",
            "\n"
          ]
        },
        {
          "output_type": "stream",
          "name": "stderr",
          "text": [
            "INFO:NEURONIOUtils:Calculated bladder afferent firing rate for the next time step = 1.36 Hz \n",
            " \n",
            "\n"
          ]
        },
        {
          "output_type": "stream",
          "name": "stdout",
          "text": [
            "2024-03-23 00:23:33,007 [INFO]     step:245000 t_sim:49000.00 ms\n"
          ]
        },
        {
          "output_type": "stream",
          "name": "stderr",
          "text": [
            "INFO:NEURONIOUtils:    step:245000 t_sim:49000.00 ms\n"
          ]
        },
        {
          "output_type": "stream",
          "name": "stdout",
          "text": [
            "2024-03-23 00:23:33,023 [INFO] Timestep 48000.0 to 49000.0 ms\n"
          ]
        },
        {
          "output_type": "stream",
          "name": "stderr",
          "text": [
            "INFO:NEURONIOUtils:Timestep 48000.0 to 49000.0 ms\n"
          ]
        },
        {
          "output_type": "stream",
          "name": "stdout",
          "text": [
            "2024-03-23 00:23:33,028 [INFO] PGN node_id\t  Hz\n"
          ]
        },
        {
          "output_type": "stream",
          "name": "stderr",
          "text": [
            "INFO:NEURONIOUtils:PGN node_id\t  Hz\n"
          ]
        },
        {
          "output_type": "stream",
          "name": "stdout",
          "text": [
            "2024-03-23 00:23:33,032 [INFO] 70\t\t9.0\n"
          ]
        },
        {
          "output_type": "stream",
          "name": "stderr",
          "text": [
            "INFO:NEURONIOUtils:70\t\t9.0\n"
          ]
        },
        {
          "output_type": "stream",
          "name": "stdout",
          "text": [
            "2024-03-23 00:23:33,034 [INFO] 71\t\t9.0\n"
          ]
        },
        {
          "output_type": "stream",
          "name": "stderr",
          "text": [
            "INFO:NEURONIOUtils:71\t\t9.0\n"
          ]
        },
        {
          "output_type": "stream",
          "name": "stdout",
          "text": [
            "2024-03-23 00:23:33,037 [INFO] 72\t\t9.0\n"
          ]
        },
        {
          "output_type": "stream",
          "name": "stderr",
          "text": [
            "INFO:NEURONIOUtils:72\t\t9.0\n"
          ]
        },
        {
          "output_type": "stream",
          "name": "stdout",
          "text": [
            "2024-03-23 00:23:33,039 [INFO] 73\t\t9.0\n"
          ]
        },
        {
          "output_type": "stream",
          "name": "stderr",
          "text": [
            "INFO:NEURONIOUtils:73\t\t9.0\n"
          ]
        },
        {
          "output_type": "stream",
          "name": "stdout",
          "text": [
            "2024-03-23 00:23:33,041 [INFO] 74\t\t9.0\n"
          ]
        },
        {
          "output_type": "stream",
          "name": "stderr",
          "text": [
            "INFO:NEURONIOUtils:74\t\t9.0\n"
          ]
        },
        {
          "output_type": "stream",
          "name": "stdout",
          "text": [
            "2024-03-23 00:23:33,043 [INFO] 75\t\t9.0\n"
          ]
        },
        {
          "output_type": "stream",
          "name": "stderr",
          "text": [
            "INFO:NEURONIOUtils:75\t\t9.0\n"
          ]
        },
        {
          "output_type": "stream",
          "name": "stdout",
          "text": [
            "2024-03-23 00:23:33,045 [INFO] 76\t\t9.0\n"
          ]
        },
        {
          "output_type": "stream",
          "name": "stderr",
          "text": [
            "INFO:NEURONIOUtils:76\t\t9.0\n"
          ]
        },
        {
          "output_type": "stream",
          "name": "stdout",
          "text": [
            "2024-03-23 00:23:33,047 [INFO] 77\t\t9.0\n"
          ]
        },
        {
          "output_type": "stream",
          "name": "stderr",
          "text": [
            "INFO:NEURONIOUtils:77\t\t9.0\n"
          ]
        },
        {
          "output_type": "stream",
          "name": "stdout",
          "text": [
            "2024-03-23 00:23:33,050 [INFO] 78\t\t9.0\n"
          ]
        },
        {
          "output_type": "stream",
          "name": "stderr",
          "text": [
            "INFO:NEURONIOUtils:78\t\t9.0\n"
          ]
        },
        {
          "output_type": "stream",
          "name": "stdout",
          "text": [
            "2024-03-23 00:23:33,053 [INFO] 79\t\t9.0\n"
          ]
        },
        {
          "output_type": "stream",
          "name": "stderr",
          "text": [
            "INFO:NEURONIOUtils:79\t\t9.0\n"
          ]
        },
        {
          "output_type": "stream",
          "name": "stdout",
          "text": [
            "2024-03-23 00:23:33,056 [INFO] PGN firing rate avg: 9.0 Hz\n"
          ]
        },
        {
          "output_type": "stream",
          "name": "stderr",
          "text": [
            "INFO:NEURONIOUtils:PGN firing rate avg: 9.0 Hz\n"
          ]
        },
        {
          "output_type": "stream",
          "name": "stdout",
          "text": [
            "2024-03-23 00:23:33,058 [INFO] Grill PGN fr = 14.485 Hz\n"
          ]
        },
        {
          "output_type": "stream",
          "name": "stderr",
          "text": [
            "INFO:NEURONIOUtils:Grill PGN fr = 14.485 Hz\n"
          ]
        },
        {
          "output_type": "stream",
          "name": "stdout",
          "text": [
            "2024-03-23 00:23:33,060 [INFO] IMG node_gid\t  Hz\n"
          ]
        },
        {
          "output_type": "stream",
          "name": "stderr",
          "text": [
            "INFO:NEURONIOUtils:IMG node_gid\t  Hz\n"
          ]
        },
        {
          "output_type": "stream",
          "name": "stdout",
          "text": [
            "2024-03-23 00:23:33,062 [INFO] 90\t\t0.0\n"
          ]
        },
        {
          "output_type": "stream",
          "name": "stderr",
          "text": [
            "INFO:NEURONIOUtils:90\t\t0.0\n"
          ]
        },
        {
          "output_type": "stream",
          "name": "stdout",
          "text": [
            "2024-03-23 00:23:33,065 [INFO] 91\t\t1.0\n"
          ]
        },
        {
          "output_type": "stream",
          "name": "stderr",
          "text": [
            "INFO:NEURONIOUtils:91\t\t1.0\n"
          ]
        },
        {
          "output_type": "stream",
          "name": "stdout",
          "text": [
            "2024-03-23 00:23:33,067 [INFO] 92\t\t0.0\n"
          ]
        },
        {
          "output_type": "stream",
          "name": "stderr",
          "text": [
            "INFO:NEURONIOUtils:92\t\t0.0\n"
          ]
        },
        {
          "output_type": "stream",
          "name": "stdout",
          "text": [
            "2024-03-23 00:23:33,069 [INFO] 93\t\t4.0\n"
          ]
        },
        {
          "output_type": "stream",
          "name": "stderr",
          "text": [
            "INFO:NEURONIOUtils:93\t\t4.0\n"
          ]
        },
        {
          "output_type": "stream",
          "name": "stdout",
          "text": [
            "2024-03-23 00:23:33,072 [INFO] 94\t\t1.0\n"
          ]
        },
        {
          "output_type": "stream",
          "name": "stderr",
          "text": [
            "INFO:NEURONIOUtils:94\t\t1.0\n"
          ]
        },
        {
          "output_type": "stream",
          "name": "stdout",
          "text": [
            "2024-03-23 00:23:33,074 [INFO] 95\t\t0.0\n"
          ]
        },
        {
          "output_type": "stream",
          "name": "stderr",
          "text": [
            "INFO:NEURONIOUtils:95\t\t0.0\n"
          ]
        },
        {
          "output_type": "stream",
          "name": "stdout",
          "text": [
            "2024-03-23 00:23:33,076 [INFO] 96\t\t0.0\n"
          ]
        },
        {
          "output_type": "stream",
          "name": "stderr",
          "text": [
            "INFO:NEURONIOUtils:96\t\t0.0\n"
          ]
        },
        {
          "output_type": "stream",
          "name": "stdout",
          "text": [
            "2024-03-23 00:23:33,078 [INFO] 97\t\t2.0\n"
          ]
        },
        {
          "output_type": "stream",
          "name": "stderr",
          "text": [
            "INFO:NEURONIOUtils:97\t\t2.0\n"
          ]
        },
        {
          "output_type": "stream",
          "name": "stdout",
          "text": [
            "2024-03-23 00:23:33,082 [INFO] 98\t\t2.0\n"
          ]
        },
        {
          "output_type": "stream",
          "name": "stderr",
          "text": [
            "INFO:NEURONIOUtils:98\t\t2.0\n"
          ]
        },
        {
          "output_type": "stream",
          "name": "stdout",
          "text": [
            "2024-03-23 00:23:33,084 [INFO] 99\t\t4.0\n"
          ]
        },
        {
          "output_type": "stream",
          "name": "stderr",
          "text": [
            "INFO:NEURONIOUtils:99\t\t4.0\n"
          ]
        },
        {
          "output_type": "stream",
          "name": "stdout",
          "text": [
            "2024-03-23 00:23:33,086 [INFO] IMG firing rate avg: 9.0 Hz\n"
          ]
        },
        {
          "output_type": "stream",
          "name": "stderr",
          "text": [
            "INFO:NEURONIOUtils:IMG firing rate avg: 9.0 Hz\n"
          ]
        },
        {
          "output_type": "stream",
          "name": "stdout",
          "text": [
            "2024-03-23 00:23:33,102 [INFO] Volume = 1.4000 ml\n"
          ]
        },
        {
          "output_type": "stream",
          "name": "stderr",
          "text": [
            "INFO:NEURONIOUtils:Volume = 1.4000 ml\n"
          ]
        },
        {
          "output_type": "stream",
          "name": "stdout",
          "text": [
            "2024-03-23 00:23:33,105 [INFO] Pressure = 12.40 mmHg\n"
          ]
        },
        {
          "output_type": "stream",
          "name": "stderr",
          "text": [
            "INFO:NEURONIOUtils:Pressure = 12.40 mmHg\n"
          ]
        },
        {
          "output_type": "stream",
          "name": "stdout",
          "text": [
            "2024-03-23 00:23:33,108 [INFO] Calculated bladder afferent firing rate for the next time step = 5.92 Hz \n",
            " \n",
            "\n"
          ]
        },
        {
          "output_type": "stream",
          "name": "stderr",
          "text": [
            "INFO:NEURONIOUtils:Calculated bladder afferent firing rate for the next time step = 5.92 Hz \n",
            " \n",
            "\n"
          ]
        },
        {
          "output_type": "stream",
          "name": "stdout",
          "text": [
            "2024-03-23 00:23:35,768 [INFO]     step:250000 t_sim:50000.00 ms\n"
          ]
        },
        {
          "output_type": "stream",
          "name": "stderr",
          "text": [
            "INFO:NEURONIOUtils:    step:250000 t_sim:50000.00 ms\n"
          ]
        },
        {
          "output_type": "stream",
          "name": "stdout",
          "text": [
            "2024-03-23 00:23:35,783 [INFO] Timestep 49000.0 to 50000.0 ms\n"
          ]
        },
        {
          "output_type": "stream",
          "name": "stderr",
          "text": [
            "INFO:NEURONIOUtils:Timestep 49000.0 to 50000.0 ms\n"
          ]
        },
        {
          "output_type": "stream",
          "name": "stdout",
          "text": [
            "2024-03-23 00:23:35,788 [INFO] PGN node_id\t  Hz\n"
          ]
        },
        {
          "output_type": "stream",
          "name": "stderr",
          "text": [
            "INFO:NEURONIOUtils:PGN node_id\t  Hz\n"
          ]
        },
        {
          "output_type": "stream",
          "name": "stdout",
          "text": [
            "2024-03-23 00:23:35,792 [INFO] 70\t\t17.0\n"
          ]
        },
        {
          "output_type": "stream",
          "name": "stderr",
          "text": [
            "INFO:NEURONIOUtils:70\t\t17.0\n"
          ]
        },
        {
          "output_type": "stream",
          "name": "stdout",
          "text": [
            "2024-03-23 00:23:35,794 [INFO] 71\t\t17.0\n"
          ]
        },
        {
          "output_type": "stream",
          "name": "stderr",
          "text": [
            "INFO:NEURONIOUtils:71\t\t17.0\n"
          ]
        },
        {
          "output_type": "stream",
          "name": "stdout",
          "text": [
            "2024-03-23 00:23:35,796 [INFO] 72\t\t17.0\n"
          ]
        },
        {
          "output_type": "stream",
          "name": "stderr",
          "text": [
            "INFO:NEURONIOUtils:72\t\t17.0\n"
          ]
        },
        {
          "output_type": "stream",
          "name": "stdout",
          "text": [
            "2024-03-23 00:23:35,803 [INFO] 73\t\t17.0\n"
          ]
        },
        {
          "output_type": "stream",
          "name": "stderr",
          "text": [
            "INFO:NEURONIOUtils:73\t\t17.0\n"
          ]
        },
        {
          "output_type": "stream",
          "name": "stdout",
          "text": [
            "2024-03-23 00:23:35,805 [INFO] 74\t\t17.0\n"
          ]
        },
        {
          "output_type": "stream",
          "name": "stderr",
          "text": [
            "INFO:NEURONIOUtils:74\t\t17.0\n"
          ]
        },
        {
          "output_type": "stream",
          "name": "stdout",
          "text": [
            "2024-03-23 00:23:35,807 [INFO] 75\t\t17.0\n"
          ]
        },
        {
          "output_type": "stream",
          "name": "stderr",
          "text": [
            "INFO:NEURONIOUtils:75\t\t17.0\n"
          ]
        },
        {
          "output_type": "stream",
          "name": "stdout",
          "text": [
            "2024-03-23 00:23:35,813 [INFO] 76\t\t17.0\n"
          ]
        },
        {
          "output_type": "stream",
          "name": "stderr",
          "text": [
            "INFO:NEURONIOUtils:76\t\t17.0\n"
          ]
        },
        {
          "output_type": "stream",
          "name": "stdout",
          "text": [
            "2024-03-23 00:23:35,815 [INFO] 77\t\t17.0\n"
          ]
        },
        {
          "output_type": "stream",
          "name": "stderr",
          "text": [
            "INFO:NEURONIOUtils:77\t\t17.0\n"
          ]
        },
        {
          "output_type": "stream",
          "name": "stdout",
          "text": [
            "2024-03-23 00:23:35,817 [INFO] 78\t\t17.0\n"
          ]
        },
        {
          "output_type": "stream",
          "name": "stderr",
          "text": [
            "INFO:NEURONIOUtils:78\t\t17.0\n"
          ]
        },
        {
          "output_type": "stream",
          "name": "stdout",
          "text": [
            "2024-03-23 00:23:35,819 [INFO] 79\t\t17.0\n"
          ]
        },
        {
          "output_type": "stream",
          "name": "stderr",
          "text": [
            "INFO:NEURONIOUtils:79\t\t17.0\n"
          ]
        },
        {
          "output_type": "stream",
          "name": "stdout",
          "text": [
            "2024-03-23 00:23:35,824 [INFO] PGN firing rate avg: 17.0 Hz\n"
          ]
        },
        {
          "output_type": "stream",
          "name": "stderr",
          "text": [
            "INFO:NEURONIOUtils:PGN firing rate avg: 17.0 Hz\n"
          ]
        },
        {
          "output_type": "stream",
          "name": "stdout",
          "text": [
            "2024-03-23 00:23:35,826 [INFO] Grill PGN fr = 30.389000000000003 Hz\n"
          ]
        },
        {
          "output_type": "stream",
          "name": "stderr",
          "text": [
            "INFO:NEURONIOUtils:Grill PGN fr = 30.389000000000003 Hz\n"
          ]
        },
        {
          "output_type": "stream",
          "name": "stdout",
          "text": [
            "2024-03-23 00:23:35,828 [INFO] IMG node_gid\t  Hz\n"
          ]
        },
        {
          "output_type": "stream",
          "name": "stderr",
          "text": [
            "INFO:NEURONIOUtils:IMG node_gid\t  Hz\n"
          ]
        },
        {
          "output_type": "stream",
          "name": "stdout",
          "text": [
            "2024-03-23 00:23:35,833 [INFO] 90\t\t0.0\n"
          ]
        },
        {
          "output_type": "stream",
          "name": "stderr",
          "text": [
            "INFO:NEURONIOUtils:90\t\t0.0\n"
          ]
        },
        {
          "output_type": "stream",
          "name": "stdout",
          "text": [
            "2024-03-23 00:23:35,835 [INFO] 91\t\t7.0\n"
          ]
        },
        {
          "output_type": "stream",
          "name": "stderr",
          "text": [
            "INFO:NEURONIOUtils:91\t\t7.0\n"
          ]
        },
        {
          "output_type": "stream",
          "name": "stdout",
          "text": [
            "2024-03-23 00:23:35,837 [INFO] 92\t\t0.0\n"
          ]
        },
        {
          "output_type": "stream",
          "name": "stderr",
          "text": [
            "INFO:NEURONIOUtils:92\t\t0.0\n"
          ]
        },
        {
          "output_type": "stream",
          "name": "stdout",
          "text": [
            "2024-03-23 00:23:35,839 [INFO] 93\t\t10.0\n"
          ]
        },
        {
          "output_type": "stream",
          "name": "stderr",
          "text": [
            "INFO:NEURONIOUtils:93\t\t10.0\n"
          ]
        },
        {
          "output_type": "stream",
          "name": "stdout",
          "text": [
            "2024-03-23 00:23:35,841 [INFO] 94\t\t7.0\n"
          ]
        },
        {
          "output_type": "stream",
          "name": "stderr",
          "text": [
            "INFO:NEURONIOUtils:94\t\t7.0\n"
          ]
        },
        {
          "output_type": "stream",
          "name": "stdout",
          "text": [
            "2024-03-23 00:23:35,846 [INFO] 95\t\t0.0\n"
          ]
        },
        {
          "output_type": "stream",
          "name": "stderr",
          "text": [
            "INFO:NEURONIOUtils:95\t\t0.0\n"
          ]
        },
        {
          "output_type": "stream",
          "name": "stdout",
          "text": [
            "2024-03-23 00:23:35,848 [INFO] 96\t\t0.0\n"
          ]
        },
        {
          "output_type": "stream",
          "name": "stderr",
          "text": [
            "INFO:NEURONIOUtils:96\t\t0.0\n"
          ]
        },
        {
          "output_type": "stream",
          "name": "stdout",
          "text": [
            "2024-03-23 00:23:35,850 [INFO] 97\t\t5.0\n"
          ]
        },
        {
          "output_type": "stream",
          "name": "stderr",
          "text": [
            "INFO:NEURONIOUtils:97\t\t5.0\n"
          ]
        },
        {
          "output_type": "stream",
          "name": "stdout",
          "text": [
            "2024-03-23 00:23:35,852 [INFO] 98\t\t9.0\n"
          ]
        },
        {
          "output_type": "stream",
          "name": "stderr",
          "text": [
            "INFO:NEURONIOUtils:98\t\t9.0\n"
          ]
        },
        {
          "output_type": "stream",
          "name": "stdout",
          "text": [
            "2024-03-23 00:23:35,854 [INFO] 99\t\t10.0\n"
          ]
        },
        {
          "output_type": "stream",
          "name": "stderr",
          "text": [
            "INFO:NEURONIOUtils:99\t\t10.0\n"
          ]
        },
        {
          "output_type": "stream",
          "name": "stdout",
          "text": [
            "2024-03-23 00:23:35,859 [INFO] IMG firing rate avg: 17.0 Hz\n"
          ]
        },
        {
          "output_type": "stream",
          "name": "stderr",
          "text": [
            "INFO:NEURONIOUtils:IMG firing rate avg: 17.0 Hz\n"
          ]
        },
        {
          "output_type": "stream",
          "name": "stdout",
          "text": [
            "2024-03-23 00:23:35,874 [INFO] !!!PAG FIRING ACTIVATED!!!\n"
          ]
        },
        {
          "output_type": "stream",
          "name": "stderr",
          "text": [
            "INFO:NEURONIOUtils:!!!PAG FIRING ACTIVATED!!!\n"
          ]
        },
        {
          "output_type": "stream",
          "name": "stdout",
          "text": [
            "2024-03-23 00:23:35,891 [INFO] Volume = 1.4292 ml\n"
          ]
        },
        {
          "output_type": "stream",
          "name": "stderr",
          "text": [
            "INFO:NEURONIOUtils:Volume = 1.4292 ml\n"
          ]
        },
        {
          "output_type": "stream",
          "name": "stdout",
          "text": [
            "2024-03-23 00:23:35,894 [INFO] Pressure = 19.06 mmHg\n"
          ]
        },
        {
          "output_type": "stream",
          "name": "stderr",
          "text": [
            "INFO:NEURONIOUtils:Pressure = 19.06 mmHg\n"
          ]
        },
        {
          "output_type": "stream",
          "name": "stdout",
          "text": [
            "2024-03-23 00:23:35,898 [INFO] Calculated bladder afferent firing rate for the next time step = 15.56 Hz \n",
            " \n",
            "\n"
          ]
        },
        {
          "output_type": "stream",
          "name": "stderr",
          "text": [
            "INFO:NEURONIOUtils:Calculated bladder afferent firing rate for the next time step = 15.56 Hz \n",
            " \n",
            "\n"
          ]
        },
        {
          "output_type": "stream",
          "name": "stdout",
          "text": [
            "2024-03-23 00:23:39,060 [INFO]     step:255000 t_sim:51000.00 ms\n"
          ]
        },
        {
          "output_type": "stream",
          "name": "stderr",
          "text": [
            "INFO:NEURONIOUtils:    step:255000 t_sim:51000.00 ms\n"
          ]
        },
        {
          "output_type": "stream",
          "name": "stdout",
          "text": [
            "2024-03-23 00:23:39,085 [INFO] Timestep 50000.0 to 51000.0 ms\n"
          ]
        },
        {
          "output_type": "stream",
          "name": "stderr",
          "text": [
            "INFO:NEURONIOUtils:Timestep 50000.0 to 51000.0 ms\n"
          ]
        },
        {
          "output_type": "stream",
          "name": "stdout",
          "text": [
            "2024-03-23 00:23:39,094 [INFO] PGN node_id\t  Hz\n"
          ]
        },
        {
          "output_type": "stream",
          "name": "stderr",
          "text": [
            "INFO:NEURONIOUtils:PGN node_id\t  Hz\n"
          ]
        },
        {
          "output_type": "stream",
          "name": "stdout",
          "text": [
            "2024-03-23 00:23:39,100 [INFO] 70\t\t33.0\n"
          ]
        },
        {
          "output_type": "stream",
          "name": "stderr",
          "text": [
            "INFO:NEURONIOUtils:70\t\t33.0\n"
          ]
        },
        {
          "output_type": "stream",
          "name": "stdout",
          "text": [
            "2024-03-23 00:23:39,103 [INFO] 71\t\t33.0\n"
          ]
        },
        {
          "output_type": "stream",
          "name": "stderr",
          "text": [
            "INFO:NEURONIOUtils:71\t\t33.0\n"
          ]
        },
        {
          "output_type": "stream",
          "name": "stdout",
          "text": [
            "2024-03-23 00:23:39,105 [INFO] 72\t\t33.0\n"
          ]
        },
        {
          "output_type": "stream",
          "name": "stderr",
          "text": [
            "INFO:NEURONIOUtils:72\t\t33.0\n"
          ]
        },
        {
          "output_type": "stream",
          "name": "stdout",
          "text": [
            "2024-03-23 00:23:39,110 [INFO] 73\t\t33.0\n"
          ]
        },
        {
          "output_type": "stream",
          "name": "stderr",
          "text": [
            "INFO:NEURONIOUtils:73\t\t33.0\n"
          ]
        },
        {
          "output_type": "stream",
          "name": "stdout",
          "text": [
            "2024-03-23 00:23:39,112 [INFO] 74\t\t33.0\n"
          ]
        },
        {
          "output_type": "stream",
          "name": "stderr",
          "text": [
            "INFO:NEURONIOUtils:74\t\t33.0\n"
          ]
        },
        {
          "output_type": "stream",
          "name": "stdout",
          "text": [
            "2024-03-23 00:23:39,114 [INFO] 75\t\t33.0\n"
          ]
        },
        {
          "output_type": "stream",
          "name": "stderr",
          "text": [
            "INFO:NEURONIOUtils:75\t\t33.0\n"
          ]
        },
        {
          "output_type": "stream",
          "name": "stdout",
          "text": [
            "2024-03-23 00:23:39,119 [INFO] 76\t\t33.0\n"
          ]
        },
        {
          "output_type": "stream",
          "name": "stderr",
          "text": [
            "INFO:NEURONIOUtils:76\t\t33.0\n"
          ]
        },
        {
          "output_type": "stream",
          "name": "stdout",
          "text": [
            "2024-03-23 00:23:39,121 [INFO] 77\t\t33.0\n"
          ]
        },
        {
          "output_type": "stream",
          "name": "stderr",
          "text": [
            "INFO:NEURONIOUtils:77\t\t33.0\n"
          ]
        },
        {
          "output_type": "stream",
          "name": "stdout",
          "text": [
            "2024-03-23 00:23:39,123 [INFO] 78\t\t33.0\n"
          ]
        },
        {
          "output_type": "stream",
          "name": "stderr",
          "text": [
            "INFO:NEURONIOUtils:78\t\t33.0\n"
          ]
        },
        {
          "output_type": "stream",
          "name": "stdout",
          "text": [
            "2024-03-23 00:23:39,125 [INFO] 79\t\t33.0\n"
          ]
        },
        {
          "output_type": "stream",
          "name": "stderr",
          "text": [
            "INFO:NEURONIOUtils:79\t\t33.0\n"
          ]
        },
        {
          "output_type": "stream",
          "name": "stdout",
          "text": [
            "2024-03-23 00:23:39,128 [INFO] PGN firing rate avg: 33.0 Hz\n"
          ]
        },
        {
          "output_type": "stream",
          "name": "stderr",
          "text": [
            "INFO:NEURONIOUtils:PGN firing rate avg: 33.0 Hz\n"
          ]
        },
        {
          "output_type": "stream",
          "name": "stdout",
          "text": [
            "2024-03-23 00:23:39,130 [INFO] Grill PGN fr = 94.83699999999999 Hz\n"
          ]
        },
        {
          "output_type": "stream",
          "name": "stderr",
          "text": [
            "INFO:NEURONIOUtils:Grill PGN fr = 94.83699999999999 Hz\n"
          ]
        },
        {
          "output_type": "stream",
          "name": "stdout",
          "text": [
            "2024-03-23 00:23:39,131 [INFO] IMG node_gid\t  Hz\n"
          ]
        },
        {
          "output_type": "stream",
          "name": "stderr",
          "text": [
            "INFO:NEURONIOUtils:IMG node_gid\t  Hz\n"
          ]
        },
        {
          "output_type": "stream",
          "name": "stdout",
          "text": [
            "2024-03-23 00:23:39,133 [INFO] 90\t\t0.0\n"
          ]
        },
        {
          "output_type": "stream",
          "name": "stderr",
          "text": [
            "INFO:NEURONIOUtils:90\t\t0.0\n"
          ]
        },
        {
          "output_type": "stream",
          "name": "stdout",
          "text": [
            "2024-03-23 00:23:39,135 [INFO] 91\t\t3.0\n"
          ]
        },
        {
          "output_type": "stream",
          "name": "stderr",
          "text": [
            "INFO:NEURONIOUtils:91\t\t3.0\n"
          ]
        },
        {
          "output_type": "stream",
          "name": "stdout",
          "text": [
            "2024-03-23 00:23:39,137 [INFO] 92\t\t0.0\n"
          ]
        },
        {
          "output_type": "stream",
          "name": "stderr",
          "text": [
            "INFO:NEURONIOUtils:92\t\t0.0\n"
          ]
        },
        {
          "output_type": "stream",
          "name": "stdout",
          "text": [
            "2024-03-23 00:23:39,139 [INFO] 93\t\t8.0\n"
          ]
        },
        {
          "output_type": "stream",
          "name": "stderr",
          "text": [
            "INFO:NEURONIOUtils:93\t\t8.0\n"
          ]
        },
        {
          "output_type": "stream",
          "name": "stdout",
          "text": [
            "2024-03-23 00:23:39,141 [INFO] 94\t\t3.0\n"
          ]
        },
        {
          "output_type": "stream",
          "name": "stderr",
          "text": [
            "INFO:NEURONIOUtils:94\t\t3.0\n"
          ]
        },
        {
          "output_type": "stream",
          "name": "stdout",
          "text": [
            "2024-03-23 00:23:39,143 [INFO] 95\t\t0.0\n"
          ]
        },
        {
          "output_type": "stream",
          "name": "stderr",
          "text": [
            "INFO:NEURONIOUtils:95\t\t0.0\n"
          ]
        },
        {
          "output_type": "stream",
          "name": "stdout",
          "text": [
            "2024-03-23 00:23:39,145 [INFO] 96\t\t0.0\n"
          ]
        },
        {
          "output_type": "stream",
          "name": "stderr",
          "text": [
            "INFO:NEURONIOUtils:96\t\t0.0\n"
          ]
        },
        {
          "output_type": "stream",
          "name": "stdout",
          "text": [
            "2024-03-23 00:23:39,147 [INFO] 97\t\t5.0\n"
          ]
        },
        {
          "output_type": "stream",
          "name": "stderr",
          "text": [
            "INFO:NEURONIOUtils:97\t\t5.0\n"
          ]
        },
        {
          "output_type": "stream",
          "name": "stdout",
          "text": [
            "2024-03-23 00:23:39,149 [INFO] 98\t\t7.0\n"
          ]
        },
        {
          "output_type": "stream",
          "name": "stderr",
          "text": [
            "INFO:NEURONIOUtils:98\t\t7.0\n"
          ]
        },
        {
          "output_type": "stream",
          "name": "stdout",
          "text": [
            "2024-03-23 00:23:39,151 [INFO] 99\t\t8.0\n"
          ]
        },
        {
          "output_type": "stream",
          "name": "stderr",
          "text": [
            "INFO:NEURONIOUtils:99\t\t8.0\n"
          ]
        },
        {
          "output_type": "stream",
          "name": "stdout",
          "text": [
            "2024-03-23 00:23:39,153 [INFO] IMG firing rate avg: 33.0 Hz\n"
          ]
        },
        {
          "output_type": "stream",
          "name": "stderr",
          "text": [
            "INFO:NEURONIOUtils:IMG firing rate avg: 33.0 Hz\n"
          ]
        },
        {
          "output_type": "stream",
          "name": "stdout",
          "text": [
            "2024-03-23 00:23:39,174 [INFO] Volume = 0.6625 ml\n"
          ]
        },
        {
          "output_type": "stream",
          "name": "stderr",
          "text": [
            "INFO:NEURONIOUtils:Volume = 0.6625 ml\n"
          ]
        },
        {
          "output_type": "stream",
          "name": "stdout",
          "text": [
            "2024-03-23 00:23:39,178 [INFO] Pressure = 47.05 mmHg\n"
          ]
        },
        {
          "output_type": "stream",
          "name": "stderr",
          "text": [
            "INFO:NEURONIOUtils:Pressure = 47.05 mmHg\n"
          ]
        },
        {
          "output_type": "stream",
          "name": "stdout",
          "text": [
            "2024-03-23 00:23:39,180 [INFO] Calculated bladder afferent firing rate for the next time step = 27.56 Hz \n",
            " \n",
            "\n"
          ]
        },
        {
          "output_type": "stream",
          "name": "stderr",
          "text": [
            "INFO:NEURONIOUtils:Calculated bladder afferent firing rate for the next time step = 27.56 Hz \n",
            " \n",
            "\n"
          ]
        },
        {
          "output_type": "stream",
          "name": "stdout",
          "text": [
            "2024-03-23 00:23:42,428 [INFO]     step:260000 t_sim:52000.00 ms\n"
          ]
        },
        {
          "output_type": "stream",
          "name": "stderr",
          "text": [
            "INFO:NEURONIOUtils:    step:260000 t_sim:52000.00 ms\n"
          ]
        },
        {
          "output_type": "stream",
          "name": "stdout",
          "text": [
            "2024-03-23 00:23:42,453 [INFO] Timestep 51000.0 to 52000.0 ms\n"
          ]
        },
        {
          "output_type": "stream",
          "name": "stderr",
          "text": [
            "INFO:NEURONIOUtils:Timestep 51000.0 to 52000.0 ms\n"
          ]
        },
        {
          "output_type": "stream",
          "name": "stdout",
          "text": [
            "2024-03-23 00:23:42,457 [INFO] PGN node_id\t  Hz\n"
          ]
        },
        {
          "output_type": "stream",
          "name": "stderr",
          "text": [
            "INFO:NEURONIOUtils:PGN node_id\t  Hz\n"
          ]
        },
        {
          "output_type": "stream",
          "name": "stdout",
          "text": [
            "2024-03-23 00:23:42,461 [INFO] 70\t\t28.0\n"
          ]
        },
        {
          "output_type": "stream",
          "name": "stderr",
          "text": [
            "INFO:NEURONIOUtils:70\t\t28.0\n"
          ]
        },
        {
          "output_type": "stream",
          "name": "stdout",
          "text": [
            "2024-03-23 00:23:42,463 [INFO] 71\t\t28.0\n"
          ]
        },
        {
          "output_type": "stream",
          "name": "stderr",
          "text": [
            "INFO:NEURONIOUtils:71\t\t28.0\n"
          ]
        },
        {
          "output_type": "stream",
          "name": "stdout",
          "text": [
            "2024-03-23 00:23:42,465 [INFO] 72\t\t28.0\n"
          ]
        },
        {
          "output_type": "stream",
          "name": "stderr",
          "text": [
            "INFO:NEURONIOUtils:72\t\t28.0\n"
          ]
        },
        {
          "output_type": "stream",
          "name": "stdout",
          "text": [
            "2024-03-23 00:23:42,467 [INFO] 73\t\t28.0\n"
          ]
        },
        {
          "output_type": "stream",
          "name": "stderr",
          "text": [
            "INFO:NEURONIOUtils:73\t\t28.0\n"
          ]
        },
        {
          "output_type": "stream",
          "name": "stdout",
          "text": [
            "2024-03-23 00:23:42,469 [INFO] 74\t\t28.0\n"
          ]
        },
        {
          "output_type": "stream",
          "name": "stderr",
          "text": [
            "INFO:NEURONIOUtils:74\t\t28.0\n"
          ]
        },
        {
          "output_type": "stream",
          "name": "stdout",
          "text": [
            "2024-03-23 00:23:42,472 [INFO] 75\t\t28.0\n"
          ]
        },
        {
          "output_type": "stream",
          "name": "stderr",
          "text": [
            "INFO:NEURONIOUtils:75\t\t28.0\n"
          ]
        },
        {
          "output_type": "stream",
          "name": "stdout",
          "text": [
            "2024-03-23 00:23:42,474 [INFO] 76\t\t28.0\n"
          ]
        },
        {
          "output_type": "stream",
          "name": "stderr",
          "text": [
            "INFO:NEURONIOUtils:76\t\t28.0\n"
          ]
        },
        {
          "output_type": "stream",
          "name": "stdout",
          "text": [
            "2024-03-23 00:23:42,476 [INFO] 77\t\t28.0\n"
          ]
        },
        {
          "output_type": "stream",
          "name": "stderr",
          "text": [
            "INFO:NEURONIOUtils:77\t\t28.0\n"
          ]
        },
        {
          "output_type": "stream",
          "name": "stdout",
          "text": [
            "2024-03-23 00:23:42,478 [INFO] 78\t\t28.0\n"
          ]
        },
        {
          "output_type": "stream",
          "name": "stderr",
          "text": [
            "INFO:NEURONIOUtils:78\t\t28.0\n"
          ]
        },
        {
          "output_type": "stream",
          "name": "stdout",
          "text": [
            "2024-03-23 00:23:42,480 [INFO] 79\t\t28.0\n"
          ]
        },
        {
          "output_type": "stream",
          "name": "stderr",
          "text": [
            "INFO:NEURONIOUtils:79\t\t28.0\n"
          ]
        },
        {
          "output_type": "stream",
          "name": "stdout",
          "text": [
            "2024-03-23 00:23:42,482 [INFO] PGN firing rate avg: 28.0 Hz\n"
          ]
        },
        {
          "output_type": "stream",
          "name": "stderr",
          "text": [
            "INFO:NEURONIOUtils:PGN firing rate avg: 28.0 Hz\n"
          ]
        },
        {
          "output_type": "stream",
          "name": "stdout",
          "text": [
            "2024-03-23 00:23:42,484 [INFO] Grill PGN fr = 67.932 Hz\n"
          ]
        },
        {
          "output_type": "stream",
          "name": "stderr",
          "text": [
            "INFO:NEURONIOUtils:Grill PGN fr = 67.932 Hz\n"
          ]
        },
        {
          "output_type": "stream",
          "name": "stdout",
          "text": [
            "2024-03-23 00:23:42,486 [INFO] IMG node_gid\t  Hz\n"
          ]
        },
        {
          "output_type": "stream",
          "name": "stderr",
          "text": [
            "INFO:NEURONIOUtils:IMG node_gid\t  Hz\n"
          ]
        },
        {
          "output_type": "stream",
          "name": "stdout",
          "text": [
            "2024-03-23 00:23:42,488 [INFO] 90\t\t0.0\n"
          ]
        },
        {
          "output_type": "stream",
          "name": "stderr",
          "text": [
            "INFO:NEURONIOUtils:90\t\t0.0\n"
          ]
        },
        {
          "output_type": "stream",
          "name": "stdout",
          "text": [
            "2024-03-23 00:23:42,490 [INFO] 91\t\t15.0\n"
          ]
        },
        {
          "output_type": "stream",
          "name": "stderr",
          "text": [
            "INFO:NEURONIOUtils:91\t\t15.0\n"
          ]
        },
        {
          "output_type": "stream",
          "name": "stdout",
          "text": [
            "2024-03-23 00:23:42,492 [INFO] 92\t\t0.0\n"
          ]
        },
        {
          "output_type": "stream",
          "name": "stderr",
          "text": [
            "INFO:NEURONIOUtils:92\t\t0.0\n"
          ]
        },
        {
          "output_type": "stream",
          "name": "stdout",
          "text": [
            "2024-03-23 00:23:42,494 [INFO] 93\t\t17.0\n"
          ]
        },
        {
          "output_type": "stream",
          "name": "stderr",
          "text": [
            "INFO:NEURONIOUtils:93\t\t17.0\n"
          ]
        },
        {
          "output_type": "stream",
          "name": "stdout",
          "text": [
            "2024-03-23 00:23:42,496 [INFO] 94\t\t15.0\n"
          ]
        },
        {
          "output_type": "stream",
          "name": "stderr",
          "text": [
            "INFO:NEURONIOUtils:94\t\t15.0\n"
          ]
        },
        {
          "output_type": "stream",
          "name": "stdout",
          "text": [
            "2024-03-23 00:23:42,498 [INFO] 95\t\t0.0\n"
          ]
        },
        {
          "output_type": "stream",
          "name": "stderr",
          "text": [
            "INFO:NEURONIOUtils:95\t\t0.0\n"
          ]
        },
        {
          "output_type": "stream",
          "name": "stdout",
          "text": [
            "2024-03-23 00:23:42,500 [INFO] 96\t\t0.0\n"
          ]
        },
        {
          "output_type": "stream",
          "name": "stderr",
          "text": [
            "INFO:NEURONIOUtils:96\t\t0.0\n"
          ]
        },
        {
          "output_type": "stream",
          "name": "stdout",
          "text": [
            "2024-03-23 00:23:42,502 [INFO] 97\t\t15.0\n"
          ]
        },
        {
          "output_type": "stream",
          "name": "stderr",
          "text": [
            "INFO:NEURONIOUtils:97\t\t15.0\n"
          ]
        },
        {
          "output_type": "stream",
          "name": "stdout",
          "text": [
            "2024-03-23 00:23:42,504 [INFO] 98\t\t15.0\n"
          ]
        },
        {
          "output_type": "stream",
          "name": "stderr",
          "text": [
            "INFO:NEURONIOUtils:98\t\t15.0\n"
          ]
        },
        {
          "output_type": "stream",
          "name": "stdout",
          "text": [
            "2024-03-23 00:23:42,506 [INFO] 99\t\t17.0\n"
          ]
        },
        {
          "output_type": "stream",
          "name": "stderr",
          "text": [
            "INFO:NEURONIOUtils:99\t\t17.0\n"
          ]
        },
        {
          "output_type": "stream",
          "name": "stdout",
          "text": [
            "2024-03-23 00:23:42,508 [INFO] IMG firing rate avg: 28.0 Hz\n"
          ]
        },
        {
          "output_type": "stream",
          "name": "stderr",
          "text": [
            "INFO:NEURONIOUtils:IMG firing rate avg: 28.0 Hz\n"
          ]
        },
        {
          "output_type": "stream",
          "name": "stdout",
          "text": [
            "2024-03-23 00:23:42,525 [INFO] Volume = 0.0000 ml\n"
          ]
        },
        {
          "output_type": "stream",
          "name": "stderr",
          "text": [
            "INFO:NEURONIOUtils:Volume = 0.0000 ml\n"
          ]
        },
        {
          "output_type": "stream",
          "name": "stdout",
          "text": [
            "2024-03-23 00:23:42,536 [INFO] Pressure = 24.99 mmHg\n"
          ]
        },
        {
          "output_type": "stream",
          "name": "stderr",
          "text": [
            "INFO:NEURONIOUtils:Pressure = 24.99 mmHg\n"
          ]
        },
        {
          "output_type": "stream",
          "name": "stdout",
          "text": [
            "2024-03-23 00:23:42,538 [INFO] Calculated bladder afferent firing rate for the next time step = 23.94 Hz \n",
            " \n",
            "\n"
          ]
        },
        {
          "output_type": "stream",
          "name": "stderr",
          "text": [
            "INFO:NEURONIOUtils:Calculated bladder afferent firing rate for the next time step = 23.94 Hz \n",
            " \n",
            "\n"
          ]
        },
        {
          "output_type": "stream",
          "name": "stdout",
          "text": [
            "2024-03-23 00:23:45,908 [INFO]     step:265000 t_sim:53000.00 ms\n"
          ]
        },
        {
          "output_type": "stream",
          "name": "stderr",
          "text": [
            "INFO:NEURONIOUtils:    step:265000 t_sim:53000.00 ms\n"
          ]
        },
        {
          "output_type": "stream",
          "name": "stdout",
          "text": [
            "2024-03-23 00:23:45,928 [INFO] Timestep 52000.0 to 53000.0 ms\n"
          ]
        },
        {
          "output_type": "stream",
          "name": "stderr",
          "text": [
            "INFO:NEURONIOUtils:Timestep 52000.0 to 53000.0 ms\n"
          ]
        },
        {
          "output_type": "stream",
          "name": "stdout",
          "text": [
            "2024-03-23 00:23:45,932 [INFO] PGN node_id\t  Hz\n"
          ]
        },
        {
          "output_type": "stream",
          "name": "stderr",
          "text": [
            "INFO:NEURONIOUtils:PGN node_id\t  Hz\n"
          ]
        },
        {
          "output_type": "stream",
          "name": "stdout",
          "text": [
            "2024-03-23 00:23:45,936 [INFO] 70\t\t24.0\n"
          ]
        },
        {
          "output_type": "stream",
          "name": "stderr",
          "text": [
            "INFO:NEURONIOUtils:70\t\t24.0\n"
          ]
        },
        {
          "output_type": "stream",
          "name": "stdout",
          "text": [
            "2024-03-23 00:23:45,940 [INFO] 71\t\t24.0\n"
          ]
        },
        {
          "output_type": "stream",
          "name": "stderr",
          "text": [
            "INFO:NEURONIOUtils:71\t\t24.0\n"
          ]
        },
        {
          "output_type": "stream",
          "name": "stdout",
          "text": [
            "2024-03-23 00:23:45,941 [INFO] 72\t\t24.0\n"
          ]
        },
        {
          "output_type": "stream",
          "name": "stderr",
          "text": [
            "INFO:NEURONIOUtils:72\t\t24.0\n"
          ]
        },
        {
          "output_type": "stream",
          "name": "stdout",
          "text": [
            "2024-03-23 00:23:45,943 [INFO] 73\t\t24.0\n"
          ]
        },
        {
          "output_type": "stream",
          "name": "stderr",
          "text": [
            "INFO:NEURONIOUtils:73\t\t24.0\n"
          ]
        },
        {
          "output_type": "stream",
          "name": "stdout",
          "text": [
            "2024-03-23 00:23:45,945 [INFO] 74\t\t24.0\n"
          ]
        },
        {
          "output_type": "stream",
          "name": "stderr",
          "text": [
            "INFO:NEURONIOUtils:74\t\t24.0\n"
          ]
        },
        {
          "output_type": "stream",
          "name": "stdout",
          "text": [
            "2024-03-23 00:23:45,947 [INFO] 75\t\t24.0\n"
          ]
        },
        {
          "output_type": "stream",
          "name": "stderr",
          "text": [
            "INFO:NEURONIOUtils:75\t\t24.0\n"
          ]
        },
        {
          "output_type": "stream",
          "name": "stdout",
          "text": [
            "2024-03-23 00:23:45,949 [INFO] 76\t\t24.0\n"
          ]
        },
        {
          "output_type": "stream",
          "name": "stderr",
          "text": [
            "INFO:NEURONIOUtils:76\t\t24.0\n"
          ]
        },
        {
          "output_type": "stream",
          "name": "stdout",
          "text": [
            "2024-03-23 00:23:45,951 [INFO] 77\t\t24.0\n"
          ]
        },
        {
          "output_type": "stream",
          "name": "stderr",
          "text": [
            "INFO:NEURONIOUtils:77\t\t24.0\n"
          ]
        },
        {
          "output_type": "stream",
          "name": "stdout",
          "text": [
            "2024-03-23 00:23:45,953 [INFO] 78\t\t24.0\n"
          ]
        },
        {
          "output_type": "stream",
          "name": "stderr",
          "text": [
            "INFO:NEURONIOUtils:78\t\t24.0\n"
          ]
        },
        {
          "output_type": "stream",
          "name": "stdout",
          "text": [
            "2024-03-23 00:23:45,955 [INFO] 79\t\t24.0\n"
          ]
        },
        {
          "output_type": "stream",
          "name": "stderr",
          "text": [
            "INFO:NEURONIOUtils:79\t\t24.0\n"
          ]
        },
        {
          "output_type": "stream",
          "name": "stdout",
          "text": [
            "2024-03-23 00:23:45,961 [INFO] PGN firing rate avg: 24.0 Hz\n"
          ]
        },
        {
          "output_type": "stream",
          "name": "stderr",
          "text": [
            "INFO:NEURONIOUtils:PGN firing rate avg: 24.0 Hz\n"
          ]
        },
        {
          "output_type": "stream",
          "name": "stdout",
          "text": [
            "2024-03-23 00:23:45,963 [INFO] Grill PGN fr = 51.34 Hz\n"
          ]
        },
        {
          "output_type": "stream",
          "name": "stderr",
          "text": [
            "INFO:NEURONIOUtils:Grill PGN fr = 51.34 Hz\n"
          ]
        },
        {
          "output_type": "stream",
          "name": "stdout",
          "text": [
            "2024-03-23 00:23:45,965 [INFO] IMG node_gid\t  Hz\n"
          ]
        },
        {
          "output_type": "stream",
          "name": "stderr",
          "text": [
            "INFO:NEURONIOUtils:IMG node_gid\t  Hz\n"
          ]
        },
        {
          "output_type": "stream",
          "name": "stdout",
          "text": [
            "2024-03-23 00:23:45,967 [INFO] 90\t\t0.0\n"
          ]
        },
        {
          "output_type": "stream",
          "name": "stderr",
          "text": [
            "INFO:NEURONIOUtils:90\t\t0.0\n"
          ]
        },
        {
          "output_type": "stream",
          "name": "stdout",
          "text": [
            "2024-03-23 00:23:45,969 [INFO] 91\t\t13.0\n"
          ]
        },
        {
          "output_type": "stream",
          "name": "stderr",
          "text": [
            "INFO:NEURONIOUtils:91\t\t13.0\n"
          ]
        },
        {
          "output_type": "stream",
          "name": "stdout",
          "text": [
            "2024-03-23 00:23:45,971 [INFO] 92\t\t0.0\n"
          ]
        },
        {
          "output_type": "stream",
          "name": "stderr",
          "text": [
            "INFO:NEURONIOUtils:92\t\t0.0\n"
          ]
        },
        {
          "output_type": "stream",
          "name": "stdout",
          "text": [
            "2024-03-23 00:23:45,972 [INFO] 93\t\t13.0\n"
          ]
        },
        {
          "output_type": "stream",
          "name": "stderr",
          "text": [
            "INFO:NEURONIOUtils:93\t\t13.0\n"
          ]
        },
        {
          "output_type": "stream",
          "name": "stdout",
          "text": [
            "2024-03-23 00:23:45,974 [INFO] 94\t\t13.0\n"
          ]
        },
        {
          "output_type": "stream",
          "name": "stderr",
          "text": [
            "INFO:NEURONIOUtils:94\t\t13.0\n"
          ]
        },
        {
          "output_type": "stream",
          "name": "stdout",
          "text": [
            "2024-03-23 00:23:45,976 [INFO] 95\t\t0.0\n"
          ]
        },
        {
          "output_type": "stream",
          "name": "stderr",
          "text": [
            "INFO:NEURONIOUtils:95\t\t0.0\n"
          ]
        },
        {
          "output_type": "stream",
          "name": "stdout",
          "text": [
            "2024-03-23 00:23:45,978 [INFO] 96\t\t0.0\n"
          ]
        },
        {
          "output_type": "stream",
          "name": "stderr",
          "text": [
            "INFO:NEURONIOUtils:96\t\t0.0\n"
          ]
        },
        {
          "output_type": "stream",
          "name": "stdout",
          "text": [
            "2024-03-23 00:23:45,980 [INFO] 97\t\t12.0\n"
          ]
        },
        {
          "output_type": "stream",
          "name": "stderr",
          "text": [
            "INFO:NEURONIOUtils:97\t\t12.0\n"
          ]
        },
        {
          "output_type": "stream",
          "name": "stdout",
          "text": [
            "2024-03-23 00:23:45,982 [INFO] 98\t\t13.0\n"
          ]
        },
        {
          "output_type": "stream",
          "name": "stderr",
          "text": [
            "INFO:NEURONIOUtils:98\t\t13.0\n"
          ]
        },
        {
          "output_type": "stream",
          "name": "stdout",
          "text": [
            "2024-03-23 00:23:45,984 [INFO] 99\t\t13.0\n"
          ]
        },
        {
          "output_type": "stream",
          "name": "stderr",
          "text": [
            "INFO:NEURONIOUtils:99\t\t13.0\n"
          ]
        },
        {
          "output_type": "stream",
          "name": "stdout",
          "text": [
            "2024-03-23 00:23:45,986 [INFO] IMG firing rate avg: 24.0 Hz\n"
          ]
        },
        {
          "output_type": "stream",
          "name": "stderr",
          "text": [
            "INFO:NEURONIOUtils:IMG firing rate avg: 24.0 Hz\n"
          ]
        },
        {
          "output_type": "stream",
          "name": "stdout",
          "text": [
            "2024-03-23 00:23:45,995 [INFO] Volume = 0.0292 ml\n"
          ]
        },
        {
          "output_type": "stream",
          "name": "stderr",
          "text": [
            "INFO:NEURONIOUtils:Volume = 0.0292 ml\n"
          ]
        },
        {
          "output_type": "stream",
          "name": "stdout",
          "text": [
            "2024-03-23 00:23:46,002 [INFO] Pressure = 17.55 mmHg\n"
          ]
        },
        {
          "output_type": "stream",
          "name": "stderr",
          "text": [
            "INFO:NEURONIOUtils:Pressure = 17.55 mmHg\n"
          ]
        },
        {
          "output_type": "stream",
          "name": "stdout",
          "text": [
            "2024-03-23 00:23:46,004 [INFO] Calculated bladder afferent firing rate for the next time step = 13.29 Hz \n",
            " \n",
            "\n"
          ]
        },
        {
          "output_type": "stream",
          "name": "stderr",
          "text": [
            "INFO:NEURONIOUtils:Calculated bladder afferent firing rate for the next time step = 13.29 Hz \n",
            " \n",
            "\n"
          ]
        },
        {
          "output_type": "stream",
          "name": "stdout",
          "text": [
            "2024-03-23 00:23:49,041 [INFO]     step:270000 t_sim:54000.00 ms\n"
          ]
        },
        {
          "output_type": "stream",
          "name": "stderr",
          "text": [
            "INFO:NEURONIOUtils:    step:270000 t_sim:54000.00 ms\n"
          ]
        },
        {
          "output_type": "stream",
          "name": "stdout",
          "text": [
            "2024-03-23 00:23:49,064 [INFO] Timestep 53000.0 to 54000.0 ms\n"
          ]
        },
        {
          "output_type": "stream",
          "name": "stderr",
          "text": [
            "INFO:NEURONIOUtils:Timestep 53000.0 to 54000.0 ms\n"
          ]
        },
        {
          "output_type": "stream",
          "name": "stdout",
          "text": [
            "2024-03-23 00:23:49,068 [INFO] PGN node_id\t  Hz\n"
          ]
        },
        {
          "output_type": "stream",
          "name": "stderr",
          "text": [
            "INFO:NEURONIOUtils:PGN node_id\t  Hz\n"
          ]
        },
        {
          "output_type": "stream",
          "name": "stdout",
          "text": [
            "2024-03-23 00:23:49,074 [INFO] 70\t\t22.0\n"
          ]
        },
        {
          "output_type": "stream",
          "name": "stderr",
          "text": [
            "INFO:NEURONIOUtils:70\t\t22.0\n"
          ]
        },
        {
          "output_type": "stream",
          "name": "stdout",
          "text": [
            "2024-03-23 00:23:49,077 [INFO] 71\t\t22.0\n"
          ]
        },
        {
          "output_type": "stream",
          "name": "stderr",
          "text": [
            "INFO:NEURONIOUtils:71\t\t22.0\n"
          ]
        },
        {
          "output_type": "stream",
          "name": "stdout",
          "text": [
            "2024-03-23 00:23:49,080 [INFO] 72\t\t22.0\n"
          ]
        },
        {
          "output_type": "stream",
          "name": "stderr",
          "text": [
            "INFO:NEURONIOUtils:72\t\t22.0\n"
          ]
        },
        {
          "output_type": "stream",
          "name": "stdout",
          "text": [
            "2024-03-23 00:23:49,082 [INFO] 73\t\t22.0\n"
          ]
        },
        {
          "output_type": "stream",
          "name": "stderr",
          "text": [
            "INFO:NEURONIOUtils:73\t\t22.0\n"
          ]
        },
        {
          "output_type": "stream",
          "name": "stdout",
          "text": [
            "2024-03-23 00:23:49,085 [INFO] 74\t\t22.0\n"
          ]
        },
        {
          "output_type": "stream",
          "name": "stderr",
          "text": [
            "INFO:NEURONIOUtils:74\t\t22.0\n"
          ]
        },
        {
          "output_type": "stream",
          "name": "stdout",
          "text": [
            "2024-03-23 00:23:49,087 [INFO] 75\t\t22.0\n"
          ]
        },
        {
          "output_type": "stream",
          "name": "stderr",
          "text": [
            "INFO:NEURONIOUtils:75\t\t22.0\n"
          ]
        },
        {
          "output_type": "stream",
          "name": "stdout",
          "text": [
            "2024-03-23 00:23:49,089 [INFO] 76\t\t22.0\n"
          ]
        },
        {
          "output_type": "stream",
          "name": "stderr",
          "text": [
            "INFO:NEURONIOUtils:76\t\t22.0\n"
          ]
        },
        {
          "output_type": "stream",
          "name": "stdout",
          "text": [
            "2024-03-23 00:23:49,091 [INFO] 77\t\t22.0\n"
          ]
        },
        {
          "output_type": "stream",
          "name": "stderr",
          "text": [
            "INFO:NEURONIOUtils:77\t\t22.0\n"
          ]
        },
        {
          "output_type": "stream",
          "name": "stdout",
          "text": [
            "2024-03-23 00:23:49,093 [INFO] 78\t\t22.0\n"
          ]
        },
        {
          "output_type": "stream",
          "name": "stderr",
          "text": [
            "INFO:NEURONIOUtils:78\t\t22.0\n"
          ]
        },
        {
          "output_type": "stream",
          "name": "stdout",
          "text": [
            "2024-03-23 00:23:49,095 [INFO] 79\t\t22.0\n"
          ]
        },
        {
          "output_type": "stream",
          "name": "stderr",
          "text": [
            "INFO:NEURONIOUtils:79\t\t22.0\n"
          ]
        },
        {
          "output_type": "stream",
          "name": "stdout",
          "text": [
            "2024-03-23 00:23:49,097 [INFO] PGN firing rate avg: 22.0 Hz\n"
          ]
        },
        {
          "output_type": "stream",
          "name": "stderr",
          "text": [
            "INFO:NEURONIOUtils:PGN firing rate avg: 22.0 Hz\n"
          ]
        },
        {
          "output_type": "stream",
          "name": "stdout",
          "text": [
            "2024-03-23 00:23:49,099 [INFO] Grill PGN fr = 44.424 Hz\n"
          ]
        },
        {
          "output_type": "stream",
          "name": "stderr",
          "text": [
            "INFO:NEURONIOUtils:Grill PGN fr = 44.424 Hz\n"
          ]
        },
        {
          "output_type": "stream",
          "name": "stdout",
          "text": [
            "2024-03-23 00:23:49,101 [INFO] IMG node_gid\t  Hz\n"
          ]
        },
        {
          "output_type": "stream",
          "name": "stderr",
          "text": [
            "INFO:NEURONIOUtils:IMG node_gid\t  Hz\n"
          ]
        },
        {
          "output_type": "stream",
          "name": "stdout",
          "text": [
            "2024-03-23 00:23:49,104 [INFO] 90\t\t0.0\n"
          ]
        },
        {
          "output_type": "stream",
          "name": "stderr",
          "text": [
            "INFO:NEURONIOUtils:90\t\t0.0\n"
          ]
        },
        {
          "output_type": "stream",
          "name": "stdout",
          "text": [
            "2024-03-23 00:23:49,106 [INFO] 91\t\t11.0\n"
          ]
        },
        {
          "output_type": "stream",
          "name": "stderr",
          "text": [
            "INFO:NEURONIOUtils:91\t\t11.0\n"
          ]
        },
        {
          "output_type": "stream",
          "name": "stdout",
          "text": [
            "2024-03-23 00:23:49,108 [INFO] 92\t\t0.0\n"
          ]
        },
        {
          "output_type": "stream",
          "name": "stderr",
          "text": [
            "INFO:NEURONIOUtils:92\t\t0.0\n"
          ]
        },
        {
          "output_type": "stream",
          "name": "stdout",
          "text": [
            "2024-03-23 00:23:49,110 [INFO] 93\t\t13.0\n"
          ]
        },
        {
          "output_type": "stream",
          "name": "stderr",
          "text": [
            "INFO:NEURONIOUtils:93\t\t13.0\n"
          ]
        },
        {
          "output_type": "stream",
          "name": "stdout",
          "text": [
            "2024-03-23 00:23:49,113 [INFO] 94\t\t11.0\n"
          ]
        },
        {
          "output_type": "stream",
          "name": "stderr",
          "text": [
            "INFO:NEURONIOUtils:94\t\t11.0\n"
          ]
        },
        {
          "output_type": "stream",
          "name": "stdout",
          "text": [
            "2024-03-23 00:23:49,115 [INFO] 95\t\t0.0\n"
          ]
        },
        {
          "output_type": "stream",
          "name": "stderr",
          "text": [
            "INFO:NEURONIOUtils:95\t\t0.0\n"
          ]
        },
        {
          "output_type": "stream",
          "name": "stdout",
          "text": [
            "2024-03-23 00:23:49,117 [INFO] 96\t\t0.0\n"
          ]
        },
        {
          "output_type": "stream",
          "name": "stderr",
          "text": [
            "INFO:NEURONIOUtils:96\t\t0.0\n"
          ]
        },
        {
          "output_type": "stream",
          "name": "stdout",
          "text": [
            "2024-03-23 00:23:49,119 [INFO] 97\t\t9.0\n"
          ]
        },
        {
          "output_type": "stream",
          "name": "stderr",
          "text": [
            "INFO:NEURONIOUtils:97\t\t9.0\n"
          ]
        },
        {
          "output_type": "stream",
          "name": "stdout",
          "text": [
            "2024-03-23 00:23:49,121 [INFO] 98\t\t16.0\n"
          ]
        },
        {
          "output_type": "stream",
          "name": "stderr",
          "text": [
            "INFO:NEURONIOUtils:98\t\t16.0\n"
          ]
        },
        {
          "output_type": "stream",
          "name": "stdout",
          "text": [
            "2024-03-23 00:23:49,127 [INFO] 99\t\t13.0\n"
          ]
        },
        {
          "output_type": "stream",
          "name": "stderr",
          "text": [
            "INFO:NEURONIOUtils:99\t\t13.0\n"
          ]
        },
        {
          "output_type": "stream",
          "name": "stdout",
          "text": [
            "2024-03-23 00:23:49,129 [INFO] IMG firing rate avg: 22.0 Hz\n"
          ]
        },
        {
          "output_type": "stream",
          "name": "stderr",
          "text": [
            "INFO:NEURONIOUtils:IMG firing rate avg: 22.0 Hz\n"
          ]
        },
        {
          "output_type": "stream",
          "name": "stdout",
          "text": [
            "2024-03-23 00:23:49,143 [INFO] Volume = 0.0583 ml\n"
          ]
        },
        {
          "output_type": "stream",
          "name": "stderr",
          "text": [
            "INFO:NEURONIOUtils:Volume = 0.0583 ml\n"
          ]
        },
        {
          "output_type": "stream",
          "name": "stdout",
          "text": [
            "2024-03-23 00:23:49,172 [INFO] Pressure = 14.42 mmHg\n"
          ]
        },
        {
          "output_type": "stream",
          "name": "stderr",
          "text": [
            "INFO:NEURONIOUtils:Pressure = 14.42 mmHg\n"
          ]
        },
        {
          "output_type": "stream",
          "name": "stdout",
          "text": [
            "2024-03-23 00:23:49,178 [INFO] Calculated bladder afferent firing rate for the next time step = 8.68 Hz \n",
            " \n",
            "\n"
          ]
        },
        {
          "output_type": "stream",
          "name": "stderr",
          "text": [
            "INFO:NEURONIOUtils:Calculated bladder afferent firing rate for the next time step = 8.68 Hz \n",
            " \n",
            "\n"
          ]
        },
        {
          "output_type": "stream",
          "name": "stdout",
          "text": [
            "2024-03-23 00:23:52,465 [INFO]     step:275000 t_sim:55000.00 ms\n"
          ]
        },
        {
          "output_type": "stream",
          "name": "stderr",
          "text": [
            "INFO:NEURONIOUtils:    step:275000 t_sim:55000.00 ms\n"
          ]
        },
        {
          "output_type": "stream",
          "name": "stdout",
          "text": [
            "2024-03-23 00:23:52,482 [INFO] Timestep 54000.0 to 55000.0 ms\n"
          ]
        },
        {
          "output_type": "stream",
          "name": "stderr",
          "text": [
            "INFO:NEURONIOUtils:Timestep 54000.0 to 55000.0 ms\n"
          ]
        },
        {
          "output_type": "stream",
          "name": "stdout",
          "text": [
            "2024-03-23 00:23:52,486 [INFO] PGN node_id\t  Hz\n"
          ]
        },
        {
          "output_type": "stream",
          "name": "stderr",
          "text": [
            "INFO:NEURONIOUtils:PGN node_id\t  Hz\n"
          ]
        },
        {
          "output_type": "stream",
          "name": "stdout",
          "text": [
            "2024-03-23 00:23:52,490 [INFO] 70\t\t19.0\n"
          ]
        },
        {
          "output_type": "stream",
          "name": "stderr",
          "text": [
            "INFO:NEURONIOUtils:70\t\t19.0\n"
          ]
        },
        {
          "output_type": "stream",
          "name": "stdout",
          "text": [
            "2024-03-23 00:23:52,493 [INFO] 71\t\t19.0\n"
          ]
        },
        {
          "output_type": "stream",
          "name": "stderr",
          "text": [
            "INFO:NEURONIOUtils:71\t\t19.0\n"
          ]
        },
        {
          "output_type": "stream",
          "name": "stdout",
          "text": [
            "2024-03-23 00:23:52,495 [INFO] 72\t\t19.0\n"
          ]
        },
        {
          "output_type": "stream",
          "name": "stderr",
          "text": [
            "INFO:NEURONIOUtils:72\t\t19.0\n"
          ]
        },
        {
          "output_type": "stream",
          "name": "stdout",
          "text": [
            "2024-03-23 00:23:52,497 [INFO] 73\t\t19.0\n"
          ]
        },
        {
          "output_type": "stream",
          "name": "stderr",
          "text": [
            "INFO:NEURONIOUtils:73\t\t19.0\n"
          ]
        },
        {
          "output_type": "stream",
          "name": "stdout",
          "text": [
            "2024-03-23 00:23:52,499 [INFO] 74\t\t19.0\n"
          ]
        },
        {
          "output_type": "stream",
          "name": "stderr",
          "text": [
            "INFO:NEURONIOUtils:74\t\t19.0\n"
          ]
        },
        {
          "output_type": "stream",
          "name": "stdout",
          "text": [
            "2024-03-23 00:23:52,500 [INFO] 75\t\t19.0\n"
          ]
        },
        {
          "output_type": "stream",
          "name": "stderr",
          "text": [
            "INFO:NEURONIOUtils:75\t\t19.0\n"
          ]
        },
        {
          "output_type": "stream",
          "name": "stdout",
          "text": [
            "2024-03-23 00:23:52,502 [INFO] 76\t\t19.0\n"
          ]
        },
        {
          "output_type": "stream",
          "name": "stderr",
          "text": [
            "INFO:NEURONIOUtils:76\t\t19.0\n"
          ]
        },
        {
          "output_type": "stream",
          "name": "stdout",
          "text": [
            "2024-03-23 00:23:52,504 [INFO] 77\t\t19.0\n"
          ]
        },
        {
          "output_type": "stream",
          "name": "stderr",
          "text": [
            "INFO:NEURONIOUtils:77\t\t19.0\n"
          ]
        },
        {
          "output_type": "stream",
          "name": "stdout",
          "text": [
            "2024-03-23 00:23:52,507 [INFO] 78\t\t19.0\n"
          ]
        },
        {
          "output_type": "stream",
          "name": "stderr",
          "text": [
            "INFO:NEURONIOUtils:78\t\t19.0\n"
          ]
        },
        {
          "output_type": "stream",
          "name": "stdout",
          "text": [
            "2024-03-23 00:23:52,509 [INFO] 79\t\t19.0\n"
          ]
        },
        {
          "output_type": "stream",
          "name": "stderr",
          "text": [
            "INFO:NEURONIOUtils:79\t\t19.0\n"
          ]
        },
        {
          "output_type": "stream",
          "name": "stdout",
          "text": [
            "2024-03-23 00:23:52,511 [INFO] PGN firing rate avg: 19.0 Hz\n"
          ]
        },
        {
          "output_type": "stream",
          "name": "stderr",
          "text": [
            "INFO:NEURONIOUtils:PGN firing rate avg: 19.0 Hz\n"
          ]
        },
        {
          "output_type": "stream",
          "name": "stdout",
          "text": [
            "2024-03-23 00:23:52,513 [INFO] Grill PGN fr = 35.505 Hz\n"
          ]
        },
        {
          "output_type": "stream",
          "name": "stderr",
          "text": [
            "INFO:NEURONIOUtils:Grill PGN fr = 35.505 Hz\n"
          ]
        },
        {
          "output_type": "stream",
          "name": "stdout",
          "text": [
            "2024-03-23 00:23:52,514 [INFO] IMG node_gid\t  Hz\n"
          ]
        },
        {
          "output_type": "stream",
          "name": "stderr",
          "text": [
            "INFO:NEURONIOUtils:IMG node_gid\t  Hz\n"
          ]
        },
        {
          "output_type": "stream",
          "name": "stdout",
          "text": [
            "2024-03-23 00:23:52,520 [INFO] 90\t\t0.0\n"
          ]
        },
        {
          "output_type": "stream",
          "name": "stderr",
          "text": [
            "INFO:NEURONIOUtils:90\t\t0.0\n"
          ]
        },
        {
          "output_type": "stream",
          "name": "stdout",
          "text": [
            "2024-03-23 00:23:52,522 [INFO] 91\t\t12.0\n"
          ]
        },
        {
          "output_type": "stream",
          "name": "stderr",
          "text": [
            "INFO:NEURONIOUtils:91\t\t12.0\n"
          ]
        },
        {
          "output_type": "stream",
          "name": "stdout",
          "text": [
            "2024-03-23 00:23:52,524 [INFO] 92\t\t0.0\n"
          ]
        },
        {
          "output_type": "stream",
          "name": "stderr",
          "text": [
            "INFO:NEURONIOUtils:92\t\t0.0\n"
          ]
        },
        {
          "output_type": "stream",
          "name": "stdout",
          "text": [
            "2024-03-23 00:23:52,528 [INFO] 93\t\t12.0\n"
          ]
        },
        {
          "output_type": "stream",
          "name": "stderr",
          "text": [
            "INFO:NEURONIOUtils:93\t\t12.0\n"
          ]
        },
        {
          "output_type": "stream",
          "name": "stdout",
          "text": [
            "2024-03-23 00:23:52,530 [INFO] 94\t\t12.0\n"
          ]
        },
        {
          "output_type": "stream",
          "name": "stderr",
          "text": [
            "INFO:NEURONIOUtils:94\t\t12.0\n"
          ]
        },
        {
          "output_type": "stream",
          "name": "stdout",
          "text": [
            "2024-03-23 00:23:52,532 [INFO] 95\t\t0.0\n"
          ]
        },
        {
          "output_type": "stream",
          "name": "stderr",
          "text": [
            "INFO:NEURONIOUtils:95\t\t0.0\n"
          ]
        },
        {
          "output_type": "stream",
          "name": "stdout",
          "text": [
            "2024-03-23 00:23:52,534 [INFO] 96\t\t0.0\n"
          ]
        },
        {
          "output_type": "stream",
          "name": "stderr",
          "text": [
            "INFO:NEURONIOUtils:96\t\t0.0\n"
          ]
        },
        {
          "output_type": "stream",
          "name": "stdout",
          "text": [
            "2024-03-23 00:23:52,536 [INFO] 97\t\t11.0\n"
          ]
        },
        {
          "output_type": "stream",
          "name": "stderr",
          "text": [
            "INFO:NEURONIOUtils:97\t\t11.0\n"
          ]
        },
        {
          "output_type": "stream",
          "name": "stdout",
          "text": [
            "2024-03-23 00:23:52,540 [INFO] 98\t\t14.0\n"
          ]
        },
        {
          "output_type": "stream",
          "name": "stderr",
          "text": [
            "INFO:NEURONIOUtils:98\t\t14.0\n"
          ]
        },
        {
          "output_type": "stream",
          "name": "stdout",
          "text": [
            "2024-03-23 00:23:52,542 [INFO] 99\t\t12.0\n"
          ]
        },
        {
          "output_type": "stream",
          "name": "stderr",
          "text": [
            "INFO:NEURONIOUtils:99\t\t12.0\n"
          ]
        },
        {
          "output_type": "stream",
          "name": "stdout",
          "text": [
            "2024-03-23 00:23:52,544 [INFO] IMG firing rate avg: 19.0 Hz\n"
          ]
        },
        {
          "output_type": "stream",
          "name": "stderr",
          "text": [
            "INFO:NEURONIOUtils:IMG firing rate avg: 19.0 Hz\n"
          ]
        },
        {
          "output_type": "stream",
          "name": "stdout",
          "text": [
            "2024-03-23 00:23:52,555 [INFO] Volume = 0.0875 ml\n"
          ]
        },
        {
          "output_type": "stream",
          "name": "stderr",
          "text": [
            "INFO:NEURONIOUtils:Volume = 0.0875 ml\n"
          ]
        },
        {
          "output_type": "stream",
          "name": "stdout",
          "text": [
            "2024-03-23 00:23:52,562 [INFO] Pressure = 10.05 mmHg\n"
          ]
        },
        {
          "output_type": "stream",
          "name": "stderr",
          "text": [
            "INFO:NEURONIOUtils:Pressure = 10.05 mmHg\n"
          ]
        },
        {
          "output_type": "stream",
          "name": "stdout",
          "text": [
            "2024-03-23 00:23:52,564 [INFO] Calculated bladder afferent firing rate for the next time step = 3.06 Hz \n",
            " \n",
            "\n"
          ]
        },
        {
          "output_type": "stream",
          "name": "stderr",
          "text": [
            "INFO:NEURONIOUtils:Calculated bladder afferent firing rate for the next time step = 3.06 Hz \n",
            " \n",
            "\n"
          ]
        },
        {
          "output_type": "stream",
          "name": "stdout",
          "text": [
            "2024-03-23 00:23:56,386 [INFO]     step:280000 t_sim:56000.00 ms\n"
          ]
        },
        {
          "output_type": "stream",
          "name": "stderr",
          "text": [
            "INFO:NEURONIOUtils:    step:280000 t_sim:56000.00 ms\n"
          ]
        },
        {
          "output_type": "stream",
          "name": "stdout",
          "text": [
            "2024-03-23 00:23:56,401 [INFO] Timestep 55000.0 to 56000.0 ms\n"
          ]
        },
        {
          "output_type": "stream",
          "name": "stderr",
          "text": [
            "INFO:NEURONIOUtils:Timestep 55000.0 to 56000.0 ms\n"
          ]
        },
        {
          "output_type": "stream",
          "name": "stdout",
          "text": [
            "2024-03-23 00:23:56,405 [INFO] PGN node_id\t  Hz\n"
          ]
        },
        {
          "output_type": "stream",
          "name": "stderr",
          "text": [
            "INFO:NEURONIOUtils:PGN node_id\t  Hz\n"
          ]
        },
        {
          "output_type": "stream",
          "name": "stdout",
          "text": [
            "2024-03-23 00:23:56,409 [INFO] 70\t\t14.0\n"
          ]
        },
        {
          "output_type": "stream",
          "name": "stderr",
          "text": [
            "INFO:NEURONIOUtils:70\t\t14.0\n"
          ]
        },
        {
          "output_type": "stream",
          "name": "stdout",
          "text": [
            "2024-03-23 00:23:56,412 [INFO] 71\t\t14.0\n"
          ]
        },
        {
          "output_type": "stream",
          "name": "stderr",
          "text": [
            "INFO:NEURONIOUtils:71\t\t14.0\n"
          ]
        },
        {
          "output_type": "stream",
          "name": "stdout",
          "text": [
            "2024-03-23 00:23:56,414 [INFO] 72\t\t14.0\n"
          ]
        },
        {
          "output_type": "stream",
          "name": "stderr",
          "text": [
            "INFO:NEURONIOUtils:72\t\t14.0\n"
          ]
        },
        {
          "output_type": "stream",
          "name": "stdout",
          "text": [
            "2024-03-23 00:23:56,416 [INFO] 73\t\t14.0\n"
          ]
        },
        {
          "output_type": "stream",
          "name": "stderr",
          "text": [
            "INFO:NEURONIOUtils:73\t\t14.0\n"
          ]
        },
        {
          "output_type": "stream",
          "name": "stdout",
          "text": [
            "2024-03-23 00:23:56,418 [INFO] 74\t\t14.0\n"
          ]
        },
        {
          "output_type": "stream",
          "name": "stderr",
          "text": [
            "INFO:NEURONIOUtils:74\t\t14.0\n"
          ]
        },
        {
          "output_type": "stream",
          "name": "stdout",
          "text": [
            "2024-03-23 00:23:56,419 [INFO] 75\t\t14.0\n"
          ]
        },
        {
          "output_type": "stream",
          "name": "stderr",
          "text": [
            "INFO:NEURONIOUtils:75\t\t14.0\n"
          ]
        },
        {
          "output_type": "stream",
          "name": "stdout",
          "text": [
            "2024-03-23 00:23:56,421 [INFO] 76\t\t14.0\n"
          ]
        },
        {
          "output_type": "stream",
          "name": "stderr",
          "text": [
            "INFO:NEURONIOUtils:76\t\t14.0\n"
          ]
        },
        {
          "output_type": "stream",
          "name": "stdout",
          "text": [
            "2024-03-23 00:23:56,423 [INFO] 77\t\t14.0\n"
          ]
        },
        {
          "output_type": "stream",
          "name": "stderr",
          "text": [
            "INFO:NEURONIOUtils:77\t\t14.0\n"
          ]
        },
        {
          "output_type": "stream",
          "name": "stdout",
          "text": [
            "2024-03-23 00:23:56,425 [INFO] 78\t\t14.0\n"
          ]
        },
        {
          "output_type": "stream",
          "name": "stderr",
          "text": [
            "INFO:NEURONIOUtils:78\t\t14.0\n"
          ]
        },
        {
          "output_type": "stream",
          "name": "stdout",
          "text": [
            "2024-03-23 00:23:56,427 [INFO] 79\t\t14.0\n"
          ]
        },
        {
          "output_type": "stream",
          "name": "stderr",
          "text": [
            "INFO:NEURONIOUtils:79\t\t14.0\n"
          ]
        },
        {
          "output_type": "stream",
          "name": "stdout",
          "text": [
            "2024-03-23 00:23:56,429 [INFO] PGN firing rate avg: 14.0 Hz\n"
          ]
        },
        {
          "output_type": "stream",
          "name": "stderr",
          "text": [
            "INFO:NEURONIOUtils:PGN firing rate avg: 14.0 Hz\n"
          ]
        },
        {
          "output_type": "stream",
          "name": "stdout",
          "text": [
            "2024-03-23 00:23:56,431 [INFO] Grill PGN fr = 23.72 Hz\n"
          ]
        },
        {
          "output_type": "stream",
          "name": "stderr",
          "text": [
            "INFO:NEURONIOUtils:Grill PGN fr = 23.72 Hz\n"
          ]
        },
        {
          "output_type": "stream",
          "name": "stdout",
          "text": [
            "2024-03-23 00:23:56,433 [INFO] IMG node_gid\t  Hz\n"
          ]
        },
        {
          "output_type": "stream",
          "name": "stderr",
          "text": [
            "INFO:NEURONIOUtils:IMG node_gid\t  Hz\n"
          ]
        },
        {
          "output_type": "stream",
          "name": "stdout",
          "text": [
            "2024-03-23 00:23:56,435 [INFO] 90\t\t0.0\n"
          ]
        },
        {
          "output_type": "stream",
          "name": "stderr",
          "text": [
            "INFO:NEURONIOUtils:90\t\t0.0\n"
          ]
        },
        {
          "output_type": "stream",
          "name": "stdout",
          "text": [
            "2024-03-23 00:23:56,437 [INFO] 91\t\t9.0\n"
          ]
        },
        {
          "output_type": "stream",
          "name": "stderr",
          "text": [
            "INFO:NEURONIOUtils:91\t\t9.0\n"
          ]
        },
        {
          "output_type": "stream",
          "name": "stdout",
          "text": [
            "2024-03-23 00:23:56,439 [INFO] 92\t\t0.0\n"
          ]
        },
        {
          "output_type": "stream",
          "name": "stderr",
          "text": [
            "INFO:NEURONIOUtils:92\t\t0.0\n"
          ]
        },
        {
          "output_type": "stream",
          "name": "stdout",
          "text": [
            "2024-03-23 00:23:56,441 [INFO] 93\t\t7.0\n"
          ]
        },
        {
          "output_type": "stream",
          "name": "stderr",
          "text": [
            "INFO:NEURONIOUtils:93\t\t7.0\n"
          ]
        },
        {
          "output_type": "stream",
          "name": "stdout",
          "text": [
            "2024-03-23 00:23:56,442 [INFO] 94\t\t9.0\n"
          ]
        },
        {
          "output_type": "stream",
          "name": "stderr",
          "text": [
            "INFO:NEURONIOUtils:94\t\t9.0\n"
          ]
        },
        {
          "output_type": "stream",
          "name": "stdout",
          "text": [
            "2024-03-23 00:23:56,444 [INFO] 95\t\t0.0\n"
          ]
        },
        {
          "output_type": "stream",
          "name": "stderr",
          "text": [
            "INFO:NEURONIOUtils:95\t\t0.0\n"
          ]
        },
        {
          "output_type": "stream",
          "name": "stdout",
          "text": [
            "2024-03-23 00:23:56,446 [INFO] 96\t\t0.0\n"
          ]
        },
        {
          "output_type": "stream",
          "name": "stderr",
          "text": [
            "INFO:NEURONIOUtils:96\t\t0.0\n"
          ]
        },
        {
          "output_type": "stream",
          "name": "stdout",
          "text": [
            "2024-03-23 00:23:56,448 [INFO] 97\t\t3.0\n"
          ]
        },
        {
          "output_type": "stream",
          "name": "stderr",
          "text": [
            "INFO:NEURONIOUtils:97\t\t3.0\n"
          ]
        },
        {
          "output_type": "stream",
          "name": "stdout",
          "text": [
            "2024-03-23 00:23:56,450 [INFO] 98\t\t11.0\n"
          ]
        },
        {
          "output_type": "stream",
          "name": "stderr",
          "text": [
            "INFO:NEURONIOUtils:98\t\t11.0\n"
          ]
        },
        {
          "output_type": "stream",
          "name": "stdout",
          "text": [
            "2024-03-23 00:23:56,452 [INFO] 99\t\t7.0\n"
          ]
        },
        {
          "output_type": "stream",
          "name": "stderr",
          "text": [
            "INFO:NEURONIOUtils:99\t\t7.0\n"
          ]
        },
        {
          "output_type": "stream",
          "name": "stdout",
          "text": [
            "2024-03-23 00:23:56,453 [INFO] IMG firing rate avg: 14.0 Hz\n"
          ]
        },
        {
          "output_type": "stream",
          "name": "stderr",
          "text": [
            "INFO:NEURONIOUtils:IMG firing rate avg: 14.0 Hz\n"
          ]
        },
        {
          "output_type": "stream",
          "name": "stdout",
          "text": [
            "2024-03-23 00:23:56,460 [INFO] Volume = 0.1167 ml\n"
          ]
        },
        {
          "output_type": "stream",
          "name": "stderr",
          "text": [
            "/usr/local/lib/python3.10/dist-packages/bmtk/utils/reports/spike_trains/spike_trains.py:183: RuntimeWarning: divide by zero encountered in scalar divide\n",
            "  interval = -np.log(1.0 - np.random.uniform()) / fr\n",
            "INFO:NEURONIOUtils:Volume = 0.1167 ml\n"
          ]
        },
        {
          "output_type": "stream",
          "name": "stdout",
          "text": [
            "2024-03-23 00:23:56,467 [INFO] Pressure = 5.60 mmHg\n"
          ]
        },
        {
          "output_type": "stream",
          "name": "stderr",
          "text": [
            "INFO:NEURONIOUtils:Pressure = 5.60 mmHg\n"
          ]
        },
        {
          "output_type": "stream",
          "name": "stdout",
          "text": [
            "2024-03-23 00:23:56,469 [INFO] Calculated bladder afferent firing rate for the next time step = 0.00 Hz \n",
            " \n",
            "\n"
          ]
        },
        {
          "output_type": "stream",
          "name": "stderr",
          "text": [
            "INFO:NEURONIOUtils:Calculated bladder afferent firing rate for the next time step = 0.00 Hz \n",
            " \n",
            "\n"
          ]
        },
        {
          "output_type": "stream",
          "name": "stdout",
          "text": [
            "2024-03-23 00:23:59,993 [INFO]     step:285000 t_sim:57000.00 ms\n"
          ]
        },
        {
          "output_type": "stream",
          "name": "stderr",
          "text": [
            "INFO:NEURONIOUtils:    step:285000 t_sim:57000.00 ms\n"
          ]
        },
        {
          "output_type": "stream",
          "name": "stdout",
          "text": [
            "2024-03-23 00:24:00,006 [INFO] Timestep 56000.0 to 57000.0 ms\n"
          ]
        },
        {
          "output_type": "stream",
          "name": "stderr",
          "text": [
            "INFO:NEURONIOUtils:Timestep 56000.0 to 57000.0 ms\n"
          ]
        },
        {
          "output_type": "stream",
          "name": "stdout",
          "text": [
            "2024-03-23 00:24:00,011 [INFO] PGN node_id\t  Hz\n"
          ]
        },
        {
          "output_type": "stream",
          "name": "stderr",
          "text": [
            "INFO:NEURONIOUtils:PGN node_id\t  Hz\n"
          ]
        },
        {
          "output_type": "stream",
          "name": "stdout",
          "text": [
            "2024-03-23 00:24:00,015 [INFO] 70\t\t3.0\n"
          ]
        },
        {
          "output_type": "stream",
          "name": "stderr",
          "text": [
            "INFO:NEURONIOUtils:70\t\t3.0\n"
          ]
        },
        {
          "output_type": "stream",
          "name": "stdout",
          "text": [
            "2024-03-23 00:24:00,018 [INFO] 71\t\t3.0\n"
          ]
        },
        {
          "output_type": "stream",
          "name": "stderr",
          "text": [
            "INFO:NEURONIOUtils:71\t\t3.0\n"
          ]
        },
        {
          "output_type": "stream",
          "name": "stdout",
          "text": [
            "2024-03-23 00:24:00,020 [INFO] 72\t\t3.0\n"
          ]
        },
        {
          "output_type": "stream",
          "name": "stderr",
          "text": [
            "INFO:NEURONIOUtils:72\t\t3.0\n"
          ]
        },
        {
          "output_type": "stream",
          "name": "stdout",
          "text": [
            "2024-03-23 00:24:00,022 [INFO] 73\t\t3.0\n"
          ]
        },
        {
          "output_type": "stream",
          "name": "stderr",
          "text": [
            "INFO:NEURONIOUtils:73\t\t3.0\n"
          ]
        },
        {
          "output_type": "stream",
          "name": "stdout",
          "text": [
            "2024-03-23 00:24:00,024 [INFO] 74\t\t3.0\n"
          ]
        },
        {
          "output_type": "stream",
          "name": "stderr",
          "text": [
            "INFO:NEURONIOUtils:74\t\t3.0\n"
          ]
        },
        {
          "output_type": "stream",
          "name": "stdout",
          "text": [
            "2024-03-23 00:24:00,026 [INFO] 75\t\t3.0\n"
          ]
        },
        {
          "output_type": "stream",
          "name": "stderr",
          "text": [
            "INFO:NEURONIOUtils:75\t\t3.0\n"
          ]
        },
        {
          "output_type": "stream",
          "name": "stdout",
          "text": [
            "2024-03-23 00:24:00,030 [INFO] 76\t\t3.0\n"
          ]
        },
        {
          "output_type": "stream",
          "name": "stderr",
          "text": [
            "INFO:NEURONIOUtils:76\t\t3.0\n"
          ]
        },
        {
          "output_type": "stream",
          "name": "stdout",
          "text": [
            "2024-03-23 00:24:00,032 [INFO] 77\t\t3.0\n"
          ]
        },
        {
          "output_type": "stream",
          "name": "stderr",
          "text": [
            "INFO:NEURONIOUtils:77\t\t3.0\n"
          ]
        },
        {
          "output_type": "stream",
          "name": "stdout",
          "text": [
            "2024-03-23 00:24:00,034 [INFO] 78\t\t3.0\n"
          ]
        },
        {
          "output_type": "stream",
          "name": "stderr",
          "text": [
            "INFO:NEURONIOUtils:78\t\t3.0\n"
          ]
        },
        {
          "output_type": "stream",
          "name": "stdout",
          "text": [
            "2024-03-23 00:24:00,036 [INFO] 79\t\t3.0\n"
          ]
        },
        {
          "output_type": "stream",
          "name": "stderr",
          "text": [
            "INFO:NEURONIOUtils:79\t\t3.0\n"
          ]
        },
        {
          "output_type": "stream",
          "name": "stdout",
          "text": [
            "2024-03-23 00:24:00,041 [INFO] PGN firing rate avg: 3.0 Hz\n"
          ]
        },
        {
          "output_type": "stream",
          "name": "stderr",
          "text": [
            "INFO:NEURONIOUtils:PGN firing rate avg: 3.0 Hz\n"
          ]
        },
        {
          "output_type": "stream",
          "name": "stdout",
          "text": [
            "2024-03-23 00:24:00,043 [INFO] Grill PGN fr = 4.657 Hz\n"
          ]
        },
        {
          "output_type": "stream",
          "name": "stderr",
          "text": [
            "INFO:NEURONIOUtils:Grill PGN fr = 4.657 Hz\n"
          ]
        },
        {
          "output_type": "stream",
          "name": "stdout",
          "text": [
            "2024-03-23 00:24:00,045 [INFO] IMG node_gid\t  Hz\n"
          ]
        },
        {
          "output_type": "stream",
          "name": "stderr",
          "text": [
            "INFO:NEURONIOUtils:IMG node_gid\t  Hz\n"
          ]
        },
        {
          "output_type": "stream",
          "name": "stdout",
          "text": [
            "2024-03-23 00:24:00,048 [INFO] 90\t\t0.0\n"
          ]
        },
        {
          "output_type": "stream",
          "name": "stderr",
          "text": [
            "INFO:NEURONIOUtils:90\t\t0.0\n"
          ]
        },
        {
          "output_type": "stream",
          "name": "stdout",
          "text": [
            "2024-03-23 00:24:00,053 [INFO] 91\t\t1.0\n"
          ]
        },
        {
          "output_type": "stream",
          "name": "stderr",
          "text": [
            "INFO:NEURONIOUtils:91\t\t1.0\n"
          ]
        },
        {
          "output_type": "stream",
          "name": "stdout",
          "text": [
            "2024-03-23 00:24:00,055 [INFO] 92\t\t0.0\n"
          ]
        },
        {
          "output_type": "stream",
          "name": "stderr",
          "text": [
            "INFO:NEURONIOUtils:92\t\t0.0\n"
          ]
        },
        {
          "output_type": "stream",
          "name": "stdout",
          "text": [
            "2024-03-23 00:24:00,057 [INFO] 93\t\t1.0\n"
          ]
        },
        {
          "output_type": "stream",
          "name": "stderr",
          "text": [
            "INFO:NEURONIOUtils:93\t\t1.0\n"
          ]
        },
        {
          "output_type": "stream",
          "name": "stdout",
          "text": [
            "2024-03-23 00:24:00,059 [INFO] 94\t\t1.0\n"
          ]
        },
        {
          "output_type": "stream",
          "name": "stderr",
          "text": [
            "INFO:NEURONIOUtils:94\t\t1.0\n"
          ]
        },
        {
          "output_type": "stream",
          "name": "stdout",
          "text": [
            "2024-03-23 00:24:00,063 [INFO] 95\t\t0.0\n"
          ]
        },
        {
          "output_type": "stream",
          "name": "stderr",
          "text": [
            "INFO:NEURONIOUtils:95\t\t0.0\n"
          ]
        },
        {
          "output_type": "stream",
          "name": "stdout",
          "text": [
            "2024-03-23 00:24:00,065 [INFO] 96\t\t0.0\n"
          ]
        },
        {
          "output_type": "stream",
          "name": "stderr",
          "text": [
            "INFO:NEURONIOUtils:96\t\t0.0\n"
          ]
        },
        {
          "output_type": "stream",
          "name": "stdout",
          "text": [
            "2024-03-23 00:24:00,067 [INFO] 97\t\t1.0\n"
          ]
        },
        {
          "output_type": "stream",
          "name": "stderr",
          "text": [
            "INFO:NEURONIOUtils:97\t\t1.0\n"
          ]
        },
        {
          "output_type": "stream",
          "name": "stdout",
          "text": [
            "2024-03-23 00:24:00,069 [INFO] 98\t\t1.0\n"
          ]
        },
        {
          "output_type": "stream",
          "name": "stderr",
          "text": [
            "INFO:NEURONIOUtils:98\t\t1.0\n"
          ]
        },
        {
          "output_type": "stream",
          "name": "stdout",
          "text": [
            "2024-03-23 00:24:00,071 [INFO] 99\t\t1.0\n"
          ]
        },
        {
          "output_type": "stream",
          "name": "stderr",
          "text": [
            "INFO:NEURONIOUtils:99\t\t1.0\n"
          ]
        },
        {
          "output_type": "stream",
          "name": "stdout",
          "text": [
            "2024-03-23 00:24:00,076 [INFO] IMG firing rate avg: 3.0 Hz\n"
          ]
        },
        {
          "output_type": "stream",
          "name": "stderr",
          "text": [
            "INFO:NEURONIOUtils:IMG firing rate avg: 3.0 Hz\n"
          ]
        },
        {
          "output_type": "stream",
          "name": "stdout",
          "text": [
            "2024-03-23 00:24:00,084 [INFO] Volume = 0.1458 ml\n"
          ]
        },
        {
          "output_type": "stream",
          "name": "stderr",
          "text": [
            "/usr/local/lib/python3.10/dist-packages/bmtk/utils/reports/spike_trains/spike_trains.py:183: RuntimeWarning: divide by zero encountered in scalar divide\n",
            "  interval = -np.log(1.0 - np.random.uniform()) / fr\n",
            "INFO:NEURONIOUtils:Volume = 0.1458 ml\n"
          ]
        },
        {
          "output_type": "stream",
          "name": "stdout",
          "text": [
            "2024-03-23 00:24:00,089 [INFO] Pressure = 0.00 mmHg\n"
          ]
        },
        {
          "output_type": "stream",
          "name": "stderr",
          "text": [
            "INFO:NEURONIOUtils:Pressure = 0.00 mmHg\n"
          ]
        },
        {
          "output_type": "stream",
          "name": "stdout",
          "text": [
            "2024-03-23 00:24:00,091 [INFO] Calculated bladder afferent firing rate for the next time step = 0.00 Hz \n",
            " \n",
            "\n"
          ]
        },
        {
          "output_type": "stream",
          "name": "stderr",
          "text": [
            "INFO:NEURONIOUtils:Calculated bladder afferent firing rate for the next time step = 0.00 Hz \n",
            " \n",
            "\n"
          ]
        },
        {
          "output_type": "stream",
          "name": "stdout",
          "text": [
            "2024-03-23 00:24:02,899 [INFO]     step:290000 t_sim:58000.00 ms\n"
          ]
        },
        {
          "output_type": "stream",
          "name": "stderr",
          "text": [
            "INFO:NEURONIOUtils:    step:290000 t_sim:58000.00 ms\n"
          ]
        },
        {
          "output_type": "stream",
          "name": "stdout",
          "text": [
            "2024-03-23 00:24:02,914 [INFO] Timestep 57000.0 to 58000.0 ms\n"
          ]
        },
        {
          "output_type": "stream",
          "name": "stderr",
          "text": [
            "INFO:NEURONIOUtils:Timestep 57000.0 to 58000.0 ms\n"
          ]
        },
        {
          "output_type": "stream",
          "name": "stdout",
          "text": [
            "2024-03-23 00:24:02,922 [INFO] PGN node_id\t  Hz\n"
          ]
        },
        {
          "output_type": "stream",
          "name": "stderr",
          "text": [
            "INFO:NEURONIOUtils:PGN node_id\t  Hz\n"
          ]
        },
        {
          "output_type": "stream",
          "name": "stdout",
          "text": [
            "2024-03-23 00:24:02,928 [INFO] 70\t\t3.0\n"
          ]
        },
        {
          "output_type": "stream",
          "name": "stderr",
          "text": [
            "INFO:NEURONIOUtils:70\t\t3.0\n"
          ]
        },
        {
          "output_type": "stream",
          "name": "stdout",
          "text": [
            "2024-03-23 00:24:02,936 [INFO] 71\t\t3.0\n"
          ]
        },
        {
          "output_type": "stream",
          "name": "stderr",
          "text": [
            "INFO:NEURONIOUtils:71\t\t3.0\n"
          ]
        },
        {
          "output_type": "stream",
          "name": "stdout",
          "text": [
            "2024-03-23 00:24:02,938 [INFO] 72\t\t3.0\n"
          ]
        },
        {
          "output_type": "stream",
          "name": "stderr",
          "text": [
            "INFO:NEURONIOUtils:72\t\t3.0\n"
          ]
        },
        {
          "output_type": "stream",
          "name": "stdout",
          "text": [
            "2024-03-23 00:24:02,940 [INFO] 73\t\t3.0\n"
          ]
        },
        {
          "output_type": "stream",
          "name": "stderr",
          "text": [
            "INFO:NEURONIOUtils:73\t\t3.0\n"
          ]
        },
        {
          "output_type": "stream",
          "name": "stdout",
          "text": [
            "2024-03-23 00:24:02,943 [INFO] 74\t\t3.0\n"
          ]
        },
        {
          "output_type": "stream",
          "name": "stderr",
          "text": [
            "INFO:NEURONIOUtils:74\t\t3.0\n"
          ]
        },
        {
          "output_type": "stream",
          "name": "stdout",
          "text": [
            "2024-03-23 00:24:02,945 [INFO] 75\t\t3.0\n"
          ]
        },
        {
          "output_type": "stream",
          "name": "stderr",
          "text": [
            "INFO:NEURONIOUtils:75\t\t3.0\n"
          ]
        },
        {
          "output_type": "stream",
          "name": "stdout",
          "text": [
            "2024-03-23 00:24:02,947 [INFO] 76\t\t3.0\n"
          ]
        },
        {
          "output_type": "stream",
          "name": "stderr",
          "text": [
            "INFO:NEURONIOUtils:76\t\t3.0\n"
          ]
        },
        {
          "output_type": "stream",
          "name": "stdout",
          "text": [
            "2024-03-23 00:24:02,949 [INFO] 77\t\t3.0\n"
          ]
        },
        {
          "output_type": "stream",
          "name": "stderr",
          "text": [
            "INFO:NEURONIOUtils:77\t\t3.0\n"
          ]
        },
        {
          "output_type": "stream",
          "name": "stdout",
          "text": [
            "2024-03-23 00:24:02,951 [INFO] 78\t\t3.0\n"
          ]
        },
        {
          "output_type": "stream",
          "name": "stderr",
          "text": [
            "INFO:NEURONIOUtils:78\t\t3.0\n"
          ]
        },
        {
          "output_type": "stream",
          "name": "stdout",
          "text": [
            "2024-03-23 00:24:02,953 [INFO] 79\t\t3.0\n"
          ]
        },
        {
          "output_type": "stream",
          "name": "stderr",
          "text": [
            "INFO:NEURONIOUtils:79\t\t3.0\n"
          ]
        },
        {
          "output_type": "stream",
          "name": "stdout",
          "text": [
            "2024-03-23 00:24:02,955 [INFO] PGN firing rate avg: 3.0 Hz\n"
          ]
        },
        {
          "output_type": "stream",
          "name": "stderr",
          "text": [
            "INFO:NEURONIOUtils:PGN firing rate avg: 3.0 Hz\n"
          ]
        },
        {
          "output_type": "stream",
          "name": "stdout",
          "text": [
            "2024-03-23 00:24:02,957 [INFO] Grill PGN fr = 4.657 Hz\n"
          ]
        },
        {
          "output_type": "stream",
          "name": "stderr",
          "text": [
            "INFO:NEURONIOUtils:Grill PGN fr = 4.657 Hz\n"
          ]
        },
        {
          "output_type": "stream",
          "name": "stdout",
          "text": [
            "2024-03-23 00:24:02,959 [INFO] IMG node_gid\t  Hz\n"
          ]
        },
        {
          "output_type": "stream",
          "name": "stderr",
          "text": [
            "INFO:NEURONIOUtils:IMG node_gid\t  Hz\n"
          ]
        },
        {
          "output_type": "stream",
          "name": "stdout",
          "text": [
            "2024-03-23 00:24:02,961 [INFO] 90\t\t0.0\n"
          ]
        },
        {
          "output_type": "stream",
          "name": "stderr",
          "text": [
            "INFO:NEURONIOUtils:90\t\t0.0\n"
          ]
        },
        {
          "output_type": "stream",
          "name": "stdout",
          "text": [
            "2024-03-23 00:24:02,963 [INFO] 91\t\t1.0\n"
          ]
        },
        {
          "output_type": "stream",
          "name": "stderr",
          "text": [
            "INFO:NEURONIOUtils:91\t\t1.0\n"
          ]
        },
        {
          "output_type": "stream",
          "name": "stdout",
          "text": [
            "2024-03-23 00:24:02,965 [INFO] 92\t\t0.0\n"
          ]
        },
        {
          "output_type": "stream",
          "name": "stderr",
          "text": [
            "INFO:NEURONIOUtils:92\t\t0.0\n"
          ]
        },
        {
          "output_type": "stream",
          "name": "stdout",
          "text": [
            "2024-03-23 00:24:02,967 [INFO] 93\t\t1.0\n"
          ]
        },
        {
          "output_type": "stream",
          "name": "stderr",
          "text": [
            "INFO:NEURONIOUtils:93\t\t1.0\n"
          ]
        },
        {
          "output_type": "stream",
          "name": "stdout",
          "text": [
            "2024-03-23 00:24:02,969 [INFO] 94\t\t1.0\n"
          ]
        },
        {
          "output_type": "stream",
          "name": "stderr",
          "text": [
            "INFO:NEURONIOUtils:94\t\t1.0\n"
          ]
        },
        {
          "output_type": "stream",
          "name": "stdout",
          "text": [
            "2024-03-23 00:24:02,971 [INFO] 95\t\t0.0\n"
          ]
        },
        {
          "output_type": "stream",
          "name": "stderr",
          "text": [
            "INFO:NEURONIOUtils:95\t\t0.0\n"
          ]
        },
        {
          "output_type": "stream",
          "name": "stdout",
          "text": [
            "2024-03-23 00:24:02,973 [INFO] 96\t\t0.0\n"
          ]
        },
        {
          "output_type": "stream",
          "name": "stderr",
          "text": [
            "INFO:NEURONIOUtils:96\t\t0.0\n"
          ]
        },
        {
          "output_type": "stream",
          "name": "stdout",
          "text": [
            "2024-03-23 00:24:02,975 [INFO] 97\t\t1.0\n"
          ]
        },
        {
          "output_type": "stream",
          "name": "stderr",
          "text": [
            "INFO:NEURONIOUtils:97\t\t1.0\n"
          ]
        },
        {
          "output_type": "stream",
          "name": "stdout",
          "text": [
            "2024-03-23 00:24:02,977 [INFO] 98\t\t1.0\n"
          ]
        },
        {
          "output_type": "stream",
          "name": "stderr",
          "text": [
            "INFO:NEURONIOUtils:98\t\t1.0\n"
          ]
        },
        {
          "output_type": "stream",
          "name": "stdout",
          "text": [
            "2024-03-23 00:24:02,979 [INFO] 99\t\t1.0\n"
          ]
        },
        {
          "output_type": "stream",
          "name": "stderr",
          "text": [
            "INFO:NEURONIOUtils:99\t\t1.0\n"
          ]
        },
        {
          "output_type": "stream",
          "name": "stdout",
          "text": [
            "2024-03-23 00:24:02,981 [INFO] IMG firing rate avg: 3.0 Hz\n"
          ]
        },
        {
          "output_type": "stream",
          "name": "stderr",
          "text": [
            "INFO:NEURONIOUtils:IMG firing rate avg: 3.0 Hz\n"
          ]
        },
        {
          "output_type": "stream",
          "name": "stdout",
          "text": [
            "2024-03-23 00:24:02,988 [INFO] Volume = 0.1750 ml\n"
          ]
        },
        {
          "output_type": "stream",
          "name": "stderr",
          "text": [
            "/usr/local/lib/python3.10/dist-packages/bmtk/utils/reports/spike_trains/spike_trains.py:183: RuntimeWarning: divide by zero encountered in scalar divide\n",
            "  interval = -np.log(1.0 - np.random.uniform()) / fr\n",
            "INFO:NEURONIOUtils:Volume = 0.1750 ml\n"
          ]
        },
        {
          "output_type": "stream",
          "name": "stdout",
          "text": [
            "2024-03-23 00:24:02,996 [INFO] Pressure = 0.00 mmHg\n"
          ]
        },
        {
          "output_type": "stream",
          "name": "stderr",
          "text": [
            "INFO:NEURONIOUtils:Pressure = 0.00 mmHg\n"
          ]
        },
        {
          "output_type": "stream",
          "name": "stdout",
          "text": [
            "2024-03-23 00:24:02,998 [INFO] Calculated bladder afferent firing rate for the next time step = 0.00 Hz \n",
            " \n",
            "\n"
          ]
        },
        {
          "output_type": "stream",
          "name": "stderr",
          "text": [
            "INFO:NEURONIOUtils:Calculated bladder afferent firing rate for the next time step = 0.00 Hz \n",
            " \n",
            "\n"
          ]
        },
        {
          "output_type": "stream",
          "name": "stdout",
          "text": [
            "2024-03-23 00:24:05,893 [INFO]     step:295000 t_sim:59000.00 ms\n"
          ]
        },
        {
          "output_type": "stream",
          "name": "stderr",
          "text": [
            "INFO:NEURONIOUtils:    step:295000 t_sim:59000.00 ms\n"
          ]
        },
        {
          "output_type": "stream",
          "name": "stdout",
          "text": [
            "2024-03-23 00:24:05,905 [INFO] Timestep 58000.0 to 59000.0 ms\n"
          ]
        },
        {
          "output_type": "stream",
          "name": "stderr",
          "text": [
            "INFO:NEURONIOUtils:Timestep 58000.0 to 59000.0 ms\n"
          ]
        },
        {
          "output_type": "stream",
          "name": "stdout",
          "text": [
            "2024-03-23 00:24:05,909 [INFO] PGN node_id\t  Hz\n"
          ]
        },
        {
          "output_type": "stream",
          "name": "stderr",
          "text": [
            "INFO:NEURONIOUtils:PGN node_id\t  Hz\n"
          ]
        },
        {
          "output_type": "stream",
          "name": "stdout",
          "text": [
            "2024-03-23 00:24:05,913 [INFO] 70\t\t3.0\n"
          ]
        },
        {
          "output_type": "stream",
          "name": "stderr",
          "text": [
            "INFO:NEURONIOUtils:70\t\t3.0\n"
          ]
        },
        {
          "output_type": "stream",
          "name": "stdout",
          "text": [
            "2024-03-23 00:24:05,917 [INFO] 71\t\t3.0\n"
          ]
        },
        {
          "output_type": "stream",
          "name": "stderr",
          "text": [
            "INFO:NEURONIOUtils:71\t\t3.0\n"
          ]
        },
        {
          "output_type": "stream",
          "name": "stdout",
          "text": [
            "2024-03-23 00:24:05,918 [INFO] 72\t\t3.0\n"
          ]
        },
        {
          "output_type": "stream",
          "name": "stderr",
          "text": [
            "INFO:NEURONIOUtils:72\t\t3.0\n"
          ]
        },
        {
          "output_type": "stream",
          "name": "stdout",
          "text": [
            "2024-03-23 00:24:05,921 [INFO] 73\t\t3.0\n"
          ]
        },
        {
          "output_type": "stream",
          "name": "stderr",
          "text": [
            "INFO:NEURONIOUtils:73\t\t3.0\n"
          ]
        },
        {
          "output_type": "stream",
          "name": "stdout",
          "text": [
            "2024-03-23 00:24:05,922 [INFO] 74\t\t3.0\n"
          ]
        },
        {
          "output_type": "stream",
          "name": "stderr",
          "text": [
            "INFO:NEURONIOUtils:74\t\t3.0\n"
          ]
        },
        {
          "output_type": "stream",
          "name": "stdout",
          "text": [
            "2024-03-23 00:24:05,924 [INFO] 75\t\t3.0\n"
          ]
        },
        {
          "output_type": "stream",
          "name": "stderr",
          "text": [
            "INFO:NEURONIOUtils:75\t\t3.0\n"
          ]
        },
        {
          "output_type": "stream",
          "name": "stdout",
          "text": [
            "2024-03-23 00:24:05,926 [INFO] 76\t\t3.0\n"
          ]
        },
        {
          "output_type": "stream",
          "name": "stderr",
          "text": [
            "INFO:NEURONIOUtils:76\t\t3.0\n"
          ]
        },
        {
          "output_type": "stream",
          "name": "stdout",
          "text": [
            "2024-03-23 00:24:05,928 [INFO] 77\t\t3.0\n"
          ]
        },
        {
          "output_type": "stream",
          "name": "stderr",
          "text": [
            "INFO:NEURONIOUtils:77\t\t3.0\n"
          ]
        },
        {
          "output_type": "stream",
          "name": "stdout",
          "text": [
            "2024-03-23 00:24:05,930 [INFO] 78\t\t3.0\n"
          ]
        },
        {
          "output_type": "stream",
          "name": "stderr",
          "text": [
            "INFO:NEURONIOUtils:78\t\t3.0\n"
          ]
        },
        {
          "output_type": "stream",
          "name": "stdout",
          "text": [
            "2024-03-23 00:24:05,932 [INFO] 79\t\t3.0\n"
          ]
        },
        {
          "output_type": "stream",
          "name": "stderr",
          "text": [
            "INFO:NEURONIOUtils:79\t\t3.0\n"
          ]
        },
        {
          "output_type": "stream",
          "name": "stdout",
          "text": [
            "2024-03-23 00:24:05,934 [INFO] PGN firing rate avg: 3.0 Hz\n"
          ]
        },
        {
          "output_type": "stream",
          "name": "stderr",
          "text": [
            "INFO:NEURONIOUtils:PGN firing rate avg: 3.0 Hz\n"
          ]
        },
        {
          "output_type": "stream",
          "name": "stdout",
          "text": [
            "2024-03-23 00:24:05,936 [INFO] Grill PGN fr = 4.657 Hz\n"
          ]
        },
        {
          "output_type": "stream",
          "name": "stderr",
          "text": [
            "INFO:NEURONIOUtils:Grill PGN fr = 4.657 Hz\n"
          ]
        },
        {
          "output_type": "stream",
          "name": "stdout",
          "text": [
            "2024-03-23 00:24:05,938 [INFO] IMG node_gid\t  Hz\n"
          ]
        },
        {
          "output_type": "stream",
          "name": "stderr",
          "text": [
            "INFO:NEURONIOUtils:IMG node_gid\t  Hz\n"
          ]
        },
        {
          "output_type": "stream",
          "name": "stdout",
          "text": [
            "2024-03-23 00:24:05,940 [INFO] 90\t\t0.0\n"
          ]
        },
        {
          "output_type": "stream",
          "name": "stderr",
          "text": [
            "INFO:NEURONIOUtils:90\t\t0.0\n"
          ]
        },
        {
          "output_type": "stream",
          "name": "stdout",
          "text": [
            "2024-03-23 00:24:05,942 [INFO] 91\t\t1.0\n"
          ]
        },
        {
          "output_type": "stream",
          "name": "stderr",
          "text": [
            "INFO:NEURONIOUtils:91\t\t1.0\n"
          ]
        },
        {
          "output_type": "stream",
          "name": "stdout",
          "text": [
            "2024-03-23 00:24:05,945 [INFO] 92\t\t0.0\n"
          ]
        },
        {
          "output_type": "stream",
          "name": "stderr",
          "text": [
            "INFO:NEURONIOUtils:92\t\t0.0\n"
          ]
        },
        {
          "output_type": "stream",
          "name": "stdout",
          "text": [
            "2024-03-23 00:24:05,946 [INFO] 93\t\t1.0\n"
          ]
        },
        {
          "output_type": "stream",
          "name": "stderr",
          "text": [
            "INFO:NEURONIOUtils:93\t\t1.0\n"
          ]
        },
        {
          "output_type": "stream",
          "name": "stdout",
          "text": [
            "2024-03-23 00:24:05,948 [INFO] 94\t\t1.0\n"
          ]
        },
        {
          "output_type": "stream",
          "name": "stderr",
          "text": [
            "INFO:NEURONIOUtils:94\t\t1.0\n"
          ]
        },
        {
          "output_type": "stream",
          "name": "stdout",
          "text": [
            "2024-03-23 00:24:05,951 [INFO] 95\t\t0.0\n"
          ]
        },
        {
          "output_type": "stream",
          "name": "stderr",
          "text": [
            "INFO:NEURONIOUtils:95\t\t0.0\n"
          ]
        },
        {
          "output_type": "stream",
          "name": "stdout",
          "text": [
            "2024-03-23 00:24:05,953 [INFO] 96\t\t0.0\n"
          ]
        },
        {
          "output_type": "stream",
          "name": "stderr",
          "text": [
            "INFO:NEURONIOUtils:96\t\t0.0\n"
          ]
        },
        {
          "output_type": "stream",
          "name": "stdout",
          "text": [
            "2024-03-23 00:24:05,956 [INFO] 97\t\t1.0\n"
          ]
        },
        {
          "output_type": "stream",
          "name": "stderr",
          "text": [
            "INFO:NEURONIOUtils:97\t\t1.0\n"
          ]
        },
        {
          "output_type": "stream",
          "name": "stdout",
          "text": [
            "2024-03-23 00:24:05,958 [INFO] 98\t\t1.0\n"
          ]
        },
        {
          "output_type": "stream",
          "name": "stderr",
          "text": [
            "INFO:NEURONIOUtils:98\t\t1.0\n"
          ]
        },
        {
          "output_type": "stream",
          "name": "stdout",
          "text": [
            "2024-03-23 00:24:05,960 [INFO] 99\t\t1.0\n"
          ]
        },
        {
          "output_type": "stream",
          "name": "stderr",
          "text": [
            "INFO:NEURONIOUtils:99\t\t1.0\n"
          ]
        },
        {
          "output_type": "stream",
          "name": "stdout",
          "text": [
            "2024-03-23 00:24:05,962 [INFO] IMG firing rate avg: 3.0 Hz\n"
          ]
        },
        {
          "output_type": "stream",
          "name": "stderr",
          "text": [
            "INFO:NEURONIOUtils:IMG firing rate avg: 3.0 Hz\n"
          ]
        },
        {
          "output_type": "stream",
          "name": "stdout",
          "text": [
            "2024-03-23 00:24:05,969 [INFO] Volume = 0.2042 ml\n"
          ]
        },
        {
          "output_type": "stream",
          "name": "stderr",
          "text": [
            "/usr/local/lib/python3.10/dist-packages/bmtk/utils/reports/spike_trains/spike_trains.py:183: RuntimeWarning: divide by zero encountered in scalar divide\n",
            "  interval = -np.log(1.0 - np.random.uniform()) / fr\n",
            "INFO:NEURONIOUtils:Volume = 0.2042 ml\n"
          ]
        },
        {
          "output_type": "stream",
          "name": "stdout",
          "text": [
            "2024-03-23 00:24:05,977 [INFO] Pressure = 0.00 mmHg\n"
          ]
        },
        {
          "output_type": "stream",
          "name": "stderr",
          "text": [
            "INFO:NEURONIOUtils:Pressure = 0.00 mmHg\n"
          ]
        },
        {
          "output_type": "stream",
          "name": "stdout",
          "text": [
            "2024-03-23 00:24:05,979 [INFO] Calculated bladder afferent firing rate for the next time step = 0.00 Hz \n",
            " \n",
            "\n"
          ]
        },
        {
          "output_type": "stream",
          "name": "stderr",
          "text": [
            "INFO:NEURONIOUtils:Calculated bladder afferent firing rate for the next time step = 0.00 Hz \n",
            " \n",
            "\n"
          ]
        },
        {
          "output_type": "stream",
          "name": "stdout",
          "text": [
            "2024-03-23 00:24:09,113 [INFO]     step:300000 t_sim:60000.00 ms\n"
          ]
        },
        {
          "output_type": "stream",
          "name": "stderr",
          "text": [
            "INFO:NEURONIOUtils:    step:300000 t_sim:60000.00 ms\n"
          ]
        },
        {
          "output_type": "stream",
          "name": "stdout",
          "text": [
            "2024-03-23 00:24:09,134 [INFO] Timestep 59000.0 to 60000.0 ms\n"
          ]
        },
        {
          "output_type": "stream",
          "name": "stderr",
          "text": [
            "INFO:NEURONIOUtils:Timestep 59000.0 to 60000.0 ms\n"
          ]
        },
        {
          "output_type": "stream",
          "name": "stdout",
          "text": [
            "2024-03-23 00:24:09,139 [INFO] PGN node_id\t  Hz\n"
          ]
        },
        {
          "output_type": "stream",
          "name": "stderr",
          "text": [
            "INFO:NEURONIOUtils:PGN node_id\t  Hz\n"
          ]
        },
        {
          "output_type": "stream",
          "name": "stdout",
          "text": [
            "2024-03-23 00:24:09,145 [INFO] 70\t\t3.0\n"
          ]
        },
        {
          "output_type": "stream",
          "name": "stderr",
          "text": [
            "INFO:NEURONIOUtils:70\t\t3.0\n"
          ]
        },
        {
          "output_type": "stream",
          "name": "stdout",
          "text": [
            "2024-03-23 00:24:09,151 [INFO] 71\t\t3.0\n"
          ]
        },
        {
          "output_type": "stream",
          "name": "stderr",
          "text": [
            "INFO:NEURONIOUtils:71\t\t3.0\n"
          ]
        },
        {
          "output_type": "stream",
          "name": "stdout",
          "text": [
            "2024-03-23 00:24:09,153 [INFO] 72\t\t3.0\n"
          ]
        },
        {
          "output_type": "stream",
          "name": "stderr",
          "text": [
            "INFO:NEURONIOUtils:72\t\t3.0\n"
          ]
        },
        {
          "output_type": "stream",
          "name": "stdout",
          "text": [
            "2024-03-23 00:24:09,155 [INFO] 73\t\t3.0\n"
          ]
        },
        {
          "output_type": "stream",
          "name": "stderr",
          "text": [
            "INFO:NEURONIOUtils:73\t\t3.0\n"
          ]
        },
        {
          "output_type": "stream",
          "name": "stdout",
          "text": [
            "2024-03-23 00:24:09,157 [INFO] 74\t\t3.0\n"
          ]
        },
        {
          "output_type": "stream",
          "name": "stderr",
          "text": [
            "INFO:NEURONIOUtils:74\t\t3.0\n"
          ]
        },
        {
          "output_type": "stream",
          "name": "stdout",
          "text": [
            "2024-03-23 00:24:09,159 [INFO] 75\t\t3.0\n"
          ]
        },
        {
          "output_type": "stream",
          "name": "stderr",
          "text": [
            "INFO:NEURONIOUtils:75\t\t3.0\n"
          ]
        },
        {
          "output_type": "stream",
          "name": "stdout",
          "text": [
            "2024-03-23 00:24:09,164 [INFO] 76\t\t3.0\n"
          ]
        },
        {
          "output_type": "stream",
          "name": "stderr",
          "text": [
            "INFO:NEURONIOUtils:76\t\t3.0\n"
          ]
        },
        {
          "output_type": "stream",
          "name": "stdout",
          "text": [
            "2024-03-23 00:24:09,166 [INFO] 77\t\t3.0\n"
          ]
        },
        {
          "output_type": "stream",
          "name": "stderr",
          "text": [
            "INFO:NEURONIOUtils:77\t\t3.0\n"
          ]
        },
        {
          "output_type": "stream",
          "name": "stdout",
          "text": [
            "2024-03-23 00:24:09,168 [INFO] 78\t\t3.0\n"
          ]
        },
        {
          "output_type": "stream",
          "name": "stderr",
          "text": [
            "INFO:NEURONIOUtils:78\t\t3.0\n"
          ]
        },
        {
          "output_type": "stream",
          "name": "stdout",
          "text": [
            "2024-03-23 00:24:09,170 [INFO] 79\t\t3.0\n"
          ]
        },
        {
          "output_type": "stream",
          "name": "stderr",
          "text": [
            "INFO:NEURONIOUtils:79\t\t3.0\n"
          ]
        },
        {
          "output_type": "stream",
          "name": "stdout",
          "text": [
            "2024-03-23 00:24:09,172 [INFO] PGN firing rate avg: 3.0 Hz\n"
          ]
        },
        {
          "output_type": "stream",
          "name": "stderr",
          "text": [
            "INFO:NEURONIOUtils:PGN firing rate avg: 3.0 Hz\n"
          ]
        },
        {
          "output_type": "stream",
          "name": "stdout",
          "text": [
            "2024-03-23 00:24:09,173 [INFO] Grill PGN fr = 4.657 Hz\n"
          ]
        },
        {
          "output_type": "stream",
          "name": "stderr",
          "text": [
            "INFO:NEURONIOUtils:Grill PGN fr = 4.657 Hz\n"
          ]
        },
        {
          "output_type": "stream",
          "name": "stdout",
          "text": [
            "2024-03-23 00:24:09,176 [INFO] IMG node_gid\t  Hz\n"
          ]
        },
        {
          "output_type": "stream",
          "name": "stderr",
          "text": [
            "INFO:NEURONIOUtils:IMG node_gid\t  Hz\n"
          ]
        },
        {
          "output_type": "stream",
          "name": "stdout",
          "text": [
            "2024-03-23 00:24:09,178 [INFO] 90\t\t0.0\n"
          ]
        },
        {
          "output_type": "stream",
          "name": "stderr",
          "text": [
            "INFO:NEURONIOUtils:90\t\t0.0\n"
          ]
        },
        {
          "output_type": "stream",
          "name": "stdout",
          "text": [
            "2024-03-23 00:24:09,180 [INFO] 91\t\t1.0\n"
          ]
        },
        {
          "output_type": "stream",
          "name": "stderr",
          "text": [
            "INFO:NEURONIOUtils:91\t\t1.0\n"
          ]
        },
        {
          "output_type": "stream",
          "name": "stdout",
          "text": [
            "2024-03-23 00:24:09,182 [INFO] 92\t\t0.0\n"
          ]
        },
        {
          "output_type": "stream",
          "name": "stderr",
          "text": [
            "INFO:NEURONIOUtils:92\t\t0.0\n"
          ]
        },
        {
          "output_type": "stream",
          "name": "stdout",
          "text": [
            "2024-03-23 00:24:09,184 [INFO] 93\t\t1.0\n"
          ]
        },
        {
          "output_type": "stream",
          "name": "stderr",
          "text": [
            "INFO:NEURONIOUtils:93\t\t1.0\n"
          ]
        },
        {
          "output_type": "stream",
          "name": "stdout",
          "text": [
            "2024-03-23 00:24:09,186 [INFO] 94\t\t1.0\n"
          ]
        },
        {
          "output_type": "stream",
          "name": "stderr",
          "text": [
            "INFO:NEURONIOUtils:94\t\t1.0\n"
          ]
        },
        {
          "output_type": "stream",
          "name": "stdout",
          "text": [
            "2024-03-23 00:24:09,188 [INFO] 95\t\t0.0\n"
          ]
        },
        {
          "output_type": "stream",
          "name": "stderr",
          "text": [
            "INFO:NEURONIOUtils:95\t\t0.0\n"
          ]
        },
        {
          "output_type": "stream",
          "name": "stdout",
          "text": [
            "2024-03-23 00:24:09,190 [INFO] 96\t\t0.0\n"
          ]
        },
        {
          "output_type": "stream",
          "name": "stderr",
          "text": [
            "INFO:NEURONIOUtils:96\t\t0.0\n"
          ]
        },
        {
          "output_type": "stream",
          "name": "stdout",
          "text": [
            "2024-03-23 00:24:09,192 [INFO] 97\t\t1.0\n"
          ]
        },
        {
          "output_type": "stream",
          "name": "stderr",
          "text": [
            "INFO:NEURONIOUtils:97\t\t1.0\n"
          ]
        },
        {
          "output_type": "stream",
          "name": "stdout",
          "text": [
            "2024-03-23 00:24:09,193 [INFO] 98\t\t1.0\n"
          ]
        },
        {
          "output_type": "stream",
          "name": "stderr",
          "text": [
            "INFO:NEURONIOUtils:98\t\t1.0\n"
          ]
        },
        {
          "output_type": "stream",
          "name": "stdout",
          "text": [
            "2024-03-23 00:24:09,195 [INFO] 99\t\t1.0\n"
          ]
        },
        {
          "output_type": "stream",
          "name": "stderr",
          "text": [
            "INFO:NEURONIOUtils:99\t\t1.0\n"
          ]
        },
        {
          "output_type": "stream",
          "name": "stdout",
          "text": [
            "2024-03-23 00:24:09,197 [INFO] IMG firing rate avg: 3.0 Hz\n"
          ]
        },
        {
          "output_type": "stream",
          "name": "stderr",
          "text": [
            "INFO:NEURONIOUtils:IMG firing rate avg: 3.0 Hz\n"
          ]
        },
        {
          "output_type": "stream",
          "name": "stdout",
          "text": [
            "2024-03-23 00:24:09,204 [INFO] Volume = 0.2333 ml\n"
          ]
        },
        {
          "output_type": "stream",
          "name": "stderr",
          "text": [
            "/usr/local/lib/python3.10/dist-packages/bmtk/utils/reports/spike_trains/spike_trains.py:183: RuntimeWarning: divide by zero encountered in scalar divide\n",
            "  interval = -np.log(1.0 - np.random.uniform()) / fr\n",
            "INFO:NEURONIOUtils:Volume = 0.2333 ml\n"
          ]
        },
        {
          "output_type": "stream",
          "name": "stdout",
          "text": [
            "2024-03-23 00:24:09,208 [INFO] Pressure = 0.00 mmHg\n"
          ]
        },
        {
          "output_type": "stream",
          "name": "stderr",
          "text": [
            "INFO:NEURONIOUtils:Pressure = 0.00 mmHg\n"
          ]
        },
        {
          "output_type": "stream",
          "name": "stdout",
          "text": [
            "2024-03-23 00:24:09,210 [INFO] Calculated bladder afferent firing rate for the next time step = 0.00 Hz \n",
            " \n",
            "\n"
          ]
        },
        {
          "output_type": "stream",
          "name": "stderr",
          "text": [
            "INFO:NEURONIOUtils:Calculated bladder afferent firing rate for the next time step = 0.00 Hz \n",
            " \n",
            "\n"
          ]
        },
        {
          "output_type": "stream",
          "name": "stdout",
          "text": [
            "2024-03-23 00:24:11,017 [INFO]     step:302500 t_sim:60500.00 ms\n"
          ]
        },
        {
          "output_type": "stream",
          "name": "stderr",
          "text": [
            "INFO:NEURONIOUtils:    step:302500 t_sim:60500.00 ms\n"
          ]
        },
        {
          "output_type": "stream",
          "name": "stdout",
          "text": [
            "2024-03-23 00:24:11,028 [INFO] Timestep 60000.0 to 60500.0 ms\n"
          ]
        },
        {
          "output_type": "stream",
          "name": "stderr",
          "text": [
            "INFO:NEURONIOUtils:Timestep 60000.0 to 60500.0 ms\n"
          ]
        },
        {
          "output_type": "stream",
          "name": "stdout",
          "text": [
            "2024-03-23 00:24:11,032 [INFO] PGN node_id\t  Hz\n"
          ]
        },
        {
          "output_type": "stream",
          "name": "stderr",
          "text": [
            "INFO:NEURONIOUtils:PGN node_id\t  Hz\n"
          ]
        },
        {
          "output_type": "stream",
          "name": "stdout",
          "text": [
            "2024-03-23 00:24:11,036 [INFO] 70\t\t2.0\n"
          ]
        },
        {
          "output_type": "stream",
          "name": "stderr",
          "text": [
            "INFO:NEURONIOUtils:70\t\t2.0\n"
          ]
        },
        {
          "output_type": "stream",
          "name": "stdout",
          "text": [
            "2024-03-23 00:24:11,038 [INFO] 71\t\t2.0\n"
          ]
        },
        {
          "output_type": "stream",
          "name": "stderr",
          "text": [
            "INFO:NEURONIOUtils:71\t\t2.0\n"
          ]
        },
        {
          "output_type": "stream",
          "name": "stdout",
          "text": [
            "2024-03-23 00:24:11,040 [INFO] 72\t\t2.0\n"
          ]
        },
        {
          "output_type": "stream",
          "name": "stderr",
          "text": [
            "INFO:NEURONIOUtils:72\t\t2.0\n"
          ]
        },
        {
          "output_type": "stream",
          "name": "stdout",
          "text": [
            "2024-03-23 00:24:11,042 [INFO] 73\t\t2.0\n"
          ]
        },
        {
          "output_type": "stream",
          "name": "stderr",
          "text": [
            "INFO:NEURONIOUtils:73\t\t2.0\n"
          ]
        },
        {
          "output_type": "stream",
          "name": "stdout",
          "text": [
            "2024-03-23 00:24:11,044 [INFO] 74\t\t2.0\n"
          ]
        },
        {
          "output_type": "stream",
          "name": "stderr",
          "text": [
            "INFO:NEURONIOUtils:74\t\t2.0\n"
          ]
        },
        {
          "output_type": "stream",
          "name": "stdout",
          "text": [
            "2024-03-23 00:24:11,046 [INFO] 75\t\t2.0\n"
          ]
        },
        {
          "output_type": "stream",
          "name": "stderr",
          "text": [
            "INFO:NEURONIOUtils:75\t\t2.0\n"
          ]
        },
        {
          "output_type": "stream",
          "name": "stdout",
          "text": [
            "2024-03-23 00:24:11,048 [INFO] 76\t\t2.0\n"
          ]
        },
        {
          "output_type": "stream",
          "name": "stderr",
          "text": [
            "INFO:NEURONIOUtils:76\t\t2.0\n"
          ]
        },
        {
          "output_type": "stream",
          "name": "stdout",
          "text": [
            "2024-03-23 00:24:11,050 [INFO] 77\t\t2.0\n"
          ]
        },
        {
          "output_type": "stream",
          "name": "stderr",
          "text": [
            "INFO:NEURONIOUtils:77\t\t2.0\n"
          ]
        },
        {
          "output_type": "stream",
          "name": "stdout",
          "text": [
            "2024-03-23 00:24:11,052 [INFO] 78\t\t2.0\n"
          ]
        },
        {
          "output_type": "stream",
          "name": "stderr",
          "text": [
            "INFO:NEURONIOUtils:78\t\t2.0\n"
          ]
        },
        {
          "output_type": "stream",
          "name": "stdout",
          "text": [
            "2024-03-23 00:24:11,054 [INFO] 79\t\t2.0\n"
          ]
        },
        {
          "output_type": "stream",
          "name": "stderr",
          "text": [
            "INFO:NEURONIOUtils:79\t\t2.0\n"
          ]
        },
        {
          "output_type": "stream",
          "name": "stdout",
          "text": [
            "2024-03-23 00:24:11,056 [INFO] PGN firing rate avg: 2.0 Hz\n"
          ]
        },
        {
          "output_type": "stream",
          "name": "stderr",
          "text": [
            "INFO:NEURONIOUtils:PGN firing rate avg: 2.0 Hz\n"
          ]
        },
        {
          "output_type": "stream",
          "name": "stdout",
          "text": [
            "2024-03-23 00:24:11,058 [INFO] Grill PGN fr = 2.984 Hz\n"
          ]
        },
        {
          "output_type": "stream",
          "name": "stderr",
          "text": [
            "INFO:NEURONIOUtils:Grill PGN fr = 2.984 Hz\n"
          ]
        },
        {
          "output_type": "stream",
          "name": "stdout",
          "text": [
            "2024-03-23 00:24:11,060 [INFO] IMG node_gid\t  Hz\n"
          ]
        },
        {
          "output_type": "stream",
          "name": "stderr",
          "text": [
            "INFO:NEURONIOUtils:IMG node_gid\t  Hz\n"
          ]
        },
        {
          "output_type": "stream",
          "name": "stdout",
          "text": [
            "2024-03-23 00:24:11,062 [INFO] 90\t\t0.0\n"
          ]
        },
        {
          "output_type": "stream",
          "name": "stderr",
          "text": [
            "INFO:NEURONIOUtils:90\t\t0.0\n"
          ]
        },
        {
          "output_type": "stream",
          "name": "stdout",
          "text": [
            "2024-03-23 00:24:11,064 [INFO] 91\t\t1.0\n"
          ]
        },
        {
          "output_type": "stream",
          "name": "stderr",
          "text": [
            "INFO:NEURONIOUtils:91\t\t1.0\n"
          ]
        },
        {
          "output_type": "stream",
          "name": "stdout",
          "text": [
            "2024-03-23 00:24:11,066 [INFO] 92\t\t0.0\n"
          ]
        },
        {
          "output_type": "stream",
          "name": "stderr",
          "text": [
            "INFO:NEURONIOUtils:92\t\t0.0\n"
          ]
        },
        {
          "output_type": "stream",
          "name": "stdout",
          "text": [
            "2024-03-23 00:24:11,068 [INFO] 93\t\t1.0\n"
          ]
        },
        {
          "output_type": "stream",
          "name": "stderr",
          "text": [
            "INFO:NEURONIOUtils:93\t\t1.0\n"
          ]
        },
        {
          "output_type": "stream",
          "name": "stdout",
          "text": [
            "2024-03-23 00:24:11,070 [INFO] 94\t\t1.0\n"
          ]
        },
        {
          "output_type": "stream",
          "name": "stderr",
          "text": [
            "INFO:NEURONIOUtils:94\t\t1.0\n"
          ]
        },
        {
          "output_type": "stream",
          "name": "stdout",
          "text": [
            "2024-03-23 00:24:11,072 [INFO] 95\t\t0.0\n"
          ]
        },
        {
          "output_type": "stream",
          "name": "stderr",
          "text": [
            "INFO:NEURONIOUtils:95\t\t0.0\n"
          ]
        },
        {
          "output_type": "stream",
          "name": "stdout",
          "text": [
            "2024-03-23 00:24:11,074 [INFO] 96\t\t0.0\n"
          ]
        },
        {
          "output_type": "stream",
          "name": "stderr",
          "text": [
            "INFO:NEURONIOUtils:96\t\t0.0\n"
          ]
        },
        {
          "output_type": "stream",
          "name": "stdout",
          "text": [
            "2024-03-23 00:24:11,077 [INFO] 97\t\t1.0\n"
          ]
        },
        {
          "output_type": "stream",
          "name": "stderr",
          "text": [
            "INFO:NEURONIOUtils:97\t\t1.0\n"
          ]
        },
        {
          "output_type": "stream",
          "name": "stdout",
          "text": [
            "2024-03-23 00:24:11,081 [INFO] 98\t\t1.0\n"
          ]
        },
        {
          "output_type": "stream",
          "name": "stderr",
          "text": [
            "INFO:NEURONIOUtils:98\t\t1.0\n"
          ]
        },
        {
          "output_type": "stream",
          "name": "stdout",
          "text": [
            "2024-03-23 00:24:11,083 [INFO] 99\t\t1.0\n"
          ]
        },
        {
          "output_type": "stream",
          "name": "stderr",
          "text": [
            "INFO:NEURONIOUtils:99\t\t1.0\n"
          ]
        },
        {
          "output_type": "stream",
          "name": "stdout",
          "text": [
            "2024-03-23 00:24:11,085 [INFO] IMG firing rate avg: 2.0 Hz\n"
          ]
        },
        {
          "output_type": "stream",
          "name": "stderr",
          "text": [
            "INFO:NEURONIOUtils:IMG firing rate avg: 2.0 Hz\n"
          ]
        },
        {
          "output_type": "stream",
          "name": "stdout",
          "text": [
            "2024-03-23 00:24:11,094 [INFO] Volume = 0.2625 ml\n"
          ]
        },
        {
          "output_type": "stream",
          "name": "stderr",
          "text": [
            "/usr/local/lib/python3.10/dist-packages/bmtk/utils/reports/spike_trains/spike_trains.py:183: RuntimeWarning: divide by zero encountered in scalar divide\n",
            "  interval = -np.log(1.0 - np.random.uniform()) / fr\n",
            "INFO:NEURONIOUtils:Volume = 0.2625 ml\n"
          ]
        },
        {
          "output_type": "stream",
          "name": "stdout",
          "text": [
            "2024-03-23 00:24:11,097 [INFO] Pressure = 0.00 mmHg\n"
          ]
        },
        {
          "output_type": "stream",
          "name": "stderr",
          "text": [
            "INFO:NEURONIOUtils:Pressure = 0.00 mmHg\n"
          ]
        },
        {
          "output_type": "stream",
          "name": "stdout",
          "text": [
            "2024-03-23 00:24:11,099 [INFO] Calculated bladder afferent firing rate for the next time step = 0.00 Hz \n",
            " \n",
            "\n"
          ]
        },
        {
          "output_type": "stream",
          "name": "stderr",
          "text": [
            "INFO:NEURONIOUtils:Calculated bladder afferent firing rate for the next time step = 0.00 Hz \n",
            " \n",
            "\n"
          ]
        },
        {
          "output_type": "stream",
          "name": "stdout",
          "text": [
            "2024-03-23 00:24:11,338 [INFO] Simulation completed in 3.0 minutes, 9.714 seconds \n"
          ]
        },
        {
          "output_type": "stream",
          "name": "stderr",
          "text": [
            "INFO:NEURONIOUtils:Simulation completed in 3.0 minutes, 9.714 seconds \n"
          ]
        },
        {
          "output_type": "stream",
          "name": "stdout",
          "text": [
            "302500 0.2\n",
            "[ 10  79  80  78  82  83  81  74  75  76  73  77  89  91  88  94  97  98\n",
            "  93  87  84  85  86  36  37  35  38  39  40  32  33  31  34  70  71  68\n",
            "  47  50  51  69  52  54  55  56  57  58  59  60  61  62  63  64  65  66\n",
            "  67  53  72  43  44  41  46  45  99 105 106 104 107 108 100 101 103 102\n",
            "   7   8   5   6  30   9   0   1 109   3   4   2  19  13  14  15  12  11\n",
            "  18  17  16  26  27  28  29  25  24  22  23  20  21]\n"
          ]
        },
        {
          "output_type": "display_data",
          "data": {
            "text/plain": [
              "<Figure size 640x480 with 2 Axes>"
            ],
            "image/png": "[encoded data removed]"
          },
          "metadata": {}
        },
        {
          "output_type": "display_data",
          "data": {
            "text/plain": [
              "<Figure size 640x480 with 1 Axes>"
            ],
            "image/png": "[encoded data removed]"
          },
          "metadata": {}
        },
        {
          "output_type": "display_data",
          "data": {
            "text/plain": [
              "<Figure size 640x480 with 1 Axes>"
            ],
            "image/png": "[encoded data removed]"
          },
          "metadata": {}
        }
      ]
    }
  ]
}